{
 "cells": [
  {
   "cell_type": "markdown",
   "metadata": {},
   "source": [
    "# MOwNiT \n",
    "## Laboratorium 4"
   ]
  },
  {
   "cell_type": "markdown",
   "metadata": {},
   "source": [
    "### Tablice wielowymiarowe i mnożenie macierzy w Julii"
   ]
  },
  {
   "cell_type": "code",
   "execution_count": 3,
   "metadata": {},
   "outputs": [
    {
     "data": {
      "text/plain": [
       "2×2 Array{Float64,2}:\n",
       " 1.0  4.0\n",
       " 0.0  1.0"
      ]
     },
     "execution_count": 3,
     "metadata": {},
     "output_type": "execute_result"
    }
   ],
   "source": [
    "# tablice wielowymiarowe w Julii\n",
    "Asmall = [[1.0 4.0]; [0.0 1.0]]\n",
    "Bsmall = Asmall\n",
    "# size(B,1)"
   ]
  },
  {
   "cell_type": "markdown",
   "metadata": {},
   "source": [
    "#### Wersja naiwna"
   ]
  },
  {
   "cell_type": "code",
   "execution_count": 4,
   "metadata": {},
   "outputs": [
    {
     "data": {
      "text/plain": [
       "naive_multiplication (generic function with 1 method)"
      ]
     },
     "execution_count": 4,
     "metadata": {},
     "output_type": "execute_result"
    }
   ],
   "source": [
    "# mnożenie macierzy - wersja naiwna\n",
    "function naive_multiplication(A,B)\n",
    "    C = zeros(Float64, size(A,1), size(B,2))\n",
    "    for i=1:size(A,1)\n",
    "        for j=1:size(B,2)\n",
    "            for k=1:size(A,2)\n",
    "                C[i,j] = C[i,j] + A[i,k]*B[k,j]\n",
    "            end\n",
    "        end\n",
    "    end\n",
    "    C\n",
    "end"
   ]
  },
  {
   "cell_type": "code",
   "execution_count": 5,
   "metadata": {},
   "outputs": [
    {
     "data": {
      "text/plain": [
       "2×2 Array{Float64,2}:\n",
       " 1.0  8.0\n",
       " 0.0  1.0"
      ]
     },
     "execution_count": 5,
     "metadata": {},
     "output_type": "execute_result"
    }
   ],
   "source": [
    "#kompilacja\n",
    "naive_multiplication(Asmall, Bsmall)"
   ]
  },
  {
   "cell_type": "code",
   "execution_count": 8,
   "metadata": {},
   "outputs": [
    {
     "data": {
      "text/plain": [
       "2.5e-6"
      ]
     },
     "execution_count": 8,
     "metadata": {},
     "output_type": "execute_result"
    }
   ],
   "source": [
    "#kompilacja\n",
    "@elapsed naive_multiplication(Asmall, Bsmall)"
   ]
  },
  {
   "cell_type": "markdown",
   "metadata": {},
   "source": [
    "#### Wersja ulepszona"
   ]
  },
  {
   "cell_type": "code",
   "execution_count": 9,
   "metadata": {},
   "outputs": [
    {
     "data": {
      "text/plain": [
       "2×2 Array{Int64,2}:\n",
       " 1  2\n",
       " 3  4"
      ]
     },
     "metadata": {},
     "output_type": "display_data"
    },
    {
     "data": {
      "text/plain": [
       "4-element Array{Int64,1}:\n",
       " 1\n",
       " 3\n",
       " 2\n",
       " 4"
      ]
     },
     "execution_count": 9,
     "metadata": {},
     "output_type": "execute_result"
    }
   ],
   "source": [
    "# Należy pamiętać o \"column-major\" dostępie do tablic - \n",
    "# pierwszy indeks zmienia się szybciej\n",
    "# tak jak Matlab, R, Fortran \n",
    "# inaczej niz C, Python\n",
    "A1 = [[1 2]; [3 4]]\n",
    "display(A1)\n",
    "vec(A1)"
   ]
  },
  {
   "cell_type": "code",
   "execution_count": 10,
   "metadata": {},
   "outputs": [
    {
     "data": {
      "text/plain": [
       "better_multiplication (generic function with 1 method)"
      ]
     },
     "execution_count": 10,
     "metadata": {},
     "output_type": "execute_result"
    }
   ],
   "source": [
    "# poprawiona funkcja korzytająca z powyższego oraz z faktu, że\n",
    "# można zmieniać kolejność operacji dodawania (a co za tym idzie kolejnosc petli).\n",
    "function better_multiplication(A, B)\n",
    "    C = zeros(Float64, size(A,1), size(B,2))\n",
    "    for j=1:size(B,2)\n",
    "        for k=1:size(A,2)\n",
    "            for i=1:size(A,1)\n",
    "                C[i,j] = C[i,j] + A[i,k]*B[k,j]\n",
    "            end\n",
    "        end\n",
    "    end\n",
    "    C\n",
    "end"
   ]
  },
  {
   "cell_type": "code",
   "execution_count": 62,
   "metadata": {
    "scrolled": true
   },
   "outputs": [
    {
     "data": {
      "text/plain": [
       "6.0e-6"
      ]
     },
     "execution_count": 62,
     "metadata": {},
     "output_type": "execute_result"
    }
   ],
   "source": [
    "@elapsed better_multiplication(Asmall, Bsmall)"
   ]
  },
  {
   "cell_type": "markdown",
   "metadata": {},
   "source": [
    "#### Wersja BLASowa"
   ]
  },
  {
   "cell_type": "code",
   "execution_count": 41,
   "metadata": {},
   "outputs": [
    {
     "data": {
      "text/plain": [
       "2×2 Array{Float64,2}:\n",
       " 1.0  8.0\n",
       " 0.0  1.0"
      ]
     },
     "execution_count": 41,
     "metadata": {},
     "output_type": "execute_result"
    }
   ],
   "source": [
    "#kompilacja funkcji BLASowej do mnożenia macierzy\n",
    "#https://docs.julialang.org/en/stable/stdlib/linalg/#BLAS-Functions-1\n",
    "Asmall*Bsmall"
   ]
  },
  {
   "cell_type": "markdown",
   "metadata": {},
   "source": [
    "#### Porównanie wersji"
   ]
  },
  {
   "cell_type": "code",
   "execution_count": 9,
   "metadata": {},
   "outputs": [],
   "source": [
    "A = rand(1000, 1000);\n",
    "B = rand(1000, 1000);"
   ]
  },
  {
   "cell_type": "code",
   "execution_count": 67,
   "metadata": {
    "scrolled": true
   },
   "outputs": [
    {
     "data": {
      "text/plain": [
       "3.4895614"
      ]
     },
     "execution_count": 67,
     "metadata": {},
     "output_type": "execute_result"
    }
   ],
   "source": [
    "@elapsed naive_multiplication(A, B)"
   ]
  },
  {
   "cell_type": "code",
   "execution_count": 68,
   "metadata": {},
   "outputs": [
    {
     "data": {
      "text/plain": [
       "2.9454721"
      ]
     },
     "execution_count": 68,
     "metadata": {},
     "output_type": "execute_result"
    }
   ],
   "source": [
    "@elapsed better_multiplication(A, B)"
   ]
  },
  {
   "cell_type": "code",
   "execution_count": 69,
   "metadata": {},
   "outputs": [
    {
     "data": {
      "text/plain": [
       "0.0626195"
      ]
     },
     "execution_count": 69,
     "metadata": {},
     "output_type": "execute_result"
    }
   ],
   "source": [
    "@elapsed A*B"
   ]
  },
  {
   "cell_type": "markdown",
   "metadata": {},
   "source": [
    "### Wielomiany i aproksymacja średniokwadratowa"
   ]
  },
  {
   "cell_type": "code",
   "execution_count": 13,
   "metadata": {},
   "outputs": [
    {
     "name": "stderr",
     "output_type": "stream",
     "text": [
      "\u001b[32m\u001b[1m   Updating\u001b[22m\u001b[39m registry at `/opt/julia/registries/General`\n",
      "######################################################################### 100.0%\n",
      "\u001b[32m\u001b[1m  Resolving\u001b[22m\u001b[39m package versions...\n",
      "\u001b[32m\u001b[1m  Installed\u001b[22m\u001b[39m Libiconv_jll ─ v1.16.0+7\n",
      "\u001b[32m\u001b[1m  Installed\u001b[22m\u001b[39m Mocking ────── v0.7.1\n",
      "\u001b[32m\u001b[1m  Installed\u001b[22m\u001b[39m XML2_jll ───── v2.9.10+3\n",
      "\u001b[32m\u001b[1m  Installed\u001b[22m\u001b[39m ExprTools ──── v0.1.3\n",
      "\u001b[32m\u001b[1m  Installed\u001b[22m\u001b[39m RecipesBase ── v1.1.1\n",
      "\u001b[32m\u001b[1m  Installed\u001b[22m\u001b[39m Intervals ──── v1.5.0\n",
      "\u001b[32m\u001b[1m  Installed\u001b[22m\u001b[39m TimeZones ──── v1.5.3\n",
      "\u001b[32m\u001b[1m  Installed\u001b[22m\u001b[39m Polynomials ── v2.0.8\n",
      "\u001b[32m\u001b[1m  Installed\u001b[22m\u001b[39m EzXML ──────── v1.1.0\n",
      "\u001b[32m\u001b[1mUpdating\u001b[22m\u001b[39m `/opt/julia/environments/v1.5/Project.toml`\n",
      " \u001b[90m [f27b6e38] \u001b[39m\u001b[92m+ Polynomials v2.0.8\u001b[39m\n",
      "\u001b[32m\u001b[1mUpdating\u001b[22m\u001b[39m `/opt/julia/environments/v1.5/Manifest.toml`\n",
      " \u001b[90m [e2ba6199] \u001b[39m\u001b[92m+ ExprTools v0.1.3\u001b[39m\n",
      " \u001b[90m [8f5d6c58] \u001b[39m\u001b[92m+ EzXML v1.1.0\u001b[39m\n",
      " \u001b[90m [d8418881] \u001b[39m\u001b[92m+ Intervals v1.5.0\u001b[39m\n",
      " \u001b[90m [94ce4f54] \u001b[39m\u001b[92m+ Libiconv_jll v1.16.0+7\u001b[39m\n",
      " \u001b[90m [78c3b35d] \u001b[39m\u001b[92m+ Mocking v0.7.1\u001b[39m\n",
      " \u001b[90m [f27b6e38] \u001b[39m\u001b[92m+ Polynomials v2.0.8\u001b[39m\n",
      " \u001b[90m [3cdcf5f2] \u001b[39m\u001b[92m+ RecipesBase v1.1.1\u001b[39m\n",
      " \u001b[90m [f269a46b] \u001b[39m\u001b[92m+ TimeZones v1.5.3\u001b[39m\n",
      " \u001b[90m [02c8fc9c] \u001b[39m\u001b[92m+ XML2_jll v2.9.10+3\u001b[39m\n",
      "\u001b[32m\u001b[1m   Building\u001b[22m\u001b[39m TimeZones → `/opt/julia/packages/TimeZones/K98G0/deps/build.log`\n"
     ]
    }
   ],
   "source": [
    "# pakiet Polynomials jest mozliwy do instalacji pod Juliabox\n",
    "# https://github.com/JuliaMath/Polynomials.jl\n",
    "#using Pkg\n",
    "#Pkg.add(\"Polynomials\")"
   ]
  },
  {
   "cell_type": "code",
   "execution_count": 14,
   "metadata": {},
   "outputs": [
    {
     "data": {
      "text/plain": [
       "exp (generic function with 14 methods)"
      ]
     },
     "execution_count": 14,
     "metadata": {},
     "output_type": "execute_result"
    }
   ],
   "source": [
    "# Przykładowa funkcja, którą będziemy aproksymować\n",
    "myfun = exp"
   ]
  },
  {
   "cell_type": "code",
   "execution_count": 15,
   "metadata": {},
   "outputs": [
    {
     "name": "stderr",
     "output_type": "stream",
     "text": [
      "┌ Info: Precompiling Polynomials [f27b6e38-b328-58d1-80ce-0feddd5e7a45]\n",
      "└ @ Base loading.jl:1278\n"
     ]
    },
    {
     "data": {
      "text/html": [
       "&#45;1086.8658708490193 &#43; 2905.5721994684577&#8729;x &#45; 1082.745723874463&#8729;x<sup>2</sup> &#43; 100.44658880845408&#8729;x<sup>3</sup>"
      ],
      "text/latex": [
       "$-1086.8658708490193 + 2905.5721994684577\\cdot x - 1082.745723874463\\cdot x^{2} + 100.44658880845408\\cdot x^{3}$"
      ],
      "text/plain": [
       "Polynomial(-1086.8658708490193 + 2905.5721994684577*x - 1082.745723874463*x^2 + 100.44658880845408*x^3)"
      ]
     },
     "execution_count": 15,
     "metadata": {},
     "output_type": "execute_result"
    }
   ],
   "source": [
    "# aproksymacja sredniokwadratowa wielomianem - tutaj przyklad dla wielomianu 3 stopnia\n",
    "using Polynomials\n",
    "# tworzę punkty do aproksymacji (tutaj jako przykład wyliczone wartości funkcji e^x)\n",
    "xs = 0:10\n",
    "ys = map(myfun, xs)\n",
    "\n",
    "# dopasowuje wielomian trzeciego stopnia do danych\n",
    "fit_poly_3 = fit(xs, ys, 3)"
   ]
  },
  {
   "cell_type": "code",
   "execution_count": 16,
   "metadata": {},
   "outputs": [
    {
     "data": {
      "text/plain": [
       "Polynomial{Float64,:x}"
      ]
     },
     "execution_count": 16,
     "metadata": {},
     "output_type": "execute_result"
    }
   ],
   "source": [
    "typeof(fit_poly_3)"
   ]
  },
  {
   "cell_type": "code",
   "execution_count": 17,
   "metadata": {},
   "outputs": [
    {
     "data": {
      "text/plain": [
       "836.4071935534294"
      ]
     },
     "execution_count": 17,
     "metadata": {},
     "output_type": "execute_result"
    }
   ],
   "source": [
    "# obliczanie wartosci wielomianu \n",
    "fit_poly_3(1)"
   ]
  },
  {
   "cell_type": "code",
   "execution_count": 47,
   "metadata": {
    "scrolled": false
   },
   "outputs": [
    {
     "name": "stderr",
     "output_type": "stream",
     "text": [
      "\u001b[32m\u001b[1m  Resolving\u001b[22m\u001b[39m package versions...\n",
      "\u001b[32m\u001b[1m  Installed\u001b[22m\u001b[39m IteratorInterfaceExtensions ── v1.0.0\n",
      "\u001b[32m\u001b[1m  Installed\u001b[22m\u001b[39m GLFW_jll ───────────────────── v3.3.3+0\n",
      "\u001b[32m\u001b[1m  Installed\u001b[22m\u001b[39m SortingAlgorithms ──────────── v0.3.1\n",
      "\u001b[32m\u001b[1m  Installed\u001b[22m\u001b[39m Xorg_libX11_jll ────────────── v1.6.9+4\n",
      "\u001b[32m\u001b[1m  Installed\u001b[22m\u001b[39m RecipesPipeline ────────────── v0.3.2\n",
      "\u001b[32m\u001b[1m  Installed\u001b[22m\u001b[39m GeometryBasics ─────────────── v0.3.12\n",
      "\u001b[32m\u001b[1m  Installed\u001b[22m\u001b[39m DataStructures ─────────────── v0.18.9\n",
      "\u001b[32m\u001b[1m  Installed\u001b[22m\u001b[39m Plots ──────────────────────── v1.11.2\n",
      "\u001b[32m\u001b[1m  Installed\u001b[22m\u001b[39m Reexport ───────────────────── v1.0.0\n",
      "\u001b[32m\u001b[1m  Installed\u001b[22m\u001b[39m Wayland_jll ────────────────── v1.17.0+4\n",
      "\u001b[32m\u001b[1m  Installed\u001b[22m\u001b[39m NetworkOptions ─────────────── v1.2.0\n",
      "\u001b[32m\u001b[1m  Installed\u001b[22m\u001b[39m Wayland_protocols_jll ──────── v1.18.0+4\n",
      "\u001b[32m\u001b[1m  Installed\u001b[22m\u001b[39m Libffi_jll ─────────────────── v3.2.1+4\n",
      "\u001b[32m\u001b[1m  Installed\u001b[22m\u001b[39m LZO_jll ────────────────────── v2.10.0+3\n",
      "\u001b[32m\u001b[1m  Installed\u001b[22m\u001b[39m FixedPointNumbers ──────────── v0.8.4\n",
      "\u001b[32m\u001b[1m  Installed\u001b[22m\u001b[39m Colors ─────────────────────── v0.12.7\n",
      "\u001b[32m\u001b[1m  Installed\u001b[22m\u001b[39m xkbcommon_jll ──────────────── v0.9.1+5\n",
      "\u001b[32m\u001b[1m  Installed\u001b[22m\u001b[39m FFMPEG_jll ─────────────────── v4.3.1+4\n",
      "\u001b[32m\u001b[1m  Installed\u001b[22m\u001b[39m Xorg_libXi_jll ─────────────── v1.7.10+4\n",
      "\u001b[32m\u001b[1m  Installed\u001b[22m\u001b[39m ColorTypes ─────────────────── v0.10.12\n",
      "\u001b[32m\u001b[1m  Installed\u001b[22m\u001b[39m Xorg_libXfixes_jll ─────────── v5.0.3+4\n",
      "\u001b[32m\u001b[1m  Installed\u001b[22m\u001b[39m Libglvnd_jll ───────────────── v1.3.0+3\n",
      "\u001b[32m\u001b[1m  Installed\u001b[22m\u001b[39m Xorg_libXcursor_jll ────────── v1.2.0+4\n",
      "\u001b[32m\u001b[1m  Installed\u001b[22m\u001b[39m StaticArrays ───────────────── v1.1.0\n",
      "\u001b[32m\u001b[1m  Installed\u001b[22m\u001b[39m Xorg_xcb_util_renderutil_jll ─ v0.3.9+1\n",
      "\u001b[32m\u001b[1m  Installed\u001b[22m\u001b[39m Xorg_xcb_util_keysyms_jll ──── v0.4.0+1\n",
      "\u001b[32m\u001b[1m  Installed\u001b[22m\u001b[39m StatsBase ──────────────────── v0.33.5\n",
      "\u001b[32m\u001b[1m  Installed\u001b[22m\u001b[39m Xorg_libXdmcp_jll ──────────── v1.1.3+4\n",
      "\u001b[32m\u001b[1m  Installed\u001b[22m\u001b[39m Xorg_libpthread_stubs_jll ──── v0.1.0+3\n",
      "\u001b[32m\u001b[1m  Installed\u001b[22m\u001b[39m OrderedCollections ─────────── v1.4.0\n",
      "\u001b[32m\u001b[1m  Installed\u001b[22m\u001b[39m Xorg_libXrender_jll ────────── v0.9.10+4\n",
      "\u001b[32m\u001b[1m  Installed\u001b[22m\u001b[39m Grisu ──────────────────────── v1.0.0\n",
      "\u001b[32m\u001b[1m  Installed\u001b[22m\u001b[39m LibVPX_jll ─────────────────── v1.9.0+1\n",
      "\u001b[32m\u001b[1m  Installed\u001b[22m\u001b[39m Tables ─────────────────────── v1.4.2\n",
      "\u001b[32m\u001b[1m  Installed\u001b[22m\u001b[39m PCRE_jll ───────────────────── v8.42.0+4\n",
      "\u001b[32m\u001b[1m  Installed\u001b[22m\u001b[39m Fontconfig_jll ─────────────── v2.13.1+14\n",
      "\u001b[32m\u001b[1m  Installed\u001b[22m\u001b[39m libpng_jll ─────────────────── v1.6.37+6\n",
      "\u001b[32m\u001b[1m  Installed\u001b[22m\u001b[39m EarCut_jll ─────────────────── v2.1.5+1\n",
      "\u001b[32m\u001b[1m  Installed\u001b[22m\u001b[39m Ogg_jll ────────────────────── v1.3.4+2\n",
      "\u001b[32m\u001b[1m  Installed\u001b[22m\u001b[39m Qt5Base_jll ────────────────── v5.15.2+0\n",
      "\u001b[32m\u001b[1m  Installed\u001b[22m\u001b[39m Xorg_xtrans_jll ────────────── v1.4.0+3\n",
      "\u001b[32m\u001b[1m  Installed\u001b[22m\u001b[39m LaTeXStrings ───────────────── v1.2.1\n",
      "\u001b[32m\u001b[1m  Installed\u001b[22m\u001b[39m Glib_jll ───────────────────── v2.59.0+4\n",
      "\u001b[32m\u001b[1m  Installed\u001b[22m\u001b[39m Xorg_libXau_jll ────────────── v1.0.9+4\n",
      "\u001b[32m\u001b[1m  Installed\u001b[22m\u001b[39m libvorbis_jll ──────────────── v1.3.6+6\n",
      "\u001b[32m\u001b[1m  Installed\u001b[22m\u001b[39m Measures ───────────────────── v0.3.1\n",
      "\u001b[32m\u001b[1m  Installed\u001b[22m\u001b[39m Xorg_xcb_util_jll ──────────── v0.4.0+1\n",
      "\u001b[32m\u001b[1m  Installed\u001b[22m\u001b[39m Libmount_jll ───────────────── v2.34.0+3\n",
      "\u001b[32m\u001b[1m  Installed\u001b[22m\u001b[39m x264_jll ───────────────────── v2020.7.14+2\n",
      "\u001b[32m\u001b[1m  Installed\u001b[22m\u001b[39m FFMPEG ─────────────────────── v0.4.0\n",
      "\u001b[32m\u001b[1m  Installed\u001b[22m\u001b[39m Libuuid_jll ────────────────── v2.34.0+7\n",
      "\u001b[32m\u001b[1m  Installed\u001b[22m\u001b[39m PlotUtils ──────────────────── v1.0.10\n",
      "\u001b[32m\u001b[1m  Installed\u001b[22m\u001b[39m Xorg_xkbcomp_jll ───────────── v1.4.2+4\n",
      "\u001b[32m\u001b[1m  Installed\u001b[22m\u001b[39m Xorg_libXrandr_jll ─────────── v1.5.2+4\n",
      "\u001b[32m\u001b[1m  Installed\u001b[22m\u001b[39m FreeType2_jll ──────────────── v2.10.1+5\n",
      "\u001b[32m\u001b[1m  Installed\u001b[22m\u001b[39m DataAPI ────────────────────── v1.6.0\n",
      "\u001b[32m\u001b[1m  Installed\u001b[22m\u001b[39m XSLT_jll ───────────────────── v1.1.33+4\n",
      "\u001b[32m\u001b[1m  Installed\u001b[22m\u001b[39m Cairo_jll ──────────────────── v1.16.0+6\n",
      "\u001b[32m\u001b[1m  Installed\u001b[22m\u001b[39m CompilerSupportLibraries_jll ─ v0.3.4+0\n",
      "\u001b[32m\u001b[1m  Installed\u001b[22m\u001b[39m JpegTurbo_jll ──────────────── v2.0.1+3\n",
      "\u001b[32m\u001b[1m  Installed\u001b[22m\u001b[39m Formatting ─────────────────── v0.4.2\n",
      "\u001b[32m\u001b[1m  Installed\u001b[22m\u001b[39m Opus_jll ───────────────────── v1.3.1+3\n",
      "\u001b[32m\u001b[1m  Installed\u001b[22m\u001b[39m Adapt ──────────────────────── v3.3.0\n",
      "\u001b[32m\u001b[1m  Installed\u001b[22m\u001b[39m Xorg_libxcb_jll ────────────── v1.13.0+3\n",
      "\u001b[32m\u001b[1m  Installed\u001b[22m\u001b[39m Gettext_jll ────────────────── v0.20.1+7\n",
      "\u001b[32m\u001b[1m  Installed\u001b[22m\u001b[39m Libgcrypt_jll ──────────────── v1.8.5+4\n",
      "\u001b[32m\u001b[1m  Installed\u001b[22m\u001b[39m DataValueInterfaces ────────── v1.0.0\n",
      "\u001b[32m\u001b[1m  Installed\u001b[22m\u001b[39m Expat_jll ──────────────────── v2.2.7+6\n",
      "\u001b[32m\u001b[1m  Installed\u001b[22m\u001b[39m FriBidi_jll ────────────────── v1.0.5+6\n",
      "\u001b[32m\u001b[1m  Installed\u001b[22m\u001b[39m Libgpg_error_jll ───────────── v1.36.0+3\n",
      "\u001b[32m\u001b[1m  Installed\u001b[22m\u001b[39m Missings ───────────────────── v0.4.5\n",
      "\u001b[32m\u001b[1m  Installed\u001b[22m\u001b[39m Xorg_libXext_jll ───────────── v1.3.4+4\n",
      "\u001b[32m\u001b[1m  Installed\u001b[22m\u001b[39m Scratch ────────────────────── v1.0.3\n",
      "\u001b[32m\u001b[1m  Installed\u001b[22m\u001b[39m Contour ────────────────────── v0.5.7\n",
      "\u001b[32m\u001b[1m  Installed\u001b[22m\u001b[39m IniFile ────────────────────── v0.5.0\n",
      "\u001b[32m\u001b[1m  Installed\u001b[22m\u001b[39m x265_jll ───────────────────── v3.0.0+3\n",
      "\u001b[32m\u001b[1m  Installed\u001b[22m\u001b[39m Libtiff_jll ────────────────── v4.1.0+2\n",
      "\u001b[32m\u001b[1m  Installed\u001b[22m\u001b[39m StructArrays ───────────────── v0.5.1\n",
      "\u001b[32m\u001b[1m  Installed\u001b[22m\u001b[39m TableTraits ────────────────── v1.0.1\n",
      "\u001b[32m\u001b[1m  Installed\u001b[22m\u001b[39m GR_jll ─────────────────────── v0.57.2+0\n",
      "\u001b[32m\u001b[1m  Installed\u001b[22m\u001b[39m NaNMath ────────────────────── v0.3.5\n",
      "\u001b[32m\u001b[1m  Installed\u001b[22m\u001b[39m Pixman_jll ─────────────────── v0.40.0+0\n",
      "\u001b[32m\u001b[1m  Installed\u001b[22m\u001b[39m libass_jll ─────────────────── v0.14.0+4\n",
      "\u001b[32m\u001b[1m  Installed\u001b[22m\u001b[39m libfdk_aac_jll ─────────────── v0.1.6+4\n",
      "\u001b[32m\u001b[1m  Installed\u001b[22m\u001b[39m Latexify ───────────────────── v0.14.12\n",
      "\u001b[32m\u001b[1m  Installed\u001b[22m\u001b[39m Xorg_xkeyboard_config_jll ──── v2.27.0+4\n",
      "\u001b[32m\u001b[1m  Installed\u001b[22m\u001b[39m Xorg_xcb_util_wm_jll ───────── v0.4.1+1\n",
      "\u001b[32m\u001b[1m  Installed\u001b[22m\u001b[39m LAME_jll ───────────────────── v3.100.0+3\n",
      "\u001b[32m\u001b[1m  Installed\u001b[22m\u001b[39m Xorg_libXinerama_jll ───────── v1.1.4+4\n",
      "\u001b[32m\u001b[1m  Installed\u001b[22m\u001b[39m ColorSchemes ───────────────── v3.11.0\n",
      "\u001b[32m\u001b[1m  Installed\u001b[22m\u001b[39m Showoff ────────────────────── v1.0.2\n",
      "\u001b[32m\u001b[1m  Installed\u001b[22m\u001b[39m IterTools ──────────────────── v1.3.0\n",
      "\u001b[32m\u001b[1m  Installed\u001b[22m\u001b[39m Bzip2_jll ──────────────────── v1.0.6+5\n",
      "\u001b[32m\u001b[1m  Installed\u001b[22m\u001b[39m MacroTools ─────────────────── v0.5.6\n",
      "\u001b[32m\u001b[1m  Installed\u001b[22m\u001b[39m URIs ───────────────────────── v1.2.0\n",
      "\u001b[32m\u001b[1m  Installed\u001b[22m\u001b[39m HTTP ───────────────────────── v0.9.5\n",
      "\u001b[32m\u001b[1m  Installed\u001b[22m\u001b[39m Xorg_libxkbfile_jll ────────── v1.1.0+4\n",
      "\u001b[32m\u001b[1m  Installed\u001b[22m\u001b[39m Xorg_xcb_util_image_jll ────── v0.4.0+1\n",
      "\u001b[32m\u001b[1m  Installed\u001b[22m\u001b[39m PlotThemes ─────────────────── v2.0.1\n",
      "\u001b[32m\u001b[1m  Installed\u001b[22m\u001b[39m GR ─────────────────────────── v0.57.3\n",
      "\u001b[32m\u001b[1mUpdating\u001b[22m\u001b[39m `/opt/julia/environments/v1.5/Project.toml`\n",
      " \u001b[90m [91a5bcdd] \u001b[39m\u001b[92m+ Plots v1.11.2\u001b[39m\n",
      "\u001b[32m\u001b[1mUpdating\u001b[22m\u001b[39m `/opt/julia/environments/v1.5/Manifest.toml`\n",
      " \u001b[90m [79e6a3ab] \u001b[39m\u001b[92m+ Adapt v3.3.0\u001b[39m\n",
      " \u001b[90m [6e34b625] \u001b[39m\u001b[92m+ Bzip2_jll v1.0.6+5\u001b[39m\n",
      " \u001b[90m [83423d85] \u001b[39m\u001b[92m+ Cairo_jll v1.16.0+6\u001b[39m\n",
      " \u001b[90m [35d6a980] \u001b[39m\u001b[92m+ ColorSchemes v3.11.0\u001b[39m\n",
      " \u001b[90m [3da002f7] \u001b[39m\u001b[92m+ ColorTypes v0.10.12\u001b[39m\n",
      " \u001b[90m [5ae59095] \u001b[39m\u001b[92m+ Colors v0.12.7\u001b[39m\n",
      " \u001b[90m [e66e0078] \u001b[39m\u001b[92m+ CompilerSupportLibraries_jll v0.3.4+0\u001b[39m\n",
      " \u001b[90m [d38c429a] \u001b[39m\u001b[92m+ Contour v0.5.7\u001b[39m\n",
      " \u001b[90m [9a962f9c] \u001b[39m\u001b[92m+ DataAPI v1.6.0\u001b[39m\n",
      " \u001b[90m [864edb3b] \u001b[39m\u001b[92m+ DataStructures v0.18.9\u001b[39m\n",
      " \u001b[90m [e2d170a0] \u001b[39m\u001b[92m+ DataValueInterfaces v1.0.0\u001b[39m\n",
      " \u001b[90m [5ae413db] \u001b[39m\u001b[92m+ EarCut_jll v2.1.5+1\u001b[39m\n",
      " \u001b[90m [2e619515] \u001b[39m\u001b[92m+ Expat_jll v2.2.7+6\u001b[39m\n",
      " \u001b[90m [c87230d0] \u001b[39m\u001b[92m+ FFMPEG v0.4.0\u001b[39m\n",
      " \u001b[90m [b22a6f82] \u001b[39m\u001b[92m+ FFMPEG_jll v4.3.1+4\u001b[39m\n",
      " \u001b[90m [53c48c17] \u001b[39m\u001b[92m+ FixedPointNumbers v0.8.4\u001b[39m\n",
      " \u001b[90m [a3f928ae] \u001b[39m\u001b[92m+ Fontconfig_jll v2.13.1+14\u001b[39m\n",
      " \u001b[90m [59287772] \u001b[39m\u001b[92m+ Formatting v0.4.2\u001b[39m\n",
      " \u001b[90m [d7e528f0] \u001b[39m\u001b[92m+ FreeType2_jll v2.10.1+5\u001b[39m\n",
      " \u001b[90m [559328eb] \u001b[39m\u001b[92m+ FriBidi_jll v1.0.5+6\u001b[39m\n",
      " \u001b[90m [0656b61e] \u001b[39m\u001b[92m+ GLFW_jll v3.3.3+0\u001b[39m\n",
      " \u001b[90m [28b8d3ca] \u001b[39m\u001b[92m+ GR v0.57.3\u001b[39m\n",
      " \u001b[90m [d2c73de3] \u001b[39m\u001b[92m+ GR_jll v0.57.2+0\u001b[39m\n",
      " \u001b[90m [5c1252a2] \u001b[39m\u001b[92m+ GeometryBasics v0.3.12\u001b[39m\n",
      " \u001b[90m [78b55507] \u001b[39m\u001b[92m+ Gettext_jll v0.20.1+7\u001b[39m\n",
      " \u001b[90m [7746bdde] \u001b[39m\u001b[92m+ Glib_jll v2.59.0+4\u001b[39m\n",
      " \u001b[90m [42e2da0e] \u001b[39m\u001b[92m+ Grisu v1.0.0\u001b[39m\n",
      " \u001b[90m [cd3eb016] \u001b[39m\u001b[92m+ HTTP v0.9.5\u001b[39m\n",
      " \u001b[90m [83e8ac13] \u001b[39m\u001b[92m+ IniFile v0.5.0\u001b[39m\n",
      " \u001b[90m [c8e1da08] \u001b[39m\u001b[92m+ IterTools v1.3.0\u001b[39m\n",
      " \u001b[90m [82899510] \u001b[39m\u001b[92m+ IteratorInterfaceExtensions v1.0.0\u001b[39m\n",
      " \u001b[90m [aacddb02] \u001b[39m\u001b[92m+ JpegTurbo_jll v2.0.1+3\u001b[39m\n",
      " \u001b[90m [c1c5ebd0] \u001b[39m\u001b[92m+ LAME_jll v3.100.0+3\u001b[39m\n",
      " \u001b[90m [dd4b983a] \u001b[39m\u001b[92m+ LZO_jll v2.10.0+3\u001b[39m\n",
      " \u001b[90m [b964fa9f] \u001b[39m\u001b[92m+ LaTeXStrings v1.2.1\u001b[39m\n",
      " \u001b[90m [23fbe1c1] \u001b[39m\u001b[92m+ Latexify v0.14.12\u001b[39m\n",
      " \u001b[90m [dd192d2f] \u001b[39m\u001b[92m+ LibVPX_jll v1.9.0+1\u001b[39m\n",
      " \u001b[90m [e9f186c6] \u001b[39m\u001b[92m+ Libffi_jll v3.2.1+4\u001b[39m\n",
      " \u001b[90m [d4300ac3] \u001b[39m\u001b[92m+ Libgcrypt_jll v1.8.5+4\u001b[39m\n",
      " \u001b[90m [7e76a0d4] \u001b[39m\u001b[92m+ Libglvnd_jll v1.3.0+3\u001b[39m\n",
      " \u001b[90m [7add5ba3] \u001b[39m\u001b[92m+ Libgpg_error_jll v1.36.0+3\u001b[39m\n",
      " \u001b[90m [4b2f31a3] \u001b[39m\u001b[92m+ Libmount_jll v2.34.0+3\u001b[39m\n",
      " \u001b[90m [89763e89] \u001b[39m\u001b[92m+ Libtiff_jll v4.1.0+2\u001b[39m\n",
      " \u001b[90m [38a345b3] \u001b[39m\u001b[92m+ Libuuid_jll v2.34.0+7\u001b[39m\n",
      " \u001b[90m [1914dd2f] \u001b[39m\u001b[92m+ MacroTools v0.5.6\u001b[39m\n",
      " \u001b[90m [442fdcdd] \u001b[39m\u001b[92m+ Measures v0.3.1\u001b[39m\n",
      " \u001b[90m [e1d29d7a] \u001b[39m\u001b[92m+ Missings v0.4.5\u001b[39m\n",
      " \u001b[90m [77ba4419] \u001b[39m\u001b[92m+ NaNMath v0.3.5\u001b[39m\n",
      " \u001b[90m [ca575930] \u001b[39m\u001b[92m+ NetworkOptions v1.2.0\u001b[39m\n",
      " \u001b[90m [e7412a2a] \u001b[39m\u001b[92m+ Ogg_jll v1.3.4+2\u001b[39m\n",
      " \u001b[90m [91d4177d] \u001b[39m\u001b[92m+ Opus_jll v1.3.1+3\u001b[39m\n",
      " \u001b[90m [bac558e1] \u001b[39m\u001b[92m+ OrderedCollections v1.4.0\u001b[39m\n",
      " \u001b[90m [2f80f16e] \u001b[39m\u001b[92m+ PCRE_jll v8.42.0+4\u001b[39m\n",
      " \u001b[90m [30392449] \u001b[39m\u001b[92m+ Pixman_jll v0.40.0+0\u001b[39m\n",
      " \u001b[90m [ccf2f8ad] \u001b[39m\u001b[92m+ PlotThemes v2.0.1\u001b[39m\n",
      " \u001b[90m [995b91a9] \u001b[39m\u001b[92m+ PlotUtils v1.0.10\u001b[39m\n",
      " \u001b[90m [91a5bcdd] \u001b[39m\u001b[92m+ Plots v1.11.2\u001b[39m\n",
      " \u001b[90m [ea2cea3b] \u001b[39m\u001b[92m+ Qt5Base_jll v5.15.2+0\u001b[39m\n",
      " \u001b[90m [01d81517] \u001b[39m\u001b[92m+ RecipesPipeline v0.3.2\u001b[39m\n",
      " \u001b[90m [189a3867] \u001b[39m\u001b[92m+ Reexport v1.0.0\u001b[39m\n",
      " \u001b[90m [6c6a2e73] \u001b[39m\u001b[92m+ Scratch v1.0.3\u001b[39m\n",
      " \u001b[90m [992d4aef] \u001b[39m\u001b[92m+ Showoff v1.0.2\u001b[39m\n",
      " \u001b[90m [a2af1166] \u001b[39m\u001b[92m+ SortingAlgorithms v0.3.1\u001b[39m\n",
      " \u001b[90m [90137ffa] \u001b[39m\u001b[92m+ StaticArrays v1.1.0\u001b[39m\n",
      " \u001b[90m [2913bbd2] \u001b[39m\u001b[92m+ StatsBase v0.33.5\u001b[39m\n",
      " \u001b[90m [09ab397b] \u001b[39m\u001b[92m+ StructArrays v0.5.1\u001b[39m\n",
      " \u001b[90m [3783bdb8] \u001b[39m\u001b[92m+ TableTraits v1.0.1\u001b[39m\n",
      " \u001b[90m [bd369af6] \u001b[39m\u001b[92m+ Tables v1.4.2\u001b[39m\n",
      " \u001b[90m [5c2747f8] \u001b[39m\u001b[92m+ URIs v1.2.0\u001b[39m\n",
      " \u001b[90m [a2964d1f] \u001b[39m\u001b[92m+ Wayland_jll v1.17.0+4\u001b[39m\n",
      " \u001b[90m [2381bf8a] \u001b[39m\u001b[92m+ Wayland_protocols_jll v1.18.0+4\u001b[39m\n",
      " \u001b[90m [aed1982a] \u001b[39m\u001b[92m+ XSLT_jll v1.1.33+4\u001b[39m\n",
      " \u001b[90m [4f6342f7] \u001b[39m\u001b[92m+ Xorg_libX11_jll v1.6.9+4\u001b[39m\n",
      " \u001b[90m [0c0b7dd1] \u001b[39m\u001b[92m+ Xorg_libXau_jll v1.0.9+4\u001b[39m\n",
      " \u001b[90m [935fb764] \u001b[39m\u001b[92m+ Xorg_libXcursor_jll v1.2.0+4\u001b[39m\n",
      " \u001b[90m [a3789734] \u001b[39m\u001b[92m+ Xorg_libXdmcp_jll v1.1.3+4\u001b[39m\n",
      " \u001b[90m [1082639a] \u001b[39m\u001b[92m+ Xorg_libXext_jll v1.3.4+4\u001b[39m\n",
      " \u001b[90m [d091e8ba] \u001b[39m\u001b[92m+ Xorg_libXfixes_jll v5.0.3+4\u001b[39m\n",
      " \u001b[90m [a51aa0fd] \u001b[39m\u001b[92m+ Xorg_libXi_jll v1.7.10+4\u001b[39m\n",
      " \u001b[90m [d1454406] \u001b[39m\u001b[92m+ Xorg_libXinerama_jll v1.1.4+4\u001b[39m\n",
      " \u001b[90m [ec84b674] \u001b[39m\u001b[92m+ Xorg_libXrandr_jll v1.5.2+4\u001b[39m\n",
      " \u001b[90m [ea2f1a96] \u001b[39m\u001b[92m+ Xorg_libXrender_jll v0.9.10+4\u001b[39m\n",
      " \u001b[90m [14d82f49] \u001b[39m\u001b[92m+ Xorg_libpthread_stubs_jll v0.1.0+3\u001b[39m\n",
      " \u001b[90m [c7cfdc94] \u001b[39m\u001b[92m+ Xorg_libxcb_jll v1.13.0+3\u001b[39m\n",
      " \u001b[90m [cc61e674] \u001b[39m\u001b[92m+ Xorg_libxkbfile_jll v1.1.0+4\u001b[39m\n",
      " \u001b[90m [12413925] \u001b[39m\u001b[92m+ Xorg_xcb_util_image_jll v0.4.0+1\u001b[39m\n",
      " \u001b[90m [2def613f] \u001b[39m\u001b[92m+ Xorg_xcb_util_jll v0.4.0+1\u001b[39m\n",
      " \u001b[90m [975044d2] \u001b[39m\u001b[92m+ Xorg_xcb_util_keysyms_jll v0.4.0+1\u001b[39m\n",
      " \u001b[90m [0d47668e] \u001b[39m\u001b[92m+ Xorg_xcb_util_renderutil_jll v0.3.9+1\u001b[39m\n",
      " \u001b[90m [c22f9ab0] \u001b[39m\u001b[92m+ Xorg_xcb_util_wm_jll v0.4.1+1\u001b[39m\n",
      " \u001b[90m [35661453] \u001b[39m\u001b[92m+ Xorg_xkbcomp_jll v1.4.2+4\u001b[39m\n",
      " \u001b[90m [33bec58e] \u001b[39m\u001b[92m+ Xorg_xkeyboard_config_jll v2.27.0+4\u001b[39m\n",
      " \u001b[90m [c5fb5394] \u001b[39m\u001b[92m+ Xorg_xtrans_jll v1.4.0+3\u001b[39m\n",
      " \u001b[90m [0ac62f75] \u001b[39m\u001b[92m+ libass_jll v0.14.0+4\u001b[39m\n",
      " \u001b[90m [f638f0a6] \u001b[39m\u001b[92m+ libfdk_aac_jll v0.1.6+4\u001b[39m\n",
      " \u001b[90m [b53b4c65] \u001b[39m\u001b[92m+ libpng_jll v1.6.37+6\u001b[39m\n",
      " \u001b[90m [f27f6e37] \u001b[39m\u001b[92m+ libvorbis_jll v1.3.6+6\u001b[39m\n",
      " \u001b[90m [1270edf5] \u001b[39m\u001b[92m+ x264_jll v2020.7.14+2\u001b[39m\n",
      " \u001b[90m [dfaa095f] \u001b[39m\u001b[92m+ x265_jll v3.0.0+3\u001b[39m\n",
      " \u001b[90m [d8fb68d0] \u001b[39m\u001b[92m+ xkbcommon_jll v0.9.1+5\u001b[39m\n",
      "\u001b[32m\u001b[1m   Building\u001b[22m\u001b[39m GR → `/opt/julia/packages/GR/qSS8e/deps/build.log`\n"
     ]
    },
    {
     "name": "stderr",
     "output_type": "stream",
     "text": [
      "┌ Info: Precompiling Plots [91a5bcdd-55d7-5caf-9e0b-520d859cae80]\n",
      "└ @ Base loading.jl:1278\n"
     ]
    }
   ],
   "source": [
    "#Pkg.add(\"Plots\")\n",
    "using Plots"
   ]
  },
  {
   "cell_type": "code",
   "execution_count": 48,
   "metadata": {},
   "outputs": [
    {
     "data": {
      "image/svg+xml": [
       "<?xml version=\"1.0\" encoding=\"utf-8\"?>\n",
       "<svg xmlns=\"http://www.w3.org/2000/svg\" xmlns:xlink=\"http://www.w3.org/1999/xlink\" width=\"600\" height=\"400\" viewBox=\"0 0 2400 1600\">\n",
       "<defs>\n",
       "  <clipPath id=\"clip920\">\n",
       "    <rect x=\"0\" y=\"0\" width=\"2400\" height=\"1600\"/>\n",
       "  </clipPath>\n",
       "</defs>\n",
       "<path clip-path=\"url(#clip920)\" d=\"\n",
       "M0 1600 L2400 1600 L2400 0 L0 0  Z\n",
       "  \" fill=\"#ffffff\" fill-rule=\"evenodd\" fill-opacity=\"1\"/>\n",
       "<defs>\n",
       "  <clipPath id=\"clip921\">\n",
       "    <rect x=\"480\" y=\"0\" width=\"1681\" height=\"1600\"/>\n",
       "  </clipPath>\n",
       "</defs>\n",
       "<path clip-path=\"url(#clip920)\" d=\"\n",
       "M306.435 1486.45 L2352.76 1486.45 L2352.76 47.2441 L306.435 47.2441  Z\n",
       "  \" fill=\"#ffffff\" fill-rule=\"evenodd\" fill-opacity=\"1\"/>\n",
       "<defs>\n",
       "  <clipPath id=\"clip922\">\n",
       "    <rect x=\"306\" y=\"47\" width=\"2047\" height=\"1440\"/>\n",
       "  </clipPath>\n",
       "</defs>\n",
       "<polyline clip-path=\"url(#clip922)\" style=\"stroke:#000000; stroke-width:2; stroke-opacity:0.1; fill:none\" points=\"\n",
       "  364.35,1486.45 364.35,47.2441 \n",
       "  \"/>\n",
       "<polyline clip-path=\"url(#clip922)\" style=\"stroke:#000000; stroke-width:2; stroke-opacity:0.1; fill:none\" points=\"\n",
       "  846.973,1486.45 846.973,47.2441 \n",
       "  \"/>\n",
       "<polyline clip-path=\"url(#clip922)\" style=\"stroke:#000000; stroke-width:2; stroke-opacity:0.1; fill:none\" points=\"\n",
       "  1329.6,1486.45 1329.6,47.2441 \n",
       "  \"/>\n",
       "<polyline clip-path=\"url(#clip922)\" style=\"stroke:#000000; stroke-width:2; stroke-opacity:0.1; fill:none\" points=\"\n",
       "  1812.22,1486.45 1812.22,47.2441 \n",
       "  \"/>\n",
       "<polyline clip-path=\"url(#clip922)\" style=\"stroke:#000000; stroke-width:2; stroke-opacity:0.1; fill:none\" points=\"\n",
       "  2294.84,1486.45 2294.84,47.2441 \n",
       "  \"/>\n",
       "<polyline clip-path=\"url(#clip920)\" style=\"stroke:#000000; stroke-width:4; stroke-opacity:1; fill:none\" points=\"\n",
       "  306.435,1486.45 2352.76,1486.45 \n",
       "  \"/>\n",
       "<polyline clip-path=\"url(#clip920)\" style=\"stroke:#000000; stroke-width:4; stroke-opacity:1; fill:none\" points=\"\n",
       "  364.35,1486.45 364.35,1469.18 \n",
       "  \"/>\n",
       "<polyline clip-path=\"url(#clip920)\" style=\"stroke:#000000; stroke-width:4; stroke-opacity:1; fill:none\" points=\"\n",
       "  846.973,1486.45 846.973,1469.18 \n",
       "  \"/>\n",
       "<polyline clip-path=\"url(#clip920)\" style=\"stroke:#000000; stroke-width:4; stroke-opacity:1; fill:none\" points=\"\n",
       "  1329.6,1486.45 1329.6,1469.18 \n",
       "  \"/>\n",
       "<polyline clip-path=\"url(#clip920)\" style=\"stroke:#000000; stroke-width:4; stroke-opacity:1; fill:none\" points=\"\n",
       "  1812.22,1486.45 1812.22,1469.18 \n",
       "  \"/>\n",
       "<polyline clip-path=\"url(#clip920)\" style=\"stroke:#000000; stroke-width:4; stroke-opacity:1; fill:none\" points=\"\n",
       "  2294.84,1486.45 2294.84,1469.18 \n",
       "  \"/>\n",
       "<path clip-path=\"url(#clip920)\" d=\"M 0 0 M341.735 1515.64 Q338.123 1515.64 336.295 1519.2 Q334.489 1522.75 334.489 1529.87 Q334.489 1536.98 336.295 1540.55 Q338.123 1544.09 341.735 1544.09 Q345.369 1544.09 347.174 1540.55 Q349.003 1536.98 349.003 1529.87 Q349.003 1522.75 347.174 1519.2 Q345.369 1515.64 341.735 1515.64 M341.735 1511.93 Q347.545 1511.93 350.6 1516.54 Q353.679 1521.12 353.679 1529.87 Q353.679 1538.6 350.6 1543.21 Q347.545 1547.79 341.735 1547.79 Q335.924 1547.79 332.846 1543.21 Q329.79 1538.6 329.79 1529.87 Q329.79 1521.12 332.846 1516.54 Q335.924 1511.93 341.735 1511.93 Z\" fill=\"#000000\" fill-rule=\"evenodd\" fill-opacity=\"1\" /><path clip-path=\"url(#clip920)\" d=\"M 0 0 M361.896 1541.24 L366.781 1541.24 L366.781 1547.12 L361.896 1547.12 L361.896 1541.24 Z\" fill=\"#000000\" fill-rule=\"evenodd\" fill-opacity=\"1\" /><path clip-path=\"url(#clip920)\" d=\"M 0 0 M386.966 1515.64 Q383.355 1515.64 381.526 1519.2 Q379.72 1522.75 379.72 1529.87 Q379.72 1536.98 381.526 1540.55 Q383.355 1544.09 386.966 1544.09 Q390.6 1544.09 392.406 1540.55 Q394.234 1536.98 394.234 1529.87 Q394.234 1522.75 392.406 1519.2 Q390.6 1515.64 386.966 1515.64 M386.966 1511.93 Q392.776 1511.93 395.831 1516.54 Q398.91 1521.12 398.91 1529.87 Q398.91 1538.6 395.831 1543.21 Q392.776 1547.79 386.966 1547.79 Q381.156 1547.79 378.077 1543.21 Q375.021 1538.6 375.021 1529.87 Q375.021 1521.12 378.077 1516.54 Q381.156 1511.93 386.966 1511.93 Z\" fill=\"#000000\" fill-rule=\"evenodd\" fill-opacity=\"1\" /><path clip-path=\"url(#clip920)\" d=\"M 0 0 M818.709 1543.18 L835.029 1543.18 L835.029 1547.12 L813.084 1547.12 L813.084 1543.18 Q815.746 1540.43 820.33 1535.8 Q824.936 1531.15 826.117 1529.81 Q828.362 1527.28 829.242 1525.55 Q830.144 1523.79 830.144 1522.1 Q830.144 1519.34 828.2 1517.61 Q826.279 1515.87 823.177 1515.87 Q820.978 1515.87 818.524 1516.63 Q816.093 1517.4 813.316 1518.95 L813.316 1514.23 Q816.14 1513.09 818.593 1512.51 Q821.047 1511.93 823.084 1511.93 Q828.454 1511.93 831.649 1514.62 Q834.843 1517.31 834.843 1521.8 Q834.843 1523.93 834.033 1525.85 Q833.246 1527.74 831.14 1530.34 Q830.561 1531.01 827.459 1534.23 Q824.357 1537.42 818.709 1543.18 Z\" fill=\"#000000\" fill-rule=\"evenodd\" fill-opacity=\"1\" /><path clip-path=\"url(#clip920)\" d=\"M 0 0 M844.843 1541.24 L849.728 1541.24 L849.728 1547.12 L844.843 1547.12 L844.843 1541.24 Z\" fill=\"#000000\" fill-rule=\"evenodd\" fill-opacity=\"1\" /><path clip-path=\"url(#clip920)\" d=\"M 0 0 M859.959 1512.56 L878.315 1512.56 L878.315 1516.5 L864.241 1516.5 L864.241 1524.97 Q865.26 1524.62 866.278 1524.46 Q867.297 1524.27 868.315 1524.27 Q874.102 1524.27 877.482 1527.44 Q880.862 1530.62 880.862 1536.03 Q880.862 1541.61 877.389 1544.71 Q873.917 1547.79 867.598 1547.79 Q865.422 1547.79 863.153 1547.42 Q860.908 1547.05 858.501 1546.31 L858.501 1541.61 Q860.584 1542.74 862.806 1543.3 Q865.028 1543.86 867.505 1543.86 Q871.51 1543.86 873.848 1541.75 Q876.186 1539.64 876.186 1536.03 Q876.186 1532.42 873.848 1530.31 Q871.51 1528.21 867.505 1528.21 Q865.63 1528.21 863.755 1528.62 Q861.903 1529.04 859.959 1529.92 L859.959 1512.56 Z\" fill=\"#000000\" fill-rule=\"evenodd\" fill-opacity=\"1\" /><path clip-path=\"url(#clip920)\" d=\"M 0 0 M1296.76 1512.56 L1315.12 1512.56 L1315.12 1516.5 L1301.04 1516.5 L1301.04 1524.97 Q1302.06 1524.62 1303.08 1524.46 Q1304.1 1524.27 1305.12 1524.27 Q1310.9 1524.27 1314.28 1527.44 Q1317.66 1530.62 1317.66 1536.03 Q1317.66 1541.61 1314.19 1544.71 Q1310.72 1547.79 1304.4 1547.79 Q1302.22 1547.79 1299.95 1547.42 Q1297.71 1547.05 1295.3 1546.31 L1295.3 1541.61 Q1297.39 1542.74 1299.61 1543.3 Q1301.83 1543.86 1304.31 1543.86 Q1308.31 1543.86 1310.65 1541.75 Q1312.99 1539.64 1312.99 1536.03 Q1312.99 1532.42 1310.65 1530.31 Q1308.31 1528.21 1304.31 1528.21 Q1302.43 1528.21 1300.56 1528.62 Q1298.7 1529.04 1296.76 1529.92 L1296.76 1512.56 Z\" fill=\"#000000\" fill-rule=\"evenodd\" fill-opacity=\"1\" /><path clip-path=\"url(#clip920)\" d=\"M 0 0 M1326.88 1541.24 L1331.76 1541.24 L1331.76 1547.12 L1326.88 1547.12 L1326.88 1541.24 Z\" fill=\"#000000\" fill-rule=\"evenodd\" fill-opacity=\"1\" /><path clip-path=\"url(#clip920)\" d=\"M 0 0 M1351.95 1515.64 Q1348.33 1515.64 1346.51 1519.2 Q1344.7 1522.75 1344.7 1529.87 Q1344.7 1536.98 1346.51 1540.55 Q1348.33 1544.09 1351.95 1544.09 Q1355.58 1544.09 1357.38 1540.55 Q1359.21 1536.98 1359.21 1529.87 Q1359.21 1522.75 1357.38 1519.2 Q1355.58 1515.64 1351.95 1515.64 M1351.95 1511.93 Q1357.76 1511.93 1360.81 1516.54 Q1363.89 1521.12 1363.89 1529.87 Q1363.89 1538.6 1360.81 1543.21 Q1357.76 1547.79 1351.95 1547.79 Q1346.13 1547.79 1343.06 1543.21 Q1340 1538.6 1340 1529.87 Q1340 1521.12 1343.06 1516.54 Q1346.13 1511.93 1351.95 1511.93 Z\" fill=\"#000000\" fill-rule=\"evenodd\" fill-opacity=\"1\" /><path clip-path=\"url(#clip920)\" d=\"M 0 0 M1778.54 1512.56 L1800.76 1512.56 L1800.76 1514.55 L1788.21 1547.12 L1783.33 1547.12 L1795.14 1516.5 L1778.54 1516.5 L1778.54 1512.56 Z\" fill=\"#000000\" fill-rule=\"evenodd\" fill-opacity=\"1\" /><path clip-path=\"url(#clip920)\" d=\"M 0 0 M1809.88 1541.24 L1814.76 1541.24 L1814.76 1547.12 L1809.88 1547.12 L1809.88 1541.24 Z\" fill=\"#000000\" fill-rule=\"evenodd\" fill-opacity=\"1\" /><path clip-path=\"url(#clip920)\" d=\"M 0 0 M1825 1512.56 L1843.35 1512.56 L1843.35 1516.5 L1829.28 1516.5 L1829.28 1524.97 Q1830.3 1524.62 1831.32 1524.46 Q1832.33 1524.27 1833.35 1524.27 Q1839.14 1524.27 1842.52 1527.44 Q1845.9 1530.62 1845.9 1536.03 Q1845.9 1541.61 1842.43 1544.71 Q1838.95 1547.79 1832.63 1547.79 Q1830.46 1547.79 1828.19 1547.42 Q1825.95 1547.05 1823.54 1546.31 L1823.54 1541.61 Q1825.62 1542.74 1827.84 1543.3 Q1830.07 1543.86 1832.54 1543.86 Q1836.55 1543.86 1838.88 1541.75 Q1841.22 1539.64 1841.22 1536.03 Q1841.22 1532.42 1838.88 1530.31 Q1836.55 1528.21 1832.54 1528.21 Q1830.67 1528.21 1828.79 1528.62 Q1826.94 1529.04 1825 1529.92 L1825 1512.56 Z\" fill=\"#000000\" fill-rule=\"evenodd\" fill-opacity=\"1\" /><path clip-path=\"url(#clip920)\" d=\"M 0 0 M2246.91 1543.18 L2254.55 1543.18 L2254.55 1516.82 L2246.24 1518.49 L2246.24 1514.23 L2254.51 1512.56 L2259.18 1512.56 L2259.18 1543.18 L2266.82 1543.18 L2266.82 1547.12 L2246.91 1547.12 L2246.91 1543.18 Z\" fill=\"#000000\" fill-rule=\"evenodd\" fill-opacity=\"1\" /><path clip-path=\"url(#clip920)\" d=\"M 0 0 M2286.26 1515.64 Q2282.65 1515.64 2280.83 1519.2 Q2279.02 1522.75 2279.02 1529.87 Q2279.02 1536.98 2280.83 1540.55 Q2282.65 1544.09 2286.26 1544.09 Q2289.9 1544.09 2291.7 1540.55 Q2293.53 1536.98 2293.53 1529.87 Q2293.53 1522.75 2291.7 1519.2 Q2289.9 1515.64 2286.26 1515.64 M2286.26 1511.93 Q2292.07 1511.93 2295.13 1516.54 Q2298.21 1521.12 2298.21 1529.87 Q2298.21 1538.6 2295.13 1543.21 Q2292.07 1547.79 2286.26 1547.79 Q2280.45 1547.79 2277.38 1543.21 Q2274.32 1538.6 2274.32 1529.87 Q2274.32 1521.12 2277.38 1516.54 Q2280.45 1511.93 2286.26 1511.93 Z\" fill=\"#000000\" fill-rule=\"evenodd\" fill-opacity=\"1\" /><path clip-path=\"url(#clip920)\" d=\"M 0 0 M2306.43 1541.24 L2311.31 1541.24 L2311.31 1547.12 L2306.43 1547.12 L2306.43 1541.24 Z\" fill=\"#000000\" fill-rule=\"evenodd\" fill-opacity=\"1\" /><path clip-path=\"url(#clip920)\" d=\"M 0 0 M2331.5 1515.64 Q2327.88 1515.64 2326.06 1519.2 Q2324.25 1522.75 2324.25 1529.87 Q2324.25 1536.98 2326.06 1540.55 Q2327.88 1544.09 2331.5 1544.09 Q2335.13 1544.09 2336.94 1540.55 Q2338.76 1536.98 2338.76 1529.87 Q2338.76 1522.75 2336.94 1519.2 Q2335.13 1515.64 2331.5 1515.64 M2331.5 1511.93 Q2337.31 1511.93 2340.36 1516.54 Q2343.44 1521.12 2343.44 1529.87 Q2343.44 1538.6 2340.36 1543.21 Q2337.31 1547.79 2331.5 1547.79 Q2325.69 1547.79 2322.61 1543.21 Q2319.55 1538.6 2319.55 1529.87 Q2319.55 1521.12 2322.61 1516.54 Q2325.69 1511.93 2331.5 1511.93 Z\" fill=\"#000000\" fill-rule=\"evenodd\" fill-opacity=\"1\" /><polyline clip-path=\"url(#clip922)\" style=\"stroke:#000000; stroke-width:2; stroke-opacity:0.1; fill:none\" points=\"\n",
       "  306.435,1378.18 2352.76,1378.18 \n",
       "  \"/>\n",
       "<polyline clip-path=\"url(#clip922)\" style=\"stroke:#000000; stroke-width:2; stroke-opacity:0.1; fill:none\" points=\"\n",
       "  306.435,1085.31 2352.76,1085.31 \n",
       "  \"/>\n",
       "<polyline clip-path=\"url(#clip922)\" style=\"stroke:#000000; stroke-width:2; stroke-opacity:0.1; fill:none\" points=\"\n",
       "  306.435,792.43 2352.76,792.43 \n",
       "  \"/>\n",
       "<polyline clip-path=\"url(#clip922)\" style=\"stroke:#000000; stroke-width:2; stroke-opacity:0.1; fill:none\" points=\"\n",
       "  306.435,499.554 2352.76,499.554 \n",
       "  \"/>\n",
       "<polyline clip-path=\"url(#clip922)\" style=\"stroke:#000000; stroke-width:2; stroke-opacity:0.1; fill:none\" points=\"\n",
       "  306.435,206.677 2352.76,206.677 \n",
       "  \"/>\n",
       "<polyline clip-path=\"url(#clip920)\" style=\"stroke:#000000; stroke-width:4; stroke-opacity:1; fill:none\" points=\"\n",
       "  306.435,1486.45 306.435,47.2441 \n",
       "  \"/>\n",
       "<polyline clip-path=\"url(#clip920)\" style=\"stroke:#000000; stroke-width:4; stroke-opacity:1; fill:none\" points=\"\n",
       "  306.435,1378.18 330.991,1378.18 \n",
       "  \"/>\n",
       "<polyline clip-path=\"url(#clip920)\" style=\"stroke:#000000; stroke-width:4; stroke-opacity:1; fill:none\" points=\"\n",
       "  306.435,1085.31 330.991,1085.31 \n",
       "  \"/>\n",
       "<polyline clip-path=\"url(#clip920)\" style=\"stroke:#000000; stroke-width:4; stroke-opacity:1; fill:none\" points=\"\n",
       "  306.435,792.43 330.991,792.43 \n",
       "  \"/>\n",
       "<polyline clip-path=\"url(#clip920)\" style=\"stroke:#000000; stroke-width:4; stroke-opacity:1; fill:none\" points=\"\n",
       "  306.435,499.554 330.991,499.554 \n",
       "  \"/>\n",
       "<polyline clip-path=\"url(#clip920)\" style=\"stroke:#000000; stroke-width:4; stroke-opacity:1; fill:none\" points=\"\n",
       "  306.435,206.677 330.991,206.677 \n",
       "  \"/>\n",
       "<path clip-path=\"url(#clip920)\" d=\"M 0 0 M258.491 1363.98 Q254.88 1363.98 253.051 1367.55 Q251.246 1371.09 251.246 1378.22 Q251.246 1385.32 253.051 1388.89 Q254.88 1392.43 258.491 1392.43 Q262.125 1392.43 263.931 1388.89 Q265.759 1385.32 265.759 1378.22 Q265.759 1371.09 263.931 1367.55 Q262.125 1363.98 258.491 1363.98 M258.491 1360.28 Q264.301 1360.28 267.357 1364.88 Q270.435 1369.47 270.435 1378.22 Q270.435 1386.94 267.357 1391.55 Q264.301 1396.13 258.491 1396.13 Q252.681 1396.13 249.602 1391.55 Q246.547 1386.94 246.547 1378.22 Q246.547 1369.47 249.602 1364.88 Q252.681 1360.28 258.491 1360.28 Z\" fill=\"#000000\" fill-rule=\"evenodd\" fill-opacity=\"1\" /><path clip-path=\"url(#clip920)\" d=\"M 0 0 M54.6105 1074.47 L72.9668 1074.47 L72.9668 1078.41 L58.8928 1078.41 L58.8928 1086.88 Q59.9113 1086.53 60.9299 1086.37 Q61.9484 1086.19 62.9669 1086.19 Q68.7539 1086.19 72.1335 1089.36 Q75.5131 1092.53 75.5131 1097.95 Q75.5131 1103.52 72.0409 1106.63 Q68.5687 1109.71 62.2493 1109.71 Q60.0734 1109.71 57.8049 1109.34 Q55.5595 1108.96 53.1521 1108.22 L53.1521 1103.52 Q55.2354 1104.66 57.4577 1105.21 Q59.6799 1105.77 62.1567 1105.77 Q66.1613 1105.77 68.4993 1103.66 Q70.8372 1101.56 70.8372 1097.95 Q70.8372 1094.34 68.4993 1092.23 Q66.1613 1090.12 62.1567 1090.12 Q60.2817 1090.12 58.4067 1090.54 Q56.5549 1090.96 54.6105 1091.84 L54.6105 1074.47 Z\" fill=\"#000000\" fill-rule=\"evenodd\" fill-opacity=\"1\" /><path clip-path=\"url(#clip920)\" d=\"M 0 0 M84.726 1103.15 L89.6103 1103.15 L89.6103 1109.03 L84.726 1109.03 L84.726 1103.15 Z\" fill=\"#000000\" fill-rule=\"evenodd\" fill-opacity=\"1\" /><path clip-path=\"url(#clip920)\" d=\"M 0 0 M109.795 1077.55 Q106.184 1077.55 104.356 1081.12 Q102.55 1084.66 102.55 1091.79 Q102.55 1098.9 104.356 1102.46 Q106.184 1106 109.795 1106 Q113.43 1106 115.235 1102.46 Q117.064 1098.9 117.064 1091.79 Q117.064 1084.66 115.235 1081.12 Q113.43 1077.55 109.795 1077.55 M109.795 1073.85 Q115.605 1073.85 118.661 1078.46 Q121.74 1083.04 121.74 1091.79 Q121.74 1100.52 118.661 1105.12 Q115.605 1109.71 109.795 1109.71 Q103.985 1109.71 100.906 1105.12 Q97.851 1100.52 97.851 1091.79 Q97.851 1083.04 100.906 1078.46 Q103.985 1073.85 109.795 1073.85 Z\" fill=\"#000000\" fill-rule=\"evenodd\" fill-opacity=\"1\" /><path clip-path=\"url(#clip920)\" d=\"M 0 0 M139.957 1077.55 Q136.346 1077.55 134.517 1081.12 Q132.712 1084.66 132.712 1091.79 Q132.712 1098.9 134.517 1102.46 Q136.346 1106 139.957 1106 Q143.591 1106 145.397 1102.46 Q147.226 1098.9 147.226 1091.79 Q147.226 1084.66 145.397 1081.12 Q143.591 1077.55 139.957 1077.55 M139.957 1073.85 Q145.767 1073.85 148.823 1078.46 Q151.902 1083.04 151.902 1091.79 Q151.902 1100.52 148.823 1105.12 Q145.767 1109.71 139.957 1109.71 Q134.147 1109.71 131.068 1105.12 Q128.013 1100.52 128.013 1091.79 Q128.013 1083.04 131.068 1078.46 Q134.147 1073.85 139.957 1073.85 Z\" fill=\"#000000\" fill-rule=\"evenodd\" fill-opacity=\"1\" /><path clip-path=\"url(#clip920)\" d=\"M 0 0 M188.29 1083.57 L177.712 1094.2 L188.29 1104.77 L185.536 1107.58 L174.911 1096.95 L164.286 1107.58 L161.554 1104.77 L172.11 1094.2 L161.554 1083.57 L164.286 1080.77 L174.911 1091.4 L185.536 1080.77 L188.29 1083.57 Z\" fill=\"#000000\" fill-rule=\"evenodd\" fill-opacity=\"1\" /><path clip-path=\"url(#clip920)\" d=\"M 0 0 M200.651 1105.1 L208.29 1105.1 L208.29 1078.73 L199.98 1080.4 L199.98 1076.14 L208.244 1074.47 L212.92 1074.47 L212.92 1105.1 L220.559 1105.1 L220.559 1109.03 L200.651 1109.03 L200.651 1105.1 Z\" fill=\"#000000\" fill-rule=\"evenodd\" fill-opacity=\"1\" /><path clip-path=\"url(#clip920)\" d=\"M 0 0 M240.003 1077.55 Q236.392 1077.55 234.563 1081.12 Q232.758 1084.66 232.758 1091.79 Q232.758 1098.9 234.563 1102.46 Q236.392 1106 240.003 1106 Q243.637 1106 245.443 1102.46 Q247.271 1098.9 247.271 1091.79 Q247.271 1084.66 245.443 1081.12 Q243.637 1077.55 240.003 1077.55 M240.003 1073.85 Q245.813 1073.85 248.869 1078.46 Q251.947 1083.04 251.947 1091.79 Q251.947 1100.52 248.869 1105.12 Q245.813 1109.71 240.003 1109.71 Q234.193 1109.71 231.114 1105.12 Q228.059 1100.52 228.059 1091.79 Q228.059 1083.04 231.114 1078.46 Q234.193 1073.85 240.003 1073.85 Z\" fill=\"#000000\" fill-rule=\"evenodd\" fill-opacity=\"1\" /><path clip-path=\"url(#clip920)\" d=\"M 0 0 M264.643 1066.48 Q267.37 1067.07 268.893 1068.91 Q270.435 1070.75 270.435 1073.46 Q270.435 1077.62 267.577 1079.89 Q264.718 1082.17 259.452 1082.17 Q257.684 1082.17 255.803 1081.81 Q253.941 1081.47 251.947 1080.78 L251.947 1077.11 Q253.527 1078.03 255.408 1078.5 Q257.289 1078.97 259.339 1078.97 Q262.912 1078.97 264.774 1077.56 Q266.655 1076.15 266.655 1073.46 Q266.655 1070.98 264.906 1069.59 Q263.176 1068.18 260.072 1068.18 L256.8 1068.18 L256.8 1065.05 L260.223 1065.05 Q263.025 1065.05 264.511 1063.94 Q265.997 1062.82 265.997 1060.71 Q265.997 1058.55 264.455 1057.4 Q262.931 1056.23 260.072 1056.23 Q258.511 1056.23 256.725 1056.57 Q254.938 1056.91 252.794 1057.63 L252.794 1054.24 Q254.957 1053.64 256.837 1053.34 Q258.737 1053.04 260.411 1053.04 Q264.737 1053.04 267.257 1055.01 Q269.777 1056.97 269.777 1060.31 Q269.777 1062.65 268.442 1064.26 Q267.106 1065.86 264.643 1066.48 Z\" fill=\"#000000\" fill-rule=\"evenodd\" fill-opacity=\"1\" /><path clip-path=\"url(#clip920)\" d=\"M 0 0 M53.3995 812.223 L61.0384 812.223 L61.0384 785.857 L52.7282 787.524 L52.7282 783.264 L60.9921 781.598 L65.668 781.598 L65.668 812.223 L73.3068 812.223 L73.3068 816.158 L53.3995 816.158 L53.3995 812.223 Z\" fill=\"#000000\" fill-rule=\"evenodd\" fill-opacity=\"1\" /><path clip-path=\"url(#clip920)\" d=\"M 0 0 M82.7512 810.278 L87.6354 810.278 L87.6354 816.158 L82.7512 816.158 L82.7512 810.278 Z\" fill=\"#000000\" fill-rule=\"evenodd\" fill-opacity=\"1\" /><path clip-path=\"url(#clip920)\" d=\"M 0 0 M107.821 784.676 Q104.209 784.676 102.381 788.241 Q100.575 791.783 100.575 798.912 Q100.575 806.019 102.381 809.584 Q104.209 813.125 107.821 813.125 Q111.455 813.125 113.26 809.584 Q115.089 806.019 115.089 798.912 Q115.089 791.783 113.26 788.241 Q111.455 784.676 107.821 784.676 M107.821 780.973 Q113.631 780.973 116.686 785.579 Q119.765 790.162 119.765 798.912 Q119.765 807.639 116.686 812.246 Q113.631 816.829 107.821 816.829 Q102.01 816.829 98.9317 812.246 Q95.8761 807.639 95.8761 798.912 Q95.8761 790.162 98.9317 785.579 Q102.01 780.973 107.821 780.973 Z\" fill=\"#000000\" fill-rule=\"evenodd\" fill-opacity=\"1\" /><path clip-path=\"url(#clip920)\" d=\"M 0 0 M137.982 784.676 Q134.371 784.676 132.543 788.241 Q130.737 791.783 130.737 798.912 Q130.737 806.019 132.543 809.584 Q134.371 813.125 137.982 813.125 Q141.617 813.125 143.422 809.584 Q145.251 806.019 145.251 798.912 Q145.251 791.783 143.422 788.241 Q141.617 784.676 137.982 784.676 M137.982 780.973 Q143.793 780.973 146.848 785.579 Q149.927 790.162 149.927 798.912 Q149.927 807.639 146.848 812.246 Q143.793 816.829 137.982 816.829 Q132.172 816.829 129.094 812.246 Q126.038 807.639 126.038 798.912 Q126.038 790.162 129.094 785.579 Q132.172 780.973 137.982 780.973 Z\" fill=\"#000000\" fill-rule=\"evenodd\" fill-opacity=\"1\" /><path clip-path=\"url(#clip920)\" d=\"M 0 0 M186.315 790.695 L175.737 801.32 L186.315 811.898 L183.561 814.699 L172.936 804.074 L162.311 814.699 L159.58 811.898 L170.135 801.32 L159.58 790.695 L162.311 787.894 L172.936 798.519 L183.561 787.894 L186.315 790.695 Z\" fill=\"#000000\" fill-rule=\"evenodd\" fill-opacity=\"1\" /><path clip-path=\"url(#clip920)\" d=\"M 0 0 M198.677 812.223 L206.315 812.223 L206.315 785.857 L198.005 787.524 L198.005 783.264 L206.269 781.598 L210.945 781.598 L210.945 812.223 L218.584 812.223 L218.584 816.158 L198.677 816.158 L198.677 812.223 Z\" fill=\"#000000\" fill-rule=\"evenodd\" fill-opacity=\"1\" /><path clip-path=\"url(#clip920)\" d=\"M 0 0 M238.028 784.676 Q234.417 784.676 232.588 788.241 Q230.783 791.783 230.783 798.912 Q230.783 806.019 232.588 809.584 Q234.417 813.125 238.028 813.125 Q241.662 813.125 243.468 809.584 Q245.297 806.019 245.297 798.912 Q245.297 791.783 243.468 788.241 Q241.662 784.676 238.028 784.676 M238.028 780.973 Q243.838 780.973 246.894 785.579 Q249.973 790.162 249.973 798.912 Q249.973 807.639 246.894 812.246 Q243.838 816.829 238.028 816.829 Q232.218 816.829 229.139 812.246 Q226.084 807.639 226.084 798.912 Q226.084 790.162 229.139 785.579 Q232.218 780.973 238.028 780.973 Z\" fill=\"#000000\" fill-rule=\"evenodd\" fill-opacity=\"1\" /><path clip-path=\"url(#clip920)\" d=\"M 0 0 M262.649 763.977 L253.057 778.967 L262.649 778.967 L262.649 763.977 M261.652 760.667 L266.429 760.667 L266.429 778.967 L270.435 778.967 L270.435 782.127 L266.429 782.127 L266.429 788.747 L262.649 788.747 L262.649 782.127 L249.973 782.127 L249.973 778.459 L261.652 760.667 Z\" fill=\"#000000\" fill-rule=\"evenodd\" fill-opacity=\"1\" /><path clip-path=\"url(#clip920)\" d=\"M 0 0 M53.3995 519.346 L61.0384 519.346 L61.0384 492.98 L52.7282 494.647 L52.7282 490.388 L60.9921 488.721 L65.668 488.721 L65.668 519.346 L73.3068 519.346 L73.3068 523.281 L53.3995 523.281 L53.3995 519.346 Z\" fill=\"#000000\" fill-rule=\"evenodd\" fill-opacity=\"1\" /><path clip-path=\"url(#clip920)\" d=\"M 0 0 M82.7512 517.402 L87.6354 517.402 L87.6354 523.281 L82.7512 523.281 L82.7512 517.402 Z\" fill=\"#000000\" fill-rule=\"evenodd\" fill-opacity=\"1\" /><path clip-path=\"url(#clip920)\" d=\"M 0 0 M97.8669 488.721 L116.223 488.721 L116.223 492.656 L102.149 492.656 L102.149 501.129 Q103.168 500.781 104.186 500.619 Q105.205 500.434 106.223 500.434 Q112.01 500.434 115.39 503.605 Q118.77 506.777 118.77 512.193 Q118.77 517.772 115.297 520.874 Q111.825 523.952 105.506 523.952 Q103.33 523.952 101.061 523.582 Q98.8159 523.212 96.4085 522.471 L96.4085 517.772 Q98.4919 518.906 100.714 519.462 Q102.936 520.017 105.413 520.017 Q109.418 520.017 111.756 517.911 Q114.094 515.804 114.094 512.193 Q114.094 508.582 111.756 506.476 Q109.418 504.369 105.413 504.369 Q103.538 504.369 101.663 504.786 Q99.8113 505.203 97.8669 506.082 L97.8669 488.721 Z\" fill=\"#000000\" fill-rule=\"evenodd\" fill-opacity=\"1\" /><path clip-path=\"url(#clip920)\" d=\"M 0 0 M137.982 491.8 Q134.371 491.8 132.543 495.365 Q130.737 498.906 130.737 506.036 Q130.737 513.142 132.543 516.707 Q134.371 520.249 137.982 520.249 Q141.617 520.249 143.422 516.707 Q145.251 513.142 145.251 506.036 Q145.251 498.906 143.422 495.365 Q141.617 491.8 137.982 491.8 M137.982 488.096 Q143.793 488.096 146.848 492.703 Q149.927 497.286 149.927 506.036 Q149.927 514.763 146.848 519.369 Q143.793 523.952 137.982 523.952 Q132.172 523.952 129.094 519.369 Q126.038 514.763 126.038 506.036 Q126.038 497.286 129.094 492.703 Q132.172 488.096 137.982 488.096 Z\" fill=\"#000000\" fill-rule=\"evenodd\" fill-opacity=\"1\" /><path clip-path=\"url(#clip920)\" d=\"M 0 0 M186.315 497.818 L175.737 508.443 L186.315 519.022 L183.561 521.823 L172.936 511.198 L162.311 521.823 L159.58 519.022 L170.135 508.443 L159.58 497.818 L162.311 495.017 L172.936 505.642 L183.561 495.017 L186.315 497.818 Z\" fill=\"#000000\" fill-rule=\"evenodd\" fill-opacity=\"1\" /><path clip-path=\"url(#clip920)\" d=\"M 0 0 M198.677 519.346 L206.315 519.346 L206.315 492.98 L198.005 494.647 L198.005 490.388 L206.269 488.721 L210.945 488.721 L210.945 519.346 L218.584 519.346 L218.584 523.281 L198.677 523.281 L198.677 519.346 Z\" fill=\"#000000\" fill-rule=\"evenodd\" fill-opacity=\"1\" /><path clip-path=\"url(#clip920)\" d=\"M 0 0 M238.028 491.8 Q234.417 491.8 232.588 495.365 Q230.783 498.906 230.783 506.036 Q230.783 513.142 232.588 516.707 Q234.417 520.249 238.028 520.249 Q241.662 520.249 243.468 516.707 Q245.297 513.142 245.297 506.036 Q245.297 498.906 243.468 495.365 Q241.662 491.8 238.028 491.8 M238.028 488.096 Q243.838 488.096 246.894 492.703 Q249.973 497.286 249.973 506.036 Q249.973 514.763 246.894 519.369 Q243.838 523.952 238.028 523.952 Q232.218 523.952 229.139 519.369 Q226.084 514.763 226.084 506.036 Q226.084 497.286 229.139 492.703 Q232.218 488.096 238.028 488.096 Z\" fill=\"#000000\" fill-rule=\"evenodd\" fill-opacity=\"1\" /><path clip-path=\"url(#clip920)\" d=\"M 0 0 M262.649 471.101 L253.057 486.091 L262.649 486.091 L262.649 471.101 M261.652 467.791 L266.429 467.791 L266.429 486.091 L270.435 486.091 L270.435 489.25 L266.429 489.25 L266.429 495.871 L262.649 495.871 L262.649 489.25 L249.973 489.25 L249.973 485.583 L261.652 467.791 Z\" fill=\"#000000\" fill-rule=\"evenodd\" fill-opacity=\"1\" /><path clip-path=\"url(#clip920)\" d=\"M 0 0 M56.6171 226.47 L72.9365 226.47 L72.9365 230.405 L50.9921 230.405 L50.9921 226.47 Q53.6541 223.715 58.2375 219.085 Q62.8439 214.433 64.0245 213.09 Q66.2698 210.567 67.1494 208.831 Q68.0522 207.072 68.0522 205.382 Q68.0522 202.627 66.1078 200.891 Q64.1865 199.155 61.0847 199.155 Q58.8856 199.155 56.4319 199.919 Q54.0014 200.683 51.2236 202.234 L51.2236 197.511 Q54.0477 196.377 56.5014 195.798 Q58.955 195.22 60.9921 195.22 Q66.3624 195.22 69.5568 197.905 Q72.7513 200.59 72.7513 205.081 Q72.7513 207.21 71.9411 209.132 Q71.1541 211.03 69.0476 213.622 Q68.4689 214.294 65.367 217.511 Q62.2652 220.706 56.6171 226.47 Z\" fill=\"#000000\" fill-rule=\"evenodd\" fill-opacity=\"1\" /><path clip-path=\"url(#clip920)\" d=\"M 0 0 M82.7512 224.525 L87.6354 224.525 L87.6354 230.405 L82.7512 230.405 L82.7512 224.525 Z\" fill=\"#000000\" fill-rule=\"evenodd\" fill-opacity=\"1\" /><path clip-path=\"url(#clip920)\" d=\"M 0 0 M107.821 198.923 Q104.209 198.923 102.381 202.488 Q100.575 206.03 100.575 213.159 Q100.575 220.266 102.381 223.831 Q104.209 227.372 107.821 227.372 Q111.455 227.372 113.26 223.831 Q115.089 220.266 115.089 213.159 Q115.089 206.03 113.26 202.488 Q111.455 198.923 107.821 198.923 M107.821 195.22 Q113.631 195.22 116.686 199.826 Q119.765 204.409 119.765 213.159 Q119.765 221.886 116.686 226.493 Q113.631 231.076 107.821 231.076 Q102.01 231.076 98.9317 226.493 Q95.8761 221.886 95.8761 213.159 Q95.8761 204.409 98.9317 199.826 Q102.01 195.22 107.821 195.22 Z\" fill=\"#000000\" fill-rule=\"evenodd\" fill-opacity=\"1\" /><path clip-path=\"url(#clip920)\" d=\"M 0 0 M137.982 198.923 Q134.371 198.923 132.543 202.488 Q130.737 206.03 130.737 213.159 Q130.737 220.266 132.543 223.831 Q134.371 227.372 137.982 227.372 Q141.617 227.372 143.422 223.831 Q145.251 220.266 145.251 213.159 Q145.251 206.03 143.422 202.488 Q141.617 198.923 137.982 198.923 M137.982 195.22 Q143.793 195.22 146.848 199.826 Q149.927 204.409 149.927 213.159 Q149.927 221.886 146.848 226.493 Q143.793 231.076 137.982 231.076 Q132.172 231.076 129.094 226.493 Q126.038 221.886 126.038 213.159 Q126.038 204.409 129.094 199.826 Q132.172 195.22 137.982 195.22 Z\" fill=\"#000000\" fill-rule=\"evenodd\" fill-opacity=\"1\" /><path clip-path=\"url(#clip920)\" d=\"M 0 0 M186.315 204.942 L175.737 215.567 L186.315 226.145 L183.561 228.946 L172.936 218.321 L162.311 228.946 L159.58 226.145 L170.135 215.567 L159.58 204.942 L162.311 202.141 L172.936 212.766 L183.561 202.141 L186.315 204.942 Z\" fill=\"#000000\" fill-rule=\"evenodd\" fill-opacity=\"1\" /><path clip-path=\"url(#clip920)\" d=\"M 0 0 M198.677 226.47 L206.315 226.47 L206.315 200.104 L198.005 201.771 L198.005 197.511 L206.269 195.845 L210.945 195.845 L210.945 226.47 L218.584 226.47 L218.584 230.405 L198.677 230.405 L198.677 226.47 Z\" fill=\"#000000\" fill-rule=\"evenodd\" fill-opacity=\"1\" /><path clip-path=\"url(#clip920)\" d=\"M 0 0 M238.028 198.923 Q234.417 198.923 232.588 202.488 Q230.783 206.03 230.783 213.159 Q230.783 220.266 232.588 223.831 Q234.417 227.372 238.028 227.372 Q241.662 227.372 243.468 223.831 Q245.297 220.266 245.297 213.159 Q245.297 206.03 243.468 202.488 Q241.662 198.923 238.028 198.923 M238.028 195.22 Q243.838 195.22 246.894 199.826 Q249.973 204.409 249.973 213.159 Q249.973 221.886 246.894 226.493 Q243.838 231.076 238.028 231.076 Q232.218 231.076 229.139 226.493 Q226.084 221.886 226.084 213.159 Q226.084 204.409 229.139 199.826 Q232.218 195.22 238.028 195.22 Z\" fill=\"#000000\" fill-rule=\"evenodd\" fill-opacity=\"1\" /><path clip-path=\"url(#clip920)\" d=\"M 0 0 M262.649 178.224 L253.057 193.214 L262.649 193.214 L262.649 178.224 M261.652 174.914 L266.429 174.914 L266.429 193.214 L270.435 193.214 L270.435 196.374 L266.429 196.374 L266.429 202.994 L262.649 202.994 L262.649 196.374 L249.973 196.374 L249.973 192.706 L261.652 174.914 Z\" fill=\"#000000\" fill-rule=\"evenodd\" fill-opacity=\"1\" /><polyline clip-path=\"url(#clip922)\" style=\"stroke:#009af9; stroke-width:4; stroke-opacity:1; fill:none\" points=\"\n",
       "  364.35,1441.85 383.655,1425.46 402.96,1410.3 422.265,1396.34 441.57,1383.54 460.875,1371.87 480.18,1361.29 499.484,1351.77 518.789,1343.27 538.094,1335.75 \n",
       "  557.399,1329.19 576.704,1323.54 596.009,1318.77 615.314,1314.85 634.619,1311.74 653.924,1309.4 673.229,1307.8 692.534,1306.9 711.839,1306.67 731.143,1307.07 \n",
       "  750.448,1308.08 769.753,1309.64 789.058,1311.73 808.363,1314.31 827.668,1317.35 846.973,1320.82 866.278,1324.66 885.583,1328.86 904.888,1333.37 924.193,1338.16 \n",
       "  943.497,1343.2 962.802,1348.45 982.107,1353.87 1001.41,1359.43 1020.72,1365.09 1040.02,1370.82 1059.33,1376.59 1078.63,1382.35 1097.94,1388.07 1117.24,1393.72 \n",
       "  1136.55,1399.27 1155.85,1404.66 1175.16,1409.88 1194.46,1414.89 1213.77,1419.65 1233.07,1424.12 1252.38,1428.27 1271.68,1432.06 1290.99,1435.47 1310.29,1438.45 \n",
       "  1329.6,1440.97 1348.9,1442.99 1368.21,1444.48 1387.51,1445.4 1406.82,1445.72 1426.12,1445.4 1445.43,1444.4 1464.73,1442.7 1484.03,1440.26 1503.34,1437.04 \n",
       "  1522.64,1433 1541.95,1428.11 1561.25,1422.34 1580.56,1415.65 1599.86,1408 1619.17,1399.36 1638.47,1389.69 1657.78,1378.97 1677.08,1367.14 1696.39,1354.19 \n",
       "  1715.69,1340.06 1735,1324.74 1754.3,1308.17 1773.61,1290.34 1792.91,1271.19 1812.22,1250.7 1831.52,1228.83 1850.83,1205.55 1870.13,1180.81 1889.44,1154.6 \n",
       "  1908.74,1126.86 1928.05,1097.56 1947.35,1066.68 1966.66,1034.17 1985.96,999.992 2005.27,964.121 2024.57,926.519 2043.88,887.148 2063.18,845.975 2082.49,802.964 \n",
       "  2101.79,758.079 2121.1,711.285 2140.4,662.548 2159.71,611.831 2179.01,559.099 2198.32,504.318 2217.62,447.451 2236.93,388.464 2256.23,327.321 2275.54,263.986 \n",
       "  2294.84,198.425 \n",
       "  \"/>\n",
       "<circle clip-path=\"url(#clip922)\" cx=\"364.35\" cy=\"1378.12\" r=\"14\" fill=\"#e26f46\" fill-rule=\"evenodd\" fill-opacity=\"1\" stroke=\"#000000\" stroke-opacity=\"1\" stroke-width=\"3.2\"/>\n",
       "<circle clip-path=\"url(#clip922)\" cx=\"557.399\" cy=\"1378.02\" r=\"14\" fill=\"#e26f46\" fill-rule=\"evenodd\" fill-opacity=\"1\" stroke=\"#000000\" stroke-opacity=\"1\" stroke-width=\"3.2\"/>\n",
       "<circle clip-path=\"url(#clip922)\" cx=\"750.448\" cy=\"1377.75\" r=\"14\" fill=\"#e26f46\" fill-rule=\"evenodd\" fill-opacity=\"1\" stroke=\"#000000\" stroke-opacity=\"1\" stroke-width=\"3.2\"/>\n",
       "<circle clip-path=\"url(#clip922)\" cx=\"943.497\" cy=\"1377.01\" r=\"14\" fill=\"#e26f46\" fill-rule=\"evenodd\" fill-opacity=\"1\" stroke=\"#000000\" stroke-opacity=\"1\" stroke-width=\"3.2\"/>\n",
       "<circle clip-path=\"url(#clip922)\" cx=\"1136.55\" cy=\"1374.98\" r=\"14\" fill=\"#e26f46\" fill-rule=\"evenodd\" fill-opacity=\"1\" stroke=\"#000000\" stroke-opacity=\"1\" stroke-width=\"3.2\"/>\n",
       "<circle clip-path=\"url(#clip922)\" cx=\"1329.6\" cy=\"1369.49\" r=\"14\" fill=\"#e26f46\" fill-rule=\"evenodd\" fill-opacity=\"1\" stroke=\"#000000\" stroke-opacity=\"1\" stroke-width=\"3.2\"/>\n",
       "<circle clip-path=\"url(#clip922)\" cx=\"1522.64\" cy=\"1354.55\" r=\"14\" fill=\"#e26f46\" fill-rule=\"evenodd\" fill-opacity=\"1\" stroke=\"#000000\" stroke-opacity=\"1\" stroke-width=\"3.2\"/>\n",
       "<circle clip-path=\"url(#clip922)\" cx=\"1715.69\" cy=\"1313.95\" r=\"14\" fill=\"#e26f46\" fill-rule=\"evenodd\" fill-opacity=\"1\" stroke=\"#000000\" stroke-opacity=\"1\" stroke-width=\"3.2\"/>\n",
       "<circle clip-path=\"url(#clip922)\" cx=\"1908.74\" cy=\"1203.57\" r=\"14\" fill=\"#e26f46\" fill-rule=\"evenodd\" fill-opacity=\"1\" stroke=\"#000000\" stroke-opacity=\"1\" stroke-width=\"3.2\"/>\n",
       "<circle clip-path=\"url(#clip922)\" cx=\"2101.79\" cy=\"903.543\" r=\"14\" fill=\"#e26f46\" fill-rule=\"evenodd\" fill-opacity=\"1\" stroke=\"#000000\" stroke-opacity=\"1\" stroke-width=\"3.2\"/>\n",
       "<circle clip-path=\"url(#clip922)\" cx=\"2294.84\" cy=\"87.9763\" r=\"14\" fill=\"#e26f46\" fill-rule=\"evenodd\" fill-opacity=\"1\" stroke=\"#000000\" stroke-opacity=\"1\" stroke-width=\"3.2\"/>\n",
       "<path clip-path=\"url(#clip920)\" d=\"\n",
       "M977.437 276.658 L2284.55 276.658 L2284.55 95.2176 L977.437 95.2176  Z\n",
       "  \" fill=\"#ffffff\" fill-rule=\"evenodd\" fill-opacity=\"1\"/>\n",
       "<polyline clip-path=\"url(#clip920)\" style=\"stroke:#000000; stroke-width:4; stroke-opacity:1; fill:none\" points=\"\n",
       "  977.437,276.658 2284.55,276.658 2284.55,95.2176 977.437,95.2176 977.437,276.658 \n",
       "  \"/>\n",
       "<polyline clip-path=\"url(#clip920)\" style=\"stroke:#009af9; stroke-width:4; stroke-opacity:1; fill:none\" points=\"\n",
       "  1000.17,155.698 1136.59,155.698 \n",
       "  \"/>\n",
       "<path clip-path=\"url(#clip920)\" d=\"M 0 0 M1172.73 159.945 Q1167.57 159.945 1165.58 161.126 Q1163.59 162.306 1163.59 165.154 Q1163.59 167.422 1165.07 168.765 Q1166.58 170.084 1169.15 170.084 Q1172.69 170.084 1174.82 167.584 Q1176.97 165.061 1176.97 160.894 L1176.97 159.945 L1172.73 159.945 M1181.23 158.186 L1181.23 172.978 L1176.97 172.978 L1176.97 169.042 Q1175.51 171.403 1173.34 172.538 Q1171.16 173.649 1168.01 173.649 Q1164.03 173.649 1161.67 171.427 Q1159.33 169.181 1159.33 165.431 Q1159.33 161.056 1162.25 158.834 Q1165.19 156.612 1171 156.612 L1176.97 156.612 L1176.97 156.195 Q1176.97 153.255 1175.03 151.658 Q1173.1 150.038 1169.61 150.038 Q1167.39 150.038 1165.28 150.57 Q1163.17 151.103 1161.23 152.167 L1161.23 148.232 Q1163.57 147.33 1165.77 146.89 Q1167.97 146.427 1170.05 146.427 Q1175.67 146.427 1178.45 149.343 Q1181.23 152.26 1181.23 158.186 Z\" fill=\"#000000\" fill-rule=\"evenodd\" fill-opacity=\"1\" /><path clip-path=\"url(#clip920)\" d=\"M 0 0 M1194.12 169.089 L1194.12 182.839 L1189.84 182.839 L1189.84 147.052 L1194.12 147.052 L1194.12 150.987 Q1195.47 148.672 1197.5 147.561 Q1199.56 146.427 1202.41 146.427 Q1207.13 146.427 1210.07 150.177 Q1213.04 153.927 1213.04 160.038 Q1213.04 166.149 1210.07 169.899 Q1207.13 173.649 1202.41 173.649 Q1199.56 173.649 1197.5 172.538 Q1195.47 171.403 1194.12 169.089 M1208.61 160.038 Q1208.61 155.339 1206.67 152.677 Q1204.75 149.992 1201.37 149.992 Q1197.99 149.992 1196.04 152.677 Q1194.12 155.339 1194.12 160.038 Q1194.12 164.737 1196.04 167.422 Q1197.99 170.084 1201.37 170.084 Q1204.75 170.084 1206.67 167.422 Q1208.61 164.737 1208.61 160.038 Z\" fill=\"#000000\" fill-rule=\"evenodd\" fill-opacity=\"1\" /><path clip-path=\"url(#clip920)\" d=\"M 0 0 M1235.12 151.033 Q1234.4 150.617 1233.54 150.431 Q1232.71 150.223 1231.69 150.223 Q1228.08 150.223 1226.14 152.584 Q1224.22 154.922 1224.22 159.32 L1224.22 172.978 L1219.93 172.978 L1219.93 147.052 L1224.22 147.052 L1224.22 151.08 Q1225.56 148.718 1227.71 147.584 Q1229.86 146.427 1232.94 146.427 Q1233.38 146.427 1233.91 146.496 Q1234.45 146.543 1235.1 146.658 L1235.12 151.033 Z\" fill=\"#000000\" fill-rule=\"evenodd\" fill-opacity=\"1\" /><path clip-path=\"url(#clip920)\" d=\"M 0 0 M1248.59 150.038 Q1245.16 150.038 1243.17 152.723 Q1241.18 155.385 1241.18 160.038 Q1241.18 164.691 1243.15 167.376 Q1245.14 170.038 1248.59 170.038 Q1251.99 170.038 1253.98 167.353 Q1255.97 164.667 1255.97 160.038 Q1255.97 155.431 1253.98 152.746 Q1251.99 150.038 1248.59 150.038 M1248.59 146.427 Q1254.15 146.427 1257.32 150.038 Q1260.49 153.649 1260.49 160.038 Q1260.49 166.404 1257.32 170.038 Q1254.15 173.649 1248.59 173.649 Q1243.01 173.649 1239.84 170.038 Q1236.69 166.404 1236.69 160.038 Q1236.69 153.649 1239.84 150.038 Q1243.01 146.427 1248.59 146.427 Z\" fill=\"#000000\" fill-rule=\"evenodd\" fill-opacity=\"1\" /><path clip-path=\"url(#clip920)\" d=\"M 0 0 M1267.39 136.959 L1271.67 136.959 L1271.67 158.232 L1284.38 147.052 L1289.82 147.052 L1276.07 159.181 L1290.4 172.978 L1284.84 172.978 L1271.67 160.316 L1271.67 172.978 L1267.39 172.978 L1267.39 136.959 Z\" fill=\"#000000\" fill-rule=\"evenodd\" fill-opacity=\"1\" /><path clip-path=\"url(#clip920)\" d=\"M 0 0 M1311.53 147.816 L1311.53 151.843 Q1309.72 150.917 1307.78 150.455 Q1305.84 149.992 1303.75 149.992 Q1300.58 149.992 1298.98 150.964 Q1297.41 151.936 1297.41 153.88 Q1297.41 155.362 1298.54 156.218 Q1299.68 157.052 1303.1 157.816 L1304.56 158.14 Q1309.1 159.112 1311 160.894 Q1312.92 162.654 1312.92 165.825 Q1312.92 169.436 1310.05 171.542 Q1307.2 173.649 1302.2 173.649 Q1300.12 173.649 1297.85 173.232 Q1295.6 172.839 1293.1 172.028 L1293.1 167.63 Q1295.47 168.857 1297.76 169.482 Q1300.05 170.084 1302.29 170.084 Q1305.3 170.084 1306.92 169.066 Q1308.54 168.024 1308.54 166.149 Q1308.54 164.413 1307.36 163.487 Q1306.21 162.561 1302.25 161.704 L1300.77 161.357 Q1296.81 160.524 1295.05 158.811 Q1293.29 157.075 1293.29 154.066 Q1293.29 150.408 1295.88 148.418 Q1298.47 146.427 1303.24 146.427 Q1305.6 146.427 1307.69 146.774 Q1309.77 147.121 1311.53 147.816 Z\" fill=\"#000000\" fill-rule=\"evenodd\" fill-opacity=\"1\" /><path clip-path=\"url(#clip920)\" d=\"M 0 0 M1330.49 175.385 Q1328.68 180.015 1326.97 181.427 Q1325.26 182.839 1322.39 182.839 L1318.98 182.839 L1318.98 179.274 L1321.48 179.274 Q1323.24 179.274 1324.22 178.44 Q1325.19 177.607 1326.37 174.505 L1327.13 172.561 L1316.65 147.052 L1321.16 147.052 L1329.26 167.329 L1337.36 147.052 L1341.88 147.052 L1330.49 175.385 Z\" fill=\"#000000\" fill-rule=\"evenodd\" fill-opacity=\"1\" /><path clip-path=\"url(#clip920)\" d=\"M 0 0 M1367.94 152.029 Q1369.54 149.158 1371.76 147.793 Q1373.98 146.427 1376.99 146.427 Q1381.04 146.427 1383.24 149.274 Q1385.44 152.098 1385.44 157.329 L1385.44 172.978 L1381.16 172.978 L1381.16 157.468 Q1381.16 153.742 1379.84 151.936 Q1378.52 150.13 1375.81 150.13 Q1372.5 150.13 1370.58 152.33 Q1368.66 154.529 1368.66 158.325 L1368.66 172.978 L1364.38 172.978 L1364.38 157.468 Q1364.38 153.718 1363.06 151.936 Q1361.74 150.13 1358.98 150.13 Q1355.72 150.13 1353.8 152.353 Q1351.88 154.552 1351.88 158.325 L1351.88 172.978 L1347.59 172.978 L1347.59 147.052 L1351.88 147.052 L1351.88 151.08 Q1353.34 148.695 1355.37 147.561 Q1357.41 146.427 1360.21 146.427 Q1363.03 146.427 1365 147.862 Q1366.99 149.297 1367.94 152.029 Z\" fill=\"#000000\" fill-rule=\"evenodd\" fill-opacity=\"1\" /><path clip-path=\"url(#clip920)\" d=\"M 0 0 M1405.72 159.945 Q1400.56 159.945 1398.57 161.126 Q1396.58 162.306 1396.58 165.154 Q1396.58 167.422 1398.06 168.765 Q1399.56 170.084 1402.13 170.084 Q1405.67 170.084 1407.8 167.584 Q1409.96 165.061 1409.96 160.894 L1409.96 159.945 L1405.72 159.945 M1414.21 158.186 L1414.21 172.978 L1409.96 172.978 L1409.96 169.042 Q1408.5 171.403 1406.32 172.538 Q1404.15 173.649 1401 173.649 Q1397.02 173.649 1394.65 171.427 Q1392.32 169.181 1392.32 165.431 Q1392.32 161.056 1395.23 158.834 Q1398.17 156.612 1403.98 156.612 L1409.96 156.612 L1409.96 156.195 Q1409.96 153.255 1408.01 151.658 Q1406.09 150.038 1402.59 150.038 Q1400.37 150.038 1398.27 150.57 Q1396.16 151.103 1394.21 152.167 L1394.21 148.232 Q1396.55 147.33 1398.75 146.89 Q1400.95 146.427 1403.03 146.427 Q1408.66 146.427 1411.44 149.343 Q1414.21 152.26 1414.21 158.186 Z\" fill=\"#000000\" fill-rule=\"evenodd\" fill-opacity=\"1\" /><path clip-path=\"url(#clip920)\" d=\"M 0 0 M1441.65 148.047 L1441.65 152.029 Q1439.84 151.033 1438.01 150.547 Q1436.21 150.038 1434.35 150.038 Q1430.21 150.038 1427.92 152.677 Q1425.63 155.292 1425.63 160.038 Q1425.63 164.783 1427.92 167.422 Q1430.21 170.038 1434.35 170.038 Q1436.21 170.038 1438.01 169.552 Q1439.84 169.042 1441.65 168.047 L1441.65 171.982 Q1439.86 172.816 1437.94 173.232 Q1436.04 173.649 1433.89 173.649 Q1428.03 173.649 1424.59 169.968 Q1421.14 166.288 1421.14 160.038 Q1421.14 153.695 1424.61 150.061 Q1428.1 146.427 1434.17 146.427 Q1436.14 146.427 1438.01 146.843 Q1439.89 147.237 1441.65 148.047 Z\" fill=\"#000000\" fill-rule=\"evenodd\" fill-opacity=\"1\" /><path clip-path=\"url(#clip920)\" d=\"M 0 0 M1449.05 147.052 L1453.31 147.052 L1453.31 173.441 Q1453.31 178.394 1451.41 180.616 Q1449.54 182.839 1445.35 182.839 L1443.73 182.839 L1443.73 179.228 L1444.86 179.228 Q1447.29 179.228 1448.17 178.093 Q1449.05 176.982 1449.05 173.441 L1449.05 147.052 M1449.05 136.959 L1453.31 136.959 L1453.31 142.353 L1449.05 142.353 L1449.05 136.959 Z\" fill=\"#000000\" fill-rule=\"evenodd\" fill-opacity=\"1\" /><path clip-path=\"url(#clip920)\" d=\"M 0 0 M1474.01 159.945 Q1468.84 159.945 1466.85 161.126 Q1464.86 162.306 1464.86 165.154 Q1464.86 167.422 1466.34 168.765 Q1467.85 170.084 1470.42 170.084 Q1473.96 170.084 1476.09 167.584 Q1478.24 165.061 1478.24 160.894 L1478.24 159.945 L1474.01 159.945 M1482.5 158.186 L1482.5 172.978 L1478.24 172.978 L1478.24 169.042 Q1476.78 171.403 1474.61 172.538 Q1472.43 173.649 1469.28 173.649 Q1465.3 173.649 1462.94 171.427 Q1460.6 169.181 1460.6 165.431 Q1460.6 161.056 1463.52 158.834 Q1466.46 156.612 1472.27 156.612 L1478.24 156.612 L1478.24 156.195 Q1478.24 153.255 1476.3 151.658 Q1474.38 150.038 1470.88 150.038 Q1468.66 150.038 1466.55 150.57 Q1464.45 151.103 1462.5 152.167 L1462.5 148.232 Q1464.84 147.33 1467.04 146.89 Q1469.24 146.427 1471.32 146.427 Q1476.95 146.427 1479.72 149.343 Q1482.5 152.26 1482.5 158.186 Z\" fill=\"#000000\" fill-rule=\"evenodd\" fill-opacity=\"1\" /><path clip-path=\"url(#clip920)\" d=\"M 0 0 M1503.87 147.052 L1508.13 147.052 L1513.45 167.283 L1518.75 147.052 L1523.77 147.052 L1529.1 167.283 L1534.4 147.052 L1538.66 147.052 L1531.88 172.978 L1526.85 172.978 L1521.27 151.728 L1515.67 172.978 L1510.65 172.978 L1503.87 147.052 Z\" fill=\"#000000\" fill-rule=\"evenodd\" fill-opacity=\"1\" /><path clip-path=\"url(#clip920)\" d=\"M 0 0 M1545.12 147.052 L1549.38 147.052 L1549.38 172.978 L1545.12 172.978 L1545.12 147.052 M1545.12 136.959 L1549.38 136.959 L1549.38 142.353 L1545.12 142.353 L1545.12 136.959 Z\" fill=\"#000000\" fill-rule=\"evenodd\" fill-opacity=\"1\" /><path clip-path=\"url(#clip920)\" d=\"M 0 0 M1580.46 158.95 L1580.46 161.033 L1560.88 161.033 Q1561.16 165.431 1563.52 167.746 Q1565.9 170.038 1570.14 170.038 Q1572.59 170.038 1574.89 169.436 Q1577.2 168.834 1579.47 167.63 L1579.47 171.658 Q1577.18 172.63 1574.77 173.14 Q1572.36 173.649 1569.89 173.649 Q1563.68 173.649 1560.05 170.038 Q1556.44 166.427 1556.44 160.269 Q1556.44 153.904 1559.86 150.177 Q1563.31 146.427 1569.14 146.427 Q1574.38 146.427 1577.41 149.806 Q1580.46 153.163 1580.46 158.95 M1576.2 157.7 Q1576.16 154.205 1574.24 152.121 Q1572.34 150.038 1569.19 150.038 Q1565.63 150.038 1563.47 152.052 Q1561.34 154.066 1561.02 157.723 L1576.2 157.7 Z\" fill=\"#000000\" fill-rule=\"evenodd\" fill-opacity=\"1\" /><path clip-path=\"url(#clip920)\" d=\"M 0 0 M1587.45 136.959 L1591.71 136.959 L1591.71 172.978 L1587.45 172.978 L1587.45 136.959 Z\" fill=\"#000000\" fill-rule=\"evenodd\" fill-opacity=\"1\" /><path clip-path=\"url(#clip920)\" d=\"M 0 0 M1610.67 150.038 Q1607.25 150.038 1605.26 152.723 Q1603.26 155.385 1603.26 160.038 Q1603.26 164.691 1605.23 167.376 Q1607.22 170.038 1610.67 170.038 Q1614.07 170.038 1616.07 167.353 Q1618.06 164.667 1618.06 160.038 Q1618.06 155.431 1616.07 152.746 Q1614.07 150.038 1610.67 150.038 M1610.67 146.427 Q1616.23 146.427 1619.4 150.038 Q1622.57 153.649 1622.57 160.038 Q1622.57 166.404 1619.4 170.038 Q1616.23 173.649 1610.67 173.649 Q1605.09 173.649 1601.92 170.038 Q1598.77 166.404 1598.77 160.038 Q1598.77 153.649 1601.92 150.038 Q1605.09 146.427 1610.67 146.427 Z\" fill=\"#000000\" fill-rule=\"evenodd\" fill-opacity=\"1\" /><path clip-path=\"url(#clip920)\" d=\"M 0 0 M1649.82 152.029 Q1651.41 149.158 1653.63 147.793 Q1655.86 146.427 1658.87 146.427 Q1662.92 146.427 1665.12 149.274 Q1667.32 152.098 1667.32 157.329 L1667.32 172.978 L1663.03 172.978 L1663.03 157.468 Q1663.03 153.742 1661.71 151.936 Q1660.39 150.13 1657.69 150.13 Q1654.38 150.13 1652.45 152.33 Q1650.53 154.529 1650.53 158.325 L1650.53 172.978 L1646.25 172.978 L1646.25 157.468 Q1646.25 153.718 1644.93 151.936 Q1643.61 150.13 1640.86 150.13 Q1637.59 150.13 1635.67 152.353 Q1633.75 154.552 1633.75 158.325 L1633.75 172.978 L1629.47 172.978 L1629.47 147.052 L1633.75 147.052 L1633.75 151.08 Q1635.21 148.695 1637.25 147.561 Q1639.28 146.427 1642.08 146.427 Q1644.91 146.427 1646.88 147.862 Q1648.87 149.297 1649.82 152.029 Z\" fill=\"#000000\" fill-rule=\"evenodd\" fill-opacity=\"1\" /><path clip-path=\"url(#clip920)\" d=\"M 0 0 M1675.81 147.052 L1680.07 147.052 L1680.07 172.978 L1675.81 172.978 L1675.81 147.052 M1675.81 136.959 L1680.07 136.959 L1680.07 142.353 L1675.81 142.353 L1675.81 136.959 Z\" fill=\"#000000\" fill-rule=\"evenodd\" fill-opacity=\"1\" /><path clip-path=\"url(#clip920)\" d=\"M 0 0 M1700.76 159.945 Q1695.6 159.945 1693.61 161.126 Q1691.62 162.306 1691.62 165.154 Q1691.62 167.422 1693.1 168.765 Q1694.61 170.084 1697.18 170.084 Q1700.72 170.084 1702.85 167.584 Q1705 165.061 1705 160.894 L1705 159.945 L1700.76 159.945 M1709.26 158.186 L1709.26 172.978 L1705 172.978 L1705 169.042 Q1703.54 171.403 1701.37 172.538 Q1699.19 173.649 1696.04 173.649 Q1692.06 173.649 1689.7 171.427 Q1687.36 169.181 1687.36 165.431 Q1687.36 161.056 1690.28 158.834 Q1693.22 156.612 1699.03 156.612 L1705 156.612 L1705 156.195 Q1705 153.255 1703.06 151.658 Q1701.13 150.038 1697.64 150.038 Q1695.42 150.038 1693.31 150.57 Q1691.2 151.103 1689.26 152.167 L1689.26 148.232 Q1691.6 147.33 1693.8 146.89 Q1696 146.427 1698.08 146.427 Q1703.7 146.427 1706.48 149.343 Q1709.26 152.26 1709.26 158.186 Z\" fill=\"#000000\" fill-rule=\"evenodd\" fill-opacity=\"1\" /><path clip-path=\"url(#clip920)\" d=\"M 0 0 M1739.58 157.329 L1739.58 172.978 L1735.32 172.978 L1735.32 157.468 Q1735.32 153.788 1733.89 151.959 Q1732.45 150.13 1729.58 150.13 Q1726.13 150.13 1724.14 152.33 Q1722.15 154.529 1722.15 158.325 L1722.15 172.978 L1717.87 172.978 L1717.87 147.052 L1722.15 147.052 L1722.15 151.08 Q1723.68 148.742 1725.74 147.584 Q1727.82 146.427 1730.53 146.427 Q1735 146.427 1737.29 149.205 Q1739.58 151.959 1739.58 157.329 Z\" fill=\"#000000\" fill-rule=\"evenodd\" fill-opacity=\"1\" /><path clip-path=\"url(#clip920)\" d=\"M 0 0 M1770.25 158.95 L1770.25 161.033 L1750.67 161.033 Q1750.95 165.431 1753.31 167.746 Q1755.69 170.038 1759.93 170.038 Q1762.38 170.038 1764.68 169.436 Q1766.99 168.834 1769.26 167.63 L1769.26 171.658 Q1766.97 172.63 1764.56 173.14 Q1762.15 173.649 1759.68 173.649 Q1753.47 173.649 1749.84 170.038 Q1746.23 166.427 1746.23 160.269 Q1746.23 153.904 1749.65 150.177 Q1753.1 146.427 1758.94 146.427 Q1764.17 146.427 1767.2 149.806 Q1770.25 153.163 1770.25 158.95 M1766 157.7 Q1765.95 154.205 1764.03 152.121 Q1762.13 150.038 1758.98 150.038 Q1755.42 150.038 1753.26 152.052 Q1751.13 154.066 1750.81 157.723 L1766 157.7 Z\" fill=\"#000000\" fill-rule=\"evenodd\" fill-opacity=\"1\" /><path clip-path=\"url(#clip920)\" d=\"M 0 0 M1797.43 152.029 Q1799.03 149.158 1801.25 147.793 Q1803.47 146.427 1806.48 146.427 Q1810.53 146.427 1812.73 149.274 Q1814.93 152.098 1814.93 157.329 L1814.93 172.978 L1810.65 172.978 L1810.65 157.468 Q1810.65 153.742 1809.33 151.936 Q1808.01 150.13 1805.3 150.13 Q1801.99 150.13 1800.07 152.33 Q1798.15 154.529 1798.15 158.325 L1798.15 172.978 L1793.87 172.978 L1793.87 157.468 Q1793.87 153.718 1792.55 151.936 Q1791.23 150.13 1788.47 150.13 Q1785.21 150.13 1783.29 152.353 Q1781.37 154.552 1781.37 158.325 L1781.37 172.978 L1777.08 172.978 L1777.08 147.052 L1781.37 147.052 L1781.37 151.08 Q1782.82 148.695 1784.86 147.561 Q1786.9 146.427 1789.7 146.427 Q1792.52 146.427 1794.49 147.862 Q1796.48 149.297 1797.43 152.029 Z\" fill=\"#000000\" fill-rule=\"evenodd\" fill-opacity=\"1\" /><path clip-path=\"url(#clip920)\" d=\"M 0 0 M1842.71 139.691 L1842.71 147.052 L1851.48 147.052 L1851.48 150.362 L1842.71 150.362 L1842.71 164.436 Q1842.71 167.607 1843.56 168.51 Q1844.44 169.413 1847.11 169.413 L1851.48 169.413 L1851.48 172.978 L1847.11 172.978 Q1842.18 172.978 1840.3 171.149 Q1838.43 169.297 1838.43 164.436 L1838.43 150.362 L1835.3 150.362 L1835.3 147.052 L1838.43 147.052 L1838.43 139.691 L1842.71 139.691 Z\" fill=\"#000000\" fill-rule=\"evenodd\" fill-opacity=\"1\" /><path clip-path=\"url(#clip920)\" d=\"M 0 0 M1872.11 151.033 Q1871.39 150.617 1870.53 150.431 Q1869.7 150.223 1868.68 150.223 Q1865.07 150.223 1863.12 152.584 Q1861.2 154.922 1861.2 159.32 L1861.2 172.978 L1856.92 172.978 L1856.92 147.052 L1861.2 147.052 L1861.2 151.08 Q1862.55 148.718 1864.7 147.584 Q1866.85 146.427 1869.93 146.427 Q1870.37 146.427 1870.9 146.496 Q1871.43 146.543 1872.08 146.658 L1872.11 151.033 Z\" fill=\"#000000\" fill-rule=\"evenodd\" fill-opacity=\"1\" /><path clip-path=\"url(#clip920)\" d=\"M 0 0 M1874.72 147.052 L1894.95 147.052 L1894.95 150.941 L1878.93 169.575 L1894.95 169.575 L1894.95 172.978 L1874.14 172.978 L1874.14 169.089 L1890.16 150.455 L1874.72 150.455 L1874.72 147.052 Z\" fill=\"#000000\" fill-rule=\"evenodd\" fill-opacity=\"1\" /><path clip-path=\"url(#clip920)\" d=\"M 0 0 M1923.63 158.95 L1923.63 161.033 L1904.05 161.033 Q1904.33 165.431 1906.69 167.746 Q1909.07 170.038 1913.31 170.038 Q1915.76 170.038 1918.05 169.436 Q1920.37 168.834 1922.64 167.63 L1922.64 171.658 Q1920.35 172.63 1917.94 173.14 Q1915.53 173.649 1913.05 173.649 Q1906.85 173.649 1903.22 170.038 Q1899.61 166.427 1899.61 160.269 Q1899.61 153.904 1903.03 150.177 Q1906.48 146.427 1912.31 146.427 Q1917.55 146.427 1920.58 149.806 Q1923.63 153.163 1923.63 158.95 M1919.37 157.7 Q1919.33 154.205 1917.41 152.121 Q1915.51 150.038 1912.36 150.038 Q1908.8 150.038 1906.64 152.052 Q1904.51 154.066 1904.19 157.723 L1919.37 157.7 Z\" fill=\"#000000\" fill-rule=\"evenodd\" fill-opacity=\"1\" /><path clip-path=\"url(#clip920)\" d=\"M 0 0 M1949.28 148.047 L1949.28 152.029 Q1947.48 151.033 1945.65 150.547 Q1943.84 150.038 1941.99 150.038 Q1937.85 150.038 1935.55 152.677 Q1933.26 155.292 1933.26 160.038 Q1933.26 164.783 1935.55 167.422 Q1937.85 170.038 1941.99 170.038 Q1943.84 170.038 1945.65 169.552 Q1947.48 169.042 1949.28 168.047 L1949.28 171.982 Q1947.5 172.816 1945.58 173.232 Q1943.68 173.649 1941.53 173.649 Q1935.67 173.649 1932.22 169.968 Q1928.77 166.288 1928.77 160.038 Q1928.77 153.695 1932.24 150.061 Q1935.74 146.427 1941.8 146.427 Q1943.77 146.427 1945.65 146.843 Q1947.52 147.237 1949.28 148.047 Z\" fill=\"#000000\" fill-rule=\"evenodd\" fill-opacity=\"1\" /><path clip-path=\"url(#clip920)\" d=\"M 0 0 M1956.69 147.052 L1960.95 147.052 L1960.95 172.978 L1956.69 172.978 L1956.69 147.052 M1956.69 136.959 L1960.95 136.959 L1960.95 142.353 L1956.69 142.353 L1956.69 136.959 Z\" fill=\"#000000\" fill-rule=\"evenodd\" fill-opacity=\"1\" /><path clip-path=\"url(#clip920)\" d=\"M 0 0 M1992.04 158.95 L1992.04 161.033 L1972.45 161.033 Q1972.73 165.431 1975.09 167.746 Q1977.48 170.038 1981.71 170.038 Q1984.17 170.038 1986.46 169.436 Q1988.77 168.834 1991.04 167.63 L1991.04 171.658 Q1988.75 172.63 1986.34 173.14 Q1983.93 173.649 1981.46 173.649 Q1975.25 173.649 1971.62 170.038 Q1968.01 166.427 1968.01 160.269 Q1968.01 153.904 1971.43 150.177 Q1974.88 146.427 1980.72 146.427 Q1985.95 146.427 1988.98 149.806 Q1992.04 153.163 1992.04 158.95 M1987.78 157.7 Q1987.73 154.205 1985.81 152.121 Q1983.91 150.038 1980.76 150.038 Q1977.2 150.038 1975.05 152.052 Q1972.92 154.066 1972.59 157.723 L1987.78 157.7 Z\" fill=\"#000000\" fill-rule=\"evenodd\" fill-opacity=\"1\" /><path clip-path=\"url(#clip920)\" d=\"M 0 0 M2016.09 159.714 Q2016.09 155.084 2014.17 152.538 Q2012.27 149.992 2008.82 149.992 Q2005.39 149.992 2003.47 152.538 Q2001.57 155.084 2001.57 159.714 Q2001.57 164.32 2003.47 166.866 Q2005.39 169.413 2008.82 169.413 Q2012.27 169.413 2014.17 166.866 Q2016.09 164.32 2016.09 159.714 M2020.35 169.76 Q2020.35 176.38 2017.41 179.598 Q2014.47 182.839 2008.4 182.839 Q2006.16 182.839 2004.17 182.491 Q2002.17 182.167 2000.3 181.473 L2000.3 177.329 Q2002.17 178.348 2004 178.834 Q2005.83 179.32 2007.73 179.32 Q2011.92 179.32 2014 177.121 Q2016.09 174.945 2016.09 170.524 L2016.09 168.417 Q2014.77 170.709 2012.71 171.843 Q2010.65 172.978 2007.78 172.978 Q2003.01 172.978 2000.09 169.343 Q1997.17 165.709 1997.17 159.714 Q1997.17 153.695 2000.09 150.061 Q2003.01 146.427 2007.78 146.427 Q2010.65 146.427 2012.71 147.561 Q2014.77 148.695 2016.09 150.987 L2016.09 147.052 L2020.35 147.052 L2020.35 169.76 Z\" fill=\"#000000\" fill-rule=\"evenodd\" fill-opacity=\"1\" /><path clip-path=\"url(#clip920)\" d=\"M 0 0 M2039.17 150.038 Q2035.74 150.038 2033.75 152.723 Q2031.76 155.385 2031.76 160.038 Q2031.76 164.691 2033.73 167.376 Q2035.72 170.038 2039.17 170.038 Q2042.57 170.038 2044.56 167.353 Q2046.55 164.667 2046.55 160.038 Q2046.55 155.431 2044.56 152.746 Q2042.57 150.038 2039.17 150.038 M2039.17 146.427 Q2044.72 146.427 2047.89 150.038 Q2051.06 153.649 2051.06 160.038 Q2051.06 166.404 2047.89 170.038 Q2044.72 173.649 2039.17 173.649 Q2033.59 173.649 2030.42 170.038 Q2027.27 166.404 2027.27 160.038 Q2027.27 153.649 2030.42 150.038 Q2033.59 146.427 2039.17 146.427 Z\" fill=\"#000000\" fill-rule=\"evenodd\" fill-opacity=\"1\" /><path clip-path=\"url(#clip920)\" d=\"M 0 0 M2089.72 147.816 L2089.72 151.843 Q2087.91 150.917 2085.97 150.455 Q2084.03 149.992 2081.94 149.992 Q2078.77 149.992 2077.17 150.964 Q2075.6 151.936 2075.6 153.88 Q2075.6 155.362 2076.73 156.218 Q2077.87 157.052 2081.29 157.816 L2082.75 158.14 Q2087.29 159.112 2089.19 160.894 Q2091.11 162.654 2091.11 165.825 Q2091.11 169.436 2088.24 171.542 Q2085.39 173.649 2080.39 173.649 Q2078.31 173.649 2076.04 173.232 Q2073.79 172.839 2071.29 172.028 L2071.29 167.63 Q2073.66 168.857 2075.95 169.482 Q2078.24 170.084 2080.48 170.084 Q2083.49 170.084 2085.11 169.066 Q2086.73 168.024 2086.73 166.149 Q2086.73 164.413 2085.55 163.487 Q2084.4 162.561 2080.44 161.704 L2078.96 161.357 Q2075 160.524 2073.24 158.811 Q2071.48 157.075 2071.48 154.066 Q2071.48 150.408 2074.07 148.418 Q2076.66 146.427 2081.43 146.427 Q2083.79 146.427 2085.88 146.774 Q2087.96 147.121 2089.72 147.816 Z\" fill=\"#000000\" fill-rule=\"evenodd\" fill-opacity=\"1\" /><path clip-path=\"url(#clip920)\" d=\"M 0 0 M2102.1 139.691 L2102.1 147.052 L2110.88 147.052 L2110.88 150.362 L2102.1 150.362 L2102.1 164.436 Q2102.1 167.607 2102.96 168.51 Q2103.84 169.413 2106.5 169.413 L2110.88 169.413 L2110.88 172.978 L2106.5 172.978 Q2101.57 172.978 2099.7 171.149 Q2097.82 169.297 2097.82 164.436 L2097.82 150.362 L2094.7 150.362 L2094.7 147.052 L2097.82 147.052 L2097.82 139.691 L2102.1 139.691 Z\" fill=\"#000000\" fill-rule=\"evenodd\" fill-opacity=\"1\" /><path clip-path=\"url(#clip920)\" d=\"M 0 0 M2126.53 150.038 Q2123.1 150.038 2121.11 152.723 Q2119.12 155.385 2119.12 160.038 Q2119.12 164.691 2121.09 167.376 Q2123.08 170.038 2126.53 170.038 Q2129.93 170.038 2131.92 167.353 Q2133.91 164.667 2133.91 160.038 Q2133.91 155.431 2131.92 152.746 Q2129.93 150.038 2126.53 150.038 M2126.53 146.427 Q2132.08 146.427 2135.25 150.038 Q2138.42 153.649 2138.42 160.038 Q2138.42 166.404 2135.25 170.038 Q2132.08 173.649 2126.53 173.649 Q2120.95 173.649 2117.78 170.038 Q2114.63 166.404 2114.63 160.038 Q2114.63 153.649 2117.78 150.038 Q2120.95 146.427 2126.53 146.427 Z\" fill=\"#000000\" fill-rule=\"evenodd\" fill-opacity=\"1\" /><path clip-path=\"url(#clip920)\" d=\"M 0 0 M2149.6 169.089 L2149.6 182.839 L2145.32 182.839 L2145.32 147.052 L2149.6 147.052 L2149.6 150.987 Q2150.95 148.672 2152.98 147.561 Q2155.04 146.427 2157.89 146.427 Q2162.61 146.427 2165.55 150.177 Q2168.52 153.927 2168.52 160.038 Q2168.52 166.149 2165.55 169.899 Q2162.61 173.649 2157.89 173.649 Q2155.04 173.649 2152.98 172.538 Q2150.95 171.403 2149.6 169.089 M2164.09 160.038 Q2164.09 155.339 2162.15 152.677 Q2160.23 149.992 2156.85 149.992 Q2153.47 149.992 2151.53 152.677 Q2149.6 155.339 2149.6 160.038 Q2149.6 164.737 2151.53 167.422 Q2153.47 170.084 2156.85 170.084 Q2160.23 170.084 2162.15 167.422 Q2164.09 164.737 2164.09 160.038 Z\" fill=\"#000000\" fill-rule=\"evenodd\" fill-opacity=\"1\" /><path clip-path=\"url(#clip920)\" d=\"M 0 0 M2197.13 157.329 L2197.13 172.978 L2192.87 172.978 L2192.87 157.468 Q2192.87 153.788 2191.43 151.959 Q2190 150.13 2187.13 150.13 Q2183.68 150.13 2181.69 152.33 Q2179.7 154.529 2179.7 158.325 L2179.7 172.978 L2175.41 172.978 L2175.41 147.052 L2179.7 147.052 L2179.7 151.08 Q2181.22 148.742 2183.28 147.584 Q2185.37 146.427 2188.08 146.427 Q2192.54 146.427 2194.84 149.205 Q2197.13 151.959 2197.13 157.329 Z\" fill=\"#000000\" fill-rule=\"evenodd\" fill-opacity=\"1\" /><path clip-path=\"url(#clip920)\" d=\"M 0 0 M2205.62 147.052 L2209.88 147.052 L2209.88 172.978 L2205.62 172.978 L2205.62 147.052 M2205.62 136.959 L2209.88 136.959 L2209.88 142.353 L2205.62 142.353 L2205.62 136.959 Z\" fill=\"#000000\" fill-rule=\"evenodd\" fill-opacity=\"1\" /><path clip-path=\"url(#clip920)\" d=\"M 0 0 M2230.58 159.945 Q2225.41 159.945 2223.42 161.126 Q2221.43 162.306 2221.43 165.154 Q2221.43 167.422 2222.91 168.765 Q2224.42 170.084 2226.99 170.084 Q2230.53 170.084 2232.66 167.584 Q2234.81 165.061 2234.81 160.894 L2234.81 159.945 L2230.58 159.945 M2239.07 158.186 L2239.07 172.978 L2234.81 172.978 L2234.81 169.042 Q2233.35 171.403 2231.18 172.538 Q2229 173.649 2225.85 173.649 Q2221.87 173.649 2219.51 171.427 Q2217.17 169.181 2217.17 165.431 Q2217.17 161.056 2220.09 158.834 Q2223.03 156.612 2228.84 156.612 L2234.81 156.612 L2234.81 156.195 Q2234.81 153.255 2232.87 151.658 Q2230.95 150.038 2227.45 150.038 Q2225.23 150.038 2223.12 150.57 Q2221.02 151.103 2219.07 152.167 L2219.07 148.232 Q2221.41 147.33 2223.61 146.89 Q2225.81 146.427 2227.89 146.427 Q2233.52 146.427 2236.29 149.343 Q2239.07 152.26 2239.07 158.186 Z\" fill=\"#000000\" fill-rule=\"evenodd\" fill-opacity=\"1\" /><circle clip-path=\"url(#clip920)\" cx=\"1068.38\" cy=\"216.178\" r=\"23\" fill=\"#e26f46\" fill-rule=\"evenodd\" fill-opacity=\"1\" stroke=\"#000000\" stroke-opacity=\"1\" stroke-width=\"5.12\"/>\n",
       "<path clip-path=\"url(#clip920)\" d=\"M 0 0 M1178.24 211.467 L1178.24 197.439 L1182.5 197.439 L1182.5 233.458 L1178.24 233.458 L1178.24 229.569 Q1176.9 231.883 1174.84 233.018 Q1172.8 234.129 1169.93 234.129 Q1165.23 234.129 1162.27 230.379 Q1159.33 226.629 1159.33 220.518 Q1159.33 214.407 1162.27 210.657 Q1165.23 206.907 1169.93 206.907 Q1172.8 206.907 1174.84 208.041 Q1176.9 209.152 1178.24 211.467 M1163.73 220.518 Q1163.73 225.217 1165.65 227.902 Q1167.6 230.564 1170.98 230.564 Q1174.35 230.564 1176.3 227.902 Q1178.24 225.217 1178.24 220.518 Q1178.24 215.819 1176.3 213.157 Q1174.35 210.472 1170.98 210.472 Q1167.6 210.472 1165.65 213.157 Q1163.73 215.819 1163.73 220.518 Z\" fill=\"#000000\" fill-rule=\"evenodd\" fill-opacity=\"1\" /><path clip-path=\"url(#clip920)\" d=\"M 0 0 M1203.06 220.425 Q1197.9 220.425 1195.91 221.606 Q1193.91 222.786 1193.91 225.634 Q1193.91 227.902 1195.4 229.245 Q1196.9 230.564 1199.47 230.564 Q1203.01 230.564 1205.14 228.064 Q1207.29 225.541 1207.29 221.374 L1207.29 220.425 L1203.06 220.425 M1211.55 218.666 L1211.55 233.458 L1207.29 233.458 L1207.29 229.522 Q1205.84 231.883 1203.66 233.018 Q1201.48 234.129 1198.34 234.129 Q1194.35 234.129 1191.99 231.907 Q1189.66 229.661 1189.66 225.911 Q1189.66 221.536 1192.57 219.314 Q1195.51 217.092 1201.32 217.092 L1207.29 217.092 L1207.29 216.675 Q1207.29 213.735 1205.35 212.138 Q1203.43 210.518 1199.93 210.518 Q1197.71 210.518 1195.6 211.05 Q1193.5 211.583 1191.55 212.647 L1191.55 208.712 Q1193.89 207.81 1196.09 207.37 Q1198.29 206.907 1200.37 206.907 Q1206 206.907 1208.78 209.823 Q1211.55 212.74 1211.55 218.666 Z\" fill=\"#000000\" fill-rule=\"evenodd\" fill-opacity=\"1\" /><path clip-path=\"url(#clip920)\" d=\"M 0 0 M1241.88 217.809 L1241.88 233.458 L1237.62 233.458 L1237.62 217.948 Q1237.62 214.268 1236.18 212.439 Q1234.75 210.61 1231.88 210.61 Q1228.43 210.61 1226.44 212.81 Q1224.45 215.009 1224.45 218.805 L1224.45 233.458 L1220.16 233.458 L1220.16 207.532 L1224.45 207.532 L1224.45 211.56 Q1225.98 209.222 1228.04 208.064 Q1230.12 206.907 1232.83 206.907 Q1237.29 206.907 1239.59 209.685 Q1241.88 212.439 1241.88 217.809 Z\" fill=\"#000000\" fill-rule=\"evenodd\" fill-opacity=\"1\" /><path clip-path=\"url(#clip920)\" d=\"M 0 0 M1272.55 219.43 L1272.55 221.513 L1252.97 221.513 Q1253.24 225.911 1255.6 228.226 Q1257.99 230.518 1262.22 230.518 Q1264.68 230.518 1266.97 229.916 Q1269.28 229.314 1271.55 228.11 L1271.55 232.138 Q1269.26 233.11 1266.85 233.62 Q1264.45 234.129 1261.97 234.129 Q1255.77 234.129 1252.13 230.518 Q1248.52 226.907 1248.52 220.749 Q1248.52 214.384 1251.95 210.657 Q1255.4 206.907 1261.23 206.907 Q1266.46 206.907 1269.49 210.286 Q1272.55 213.643 1272.55 219.43 M1268.29 218.18 Q1268.24 214.685 1266.32 212.601 Q1264.42 210.518 1261.28 210.518 Q1257.71 210.518 1255.56 212.532 Q1253.43 214.546 1253.1 218.203 L1268.29 218.18 Z\" fill=\"#000000\" fill-rule=\"evenodd\" fill-opacity=\"1\" /><path clip-path=\"url(#clip920)\" d=\"M 0 0 M1298.73 229.569 L1298.73 243.319 L1294.45 243.319 L1294.45 207.532 L1298.73 207.532 L1298.73 211.467 Q1300.07 209.152 1302.11 208.041 Q1304.17 206.907 1307.02 206.907 Q1311.74 206.907 1314.68 210.657 Q1317.64 214.407 1317.64 220.518 Q1317.64 226.629 1314.68 230.379 Q1311.74 234.129 1307.02 234.129 Q1304.17 234.129 1302.11 233.018 Q1300.07 231.883 1298.73 229.569 M1313.22 220.518 Q1313.22 215.819 1311.28 213.157 Q1309.35 210.472 1305.97 210.472 Q1302.59 210.472 1300.65 213.157 Q1298.73 215.819 1298.73 220.518 Q1298.73 225.217 1300.65 227.902 Q1302.59 230.564 1305.97 230.564 Q1309.35 230.564 1311.28 227.902 Q1313.22 225.217 1313.22 220.518 Z\" fill=\"#000000\" fill-rule=\"evenodd\" fill-opacity=\"1\" /><path clip-path=\"url(#clip920)\" d=\"M 0 0 M1324.26 223.226 L1324.26 207.532 L1328.52 207.532 L1328.52 223.064 Q1328.52 226.745 1329.96 228.596 Q1331.39 230.425 1334.26 230.425 Q1337.71 230.425 1339.7 228.226 Q1341.72 226.027 1341.72 222.231 L1341.72 207.532 L1345.97 207.532 L1345.97 233.458 L1341.72 233.458 L1341.72 229.476 Q1340.16 231.837 1338.1 232.995 Q1336.07 234.129 1333.36 234.129 Q1328.89 234.129 1326.58 231.351 Q1324.26 228.573 1324.26 223.226 M1334.98 206.907 L1334.98 206.907 Z\" fill=\"#000000\" fill-rule=\"evenodd\" fill-opacity=\"1\" /><path clip-path=\"url(#clip920)\" d=\"M 0 0 M1376.3 217.809 L1376.3 233.458 L1372.04 233.458 L1372.04 217.948 Q1372.04 214.268 1370.6 212.439 Q1369.17 210.61 1366.3 210.61 Q1362.85 210.61 1360.86 212.81 Q1358.87 215.009 1358.87 218.805 L1358.87 233.458 L1354.59 233.458 L1354.59 207.532 L1358.87 207.532 L1358.87 211.56 Q1360.4 209.222 1362.46 208.064 Q1364.54 206.907 1367.25 206.907 Q1371.71 206.907 1374.01 209.685 Q1376.3 212.439 1376.3 217.809 Z\" fill=\"#000000\" fill-rule=\"evenodd\" fill-opacity=\"1\" /><path clip-path=\"url(#clip920)\" d=\"M 0 0 M1384.63 197.439 L1388.91 197.439 L1388.91 218.712 L1401.62 207.532 L1407.06 207.532 L1393.31 219.661 L1407.64 233.458 L1402.09 233.458 L1388.91 220.796 L1388.91 233.458 L1384.63 233.458 L1384.63 197.439 Z\" fill=\"#000000\" fill-rule=\"evenodd\" fill-opacity=\"1\" /><path clip-path=\"url(#clip920)\" d=\"M 0 0 M1416.46 200.171 L1416.46 207.532 L1425.23 207.532 L1425.23 210.842 L1416.46 210.842 L1416.46 224.916 Q1416.46 228.087 1417.32 228.99 Q1418.2 229.893 1420.86 229.893 L1425.23 229.893 L1425.23 233.458 L1420.86 233.458 Q1415.93 233.458 1414.05 231.629 Q1412.18 229.777 1412.18 224.916 L1412.18 210.842 L1409.05 210.842 L1409.05 207.532 L1412.18 207.532 L1412.18 200.171 L1416.46 200.171 Z\" fill=\"#000000\" fill-rule=\"evenodd\" fill-opacity=\"1\" /><path clip-path=\"url(#clip920)\" d=\"M 0 0 M1441.62 235.865 Q1439.82 240.495 1438.1 241.907 Q1436.39 243.319 1433.52 243.319 L1430.12 243.319 L1430.12 239.754 L1432.62 239.754 Q1434.38 239.754 1435.35 238.92 Q1436.32 238.087 1437.5 234.985 L1438.27 233.041 L1427.78 207.532 L1432.29 207.532 L1440.4 227.809 L1448.5 207.532 L1453.01 207.532 L1441.62 235.865 Z\" fill=\"#000000\" fill-rule=\"evenodd\" fill-opacity=\"1\" /></svg>\n"
      ]
     },
     "execution_count": 48,
     "metadata": {},
     "output_type": "execute_result"
    }
   ],
   "source": [
    "plot(fit_poly_3,  extrema(xs)..., label=\"aproksymacja wielomianem trzeciego stopnia\")\n",
    "# ! -dodanie do tego samego wykresu punktów wg ktorych aproksymowalismy\n",
    "scatter!(xs, ys, label =\"dane punkty\")"
   ]
  },
  {
   "cell_type": "markdown",
   "metadata": {},
   "source": [
    "### Wielomiany Czebyszewa w pakiecie Polynomials"
   ]
  },
  {
   "cell_type": "code",
   "execution_count": 53,
   "metadata": {},
   "outputs": [
    {
     "data": {
      "text/html": [
       "1⋅T_2(x)"
      ],
      "text/latex": [
       "$1⋅T_2(x)$"
      ],
      "text/plain": [
       "ChebyshevT(1⋅T_2(x))"
      ]
     },
     "execution_count": 53,
     "metadata": {},
     "output_type": "execute_result"
    }
   ],
   "source": [
    "# podajemy tablicę współczynników, gdzie wielomiany Czebyszewa są wielomianami bazowymi np dla T2(x)\n",
    "t2 = ChebyshevT([0, 0, 1])"
   ]
  },
  {
   "cell_type": "code",
   "execution_count": 54,
   "metadata": {},
   "outputs": [
    {
     "data": {
      "image/svg+xml": [
       "<?xml version=\"1.0\" encoding=\"utf-8\"?>\n",
       "<svg xmlns=\"http://www.w3.org/2000/svg\" xmlns:xlink=\"http://www.w3.org/1999/xlink\" width=\"600\" height=\"400\" viewBox=\"0 0 2400 1600\">\n",
       "<defs>\n",
       "  <clipPath id=\"clip040\">\n",
       "    <rect x=\"0\" y=\"0\" width=\"2400\" height=\"1600\"/>\n",
       "  </clipPath>\n",
       "</defs>\n",
       "<path clip-path=\"url(#clip040)\" d=\"\n",
       "M0 1600 L2400 1600 L2400 0 L0 0  Z\n",
       "  \" fill=\"#ffffff\" fill-rule=\"evenodd\" fill-opacity=\"1\"/>\n",
       "<defs>\n",
       "  <clipPath id=\"clip041\">\n",
       "    <rect x=\"480\" y=\"0\" width=\"1681\" height=\"1600\"/>\n",
       "  </clipPath>\n",
       "</defs>\n",
       "<path clip-path=\"url(#clip040)\" d=\"\n",
       "M193.936 1486.45 L2352.76 1486.45 L2352.76 47.2441 L193.936 47.2441  Z\n",
       "  \" fill=\"#ffffff\" fill-rule=\"evenodd\" fill-opacity=\"1\"/>\n",
       "<defs>\n",
       "  <clipPath id=\"clip042\">\n",
       "    <rect x=\"193\" y=\"47\" width=\"2160\" height=\"1440\"/>\n",
       "  </clipPath>\n",
       "</defs>\n",
       "<polyline clip-path=\"url(#clip042)\" style=\"stroke:#000000; stroke-width:2; stroke-opacity:0.1; fill:none\" points=\"\n",
       "  255.035,1486.45 255.035,47.2441 \n",
       "  \"/>\n",
       "<polyline clip-path=\"url(#clip042)\" style=\"stroke:#000000; stroke-width:2; stroke-opacity:0.1; fill:none\" points=\"\n",
       "  764.19,1486.45 764.19,47.2441 \n",
       "  \"/>\n",
       "<polyline clip-path=\"url(#clip042)\" style=\"stroke:#000000; stroke-width:2; stroke-opacity:0.1; fill:none\" points=\"\n",
       "  1273.35,1486.45 1273.35,47.2441 \n",
       "  \"/>\n",
       "<polyline clip-path=\"url(#clip042)\" style=\"stroke:#000000; stroke-width:2; stroke-opacity:0.1; fill:none\" points=\"\n",
       "  1782.5,1486.45 1782.5,47.2441 \n",
       "  \"/>\n",
       "<polyline clip-path=\"url(#clip042)\" style=\"stroke:#000000; stroke-width:2; stroke-opacity:0.1; fill:none\" points=\"\n",
       "  2291.66,1486.45 2291.66,47.2441 \n",
       "  \"/>\n",
       "<polyline clip-path=\"url(#clip040)\" style=\"stroke:#000000; stroke-width:4; stroke-opacity:1; fill:none\" points=\"\n",
       "  193.936,1486.45 2352.76,1486.45 \n",
       "  \"/>\n",
       "<polyline clip-path=\"url(#clip040)\" style=\"stroke:#000000; stroke-width:4; stroke-opacity:1; fill:none\" points=\"\n",
       "  255.035,1486.45 255.035,1469.18 \n",
       "  \"/>\n",
       "<polyline clip-path=\"url(#clip040)\" style=\"stroke:#000000; stroke-width:4; stroke-opacity:1; fill:none\" points=\"\n",
       "  764.19,1486.45 764.19,1469.18 \n",
       "  \"/>\n",
       "<polyline clip-path=\"url(#clip040)\" style=\"stroke:#000000; stroke-width:4; stroke-opacity:1; fill:none\" points=\"\n",
       "  1273.35,1486.45 1273.35,1469.18 \n",
       "  \"/>\n",
       "<polyline clip-path=\"url(#clip040)\" style=\"stroke:#000000; stroke-width:4; stroke-opacity:1; fill:none\" points=\"\n",
       "  1782.5,1486.45 1782.5,1469.18 \n",
       "  \"/>\n",
       "<polyline clip-path=\"url(#clip040)\" style=\"stroke:#000000; stroke-width:4; stroke-opacity:1; fill:none\" points=\"\n",
       "  2291.66,1486.45 2291.66,1469.18 \n",
       "  \"/>\n",
       "<path clip-path=\"url(#clip040)\" d=\"M 0 0 M201.563 1530.29 L231.239 1530.29 L231.239 1534.23 L201.563 1534.23 L201.563 1530.29 Z\" fill=\"#000000\" fill-rule=\"evenodd\" fill-opacity=\"1\" /><path clip-path=\"url(#clip040)\" d=\"M 0 0 M242.141 1543.18 L249.78 1543.18 L249.78 1516.82 L241.47 1518.49 L241.47 1514.23 L249.734 1512.56 L254.41 1512.56 L254.41 1543.18 L262.049 1543.18 L262.049 1547.12 L242.141 1547.12 L242.141 1543.18 Z\" fill=\"#000000\" fill-rule=\"evenodd\" fill-opacity=\"1\" /><path clip-path=\"url(#clip040)\" d=\"M 0 0 M271.493 1541.24 L276.377 1541.24 L276.377 1547.12 L271.493 1547.12 L271.493 1541.24 Z\" fill=\"#000000\" fill-rule=\"evenodd\" fill-opacity=\"1\" /><path clip-path=\"url(#clip040)\" d=\"M 0 0 M296.562 1515.64 Q292.951 1515.64 291.122 1519.2 Q289.317 1522.75 289.317 1529.87 Q289.317 1536.98 291.122 1540.55 Q292.951 1544.09 296.562 1544.09 Q300.196 1544.09 302.002 1540.55 Q303.831 1536.98 303.831 1529.87 Q303.831 1522.75 302.002 1519.2 Q300.196 1515.64 296.562 1515.64 M296.562 1511.93 Q302.372 1511.93 305.428 1516.54 Q308.507 1521.12 308.507 1529.87 Q308.507 1538.6 305.428 1543.21 Q302.372 1547.79 296.562 1547.79 Q290.752 1547.79 287.673 1543.21 Q284.618 1538.6 284.618 1529.87 Q284.618 1521.12 287.673 1516.54 Q290.752 1511.93 296.562 1511.93 Z\" fill=\"#000000\" fill-rule=\"evenodd\" fill-opacity=\"1\" /><path clip-path=\"url(#clip040)\" d=\"M 0 0 M711.216 1530.29 L740.892 1530.29 L740.892 1534.23 L711.216 1534.23 L711.216 1530.29 Z\" fill=\"#000000\" fill-rule=\"evenodd\" fill-opacity=\"1\" /><path clip-path=\"url(#clip040)\" d=\"M 0 0 M760.984 1515.64 Q757.373 1515.64 755.545 1519.2 Q753.739 1522.75 753.739 1529.87 Q753.739 1536.98 755.545 1540.55 Q757.373 1544.09 760.984 1544.09 Q764.619 1544.09 766.424 1540.55 Q768.253 1536.98 768.253 1529.87 Q768.253 1522.75 766.424 1519.2 Q764.619 1515.64 760.984 1515.64 M760.984 1511.93 Q766.794 1511.93 769.85 1516.54 Q772.929 1521.12 772.929 1529.87 Q772.929 1538.6 769.85 1543.21 Q766.794 1547.79 760.984 1547.79 Q755.174 1547.79 752.095 1543.21 Q749.04 1538.6 749.04 1529.87 Q749.04 1521.12 752.095 1516.54 Q755.174 1511.93 760.984 1511.93 Z\" fill=\"#000000\" fill-rule=\"evenodd\" fill-opacity=\"1\" /><path clip-path=\"url(#clip040)\" d=\"M 0 0 M781.146 1541.24 L786.03 1541.24 L786.03 1547.12 L781.146 1547.12 L781.146 1541.24 Z\" fill=\"#000000\" fill-rule=\"evenodd\" fill-opacity=\"1\" /><path clip-path=\"url(#clip040)\" d=\"M 0 0 M796.262 1512.56 L814.618 1512.56 L814.618 1516.5 L800.544 1516.5 L800.544 1524.97 Q801.563 1524.62 802.581 1524.46 Q803.6 1524.27 804.618 1524.27 Q810.405 1524.27 813.785 1527.44 Q817.165 1530.62 817.165 1536.03 Q817.165 1541.61 813.692 1544.71 Q810.22 1547.79 803.901 1547.79 Q801.725 1547.79 799.456 1547.42 Q797.211 1547.05 794.804 1546.31 L794.804 1541.61 Q796.887 1542.74 799.109 1543.3 Q801.331 1543.86 803.808 1543.86 Q807.813 1543.86 810.151 1541.75 Q812.489 1539.64 812.489 1536.03 Q812.489 1532.42 810.151 1530.31 Q807.813 1528.21 803.808 1528.21 Q801.933 1528.21 800.058 1528.62 Q798.206 1529.04 796.262 1529.92 L796.262 1512.56 Z\" fill=\"#000000\" fill-rule=\"evenodd\" fill-opacity=\"1\" /><path clip-path=\"url(#clip040)\" d=\"M 0 0 M1250.73 1515.64 Q1247.12 1515.64 1245.29 1519.2 Q1243.49 1522.75 1243.49 1529.87 Q1243.49 1536.98 1245.29 1540.55 Q1247.12 1544.09 1250.73 1544.09 Q1254.36 1544.09 1256.17 1540.55 Q1258 1536.98 1258 1529.87 Q1258 1522.75 1256.17 1519.2 Q1254.36 1515.64 1250.73 1515.64 M1250.73 1511.93 Q1256.54 1511.93 1259.6 1516.54 Q1262.67 1521.12 1262.67 1529.87 Q1262.67 1538.6 1259.6 1543.21 Q1256.54 1547.79 1250.73 1547.79 Q1244.92 1547.79 1241.84 1543.21 Q1238.79 1538.6 1238.79 1529.87 Q1238.79 1521.12 1241.84 1516.54 Q1244.92 1511.93 1250.73 1511.93 Z\" fill=\"#000000\" fill-rule=\"evenodd\" fill-opacity=\"1\" /><path clip-path=\"url(#clip040)\" d=\"M 0 0 M1270.89 1541.24 L1275.78 1541.24 L1275.78 1547.12 L1270.89 1547.12 L1270.89 1541.24 Z\" fill=\"#000000\" fill-rule=\"evenodd\" fill-opacity=\"1\" /><path clip-path=\"url(#clip040)\" d=\"M 0 0 M1295.96 1515.64 Q1292.35 1515.64 1290.52 1519.2 Q1288.72 1522.75 1288.72 1529.87 Q1288.72 1536.98 1290.52 1540.55 Q1292.35 1544.09 1295.96 1544.09 Q1299.6 1544.09 1301.4 1540.55 Q1303.23 1536.98 1303.23 1529.87 Q1303.23 1522.75 1301.4 1519.2 Q1299.6 1515.64 1295.96 1515.64 M1295.96 1511.93 Q1301.77 1511.93 1304.83 1516.54 Q1307.91 1521.12 1307.91 1529.87 Q1307.91 1538.6 1304.83 1543.21 Q1301.77 1547.79 1295.96 1547.79 Q1290.15 1547.79 1287.07 1543.21 Q1284.02 1538.6 1284.02 1529.87 Q1284.02 1521.12 1287.07 1516.54 Q1290.15 1511.93 1295.96 1511.93 Z\" fill=\"#000000\" fill-rule=\"evenodd\" fill-opacity=\"1\" /><path clip-path=\"url(#clip040)\" d=\"M 0 0 M1760.38 1515.64 Q1756.77 1515.64 1754.94 1519.2 Q1753.14 1522.75 1753.14 1529.87 Q1753.14 1536.98 1754.94 1540.55 Q1756.77 1544.09 1760.38 1544.09 Q1764.02 1544.09 1765.82 1540.55 Q1767.65 1536.98 1767.65 1529.87 Q1767.65 1522.75 1765.82 1519.2 Q1764.02 1515.64 1760.38 1515.64 M1760.38 1511.93 Q1766.19 1511.93 1769.25 1516.54 Q1772.33 1521.12 1772.33 1529.87 Q1772.33 1538.6 1769.25 1543.21 Q1766.19 1547.79 1760.38 1547.79 Q1754.57 1547.79 1751.49 1543.21 Q1748.44 1538.6 1748.44 1529.87 Q1748.44 1521.12 1751.49 1516.54 Q1754.57 1511.93 1760.38 1511.93 Z\" fill=\"#000000\" fill-rule=\"evenodd\" fill-opacity=\"1\" /><path clip-path=\"url(#clip040)\" d=\"M 0 0 M1780.55 1541.24 L1785.43 1541.24 L1785.43 1547.12 L1780.55 1547.12 L1780.55 1541.24 Z\" fill=\"#000000\" fill-rule=\"evenodd\" fill-opacity=\"1\" /><path clip-path=\"url(#clip040)\" d=\"M 0 0 M1795.66 1512.56 L1814.02 1512.56 L1814.02 1516.5 L1799.94 1516.5 L1799.94 1524.97 Q1800.96 1524.62 1801.98 1524.46 Q1803 1524.27 1804.02 1524.27 Q1809.8 1524.27 1813.18 1527.44 Q1816.56 1530.62 1816.56 1536.03 Q1816.56 1541.61 1813.09 1544.71 Q1809.62 1547.79 1803.3 1547.79 Q1801.12 1547.79 1798.86 1547.42 Q1796.61 1547.05 1794.2 1546.31 L1794.2 1541.61 Q1796.29 1542.74 1798.51 1543.3 Q1800.73 1543.86 1803.21 1543.86 Q1807.21 1543.86 1809.55 1541.75 Q1811.89 1539.64 1811.89 1536.03 Q1811.89 1532.42 1809.55 1530.31 Q1807.21 1528.21 1803.21 1528.21 Q1801.33 1528.21 1799.46 1528.62 Q1797.61 1529.04 1795.66 1529.92 L1795.66 1512.56 Z\" fill=\"#000000\" fill-rule=\"evenodd\" fill-opacity=\"1\" /><path clip-path=\"url(#clip040)\" d=\"M 0 0 M2258.81 1543.18 L2266.45 1543.18 L2266.45 1516.82 L2258.14 1518.49 L2258.14 1514.23 L2266.4 1512.56 L2271.08 1512.56 L2271.08 1543.18 L2278.72 1543.18 L2278.72 1547.12 L2258.81 1547.12 L2258.81 1543.18 Z\" fill=\"#000000\" fill-rule=\"evenodd\" fill-opacity=\"1\" /><path clip-path=\"url(#clip040)\" d=\"M 0 0 M2288.16 1541.24 L2293.05 1541.24 L2293.05 1547.12 L2288.16 1547.12 L2288.16 1541.24 Z\" fill=\"#000000\" fill-rule=\"evenodd\" fill-opacity=\"1\" /><path clip-path=\"url(#clip040)\" d=\"M 0 0 M2313.23 1515.64 Q2309.62 1515.64 2307.79 1519.2 Q2305.99 1522.75 2305.99 1529.87 Q2305.99 1536.98 2307.79 1540.55 Q2309.62 1544.09 2313.23 1544.09 Q2316.87 1544.09 2318.67 1540.55 Q2320.5 1536.98 2320.5 1529.87 Q2320.5 1522.75 2318.67 1519.2 Q2316.87 1515.64 2313.23 1515.64 M2313.23 1511.93 Q2319.04 1511.93 2322.1 1516.54 Q2325.18 1521.12 2325.18 1529.87 Q2325.18 1538.6 2322.1 1543.21 Q2319.04 1547.79 2313.23 1547.79 Q2307.42 1547.79 2304.34 1543.21 Q2301.29 1538.6 2301.29 1529.87 Q2301.29 1521.12 2304.34 1516.54 Q2307.42 1511.93 2313.23 1511.93 Z\" fill=\"#000000\" fill-rule=\"evenodd\" fill-opacity=\"1\" /><polyline clip-path=\"url(#clip042)\" style=\"stroke:#000000; stroke-width:2; stroke-opacity:0.1; fill:none\" points=\"\n",
       "  193.936,1445.72 2352.76,1445.72 \n",
       "  \"/>\n",
       "<polyline clip-path=\"url(#clip042)\" style=\"stroke:#000000; stroke-width:2; stroke-opacity:0.1; fill:none\" points=\"\n",
       "  193.936,1106.28 2352.76,1106.28 \n",
       "  \"/>\n",
       "<polyline clip-path=\"url(#clip042)\" style=\"stroke:#000000; stroke-width:2; stroke-opacity:0.1; fill:none\" points=\"\n",
       "  193.936,766.846 2352.76,766.846 \n",
       "  \"/>\n",
       "<polyline clip-path=\"url(#clip042)\" style=\"stroke:#000000; stroke-width:2; stroke-opacity:0.1; fill:none\" points=\"\n",
       "  193.936,427.411 2352.76,427.411 \n",
       "  \"/>\n",
       "<polyline clip-path=\"url(#clip042)\" style=\"stroke:#000000; stroke-width:2; stroke-opacity:0.1; fill:none\" points=\"\n",
       "  193.936,87.9763 2352.76,87.9763 \n",
       "  \"/>\n",
       "<polyline clip-path=\"url(#clip040)\" style=\"stroke:#000000; stroke-width:4; stroke-opacity:1; fill:none\" points=\"\n",
       "  193.936,1486.45 193.936,47.2441 \n",
       "  \"/>\n",
       "<polyline clip-path=\"url(#clip040)\" style=\"stroke:#000000; stroke-width:4; stroke-opacity:1; fill:none\" points=\"\n",
       "  193.936,1445.72 219.842,1445.72 \n",
       "  \"/>\n",
       "<polyline clip-path=\"url(#clip040)\" style=\"stroke:#000000; stroke-width:4; stroke-opacity:1; fill:none\" points=\"\n",
       "  193.936,1106.28 219.842,1106.28 \n",
       "  \"/>\n",
       "<polyline clip-path=\"url(#clip040)\" style=\"stroke:#000000; stroke-width:4; stroke-opacity:1; fill:none\" points=\"\n",
       "  193.936,766.846 219.842,766.846 \n",
       "  \"/>\n",
       "<polyline clip-path=\"url(#clip040)\" style=\"stroke:#000000; stroke-width:4; stroke-opacity:1; fill:none\" points=\"\n",
       "  193.936,427.411 219.842,427.411 \n",
       "  \"/>\n",
       "<polyline clip-path=\"url(#clip040)\" style=\"stroke:#000000; stroke-width:4; stroke-opacity:1; fill:none\" points=\"\n",
       "  193.936,87.9763 219.842,87.9763 \n",
       "  \"/>\n",
       "<path clip-path=\"url(#clip040)\" d=\"M 0 0 M50.9921 1446.17 L80.6679 1446.17 L80.6679 1450.1 L50.9921 1450.1 L50.9921 1446.17 Z\" fill=\"#000000\" fill-rule=\"evenodd\" fill-opacity=\"1\" /><path clip-path=\"url(#clip040)\" d=\"M 0 0 M91.5706 1459.06 L99.2095 1459.06 L99.2095 1432.69 L90.8993 1434.36 L90.8993 1430.1 L99.1632 1428.44 L103.839 1428.44 L103.839 1459.06 L111.478 1459.06 L111.478 1463 L91.5706 1463 L91.5706 1459.06 Z\" fill=\"#000000\" fill-rule=\"evenodd\" fill-opacity=\"1\" /><path clip-path=\"url(#clip040)\" d=\"M 0 0 M120.922 1457.12 L125.807 1457.12 L125.807 1463 L120.922 1463 L120.922 1457.12 Z\" fill=\"#000000\" fill-rule=\"evenodd\" fill-opacity=\"1\" /><path clip-path=\"url(#clip040)\" d=\"M 0 0 M145.992 1431.51 Q142.381 1431.51 140.552 1435.08 Q138.746 1438.62 138.746 1445.75 Q138.746 1452.86 140.552 1456.42 Q142.381 1459.96 145.992 1459.96 Q149.626 1459.96 151.431 1456.42 Q153.26 1452.86 153.26 1445.75 Q153.26 1438.62 151.431 1435.08 Q149.626 1431.51 145.992 1431.51 M145.992 1427.81 Q151.802 1427.81 154.857 1432.42 Q157.936 1437 157.936 1445.75 Q157.936 1454.48 154.857 1459.08 Q151.802 1463.67 145.992 1463.67 Q140.181 1463.67 137.103 1459.08 Q134.047 1454.48 134.047 1445.75 Q134.047 1437 137.103 1432.42 Q140.181 1427.81 145.992 1427.81 Z\" fill=\"#000000\" fill-rule=\"evenodd\" fill-opacity=\"1\" /><path clip-path=\"url(#clip040)\" d=\"M 0 0 M51.9875 1106.73 L81.6633 1106.73 L81.6633 1110.67 L51.9875 1110.67 L51.9875 1106.73 Z\" fill=\"#000000\" fill-rule=\"evenodd\" fill-opacity=\"1\" /><path clip-path=\"url(#clip040)\" d=\"M 0 0 M101.756 1092.08 Q98.1447 1092.08 96.316 1095.64 Q94.5104 1099.19 94.5104 1106.32 Q94.5104 1113.42 96.316 1116.99 Q98.1447 1120.53 101.756 1120.53 Q105.39 1120.53 107.196 1116.99 Q109.024 1113.42 109.024 1106.32 Q109.024 1099.19 107.196 1095.64 Q105.39 1092.08 101.756 1092.08 M101.756 1088.38 Q107.566 1088.38 110.621 1092.98 Q113.7 1097.57 113.7 1106.32 Q113.7 1115.04 110.621 1119.65 Q107.566 1124.23 101.756 1124.23 Q95.9456 1124.23 92.8669 1119.65 Q89.8114 1115.04 89.8114 1106.32 Q89.8114 1097.57 92.8669 1092.98 Q95.9456 1088.38 101.756 1088.38 Z\" fill=\"#000000\" fill-rule=\"evenodd\" fill-opacity=\"1\" /><path clip-path=\"url(#clip040)\" d=\"M 0 0 M121.918 1117.68 L126.802 1117.68 L126.802 1123.56 L121.918 1123.56 L121.918 1117.68 Z\" fill=\"#000000\" fill-rule=\"evenodd\" fill-opacity=\"1\" /><path clip-path=\"url(#clip040)\" d=\"M 0 0 M137.033 1089 L155.39 1089 L155.39 1092.94 L141.316 1092.94 L141.316 1101.41 Q142.334 1101.06 143.353 1100.9 Q144.371 1100.71 145.39 1100.71 Q151.177 1100.71 154.556 1103.89 Q157.936 1107.06 157.936 1112.47 Q157.936 1118.05 154.464 1121.15 Q150.992 1124.23 144.672 1124.23 Q142.496 1124.23 140.228 1123.86 Q137.982 1123.49 135.575 1122.75 L135.575 1118.05 Q137.658 1119.19 139.881 1119.74 Q142.103 1120.3 144.58 1120.3 Q148.584 1120.3 150.922 1118.19 Q153.26 1116.08 153.26 1112.47 Q153.26 1108.86 150.922 1106.76 Q148.584 1104.65 144.58 1104.65 Q142.705 1104.65 140.83 1105.07 Q138.978 1105.48 137.033 1106.36 L137.033 1089 Z\" fill=\"#000000\" fill-rule=\"evenodd\" fill-opacity=\"1\" /><path clip-path=\"url(#clip040)\" d=\"M 0 0 M100.76 752.645 Q97.1493 752.645 95.3206 756.209 Q93.515 759.751 93.515 766.881 Q93.515 773.987 95.3206 777.552 Q97.1493 781.094 100.76 781.094 Q104.395 781.094 106.2 777.552 Q108.029 773.987 108.029 766.881 Q108.029 759.751 106.2 756.209 Q104.395 752.645 100.76 752.645 M100.76 748.941 Q106.571 748.941 109.626 753.547 Q112.705 758.131 112.705 766.881 Q112.705 775.608 109.626 780.214 Q106.571 784.797 100.76 784.797 Q94.9502 784.797 91.8715 780.214 Q88.816 775.608 88.816 766.881 Q88.816 758.131 91.8715 753.547 Q94.9502 748.941 100.76 748.941 Z\" fill=\"#000000\" fill-rule=\"evenodd\" fill-opacity=\"1\" /><path clip-path=\"url(#clip040)\" d=\"M 0 0 M120.922 778.246 L125.807 778.246 L125.807 784.126 L120.922 784.126 L120.922 778.246 Z\" fill=\"#000000\" fill-rule=\"evenodd\" fill-opacity=\"1\" /><path clip-path=\"url(#clip040)\" d=\"M 0 0 M145.992 752.645 Q142.381 752.645 140.552 756.209 Q138.746 759.751 138.746 766.881 Q138.746 773.987 140.552 777.552 Q142.381 781.094 145.992 781.094 Q149.626 781.094 151.431 777.552 Q153.26 773.987 153.26 766.881 Q153.26 759.751 151.431 756.209 Q149.626 752.645 145.992 752.645 M145.992 748.941 Q151.802 748.941 154.857 753.547 Q157.936 758.131 157.936 766.881 Q157.936 775.608 154.857 780.214 Q151.802 784.797 145.992 784.797 Q140.181 784.797 137.103 780.214 Q134.047 775.608 134.047 766.881 Q134.047 758.131 137.103 753.547 Q140.181 748.941 145.992 748.941 Z\" fill=\"#000000\" fill-rule=\"evenodd\" fill-opacity=\"1\" /><path clip-path=\"url(#clip040)\" d=\"M 0 0 M101.756 413.21 Q98.1447 413.21 96.316 416.775 Q94.5104 420.316 94.5104 427.446 Q94.5104 434.552 96.316 438.117 Q98.1447 441.659 101.756 441.659 Q105.39 441.659 107.196 438.117 Q109.024 434.552 109.024 427.446 Q109.024 420.316 107.196 416.775 Q105.39 413.21 101.756 413.21 M101.756 409.506 Q107.566 409.506 110.621 414.113 Q113.7 418.696 113.7 427.446 Q113.7 436.173 110.621 440.779 Q107.566 445.362 101.756 445.362 Q95.9456 445.362 92.8669 440.779 Q89.8114 436.173 89.8114 427.446 Q89.8114 418.696 92.8669 414.113 Q95.9456 409.506 101.756 409.506 Z\" fill=\"#000000\" fill-rule=\"evenodd\" fill-opacity=\"1\" /><path clip-path=\"url(#clip040)\" d=\"M 0 0 M121.918 438.812 L126.802 438.812 L126.802 444.691 L121.918 444.691 L121.918 438.812 Z\" fill=\"#000000\" fill-rule=\"evenodd\" fill-opacity=\"1\" /><path clip-path=\"url(#clip040)\" d=\"M 0 0 M137.033 410.131 L155.39 410.131 L155.39 414.066 L141.316 414.066 L141.316 422.538 Q142.334 422.191 143.353 422.029 Q144.371 421.844 145.39 421.844 Q151.177 421.844 154.556 425.015 Q157.936 428.187 157.936 433.603 Q157.936 439.182 154.464 442.284 Q150.992 445.362 144.672 445.362 Q142.496 445.362 140.228 444.992 Q137.982 444.622 135.575 443.881 L135.575 439.182 Q137.658 440.316 139.881 440.872 Q142.103 441.427 144.58 441.427 Q148.584 441.427 150.922 439.321 Q153.26 437.214 153.26 433.603 Q153.26 429.992 150.922 427.886 Q148.584 425.779 144.58 425.779 Q142.705 425.779 140.83 426.196 Q138.978 426.613 137.033 427.492 L137.033 410.131 Z\" fill=\"#000000\" fill-rule=\"evenodd\" fill-opacity=\"1\" /><path clip-path=\"url(#clip040)\" d=\"M 0 0 M91.5706 101.321 L99.2095 101.321 L99.2095 74.9555 L90.8993 76.6222 L90.8993 72.3629 L99.1632 70.6963 L103.839 70.6963 L103.839 101.321 L111.478 101.321 L111.478 105.256 L91.5706 105.256 L91.5706 101.321 Z\" fill=\"#000000\" fill-rule=\"evenodd\" fill-opacity=\"1\" /><path clip-path=\"url(#clip040)\" d=\"M 0 0 M120.922 99.3767 L125.807 99.3767 L125.807 105.256 L120.922 105.256 L120.922 99.3767 Z\" fill=\"#000000\" fill-rule=\"evenodd\" fill-opacity=\"1\" /><path clip-path=\"url(#clip040)\" d=\"M 0 0 M145.992 73.775 Q142.381 73.775 140.552 77.3398 Q138.746 80.8814 138.746 88.011 Q138.746 95.1174 140.552 98.6822 Q142.381 102.224 145.992 102.224 Q149.626 102.224 151.431 98.6822 Q153.26 95.1174 153.26 88.011 Q153.26 80.8814 151.431 77.3398 Q149.626 73.775 145.992 73.775 M145.992 70.0713 Q151.802 70.0713 154.857 74.6777 Q157.936 79.261 157.936 88.011 Q157.936 96.7378 154.857 101.344 Q151.802 105.928 145.992 105.928 Q140.181 105.928 137.103 101.344 Q134.047 96.7378 134.047 88.011 Q134.047 79.261 137.103 74.6777 Q140.181 70.0713 145.992 70.0713 Z\" fill=\"#000000\" fill-rule=\"evenodd\" fill-opacity=\"1\" /><polyline clip-path=\"url(#clip042)\" style=\"stroke:#009af9; stroke-width:4; stroke-opacity:1; fill:none\" points=\"\n",
       "  255.035,87.9763 275.401,141.743 295.767,194.423 316.133,246.017 336.5,296.525 356.866,345.947 377.232,394.282 397.598,441.532 417.964,487.695 438.331,532.772 \n",
       "  458.697,576.762 479.063,619.667 499.429,661.485 519.796,702.218 540.162,741.864 560.528,780.423 580.894,817.897 601.261,854.284 621.627,889.586 641.993,923.801 \n",
       "  662.359,956.93 682.725,988.972 703.092,1019.93 723.458,1049.8 743.824,1078.58 764.19,1106.28 784.557,1132.89 804.923,1158.42 825.289,1182.86 845.655,1206.21 \n",
       "  866.021,1228.48 886.388,1249.66 906.754,1269.75 927.12,1288.76 947.486,1306.68 967.853,1323.52 988.219,1339.27 1008.59,1353.93 1028.95,1367.51 1049.32,1380 \n",
       "  1069.68,1391.41 1090.05,1401.72 1110.42,1410.96 1130.78,1419.1 1151.15,1426.16 1171.51,1432.14 1191.88,1437.03 1212.25,1440.83 1232.61,1443.54 1252.98,1445.17 \n",
       "  1273.35,1445.72 1293.71,1445.17 1314.08,1443.54 1334.44,1440.83 1354.81,1437.03 1375.18,1432.14 1395.54,1426.16 1415.91,1419.1 1436.28,1410.96 1456.64,1401.72 \n",
       "  1477.01,1391.41 1497.37,1380 1517.74,1367.51 1538.11,1353.93 1558.47,1339.27 1578.84,1323.52 1599.21,1306.68 1619.57,1288.76 1639.94,1269.75 1660.3,1249.66 \n",
       "  1680.67,1228.48 1701.04,1206.21 1721.4,1182.86 1741.77,1158.42 1762.14,1132.89 1782.5,1106.28 1802.87,1078.58 1823.23,1049.8 1843.6,1019.93 1863.97,988.972 \n",
       "  1884.33,956.93 1904.7,923.801 1925.07,889.586 1945.43,854.284 1965.8,817.897 1986.16,780.423 2006.53,741.864 2026.9,702.218 2047.26,661.485 2067.63,619.667 \n",
       "  2087.99,576.762 2108.36,532.772 2128.73,487.695 2149.09,441.532 2169.46,394.282 2189.83,345.947 2210.19,296.525 2230.56,246.017 2250.92,194.423 2271.29,141.743 \n",
       "  2291.66,87.9763 \n",
       "  \"/>\n",
       "<path clip-path=\"url(#clip040)\" d=\"\n",
       "M1857.11 216.178 L2280.8 216.178 L2280.8 95.2176 L1857.11 95.2176  Z\n",
       "  \" fill=\"#ffffff\" fill-rule=\"evenodd\" fill-opacity=\"1\"/>\n",
       "<polyline clip-path=\"url(#clip040)\" style=\"stroke:#000000; stroke-width:4; stroke-opacity:1; fill:none\" points=\"\n",
       "  1857.11,216.178 2280.8,216.178 2280.8,95.2176 1857.11,95.2176 1857.11,216.178 \n",
       "  \"/>\n",
       "<polyline clip-path=\"url(#clip040)\" style=\"stroke:#009af9; stroke-width:4; stroke-opacity:1; fill:none\" points=\"\n",
       "  1881.09,155.698 2025.02,155.698 \n",
       "  \"/>\n",
       "<path clip-path=\"url(#clip040)\" d=\"M 0 0 M2049.67 169.042 L2057.31 169.042 L2057.31 142.677 L2049 144.343 L2049 140.084 L2057.27 138.418 L2061.94 138.418 L2061.94 169.042 L2069.58 169.042 L2069.58 172.978 L2049.67 172.978 L2049.67 169.042 Z\" fill=\"#000000\" fill-rule=\"evenodd\" fill-opacity=\"1\" /><path clip-path=\"url(#clip040)\" d=\"M 0 0 M2079.03 153.58 L2083.91 153.58 L2083.91 159.459 L2079.03 159.459 L2079.03 153.58 Z\" fill=\"#000000\" fill-rule=\"evenodd\" fill-opacity=\"1\" /><path clip-path=\"url(#clip040)\" d=\"M 0 0 M2088.89 138.418 L2118.12 138.418 L2118.12 142.353 L2105.85 142.353 L2105.85 172.978 L2101.16 172.978 L2101.16 142.353 L2088.89 142.353 L2088.89 138.418 Z\" fill=\"#000000\" fill-rule=\"evenodd\" fill-opacity=\"1\" /><path clip-path=\"url(#clip040)\" d=\"M 0 0 M2142.15 180.848 L2142.15 184.158 L2117.52 184.158 L2117.52 180.848 L2142.15 180.848 Z\" fill=\"#000000\" fill-rule=\"evenodd\" fill-opacity=\"1\" /><path clip-path=\"url(#clip040)\" d=\"M 0 0 M2150.78 169.042 L2167.1 169.042 L2167.1 172.978 L2145.16 172.978 L2145.16 169.042 Q2147.82 166.288 2152.41 161.658 Q2157.01 157.005 2158.19 155.663 Q2160.44 153.14 2161.32 151.404 Q2162.22 149.644 2162.22 147.955 Q2162.22 145.2 2160.28 143.464 Q2158.35 141.728 2155.25 141.728 Q2153.05 141.728 2150.6 142.492 Q2148.17 143.255 2145.39 144.806 L2145.39 140.084 Q2148.22 138.95 2150.67 138.371 Q2153.12 137.793 2155.16 137.793 Q2160.53 137.793 2163.72 140.478 Q2166.92 143.163 2166.92 147.654 Q2166.92 149.783 2166.11 151.705 Q2165.32 153.603 2163.22 156.195 Q2162.64 156.867 2159.53 160.084 Q2156.43 163.279 2150.78 169.042 Z\" fill=\"#000000\" fill-rule=\"evenodd\" fill-opacity=\"1\" /><path clip-path=\"url(#clip040)\" d=\"M 0 0 M2186.55 137.006 Q2183.45 142.33 2181.94 147.538 Q2180.44 152.746 2180.44 158.093 Q2180.44 163.441 2181.94 168.695 Q2183.47 173.927 2186.55 179.228 L2182.84 179.228 Q2179.37 173.788 2177.64 168.533 Q2175.92 163.279 2175.92 158.093 Q2175.92 152.931 2177.64 147.7 Q2179.35 142.468 2182.84 137.006 L2186.55 137.006 Z\" fill=\"#000000\" fill-rule=\"evenodd\" fill-opacity=\"1\" /><path clip-path=\"url(#clip040)\" d=\"M 0 0 M2216.36 147.052 L2206.99 159.667 L2216.85 172.978 L2211.83 172.978 L2204.28 162.792 L2196.73 172.978 L2191.71 172.978 L2201.78 159.413 L2192.57 147.052 L2197.59 147.052 L2204.47 156.288 L2211.34 147.052 L2216.36 147.052 Z\" fill=\"#000000\" fill-rule=\"evenodd\" fill-opacity=\"1\" /><path clip-path=\"url(#clip040)\" d=\"M 0 0 M2222.2 137.006 L2225.9 137.006 Q2229.37 142.468 2231.09 147.7 Q2232.82 152.931 2232.82 158.093 Q2232.82 163.279 2231.09 168.533 Q2229.37 173.788 2225.9 179.228 L2222.2 179.228 Q2225.28 173.927 2226.78 168.695 Q2228.31 163.441 2228.31 158.093 Q2228.31 152.746 2226.78 147.538 Q2225.28 142.33 2222.2 137.006 Z\" fill=\"#000000\" fill-rule=\"evenodd\" fill-opacity=\"1\" /></svg>\n"
      ]
     },
     "execution_count": 54,
     "metadata": {},
     "output_type": "execute_result"
    }
   ],
   "source": [
    "plot(t2)"
   ]
  },
  {
   "cell_type": "code",
   "execution_count": 55,
   "metadata": {},
   "outputs": [
    {
     "data": {
      "text/plain": [
       "2-element Array{Float64,1}:\n",
       " -0.7071067811865475\n",
       "  0.7071067811865476"
      ]
     },
     "execution_count": 55,
     "metadata": {},
     "output_type": "execute_result"
    }
   ],
   "source": [
    "#zera wielomianu Czebyszewa T2\n",
    "Polynomials.roots(t2)"
   ]
  },
  {
   "cell_type": "code",
   "execution_count": 23,
   "metadata": {},
   "outputs": [
    {
     "data": {
      "text/html": [
       "&#45;1.0 &#43; 2.0&#8729;x<sup>2</sup>"
      ],
      "text/latex": [
       "$-1.0 + 2.0\\cdot x^{2}$"
      ],
      "text/plain": [
       "Polynomial(-1.0 + 2.0*x^2)"
      ]
     },
     "execution_count": 23,
     "metadata": {},
     "output_type": "execute_result"
    }
   ],
   "source": [
    "# konwersja na wielomian\n",
    "convert(Polynomial, t2)"
   ]
  },
  {
   "cell_type": "code",
   "execution_count": 24,
   "metadata": {},
   "outputs": [
    {
     "data": {
      "text/html": [
       "3⋅T_0(x) + 2⋅T_1(x) + 1⋅T_2(x)"
      ],
      "text/latex": [
       "$3⋅T_0(x) + 2⋅T_1(x) + 1⋅T_2(x)$"
      ],
      "text/plain": [
       "ChebyshevT(3⋅T_0(x) + 2⋅T_1(x) + 1⋅T_2(x))"
      ]
     },
     "execution_count": 24,
     "metadata": {},
     "output_type": "execute_result"
    }
   ],
   "source": [
    "# można tworzyć kombinacje liniowe w bazie wielomianów Czebyszewa\n",
    "kombinacja_T = ChebyshevT([3,2,1])"
   ]
  },
  {
   "cell_type": "code",
   "execution_count": 25,
   "metadata": {},
   "outputs": [
    {
     "data": {
      "text/html": [
       "2.0 &#43; 2.0&#8729;x &#43; 2.0&#8729;x<sup>2</sup>"
      ],
      "text/latex": [
       "$2.0 + 2.0\\cdot x + 2.0\\cdot x^{2}$"
      ],
      "text/plain": [
       "Polynomial(2.0 + 2.0*x + 2.0*x^2)"
      ]
     },
     "execution_count": 25,
     "metadata": {},
     "output_type": "execute_result"
    }
   ],
   "source": [
    "convert(Polynomial, kombinacja_T)"
   ]
  },
  {
   "cell_type": "markdown",
   "metadata": {},
   "source": [
    "Skąd się wzieło polynomials logo :-)\n",
    "https://juliamath.github.io/Polynomials.jl/stable/reference/#Example:-The-Polynomials.jl-logo-1"
   ]
  },
  {
   "cell_type": "markdown",
   "metadata": {},
   "source": [
    "## Aproksymacja jednostajna Taylora i Pade"
   ]
  },
  {
   "cell_type": "code",
   "execution_count": 26,
   "metadata": {},
   "outputs": [
    {
     "name": "stderr",
     "output_type": "stream",
     "text": [
      "\u001b[32m\u001b[1m  Resolving\u001b[22m\u001b[39m package versions...\n",
      "\u001b[32m\u001b[1m  Installed\u001b[22m\u001b[39m TaylorSeries ─ v0.10.12\n",
      "\u001b[32m\u001b[1mUpdating\u001b[22m\u001b[39m `/opt/julia/environments/v1.5/Project.toml`\n",
      " \u001b[90m [6aa5eb33] \u001b[39m\u001b[92m+ TaylorSeries v0.10.12\u001b[39m\n",
      "\u001b[32m\u001b[1mUpdating\u001b[22m\u001b[39m `/opt/julia/environments/v1.5/Manifest.toml`\n",
      " \u001b[90m [6aa5eb33] \u001b[39m\u001b[92m+ TaylorSeries v0.10.12\u001b[39m\n"
     ]
    }
   ],
   "source": [
    "#using Pkg;\n",
    "#Pkg.add(\"TaylorSeries\")"
   ]
  },
  {
   "cell_type": "code",
   "execution_count": 27,
   "metadata": {},
   "outputs": [
    {
     "name": "stderr",
     "output_type": "stream",
     "text": [
      "┌ Info: Precompiling TaylorSeries [6aa5eb33-94cf-58f4-a9d0-e4b2c4fc25ea]\n",
      "└ @ Base loading.jl:1278\n"
     ]
    }
   ],
   "source": [
    "using TaylorSeries"
   ]
  },
  {
   "cell_type": "code",
   "execution_count": 28,
   "metadata": {},
   "outputs": [
    {
     "data": {
      "text/plain": [
       " 1.0 t + 𝒪(t⁶)"
      ]
     },
     "execution_count": 28,
     "metadata": {},
     "output_type": "execute_result"
    }
   ],
   "source": [
    "# Definiujemy, ile pierwszych wyrazów szeregu Taylora nas interesuje\n",
    "t = Taylor1(Float64, 5)"
   ]
  },
  {
   "cell_type": "code",
   "execution_count": 29,
   "metadata": {},
   "outputs": [
    {
     "data": {
      "text/plain": [
       " 1.0 + 1.0 t + 0.5 t² + 0.16666666666666666 t³ + 0.041666666666666664 t⁴ + 0.008333333333333333 t⁵ + 𝒪(t⁶)"
      ]
     },
     "execution_count": 29,
     "metadata": {},
     "output_type": "execute_result"
    }
   ],
   "source": [
    "#Rozwinięcie Taylora \n",
    "myfun_taylor = myfun(t)"
   ]
  },
  {
   "cell_type": "code",
   "execution_count": 30,
   "metadata": {},
   "outputs": [
    {
     "data": {
      "text/plain": [
       "(:coeffs, :order)"
      ]
     },
     "execution_count": 30,
     "metadata": {},
     "output_type": "execute_result"
    }
   ],
   "source": [
    "# Julia hint - jak zapytać o pola typu danych\n",
    "fieldnames(typeof(myfun_taylor))"
   ]
  },
  {
   "cell_type": "code",
   "execution_count": 31,
   "metadata": {},
   "outputs": [
    {
     "data": {
      "text/plain": [
       "6-element Array{Float64,1}:\n",
       " 1.0\n",
       " 1.0\n",
       " 0.5\n",
       " 0.16666666666666666\n",
       " 0.041666666666666664\n",
       " 0.008333333333333333"
      ]
     },
     "execution_count": 31,
     "metadata": {},
     "output_type": "execute_result"
    }
   ],
   "source": [
    "# mogę wyciągnąć ze struktury typu  odpowiednie pole\n",
    "myfun_taylor.coeffs"
   ]
  },
  {
   "cell_type": "code",
   "execution_count": 32,
   "metadata": {},
   "outputs": [
    {
     "data": {
      "text/html": [
       "1.0 &#43; 1.0&#8729;x &#43; 0.5&#8729;x<sup>2</sup> &#43; 0.16666666666666666&#8729;x<sup>3</sup> &#43; 0.041666666666666664&#8729;x<sup>4</sup> &#43; 0.008333333333333333&#8729;x<sup>5</sup>"
      ],
      "text/latex": [
       "$1.0 + 1.0\\cdot x + 0.5\\cdot x^{2} + 0.16666666666666666\\cdot x^{3} + 0.041666666666666664\\cdot x^{4} + 0.008333333333333333\\cdot x^{5}$"
      ],
      "text/plain": [
       "Polynomial(1.0 + 1.0*x + 0.5*x^2 + 0.16666666666666666*x^3 + 0.041666666666666664*x^4 + 0.008333333333333333*x^5)"
      ]
     },
     "execution_count": 32,
     "metadata": {},
     "output_type": "execute_result"
    }
   ],
   "source": [
    "# Z przybliżenia Taylora tworzę wielomian zrozumiały dla pakietu Polynomials (typ Polynomial)\n",
    "myfun_t_pol = Polynomial(myfun_taylor.coeffs)"
   ]
  },
  {
   "cell_type": "code",
   "execution_count": 33,
   "metadata": {},
   "outputs": [
    {
     "data": {
      "text/plain": [
       "Polynomials.PolyCompat.PadeApproximation.Pade{Float64,Float64}(Polynomial(1.0 + 0.5000000000000001*x + 0.08333333333333333*x^2), Polynomial(1.0 - 0.5*x + 0.08333333333333333*x^2), :x)"
      ]
     },
     "execution_count": 33,
     "metadata": {},
     "output_type": "execute_result"
    }
   ],
   "source": [
    "# mogę zamienić przybliżenie Taylora na aproksymację Pade (np. dla n=2, m=2)\n",
    "myfun_pade = Polynomials.PolyCompat.PadeApproximation.Pade(myfun_t_pol, 2, 2)"
   ]
  },
  {
   "cell_type": "markdown",
   "metadata": {
    "collapsed": true
   },
   "source": [
    "### Zadania\n",
    " \n",
    "1. Uruchomić \n",
    "   - `naive_multiplication(A,B)`, \n",
    "   - `better_multiplication(A,B)` \n",
    "   - mnożenie BLAS w Julii (`A*B`) \n",
    "\n",
    "    dla coraz większych macierzy kwadratowych i zmierzyć czasy. Narysować wykres zależyności czasu od rozmiaru macierzy wraz z słupkami błędów, tak jak na poprzednim laboratorium. Wszystkie trzy metody powinny być na jednym wykresie. **(1pkt)**\n",
    " \n",
    " \n",
    "2. Napisać w języku C:\n",
    "   - naiwną metodę mnożenia macierzy kwadratowych (wersja 1) \n",
    "   - ulepszoną wersję za pomocą zamiany pętli metodę mnożenia macierzy(wersja 2), pamiętając, że w C macierz przechowywana jest wierszami (row major order tzn A11,A12, ..., A1m, A21, A22,...,A2m, ..Anm), inaczej niż w Julii ! \n",
    "   - skorzystać z  możliwości BLAS poziom 3 dostępnego w GSL  (przykład uzycia https://www.gnu.org/software/gsl/doc/html/blas.html#examples )\n",
    "    \n",
    "    Należy porównywać działanie tych trzech algorytmow bez włączonej opcji optymalizacji kompilatora. Przedstawić wyniki na jednym wykresie tak jak w p.1. (osobno niż p.1). **(1 pkt)**\n",
    "    \n",
    "    *(Dla chętnych)* sprawdzić, co się dzieje, jak włączymy optymalizację kompilatora i dodać do wykresu. \n",
    "\n",
    "\n",
    "3. Użyć funkcji `polyfit` z pakietu  Polynomials   do znalezienia odpowiednich wielomianów, które najlepiej pasują do zależności czasowych każdego z algorytmów. Stopień wielomianu powinien zgadzać się z teoretyczną złożonoscią. Dodać wykresy uzyskanych wielomianów do wcześniejszych wykresów. **(1 pkt)**\n",
    "\n",
    "4. Pokazać zniwelowanie efektu Rungego  poprzez użycie wsparcia dla wielomianów Czebyszewa w pakiecie Polynomials. Wymagany wykres. **(1 pkt)**\n",
    "\n",
    "5. Przybliżenie Pade jest często lepsze niż rozwinięcie w szereg Taylora przy aproksymowaniu funkcji, które posiadają osobliwości. Korzystając ze wsparcia dla aproksymacji Pade w pakiecie Polynomials pokazać dowolny przykład (wraz z wykresem), gdzie takie przybliżenie faktycznie jest lepsze. Można odtworzyć wykres z wykładu albo zainspirować się przykładowym artykułem https://www.hindawi.com/journals/ijcm/2014/587430/ **(1 pkt)**\n"
   ]
  },
  {
   "cell_type": "code",
   "execution_count": null,
   "metadata": {},
   "outputs": [],
   "source": []
  }
 ],
 "metadata": {
  "kernelspec": {
   "display_name": "Julia 1.5.3",
   "language": "julia",
   "name": "julia-1.5"
  },
  "language_info": {
   "file_extension": ".jl",
   "mimetype": "application/julia",
   "name": "julia",
   "version": "1.5.3"
  }
 },
 "nbformat": 4,
 "nbformat_minor": 2
}
