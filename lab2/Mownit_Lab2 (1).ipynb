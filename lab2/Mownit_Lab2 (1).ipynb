{
 "cells": [
  {
   "cell_type": "markdown",
   "metadata": {},
   "source": [
    "# MOwNiT\n",
    "## Laboratorium 2\n",
    "### Analiza danych - DataFrames"
   ]
  },
  {
   "cell_type": "markdown",
   "metadata": {},
   "source": [
    "- Zaawansowany pakiet do działania na tabelkach nxm danych \n",
    "- Podobne do pandas DataFrames w Pythonie albo data.frame w R\n",
    "- Specjalistyczne funkcje do statystyki\n",
    "- W przypadku włąsnej instalacji należy zaistalować pakiet:\n",
    "\n",
    "```julia\n",
    "Pkg.add(\"DataFrames\")\n",
    "```\n",
    "\n",
    "- DataFrame to rodzaj bazy danych in-memory\n",
    "- Składa się z kolumn, do których odwołujemy się używając symboli\n",
    "- Każda z kolumn może przechowywać inny typ (inaczej niż w dwuwymiarowych tablicach )\n",
    "- od wersji 0.11 każda z kolumn jest typu Array{T,1} gdzie T jest okreslonym typem danych (np. Float64)\n",
    "- strona pakietu: https://github.com/JuliaStats/DataFrames.jl\n",
    "- dokumentacja najnowszej wersji: https://juliadata.github.io/DataFrames.jl/stable/index.html\n",
    "\n",
    "\n",
    "\n"
   ]
  },
  {
   "cell_type": "code",
   "execution_count": 1,
   "metadata": {},
   "outputs": [],
   "source": [
    "# za pierwszym razem instalujemy\n",
    "#using Pkg\n",
    "#Pkg.add(\"DataFrames\")"
   ]
  },
  {
   "cell_type": "code",
   "execution_count": 2,
   "metadata": {},
   "outputs": [
    {
     "name": "stdout",
     "output_type": "stream",
     "text": [
      "\u001b[1m4×3 DataFrame\u001b[0m\n",
      "\u001b[1m Row \u001b[0m│\u001b[1m MojaKolumna \u001b[0m\u001b[1m x2       \u001b[0m\u001b[1m Col3  \u001b[0m\n",
      "\u001b[1m     \u001b[0m│\u001b[90m Int64       \u001b[0m\u001b[90m Float64  \u001b[0m\u001b[90m Bool  \u001b[0m\n",
      "─────┼──────────────────────────────\n",
      "   1 │           1   4.0       true\n",
      "   2 │           2   3.14159  false\n",
      "   3 │           3   1.41421   true\n",
      "   4 │           4  42.0      false"
     ]
    }
   ],
   "source": [
    "# Tworzenie DataFrame\n",
    "using DataFrames\n",
    "df1=DataFrame()\n",
    "df1.MojaKolumna= 1:4\n",
    "df1.x2= [4,pi,sqrt(2), 42]\n",
    "df1.Col3= [true,false, true, false]\n",
    "show(df1)"
   ]
  },
  {
   "cell_type": "code",
   "execution_count": 3,
   "metadata": {},
   "outputs": [
    {
     "data": {
      "text/plain": [
       "Array{Float64,1}"
      ]
     },
     "execution_count": 3,
     "metadata": {},
     "output_type": "execute_result"
    }
   ],
   "source": [
    "# ! - nie tworzy kopii, : - tworzy kopię\n",
    "typeof(df1[!,2])"
   ]
  },
  {
   "cell_type": "code",
   "execution_count": 4,
   "metadata": {},
   "outputs": [
    {
     "data": {
      "text/plain": [
       "Array{Bool,1}"
      ]
     },
     "execution_count": 4,
     "metadata": {},
     "output_type": "execute_result"
    }
   ],
   "source": [
    "typeof(df1.Col3)"
   ]
  },
  {
   "cell_type": "code",
   "execution_count": 5,
   "metadata": {},
   "outputs": [
    {
     "data": {
      "text/html": [
       "<table class=\"data-frame\"><thead><tr><th></th><th>MojaKolumna</th><th>Col2</th><th>Col3</th></tr><tr><th></th><th>Int64</th><th>Float64</th><th>Bool</th></tr></thead><tbody><p>10 rows × 3 columns</p><tr><th>1</th><td>1</td><td>2.0</td><td>1</td></tr><tr><th>2</th><td>2</td><td>3.14159</td><td>1</td></tr><tr><th>3</th><td>3</td><td>1.41421</td><td>0</td></tr><tr><th>4</th><td>4</td><td>3.0</td><td>1</td></tr><tr><th>5</th><td>5</td><td>4.0</td><td>0</td></tr><tr><th>6</th><td>6</td><td>2.0</td><td>1</td></tr><tr><th>7</th><td>7</td><td>3.14159</td><td>1</td></tr><tr><th>8</th><td>8</td><td>1.41421</td><td>0</td></tr><tr><th>9</th><td>9</td><td>3.0</td><td>1</td></tr><tr><th>10</th><td>10</td><td>4.0</td><td>0</td></tr></tbody></table>"
      ],
      "text/latex": [
       "\\begin{tabular}{r|ccc}\n",
       "\t& MojaKolumna & Col2 & Col3\\\\\n",
       "\t\\hline\n",
       "\t& Int64 & Float64 & Bool\\\\\n",
       "\t\\hline\n",
       "\t1 & 1 & 2.0 & 1 \\\\\n",
       "\t2 & 2 & 3.14159 & 1 \\\\\n",
       "\t3 & 3 & 1.41421 & 0 \\\\\n",
       "\t4 & 4 & 3.0 & 1 \\\\\n",
       "\t5 & 5 & 4.0 & 0 \\\\\n",
       "\t6 & 6 & 2.0 & 1 \\\\\n",
       "\t7 & 7 & 3.14159 & 1 \\\\\n",
       "\t8 & 8 & 1.41421 & 0 \\\\\n",
       "\t9 & 9 & 3.0 & 1 \\\\\n",
       "\t10 & 10 & 4.0 & 0 \\\\\n",
       "\\end{tabular}\n"
      ],
      "text/plain": [
       "\u001b[1m10×3 DataFrame\u001b[0m\n",
       "\u001b[1m Row \u001b[0m│\u001b[1m MojaKolumna \u001b[0m\u001b[1m Col2    \u001b[0m\u001b[1m Col3  \u001b[0m\n",
       "\u001b[1m     \u001b[0m│\u001b[90m Int64       \u001b[0m\u001b[90m Float64 \u001b[0m\u001b[90m Bool  \u001b[0m\n",
       "─────┼─────────────────────────────\n",
       "   1 │           1  2.0       true\n",
       "   2 │           2  3.14159   true\n",
       "   3 │           3  1.41421  false\n",
       "   4 │           4  3.0       true\n",
       "   5 │           5  4.0      false\n",
       "   6 │           6  2.0       true\n",
       "   7 │           7  3.14159   true\n",
       "   8 │           8  1.41421  false\n",
       "   9 │           9  3.0       true\n",
       "  10 │          10  4.0      false"
      ]
     },
     "execution_count": 5,
     "metadata": {},
     "output_type": "execute_result"
    }
   ],
   "source": [
    "# możemy też utworzyć DataFrame używając konstruktora\n",
    "df2=DataFrame(MojaKolumna=1:10, \n",
    "    Col2=[2,pi, sqrt(2), 3, 4,2,pi, sqrt(2), 3, 4], \n",
    "    Col3=[true,true,false,true,false,true,true,false,true,false])"
   ]
  },
  {
   "cell_type": "code",
   "execution_count": 6,
   "metadata": {},
   "outputs": [
    {
     "data": {
      "text/plain": [
       "10"
      ]
     },
     "execution_count": 6,
     "metadata": {},
     "output_type": "execute_result"
    }
   ],
   "source": [
    "# ilosc wierszy\n",
    "size(df2, 1) "
   ]
  },
  {
   "cell_type": "code",
   "execution_count": 7,
   "metadata": {},
   "outputs": [
    {
     "data": {
      "text/plain": [
       "3"
      ]
     },
     "execution_count": 7,
     "metadata": {},
     "output_type": "execute_result"
    }
   ],
   "source": [
    "# ilosc kolumn\n",
    "size(df2, 2) "
   ]
  },
  {
   "cell_type": "code",
   "execution_count": 8,
   "metadata": {},
   "outputs": [
    {
     "name": "stdout",
     "output_type": "stream",
     "text": [
      "[2.0, 3.141592653589793, 1.4142135623730951, 3.0, 4.0, 2.0, 3.141592653589793, 1.4142135623730951, 3.0, 4.0]"
     ]
    }
   ],
   "source": [
    "# można odwoływać się po indeksie\n",
    "show(df2[:,2])"
   ]
  },
  {
   "cell_type": "code",
   "execution_count": 9,
   "metadata": {},
   "outputs": [
    {
     "name": "stdout",
     "output_type": "stream",
     "text": [
      "[2.0, 3.141592653589793, 1.4142135623730951, 3.0, 4.0, 2.0, 3.141592653589793, 1.4142135623730951, 3.0, 4.0]"
     ]
    }
   ],
   "source": [
    "# albo po symbolu kolumny\n",
    "show(df2[!,:Col2])"
   ]
  },
  {
   "cell_type": "code",
   "execution_count": 10,
   "metadata": {},
   "outputs": [
    {
     "name": "stdout",
     "output_type": "stream",
     "text": [
      "\u001b[1mDataFrameRow\u001b[0m\n",
      "\u001b[1m Row \u001b[0m│\u001b[1m MojaKolumna \u001b[0m\u001b[1m Col2    \u001b[0m\u001b[1m Col3  \u001b[0m\n",
      "\u001b[1m     \u001b[0m│\u001b[90m Int64       \u001b[0m\u001b[90m Float64 \u001b[0m\u001b[90m Bool  \u001b[0m\n",
      "─────┼─────────────────────────────\n",
      "   3 │           3  1.41421  false"
     ]
    }
   ],
   "source": [
    "# wiersze lub podzbiory wierszy i kolumn uzyskujemy poprzez operator (:). Wynikiem jest nowy DataFrame\n",
    "show(df2[3,:])"
   ]
  },
  {
   "cell_type": "code",
   "execution_count": 11,
   "metadata": {},
   "outputs": [
    {
     "data": {
      "text/html": [
       "<table class=\"data-frame\"><thead><tr><th></th><th>MojaKolumna</th><th>Col2</th><th>Col3</th></tr><tr><th></th><th>Int64</th><th>Float64</th><th>Bool</th></tr></thead><tbody><p>2 rows × 3 columns</p><tr><th>1</th><td>2</td><td>3.14159</td><td>1</td></tr><tr><th>2</th><td>3</td><td>1.41421</td><td>0</td></tr></tbody></table>"
      ],
      "text/latex": [
       "\\begin{tabular}{r|ccc}\n",
       "\t& MojaKolumna & Col2 & Col3\\\\\n",
       "\t\\hline\n",
       "\t& Int64 & Float64 & Bool\\\\\n",
       "\t\\hline\n",
       "\t1 & 2 & 3.14159 & 1 \\\\\n",
       "\t2 & 3 & 1.41421 & 0 \\\\\n",
       "\\end{tabular}\n"
      ],
      "text/plain": [
       "\u001b[1m2×3 DataFrame\u001b[0m\n",
       "\u001b[1m Row \u001b[0m│\u001b[1m MojaKolumna \u001b[0m\u001b[1m Col2    \u001b[0m\u001b[1m Col3  \u001b[0m\n",
       "\u001b[1m     \u001b[0m│\u001b[90m Int64       \u001b[0m\u001b[90m Float64 \u001b[0m\u001b[90m Bool  \u001b[0m\n",
       "─────┼─────────────────────────────\n",
       "   1 │           2  3.14159   true\n",
       "   2 │           3  1.41421  false"
      ]
     },
     "execution_count": 11,
     "metadata": {},
     "output_type": "execute_result"
    }
   ],
   "source": [
    "# drugi i trzeci wiersz\n",
    "df2[2:3, :]"
   ]
  },
  {
   "cell_type": "code",
   "execution_count": 12,
   "metadata": {},
   "outputs": [
    {
     "data": {
      "text/plain": [
       "2-element Array{Float64,1}:\n",
       " 3.141592653589793\n",
       " 1.4142135623730951"
      ]
     },
     "execution_count": 12,
     "metadata": {},
     "output_type": "execute_result"
    }
   ],
   "source": [
    "# druga kolumna drugiego i trzeciego wiersza\n",
    "df2[2:3, :Col2]"
   ]
  },
  {
   "cell_type": "code",
   "execution_count": 13,
   "metadata": {},
   "outputs": [
    {
     "data": {
      "text/html": [
       "<table class=\"data-frame\"><thead><tr><th></th><th>Col2</th><th>Col3</th></tr><tr><th></th><th>Float64</th><th>Bool</th></tr></thead><tbody><p>2 rows × 2 columns</p><tr><th>1</th><td>3.14159</td><td>1</td></tr><tr><th>2</th><td>1.41421</td><td>0</td></tr></tbody></table>"
      ],
      "text/latex": [
       "\\begin{tabular}{r|cc}\n",
       "\t& Col2 & Col3\\\\\n",
       "\t\\hline\n",
       "\t& Float64 & Bool\\\\\n",
       "\t\\hline\n",
       "\t1 & 3.14159 & 1 \\\\\n",
       "\t2 & 1.41421 & 0 \\\\\n",
       "\\end{tabular}\n"
      ],
      "text/plain": [
       "\u001b[1m2×2 DataFrame\u001b[0m\n",
       "\u001b[1m Row \u001b[0m│\u001b[1m Col2    \u001b[0m\u001b[1m Col3  \u001b[0m\n",
       "\u001b[1m     \u001b[0m│\u001b[90m Float64 \u001b[0m\u001b[90m Bool  \u001b[0m\n",
       "─────┼────────────────\n",
       "   1 │ 3.14159   true\n",
       "   2 │ 1.41421  false"
      ]
     },
     "execution_count": 13,
     "metadata": {},
     "output_type": "execute_result"
    }
   ],
   "source": [
    "# druga i trzecia kolumna drugiego i trzeciego wiersza\n",
    "df2[2:3,[:Col2, :Col3]]"
   ]
  },
  {
   "cell_type": "code",
   "execution_count": 14,
   "metadata": {},
   "outputs": [
    {
     "data": {
      "text/html": [
       "<table class=\"data-frame\"><thead><tr><th></th><th>MojaKolumna</th><th>Col2</th><th>Col3</th></tr><tr><th></th><th>Int64</th><th>Float64</th><th>Bool</th></tr></thead><tbody><p>6 rows × 3 columns</p><tr><th>1</th><td>1</td><td>2.0</td><td>1</td></tr><tr><th>2</th><td>2</td><td>3.14159</td><td>1</td></tr><tr><th>3</th><td>3</td><td>1.41421</td><td>0</td></tr><tr><th>4</th><td>4</td><td>3.0</td><td>1</td></tr><tr><th>5</th><td>5</td><td>4.0</td><td>0</td></tr><tr><th>6</th><td>6</td><td>2.0</td><td>1</td></tr></tbody></table>"
      ],
      "text/latex": [
       "\\begin{tabular}{r|ccc}\n",
       "\t& MojaKolumna & Col2 & Col3\\\\\n",
       "\t\\hline\n",
       "\t& Int64 & Float64 & Bool\\\\\n",
       "\t\\hline\n",
       "\t1 & 1 & 2.0 & 1 \\\\\n",
       "\t2 & 2 & 3.14159 & 1 \\\\\n",
       "\t3 & 3 & 1.41421 & 0 \\\\\n",
       "\t4 & 4 & 3.0 & 1 \\\\\n",
       "\t5 & 5 & 4.0 & 0 \\\\\n",
       "\t6 & 6 & 2.0 & 1 \\\\\n",
       "\\end{tabular}\n"
      ],
      "text/plain": [
       "\u001b[1m6×3 DataFrame\u001b[0m\n",
       "\u001b[1m Row \u001b[0m│\u001b[1m MojaKolumna \u001b[0m\u001b[1m Col2    \u001b[0m\u001b[1m Col3  \u001b[0m\n",
       "\u001b[1m     \u001b[0m│\u001b[90m Int64       \u001b[0m\u001b[90m Float64 \u001b[0m\u001b[90m Bool  \u001b[0m\n",
       "─────┼─────────────────────────────\n",
       "   1 │           1  2.0       true\n",
       "   2 │           2  3.14159   true\n",
       "   3 │           3  1.41421  false\n",
       "   4 │           4  3.0       true\n",
       "   5 │           5  4.0      false\n",
       "   6 │           6  2.0       true"
      ]
     },
     "execution_count": 14,
     "metadata": {},
     "output_type": "execute_result"
    }
   ],
   "source": [
    "# pierwsze sześć wierszy\n",
    "DataFrames.first(df2,6)"
   ]
  },
  {
   "cell_type": "code",
   "execution_count": 15,
   "metadata": {},
   "outputs": [
    {
     "data": {
      "text/html": [
       "<table class=\"data-frame\"><thead><tr><th></th><th>MojaKolumna</th><th>Col2</th><th>Col3</th></tr><tr><th></th><th>Int64</th><th>Float64</th><th>Bool</th></tr></thead><tbody><p>6 rows × 3 columns</p><tr><th>1</th><td>5</td><td>4.0</td><td>0</td></tr><tr><th>2</th><td>6</td><td>2.0</td><td>1</td></tr><tr><th>3</th><td>7</td><td>3.14159</td><td>1</td></tr><tr><th>4</th><td>8</td><td>1.41421</td><td>0</td></tr><tr><th>5</th><td>9</td><td>3.0</td><td>1</td></tr><tr><th>6</th><td>10</td><td>4.0</td><td>0</td></tr></tbody></table>"
      ],
      "text/latex": [
       "\\begin{tabular}{r|ccc}\n",
       "\t& MojaKolumna & Col2 & Col3\\\\\n",
       "\t\\hline\n",
       "\t& Int64 & Float64 & Bool\\\\\n",
       "\t\\hline\n",
       "\t1 & 5 & 4.0 & 0 \\\\\n",
       "\t2 & 6 & 2.0 & 1 \\\\\n",
       "\t3 & 7 & 3.14159 & 1 \\\\\n",
       "\t4 & 8 & 1.41421 & 0 \\\\\n",
       "\t5 & 9 & 3.0 & 1 \\\\\n",
       "\t6 & 10 & 4.0 & 0 \\\\\n",
       "\\end{tabular}\n"
      ],
      "text/plain": [
       "\u001b[1m6×3 DataFrame\u001b[0m\n",
       "\u001b[1m Row \u001b[0m│\u001b[1m MojaKolumna \u001b[0m\u001b[1m Col2    \u001b[0m\u001b[1m Col3  \u001b[0m\n",
       "\u001b[1m     \u001b[0m│\u001b[90m Int64       \u001b[0m\u001b[90m Float64 \u001b[0m\u001b[90m Bool  \u001b[0m\n",
       "─────┼─────────────────────────────\n",
       "   1 │           5  4.0      false\n",
       "   2 │           6  2.0       true\n",
       "   3 │           7  3.14159   true\n",
       "   4 │           8  1.41421  false\n",
       "   5 │           9  3.0       true\n",
       "   6 │          10  4.0      false"
      ]
     },
     "execution_count": 15,
     "metadata": {},
     "output_type": "execute_result"
    }
   ],
   "source": [
    "# ostatnie sześć wierszy\n",
    "DataFrames.last(df2,6)"
   ]
  },
  {
   "cell_type": "code",
   "execution_count": 16,
   "metadata": {},
   "outputs": [
    {
     "data": {
      "text/plain": [
       "3-element Array{String,1}:\n",
       " \"MojaKolumna\"\n",
       " \"Col2\"\n",
       " \"Col3\""
      ]
     },
     "execution_count": 16,
     "metadata": {},
     "output_type": "execute_result"
    }
   ],
   "source": [
    "# nazwy kolumn\n",
    "names(df2)"
   ]
  },
  {
   "cell_type": "code",
   "execution_count": 17,
   "metadata": {},
   "outputs": [
    {
     "data": {
      "text/plain": [
       "3-element Array{DataType,1}:\n",
       " Int64\n",
       " Float64\n",
       " Bool"
      ]
     },
     "execution_count": 17,
     "metadata": {},
     "output_type": "execute_result"
    }
   ],
   "source": [
    "# typy kolumn\n",
    "eltype.(eachcol(df2))"
   ]
  },
  {
   "cell_type": "code",
   "execution_count": 18,
   "metadata": {},
   "outputs": [
    {
     "data": {
      "text/html": [
       "<table class=\"data-frame\"><thead><tr><th></th><th>variable</th><th>mean</th><th>min</th><th>median</th><th>max</th><th>nmissing</th><th>eltype</th></tr><tr><th></th><th>Symbol</th><th>Float64</th><th>Real</th><th>Float64</th><th>Real</th><th>Int64</th><th>DataType</th></tr></thead><tbody><p>3 rows × 7 columns</p><tr><th>1</th><td>MojaKolumna</td><td>5.5</td><td>1</td><td>5.5</td><td>10</td><td>0</td><td>Int64</td></tr><tr><th>2</th><td>Col2</td><td>2.71116</td><td>1.41421</td><td>3.0</td><td>4.0</td><td>0</td><td>Float64</td></tr><tr><th>3</th><td>Col3</td><td>0.6</td><td>0</td><td>1.0</td><td>1</td><td>0</td><td>Bool</td></tr></tbody></table>"
      ],
      "text/latex": [
       "\\begin{tabular}{r|ccccccc}\n",
       "\t& variable & mean & min & median & max & nmissing & eltype\\\\\n",
       "\t\\hline\n",
       "\t& Symbol & Float64 & Real & Float64 & Real & Int64 & DataType\\\\\n",
       "\t\\hline\n",
       "\t1 & MojaKolumna & 5.5 & 1 & 5.5 & 10 & 0 & Int64 \\\\\n",
       "\t2 & Col2 & 2.71116 & 1.41421 & 3.0 & 4.0 & 0 & Float64 \\\\\n",
       "\t3 & Col3 & 0.6 & 0 & 1.0 & 1 & 0 & Bool \\\\\n",
       "\\end{tabular}\n"
      ],
      "text/plain": [
       "\u001b[1m3×7 DataFrame\u001b[0m\n",
       "\u001b[1m Row \u001b[0m│\u001b[1m variable    \u001b[0m\u001b[1m mean    \u001b[0m\u001b[1m min     \u001b[0m\u001b[1m median  \u001b[0m\u001b[1m max  \u001b[0m\u001b[1m nmissing \u001b[0m\u001b[1m eltype   \u001b[0m\n",
       "\u001b[1m     \u001b[0m│\u001b[90m Symbol      \u001b[0m\u001b[90m Float64 \u001b[0m\u001b[90m Real    \u001b[0m\u001b[90m Float64 \u001b[0m\u001b[90m Real \u001b[0m\u001b[90m Int64    \u001b[0m\u001b[90m DataType \u001b[0m\n",
       "─────┼──────────────────────────────────────────────────────────────────\n",
       "   1 │ MojaKolumna  5.5            1      5.5    10         0  Int64\n",
       "   2 │ Col2         2.71116  1.41421      3.0   4.0         0  Float64\n",
       "   3 │ Col3         0.6        false      1.0  true         0  Bool"
      ]
     },
     "execution_count": 18,
     "metadata": {},
     "output_type": "execute_result"
    }
   ],
   "source": [
    "# podstawowe dane statystyczne o wartościach w kolumnie\n",
    "describe(df2)"
   ]
  },
  {
   "cell_type": "code",
   "execution_count": 19,
   "metadata": {},
   "outputs": [
    {
     "data": {
      "text/plain": [
       "2.711161243192578"
      ]
     },
     "execution_count": 19,
     "metadata": {},
     "output_type": "execute_result"
    }
   ],
   "source": [
    "using Statistics\n",
    "mean(df2.Col2)"
   ]
  },
  {
   "cell_type": "code",
   "execution_count": 20,
   "metadata": {},
   "outputs": [
    {
     "data": {
      "text/plain": [
       "0.9150284373648316"
      ]
     },
     "execution_count": 20,
     "metadata": {},
     "output_type": "execute_result"
    }
   ],
   "source": [
    "var(df2.Col2)"
   ]
  },
  {
   "cell_type": "code",
   "execution_count": 21,
   "metadata": {},
   "outputs": [
    {
     "data": {
      "text/html": [
       "<table class=\"data-frame\"><thead><tr><th></th><th>fixed acidity</th><th>volatile acidity</th><th>citric acid</th><th>residual sugar</th><th>chlorides</th><th>free sulfur dioxide</th></tr><tr><th></th><th>Float64</th><th>Float64</th><th>Float64</th><th>Float64</th><th>Float64</th><th>Float64</th></tr></thead><tbody><p>1,599 rows × 12 columns (omitted printing of 6 columns)</p><tr><th>1</th><td>7.4</td><td>0.7</td><td>0.0</td><td>1.9</td><td>0.076</td><td>11.0</td></tr><tr><th>2</th><td>7.8</td><td>0.88</td><td>0.0</td><td>2.6</td><td>0.098</td><td>25.0</td></tr><tr><th>3</th><td>7.8</td><td>0.76</td><td>0.04</td><td>2.3</td><td>0.092</td><td>15.0</td></tr><tr><th>4</th><td>11.2</td><td>0.28</td><td>0.56</td><td>1.9</td><td>0.075</td><td>17.0</td></tr><tr><th>5</th><td>7.4</td><td>0.7</td><td>0.0</td><td>1.9</td><td>0.076</td><td>11.0</td></tr><tr><th>6</th><td>7.4</td><td>0.66</td><td>0.0</td><td>1.8</td><td>0.075</td><td>13.0</td></tr><tr><th>7</th><td>7.9</td><td>0.6</td><td>0.06</td><td>1.6</td><td>0.069</td><td>15.0</td></tr><tr><th>8</th><td>7.3</td><td>0.65</td><td>0.0</td><td>1.2</td><td>0.065</td><td>15.0</td></tr><tr><th>9</th><td>7.8</td><td>0.58</td><td>0.02</td><td>2.0</td><td>0.073</td><td>9.0</td></tr><tr><th>10</th><td>7.5</td><td>0.5</td><td>0.36</td><td>6.1</td><td>0.071</td><td>17.0</td></tr><tr><th>11</th><td>6.7</td><td>0.58</td><td>0.08</td><td>1.8</td><td>0.097</td><td>15.0</td></tr><tr><th>12</th><td>7.5</td><td>0.5</td><td>0.36</td><td>6.1</td><td>0.071</td><td>17.0</td></tr><tr><th>13</th><td>5.6</td><td>0.615</td><td>0.0</td><td>1.6</td><td>0.089</td><td>16.0</td></tr><tr><th>14</th><td>7.8</td><td>0.61</td><td>0.29</td><td>1.6</td><td>0.114</td><td>9.0</td></tr><tr><th>15</th><td>8.9</td><td>0.62</td><td>0.18</td><td>3.8</td><td>0.176</td><td>52.0</td></tr><tr><th>16</th><td>8.9</td><td>0.62</td><td>0.19</td><td>3.9</td><td>0.17</td><td>51.0</td></tr><tr><th>17</th><td>8.5</td><td>0.28</td><td>0.56</td><td>1.8</td><td>0.092</td><td>35.0</td></tr><tr><th>18</th><td>8.1</td><td>0.56</td><td>0.28</td><td>1.7</td><td>0.368</td><td>16.0</td></tr><tr><th>19</th><td>7.4</td><td>0.59</td><td>0.08</td><td>4.4</td><td>0.086</td><td>6.0</td></tr><tr><th>20</th><td>7.9</td><td>0.32</td><td>0.51</td><td>1.8</td><td>0.341</td><td>17.0</td></tr><tr><th>21</th><td>8.9</td><td>0.22</td><td>0.48</td><td>1.8</td><td>0.077</td><td>29.0</td></tr><tr><th>22</th><td>7.6</td><td>0.39</td><td>0.31</td><td>2.3</td><td>0.082</td><td>23.0</td></tr><tr><th>23</th><td>7.9</td><td>0.43</td><td>0.21</td><td>1.6</td><td>0.106</td><td>10.0</td></tr><tr><th>24</th><td>8.5</td><td>0.49</td><td>0.11</td><td>2.3</td><td>0.084</td><td>9.0</td></tr><tr><th>25</th><td>6.9</td><td>0.4</td><td>0.14</td><td>2.4</td><td>0.085</td><td>21.0</td></tr><tr><th>26</th><td>6.3</td><td>0.39</td><td>0.16</td><td>1.4</td><td>0.08</td><td>11.0</td></tr><tr><th>27</th><td>7.6</td><td>0.41</td><td>0.24</td><td>1.8</td><td>0.08</td><td>4.0</td></tr><tr><th>28</th><td>7.9</td><td>0.43</td><td>0.21</td><td>1.6</td><td>0.106</td><td>10.0</td></tr><tr><th>29</th><td>7.1</td><td>0.71</td><td>0.0</td><td>1.9</td><td>0.08</td><td>14.0</td></tr><tr><th>30</th><td>7.8</td><td>0.645</td><td>0.0</td><td>2.0</td><td>0.082</td><td>8.0</td></tr><tr><th>&vellip;</th><td>&vellip;</td><td>&vellip;</td><td>&vellip;</td><td>&vellip;</td><td>&vellip;</td><td>&vellip;</td></tr></tbody></table>"
      ],
      "text/latex": [
       "\\begin{tabular}{r|ccccccc}\n",
       "\t& fixed acidity & volatile acidity & citric acid & residual sugar & chlorides & free sulfur dioxide & \\\\\n",
       "\t\\hline\n",
       "\t& Float64 & Float64 & Float64 & Float64 & Float64 & Float64 & \\\\\n",
       "\t\\hline\n",
       "\t1 & 7.4 & 0.7 & 0.0 & 1.9 & 0.076 & 11.0 & $\\dots$ \\\\\n",
       "\t2 & 7.8 & 0.88 & 0.0 & 2.6 & 0.098 & 25.0 & $\\dots$ \\\\\n",
       "\t3 & 7.8 & 0.76 & 0.04 & 2.3 & 0.092 & 15.0 & $\\dots$ \\\\\n",
       "\t4 & 11.2 & 0.28 & 0.56 & 1.9 & 0.075 & 17.0 & $\\dots$ \\\\\n",
       "\t5 & 7.4 & 0.7 & 0.0 & 1.9 & 0.076 & 11.0 & $\\dots$ \\\\\n",
       "\t6 & 7.4 & 0.66 & 0.0 & 1.8 & 0.075 & 13.0 & $\\dots$ \\\\\n",
       "\t7 & 7.9 & 0.6 & 0.06 & 1.6 & 0.069 & 15.0 & $\\dots$ \\\\\n",
       "\t8 & 7.3 & 0.65 & 0.0 & 1.2 & 0.065 & 15.0 & $\\dots$ \\\\\n",
       "\t9 & 7.8 & 0.58 & 0.02 & 2.0 & 0.073 & 9.0 & $\\dots$ \\\\\n",
       "\t10 & 7.5 & 0.5 & 0.36 & 6.1 & 0.071 & 17.0 & $\\dots$ \\\\\n",
       "\t11 & 6.7 & 0.58 & 0.08 & 1.8 & 0.097 & 15.0 & $\\dots$ \\\\\n",
       "\t12 & 7.5 & 0.5 & 0.36 & 6.1 & 0.071 & 17.0 & $\\dots$ \\\\\n",
       "\t13 & 5.6 & 0.615 & 0.0 & 1.6 & 0.089 & 16.0 & $\\dots$ \\\\\n",
       "\t14 & 7.8 & 0.61 & 0.29 & 1.6 & 0.114 & 9.0 & $\\dots$ \\\\\n",
       "\t15 & 8.9 & 0.62 & 0.18 & 3.8 & 0.176 & 52.0 & $\\dots$ \\\\\n",
       "\t16 & 8.9 & 0.62 & 0.19 & 3.9 & 0.17 & 51.0 & $\\dots$ \\\\\n",
       "\t17 & 8.5 & 0.28 & 0.56 & 1.8 & 0.092 & 35.0 & $\\dots$ \\\\\n",
       "\t18 & 8.1 & 0.56 & 0.28 & 1.7 & 0.368 & 16.0 & $\\dots$ \\\\\n",
       "\t19 & 7.4 & 0.59 & 0.08 & 4.4 & 0.086 & 6.0 & $\\dots$ \\\\\n",
       "\t20 & 7.9 & 0.32 & 0.51 & 1.8 & 0.341 & 17.0 & $\\dots$ \\\\\n",
       "\t21 & 8.9 & 0.22 & 0.48 & 1.8 & 0.077 & 29.0 & $\\dots$ \\\\\n",
       "\t22 & 7.6 & 0.39 & 0.31 & 2.3 & 0.082 & 23.0 & $\\dots$ \\\\\n",
       "\t23 & 7.9 & 0.43 & 0.21 & 1.6 & 0.106 & 10.0 & $\\dots$ \\\\\n",
       "\t24 & 8.5 & 0.49 & 0.11 & 2.3 & 0.084 & 9.0 & $\\dots$ \\\\\n",
       "\t25 & 6.9 & 0.4 & 0.14 & 2.4 & 0.085 & 21.0 & $\\dots$ \\\\\n",
       "\t26 & 6.3 & 0.39 & 0.16 & 1.4 & 0.08 & 11.0 & $\\dots$ \\\\\n",
       "\t27 & 7.6 & 0.41 & 0.24 & 1.8 & 0.08 & 4.0 & $\\dots$ \\\\\n",
       "\t28 & 7.9 & 0.43 & 0.21 & 1.6 & 0.106 & 10.0 & $\\dots$ \\\\\n",
       "\t29 & 7.1 & 0.71 & 0.0 & 1.9 & 0.08 & 14.0 & $\\dots$ \\\\\n",
       "\t30 & 7.8 & 0.645 & 0.0 & 2.0 & 0.082 & 8.0 & $\\dots$ \\\\\n",
       "\t$\\dots$ & $\\dots$ & $\\dots$ & $\\dots$ & $\\dots$ & $\\dots$ & $\\dots$ &  \\\\\n",
       "\\end{tabular}\n"
      ],
      "text/plain": [
       "\u001b[1m1599×12 DataFrame\u001b[0m\n",
       "\u001b[1m  Row \u001b[0m│\u001b[1m fixed acidity \u001b[0m\u001b[1m volatile acidity \u001b[0m\u001b[1m citric acid \u001b[0m\u001b[1m residual sugar \u001b[0m\u001b[1m chloride\u001b[0m ⋯\n",
       "\u001b[1m      \u001b[0m│\u001b[90m Float64       \u001b[0m\u001b[90m Float64          \u001b[0m\u001b[90m Float64     \u001b[0m\u001b[90m Float64        \u001b[0m\u001b[90m Float64 \u001b[0m ⋯\n",
       "──────┼─────────────────────────────────────────────────────────────────────────\n",
       "    1 │           7.4             0.7           0.0              1.9      0.07 ⋯\n",
       "    2 │           7.8             0.88          0.0              2.6      0.09\n",
       "    3 │           7.8             0.76          0.04             2.3      0.09\n",
       "    4 │          11.2             0.28          0.56             1.9      0.07\n",
       "    5 │           7.4             0.7           0.0              1.9      0.07 ⋯\n",
       "    6 │           7.4             0.66          0.0              1.8      0.07\n",
       "    7 │           7.9             0.6           0.06             1.6      0.06\n",
       "    8 │           7.3             0.65          0.0              1.2      0.06\n",
       "    9 │           7.8             0.58          0.02             2.0      0.07 ⋯\n",
       "   10 │           7.5             0.5           0.36             6.1      0.07\n",
       "   11 │           6.7             0.58          0.08             1.8      0.09\n",
       "  ⋮   │       ⋮               ⋮               ⋮             ⋮             ⋮    ⋱\n",
       " 1590 │           6.6             0.725         0.2              7.8      0.07\n",
       " 1591 │           6.3             0.55          0.15             1.8      0.07 ⋯\n",
       " 1592 │           5.4             0.74          0.09             1.7      0.08\n",
       " 1593 │           6.3             0.51          0.13             2.3      0.07\n",
       " 1594 │           6.8             0.62          0.08             1.9      0.06\n",
       " 1595 │           6.2             0.6           0.08             2.0      0.09 ⋯\n",
       " 1596 │           5.9             0.55          0.1              2.2      0.06\n",
       " 1597 │           6.3             0.51          0.13             2.3      0.07\n",
       " 1598 │           5.9             0.645         0.12             2.0      0.07\n",
       " 1599 │           6.0             0.31          0.47             3.6      0.06 ⋯\n",
       "\u001b[36m                                                 8 columns and 1578 rows omitted\u001b[0m"
      ]
     },
     "execution_count": 21,
     "metadata": {},
     "output_type": "execute_result"
    }
   ],
   "source": [
    "#Pkg.add(\"CSV\")\n",
    "using CSV\n",
    "input=\"winequality.csv\"\n",
    "mydata=CSV.read(input, delim=\";\",DataFrame)"
   ]
  },
  {
   "cell_type": "code",
   "execution_count": 22,
   "metadata": {},
   "outputs": [
    {
     "data": {
      "text/html": [
       "<table class=\"data-frame\"><thead><tr><th></th><th>variable</th><th>mean</th><th>min</th><th>median</th><th>max</th><th>nmissing</th><th>eltype</th></tr><tr><th></th><th>Symbol</th><th>Float64</th><th>Real</th><th>Float64</th><th>Real</th><th>Int64</th><th>DataType</th></tr></thead><tbody><p>12 rows × 7 columns</p><tr><th>1</th><td>fixed acidity</td><td>8.31964</td><td>4.6</td><td>7.9</td><td>15.9</td><td>0</td><td>Float64</td></tr><tr><th>2</th><td>volatile acidity</td><td>0.527821</td><td>0.12</td><td>0.52</td><td>1.58</td><td>0</td><td>Float64</td></tr><tr><th>3</th><td>citric acid</td><td>0.270976</td><td>0.0</td><td>0.26</td><td>1.0</td><td>0</td><td>Float64</td></tr><tr><th>4</th><td>residual sugar</td><td>2.53881</td><td>0.9</td><td>2.2</td><td>15.5</td><td>0</td><td>Float64</td></tr><tr><th>5</th><td>chlorides</td><td>0.0874665</td><td>0.012</td><td>0.079</td><td>0.611</td><td>0</td><td>Float64</td></tr><tr><th>6</th><td>free sulfur dioxide</td><td>15.8749</td><td>1.0</td><td>14.0</td><td>72.0</td><td>0</td><td>Float64</td></tr><tr><th>7</th><td>total sulfur dioxide</td><td>46.4678</td><td>6.0</td><td>38.0</td><td>289.0</td><td>0</td><td>Float64</td></tr><tr><th>8</th><td>density</td><td>0.996747</td><td>0.99007</td><td>0.99675</td><td>1.00369</td><td>0</td><td>Float64</td></tr><tr><th>9</th><td>pH</td><td>3.31111</td><td>2.74</td><td>3.31</td><td>4.01</td><td>0</td><td>Float64</td></tr><tr><th>10</th><td>sulphates</td><td>0.658149</td><td>0.33</td><td>0.62</td><td>2.0</td><td>0</td><td>Float64</td></tr><tr><th>11</th><td>alcohol</td><td>10.423</td><td>8.4</td><td>10.2</td><td>14.9</td><td>0</td><td>Float64</td></tr><tr><th>12</th><td>quality</td><td>5.63602</td><td>3</td><td>6.0</td><td>8</td><td>0</td><td>Int64</td></tr></tbody></table>"
      ],
      "text/latex": [
       "\\begin{tabular}{r|ccccccc}\n",
       "\t& variable & mean & min & median & max & nmissing & eltype\\\\\n",
       "\t\\hline\n",
       "\t& Symbol & Float64 & Real & Float64 & Real & Int64 & DataType\\\\\n",
       "\t\\hline\n",
       "\t1 & fixed acidity & 8.31964 & 4.6 & 7.9 & 15.9 & 0 & Float64 \\\\\n",
       "\t2 & volatile acidity & 0.527821 & 0.12 & 0.52 & 1.58 & 0 & Float64 \\\\\n",
       "\t3 & citric acid & 0.270976 & 0.0 & 0.26 & 1.0 & 0 & Float64 \\\\\n",
       "\t4 & residual sugar & 2.53881 & 0.9 & 2.2 & 15.5 & 0 & Float64 \\\\\n",
       "\t5 & chlorides & 0.0874665 & 0.012 & 0.079 & 0.611 & 0 & Float64 \\\\\n",
       "\t6 & free sulfur dioxide & 15.8749 & 1.0 & 14.0 & 72.0 & 0 & Float64 \\\\\n",
       "\t7 & total sulfur dioxide & 46.4678 & 6.0 & 38.0 & 289.0 & 0 & Float64 \\\\\n",
       "\t8 & density & 0.996747 & 0.99007 & 0.99675 & 1.00369 & 0 & Float64 \\\\\n",
       "\t9 & pH & 3.31111 & 2.74 & 3.31 & 4.01 & 0 & Float64 \\\\\n",
       "\t10 & sulphates & 0.658149 & 0.33 & 0.62 & 2.0 & 0 & Float64 \\\\\n",
       "\t11 & alcohol & 10.423 & 8.4 & 10.2 & 14.9 & 0 & Float64 \\\\\n",
       "\t12 & quality & 5.63602 & 3 & 6.0 & 8 & 0 & Int64 \\\\\n",
       "\\end{tabular}\n"
      ],
      "text/plain": [
       "\u001b[1m12×7 DataFrame\u001b[0m\n",
       "\u001b[1m Row \u001b[0m│\u001b[1m variable             \u001b[0m\u001b[1m mean       \u001b[0m\u001b[1m min     \u001b[0m\u001b[1m median   \u001b[0m\u001b[1m max     \u001b[0m\u001b[1m nmissing \u001b[0m\u001b[1m\u001b[0m ⋯\n",
       "\u001b[1m     \u001b[0m│\u001b[90m Symbol               \u001b[0m\u001b[90m Float64    \u001b[0m\u001b[90m Real    \u001b[0m\u001b[90m Float64  \u001b[0m\u001b[90m Real    \u001b[0m\u001b[90m Int64    \u001b[0m\u001b[90m\u001b[0m ⋯\n",
       "─────┼──────────────────────────────────────────────────────────────────────────\n",
       "   1 │ fixed acidity          8.31964        4.6   7.9         15.9         0  ⋯\n",
       "   2 │ volatile acidity       0.527821      0.12   0.52        1.58         0\n",
       "   3 │ citric acid            0.270976       0.0   0.26         1.0         0\n",
       "   4 │ residual sugar         2.53881        0.9   2.2         15.5         0\n",
       "   5 │ chlorides              0.0874665    0.012   0.079      0.611         0  ⋯\n",
       "   6 │ free sulfur dioxide   15.8749         1.0  14.0         72.0         0\n",
       "   7 │ total sulfur dioxide  46.4678         6.0  38.0        289.0         0\n",
       "   8 │ density                0.996747   0.99007   0.99675  1.00369         0\n",
       "   9 │ pH                     3.31111       2.74   3.31        4.01         0  ⋯\n",
       "  10 │ sulphates              0.658149      0.33   0.62         2.0         0\n",
       "  11 │ alcohol               10.423          8.4  10.2         14.9         0\n",
       "  12 │ quality                5.63602          3   6.0            8         0\n",
       "\u001b[36m                                                                1 column omitted\u001b[0m"
      ]
     },
     "execution_count": 22,
     "metadata": {},
     "output_type": "execute_result"
    }
   ],
   "source": [
    "describe(mydata)"
   ]
  },
  {
   "cell_type": "code",
   "execution_count": 23,
   "metadata": {},
   "outputs": [
    {
     "data": {
      "text/plain": [
       "DataFrame"
      ]
     },
     "execution_count": 23,
     "metadata": {},
     "output_type": "execute_result"
    }
   ],
   "source": [
    "typeof(mydata)"
   ]
  },
  {
   "cell_type": "code",
   "execution_count": 24,
   "metadata": {},
   "outputs": [
    {
     "data": {
      "text/plain": [
       "(1599, 12)"
      ]
     },
     "execution_count": 24,
     "metadata": {},
     "output_type": "execute_result"
    }
   ],
   "source": [
    "size(mydata)"
   ]
  },
  {
   "cell_type": "code",
   "execution_count": 25,
   "metadata": {},
   "outputs": [
    {
     "data": {
      "text/html": [
       "<p><b>GroupedDataFrame with 6 groups based on key: quality</b></p><p><i>First Group (681 rows): quality = 5</i></p><table class=\"data-frame\"><thead><tr><th></th><th>fixed acidity</th><th>volatile acidity</th><th>citric acid</th><th>residual sugar</th><th>chlorides</th><th>free sulfur dioxide</th></tr><tr><th></th><th>Float64</th><th>Float64</th><th>Float64</th><th>Float64</th><th>Float64</th><th>Float64</th></tr></thead><tbody><tr><th>1</th><td>7.4</td><td>0.7</td><td>0.0</td><td>1.9</td><td>0.076</td><td>11.0</td></tr><tr><th>2</th><td>7.8</td><td>0.88</td><td>0.0</td><td>2.6</td><td>0.098</td><td>25.0</td></tr><tr><th>3</th><td>7.8</td><td>0.76</td><td>0.04</td><td>2.3</td><td>0.092</td><td>15.0</td></tr><tr><th>4</th><td>7.4</td><td>0.7</td><td>0.0</td><td>1.9</td><td>0.076</td><td>11.0</td></tr><tr><th>5</th><td>7.4</td><td>0.66</td><td>0.0</td><td>1.8</td><td>0.075</td><td>13.0</td></tr><tr><th>6</th><td>7.9</td><td>0.6</td><td>0.06</td><td>1.6</td><td>0.069</td><td>15.0</td></tr><tr><th>7</th><td>7.5</td><td>0.5</td><td>0.36</td><td>6.1</td><td>0.071</td><td>17.0</td></tr><tr><th>8</th><td>6.7</td><td>0.58</td><td>0.08</td><td>1.8</td><td>0.097</td><td>15.0</td></tr><tr><th>9</th><td>7.5</td><td>0.5</td><td>0.36</td><td>6.1</td><td>0.071</td><td>17.0</td></tr><tr><th>10</th><td>5.6</td><td>0.615</td><td>0.0</td><td>1.6</td><td>0.089</td><td>16.0</td></tr><tr><th>11</th><td>7.8</td><td>0.61</td><td>0.29</td><td>1.6</td><td>0.114</td><td>9.0</td></tr><tr><th>12</th><td>8.9</td><td>0.62</td><td>0.18</td><td>3.8</td><td>0.176</td><td>52.0</td></tr><tr><th>13</th><td>8.9</td><td>0.62</td><td>0.19</td><td>3.9</td><td>0.17</td><td>51.0</td></tr><tr><th>14</th><td>8.1</td><td>0.56</td><td>0.28</td><td>1.7</td><td>0.368</td><td>16.0</td></tr><tr><th>15</th><td>7.6</td><td>0.39</td><td>0.31</td><td>2.3</td><td>0.082</td><td>23.0</td></tr><tr><th>16</th><td>7.9</td><td>0.43</td><td>0.21</td><td>1.6</td><td>0.106</td><td>10.0</td></tr><tr><th>17</th><td>8.5</td><td>0.49</td><td>0.11</td><td>2.3</td><td>0.084</td><td>9.0</td></tr><tr><th>18</th><td>6.3</td><td>0.39</td><td>0.16</td><td>1.4</td><td>0.08</td><td>11.0</td></tr><tr><th>19</th><td>7.6</td><td>0.41</td><td>0.24</td><td>1.8</td><td>0.08</td><td>4.0</td></tr><tr><th>20</th><td>7.9</td><td>0.43</td><td>0.21</td><td>1.6</td><td>0.106</td><td>10.0</td></tr><tr><th>21</th><td>7.1</td><td>0.71</td><td>0.0</td><td>1.9</td><td>0.08</td><td>14.0</td></tr><tr><th>22</th><td>6.7</td><td>0.675</td><td>0.07</td><td>2.4</td><td>0.089</td><td>17.0</td></tr><tr><th>23</th><td>8.3</td><td>0.655</td><td>0.12</td><td>2.3</td><td>0.083</td><td>15.0</td></tr><tr><th>24</th><td>5.2</td><td>0.32</td><td>0.25</td><td>1.8</td><td>0.103</td><td>13.0</td></tr><tr><th>25</th><td>7.3</td><td>0.45</td><td>0.36</td><td>5.9</td><td>0.074</td><td>12.0</td></tr><tr><th>26</th><td>7.3</td><td>0.45</td><td>0.36</td><td>5.9</td><td>0.074</td><td>12.0</td></tr><tr><th>27</th><td>8.1</td><td>0.66</td><td>0.22</td><td>2.2</td><td>0.069</td><td>9.0</td></tr><tr><th>28</th><td>6.8</td><td>0.67</td><td>0.02</td><td>1.8</td><td>0.05</td><td>5.0</td></tr><tr><th>29</th><td>7.7</td><td>0.935</td><td>0.43</td><td>2.2</td><td>0.114</td><td>22.0</td></tr><tr><th>30</th><td>8.7</td><td>0.29</td><td>0.52</td><td>1.6</td><td>0.113</td><td>12.0</td></tr><tr><th>&vellip;</th><td>&vellip;</td><td>&vellip;</td><td>&vellip;</td><td>&vellip;</td><td>&vellip;</td><td>&vellip;</td></tr></tbody></table><p>&vellip;</p><p><i>Last Group (10 rows): quality = 3</i></p><table class=\"data-frame\"><thead><tr><th></th><th>fixed acidity</th><th>volatile acidity</th><th>citric acid</th><th>residual sugar</th><th>chlorides</th><th>free sulfur dioxide</th></tr><tr><th></th><th>Float64</th><th>Float64</th><th>Float64</th><th>Float64</th><th>Float64</th><th>Float64</th></tr></thead><tbody><tr><th>1</th><td>11.6</td><td>0.58</td><td>0.66</td><td>2.2</td><td>0.074</td><td>10.0</td></tr><tr><th>2</th><td>10.4</td><td>0.61</td><td>0.49</td><td>2.1</td><td>0.2</td><td>5.0</td></tr><tr><th>3</th><td>7.4</td><td>1.185</td><td>0.0</td><td>4.25</td><td>0.097</td><td>5.0</td></tr><tr><th>4</th><td>10.4</td><td>0.44</td><td>0.42</td><td>1.5</td><td>0.145</td><td>34.0</td></tr><tr><th>5</th><td>8.3</td><td>1.02</td><td>0.02</td><td>3.4</td><td>0.084</td><td>6.0</td></tr><tr><th>6</th><td>7.6</td><td>1.58</td><td>0.0</td><td>2.1</td><td>0.137</td><td>5.0</td></tr><tr><th>7</th><td>6.8</td><td>0.815</td><td>0.0</td><td>1.2</td><td>0.267</td><td>16.0</td></tr><tr><th>8</th><td>7.3</td><td>0.98</td><td>0.05</td><td>2.1</td><td>0.061</td><td>20.0</td></tr><tr><th>9</th><td>7.1</td><td>0.875</td><td>0.05</td><td>5.7</td><td>0.082</td><td>3.0</td></tr><tr><th>10</th><td>6.7</td><td>0.76</td><td>0.02</td><td>1.8</td><td>0.078</td><td>6.0</td></tr></tbody></table>"
      ],
      "text/latex": [
       "GroupedDataFrame with 6 groups based on key: quality\n",
       "\n",
       "First Group (681 rows): quality = 5\n",
       "\n",
       "\\begin{tabular}{r|ccccccc}\n",
       "\t& fixed acidity & volatile acidity & citric acid & residual sugar & chlorides & free sulfur dioxide & \\\\\n",
       "\t\\hline\n",
       "\t& Float64 & Float64 & Float64 & Float64 & Float64 & Float64 & \\\\\n",
       "\t\\hline\n",
       "\t1 & 7.4 & 0.7 & 0.0 & 1.9 & 0.076 & 11.0 & $\\dots$ \\\\\n",
       "\t2 & 7.8 & 0.88 & 0.0 & 2.6 & 0.098 & 25.0 & $\\dots$ \\\\\n",
       "\t3 & 7.8 & 0.76 & 0.04 & 2.3 & 0.092 & 15.0 & $\\dots$ \\\\\n",
       "\t4 & 7.4 & 0.7 & 0.0 & 1.9 & 0.076 & 11.0 & $\\dots$ \\\\\n",
       "\t5 & 7.4 & 0.66 & 0.0 & 1.8 & 0.075 & 13.0 & $\\dots$ \\\\\n",
       "\t6 & 7.9 & 0.6 & 0.06 & 1.6 & 0.069 & 15.0 & $\\dots$ \\\\\n",
       "\t7 & 7.5 & 0.5 & 0.36 & 6.1 & 0.071 & 17.0 & $\\dots$ \\\\\n",
       "\t8 & 6.7 & 0.58 & 0.08 & 1.8 & 0.097 & 15.0 & $\\dots$ \\\\\n",
       "\t9 & 7.5 & 0.5 & 0.36 & 6.1 & 0.071 & 17.0 & $\\dots$ \\\\\n",
       "\t10 & 5.6 & 0.615 & 0.0 & 1.6 & 0.089 & 16.0 & $\\dots$ \\\\\n",
       "\t11 & 7.8 & 0.61 & 0.29 & 1.6 & 0.114 & 9.0 & $\\dots$ \\\\\n",
       "\t12 & 8.9 & 0.62 & 0.18 & 3.8 & 0.176 & 52.0 & $\\dots$ \\\\\n",
       "\t13 & 8.9 & 0.62 & 0.19 & 3.9 & 0.17 & 51.0 & $\\dots$ \\\\\n",
       "\t14 & 8.1 & 0.56 & 0.28 & 1.7 & 0.368 & 16.0 & $\\dots$ \\\\\n",
       "\t15 & 7.6 & 0.39 & 0.31 & 2.3 & 0.082 & 23.0 & $\\dots$ \\\\\n",
       "\t16 & 7.9 & 0.43 & 0.21 & 1.6 & 0.106 & 10.0 & $\\dots$ \\\\\n",
       "\t17 & 8.5 & 0.49 & 0.11 & 2.3 & 0.084 & 9.0 & $\\dots$ \\\\\n",
       "\t18 & 6.3 & 0.39 & 0.16 & 1.4 & 0.08 & 11.0 & $\\dots$ \\\\\n",
       "\t19 & 7.6 & 0.41 & 0.24 & 1.8 & 0.08 & 4.0 & $\\dots$ \\\\\n",
       "\t20 & 7.9 & 0.43 & 0.21 & 1.6 & 0.106 & 10.0 & $\\dots$ \\\\\n",
       "\t21 & 7.1 & 0.71 & 0.0 & 1.9 & 0.08 & 14.0 & $\\dots$ \\\\\n",
       "\t22 & 6.7 & 0.675 & 0.07 & 2.4 & 0.089 & 17.0 & $\\dots$ \\\\\n",
       "\t23 & 8.3 & 0.655 & 0.12 & 2.3 & 0.083 & 15.0 & $\\dots$ \\\\\n",
       "\t24 & 5.2 & 0.32 & 0.25 & 1.8 & 0.103 & 13.0 & $\\dots$ \\\\\n",
       "\t25 & 7.3 & 0.45 & 0.36 & 5.9 & 0.074 & 12.0 & $\\dots$ \\\\\n",
       "\t26 & 7.3 & 0.45 & 0.36 & 5.9 & 0.074 & 12.0 & $\\dots$ \\\\\n",
       "\t27 & 8.1 & 0.66 & 0.22 & 2.2 & 0.069 & 9.0 & $\\dots$ \\\\\n",
       "\t28 & 6.8 & 0.67 & 0.02 & 1.8 & 0.05 & 5.0 & $\\dots$ \\\\\n",
       "\t29 & 7.7 & 0.935 & 0.43 & 2.2 & 0.114 & 22.0 & $\\dots$ \\\\\n",
       "\t30 & 8.7 & 0.29 & 0.52 & 1.6 & 0.113 & 12.0 & $\\dots$ \\\\\n",
       "\t$\\dots$ & $\\dots$ & $\\dots$ & $\\dots$ & $\\dots$ & $\\dots$ & $\\dots$ &  \\\\\n",
       "\\end{tabular}\n",
       "\n",
       "$\\dots$\n",
       "\n",
       "Last Group (10 rows): quality = 3\n",
       "\n",
       "\\begin{tabular}{r|ccccccc}\n",
       "\t& fixed acidity & volatile acidity & citric acid & residual sugar & chlorides & free sulfur dioxide & \\\\\n",
       "\t\\hline\n",
       "\t& Float64 & Float64 & Float64 & Float64 & Float64 & Float64 & \\\\\n",
       "\t\\hline\n",
       "\t1 & 11.6 & 0.58 & 0.66 & 2.2 & 0.074 & 10.0 & $\\dots$ \\\\\n",
       "\t2 & 10.4 & 0.61 & 0.49 & 2.1 & 0.2 & 5.0 & $\\dots$ \\\\\n",
       "\t3 & 7.4 & 1.185 & 0.0 & 4.25 & 0.097 & 5.0 & $\\dots$ \\\\\n",
       "\t4 & 10.4 & 0.44 & 0.42 & 1.5 & 0.145 & 34.0 & $\\dots$ \\\\\n",
       "\t5 & 8.3 & 1.02 & 0.02 & 3.4 & 0.084 & 6.0 & $\\dots$ \\\\\n",
       "\t6 & 7.6 & 1.58 & 0.0 & 2.1 & 0.137 & 5.0 & $\\dots$ \\\\\n",
       "\t7 & 6.8 & 0.815 & 0.0 & 1.2 & 0.267 & 16.0 & $\\dots$ \\\\\n",
       "\t8 & 7.3 & 0.98 & 0.05 & 2.1 & 0.061 & 20.0 & $\\dots$ \\\\\n",
       "\t9 & 7.1 & 0.875 & 0.05 & 5.7 & 0.082 & 3.0 & $\\dots$ \\\\\n",
       "\t10 & 6.7 & 0.76 & 0.02 & 1.8 & 0.078 & 6.0 & $\\dots$ \\\\\n",
       "\\end{tabular}\n"
      ],
      "text/plain": [
       "GroupedDataFrame with 6 groups based on key: quality\n",
       "First Group (681 rows): quality = 5\n",
       "\u001b[1m Row \u001b[0m│\u001b[1m fixed acidity \u001b[0m\u001b[1m volatile acidity \u001b[0m\u001b[1m citric acid \u001b[0m\u001b[1m residual sugar \u001b[0m\u001b[1m chlorides\u001b[0m ⋯\n",
       "\u001b[1m     \u001b[0m│\u001b[90m Float64       \u001b[0m\u001b[90m Float64          \u001b[0m\u001b[90m Float64     \u001b[0m\u001b[90m Float64        \u001b[0m\u001b[90m Float64  \u001b[0m ⋯\n",
       "─────┼──────────────────────────────────────────────────────────────────────────\n",
       "   1 │           7.4             0.7           0.0              1.9      0.076 ⋯\n",
       "   2 │           7.8             0.88          0.0              2.6      0.098\n",
       "   3 │           7.8             0.76          0.04             2.3      0.092\n",
       "   4 │           7.4             0.7           0.0              1.9      0.076\n",
       "   5 │           7.4             0.66          0.0              1.8      0.075 ⋯\n",
       "   6 │           7.9             0.6           0.06             1.6      0.069\n",
       "   7 │           7.5             0.5           0.36             6.1      0.071\n",
       "   8 │           6.7             0.58          0.08             1.8      0.097\n",
       "   9 │           7.5             0.5           0.36             6.1      0.071 ⋯\n",
       "  10 │           5.6             0.615         0.0              1.6      0.089\n",
       "  11 │           7.8             0.61          0.29             1.6      0.114\n",
       "  ⋮  │       ⋮               ⋮               ⋮             ⋮             ⋮     ⋱\n",
       " 671 │           7.2             0.695         0.13             2.0      0.076\n",
       " 672 │           7.2             0.695         0.13             2.0      0.076 ⋯\n",
       " 673 │           7.0             0.56          0.13             1.6      0.077\n",
       " 674 │           7.3             0.69          0.32             2.2      0.069\n",
       " 675 │           6.2             0.56          0.09             1.7      0.053\n",
       " 676 │           6.2             0.56          0.09             1.7      0.053 ⋯\n",
       " 677 │           6.1             0.715         0.1              2.6      0.053\n",
       " 678 │           6.2             0.46          0.29             2.1      0.074\n",
       " 679 │           6.6             0.725         0.2              7.8      0.073\n",
       " 680 │           6.2             0.6           0.08             2.0      0.09  ⋯\n",
       " 681 │           5.9             0.645         0.12             2.0      0.075\n",
       "\u001b[36m                                                  7 columns and 659 rows omitted\u001b[0m\n",
       "⋮\n",
       "Last Group (10 rows): quality = 3\n",
       "\u001b[1m Row \u001b[0m│\u001b[1m fixed acidity \u001b[0m\u001b[1m volatile acidity \u001b[0m\u001b[1m citric acid \u001b[0m\u001b[1m residual sugar \u001b[0m\u001b[1m chlorides\u001b[0m ⋯\n",
       "\u001b[1m     \u001b[0m│\u001b[90m Float64       \u001b[0m\u001b[90m Float64          \u001b[0m\u001b[90m Float64     \u001b[0m\u001b[90m Float64        \u001b[0m\u001b[90m Float64  \u001b[0m ⋯\n",
       "─────┼──────────────────────────────────────────────────────────────────────────\n",
       "   1 │          11.6             0.58          0.66            2.2       0.074 ⋯\n",
       "   2 │          10.4             0.61          0.49            2.1       0.2\n",
       "   3 │           7.4             1.185         0.0             4.25      0.097\n",
       "   4 │          10.4             0.44          0.42            1.5       0.145\n",
       "   5 │           8.3             1.02          0.02            3.4       0.084 ⋯\n",
       "   6 │           7.6             1.58          0.0             2.1       0.137\n",
       "   7 │           6.8             0.815         0.0             1.2       0.267\n",
       "   8 │           7.3             0.98          0.05            2.1       0.061\n",
       "   9 │           7.1             0.875         0.05            5.7       0.082 ⋯\n",
       "  10 │           6.7             0.76          0.02            1.8       0.078\n",
       "\u001b[36m                                                               7 columns omitted\u001b[0m"
      ]
     },
     "execution_count": 25,
     "metadata": {},
     "output_type": "execute_result"
    }
   ],
   "source": [
    "# Dzielenie DataFrame na podgrupy i działania na nich\n",
    "\n",
    "# Split - Apply - Combine\n",
    "\n",
    "#https://dataframes.juliadata.org/stable/man/split_apply_combine/\n",
    "\n",
    "# rozdzielanie na podgrupy po jakości wina (quality)\n",
    "# Split\n",
    "\n",
    "wine_grouped=groupby(mydata, :quality)"
   ]
  },
  {
   "cell_type": "code",
   "execution_count": 26,
   "metadata": {},
   "outputs": [
    {
     "data": {
      "text/html": [
       "<table class=\"data-frame\"><thead><tr><th></th><th>quality</th><th>nrow</th></tr><tr><th></th><th>Int64</th><th>Int64</th></tr></thead><tbody><p>6 rows × 2 columns</p><tr><th>1</th><td>5</td><td>681</td></tr><tr><th>2</th><td>6</td><td>638</td></tr><tr><th>3</th><td>7</td><td>199</td></tr><tr><th>4</th><td>4</td><td>53</td></tr><tr><th>5</th><td>8</td><td>18</td></tr><tr><th>6</th><td>3</td><td>10</td></tr></tbody></table>"
      ],
      "text/latex": [
       "\\begin{tabular}{r|cc}\n",
       "\t& quality & nrow\\\\\n",
       "\t\\hline\n",
       "\t& Int64 & Int64\\\\\n",
       "\t\\hline\n",
       "\t1 & 5 & 681 \\\\\n",
       "\t2 & 6 & 638 \\\\\n",
       "\t3 & 7 & 199 \\\\\n",
       "\t4 & 4 & 53 \\\\\n",
       "\t5 & 8 & 18 \\\\\n",
       "\t6 & 3 & 10 \\\\\n",
       "\\end{tabular}\n"
      ],
      "text/plain": [
       "\u001b[1m6×2 DataFrame\u001b[0m\n",
       "\u001b[1m Row \u001b[0m│\u001b[1m quality \u001b[0m\u001b[1m nrow  \u001b[0m\n",
       "\u001b[1m     \u001b[0m│\u001b[90m Int64   \u001b[0m\u001b[90m Int64 \u001b[0m\n",
       "─────┼────────────────\n",
       "   1 │       5    681\n",
       "   2 │       6    638\n",
       "   3 │       7    199\n",
       "   4 │       4     53\n",
       "   5 │       8     18\n",
       "   6 │       3     10"
      ]
     },
     "execution_count": 26,
     "metadata": {},
     "output_type": "execute_result"
    }
   ],
   "source": [
    "\n",
    "# podsumowanie ile jest win w każdej grupie \n",
    "combine(wine_grouped, nrow)"
   ]
  },
  {
   "cell_type": "code",
   "execution_count": 27,
   "metadata": {},
   "outputs": [
    {
     "data": {
      "text/html": [
       "<table class=\"data-frame\"><thead><tr><th></th><th>quality</th><th>fixed acidity_mean</th></tr><tr><th></th><th>Int64</th><th>Float64</th></tr></thead><tbody><p>6 rows × 2 columns</p><tr><th>1</th><td>5</td><td>8.16725</td></tr><tr><th>2</th><td>6</td><td>8.34718</td></tr><tr><th>3</th><td>7</td><td>8.87236</td></tr><tr><th>4</th><td>4</td><td>7.77925</td></tr><tr><th>5</th><td>8</td><td>8.56667</td></tr><tr><th>6</th><td>3</td><td>8.36</td></tr></tbody></table>"
      ],
      "text/latex": [
       "\\begin{tabular}{r|cc}\n",
       "\t& quality & fixed acidity\\_mean\\\\\n",
       "\t\\hline\n",
       "\t& Int64 & Float64\\\\\n",
       "\t\\hline\n",
       "\t1 & 5 & 8.16725 \\\\\n",
       "\t2 & 6 & 8.34718 \\\\\n",
       "\t3 & 7 & 8.87236 \\\\\n",
       "\t4 & 4 & 7.77925 \\\\\n",
       "\t5 & 8 & 8.56667 \\\\\n",
       "\t6 & 3 & 8.36 \\\\\n",
       "\\end{tabular}\n"
      ],
      "text/plain": [
       "\u001b[1m6×2 DataFrame\u001b[0m\n",
       "\u001b[1m Row \u001b[0m│\u001b[1m quality \u001b[0m\u001b[1m fixed acidity_mean \u001b[0m\n",
       "\u001b[1m     \u001b[0m│\u001b[90m Int64   \u001b[0m\u001b[90m Float64            \u001b[0m\n",
       "─────┼─────────────────────────────\n",
       "   1 │       5             8.16725\n",
       "   2 │       6             8.34718\n",
       "   3 │       7             8.87236\n",
       "   4 │       4             7.77925\n",
       "   5 │       8             8.56667\n",
       "   6 │       3             8.36"
      ]
     },
     "execution_count": 27,
     "metadata": {},
     "output_type": "execute_result"
    }
   ],
   "source": [
    "combine(wine_grouped, \"fixed acidity\" => mean)"
   ]
  },
  {
   "cell_type": "code",
   "execution_count": 28,
   "metadata": {},
   "outputs": [
    {
     "data": {
      "text/html": [
       "<table class=\"data-frame\"><thead><tr><th></th><th>quality</th><th>alcohol</th><th>liczba</th></tr><tr><th></th><th>Int64</th><th>Float64</th><th>Int64</th></tr></thead><tbody><p>190 rows × 3 columns</p><tr><th>1</th><td>3</td><td>8.4</td><td>1</td></tr><tr><th>2</th><td>3</td><td>9.0</td><td>1</td></tr><tr><th>3</th><td>3</td><td>9.7</td><td>1</td></tr><tr><th>4</th><td>3</td><td>9.8</td><td>1</td></tr><tr><th>5</th><td>3</td><td>9.9</td><td>1</td></tr><tr><th>6</th><td>3</td><td>9.95</td><td>1</td></tr><tr><th>7</th><td>3</td><td>10.2</td><td>1</td></tr><tr><th>8</th><td>3</td><td>10.7</td><td>1</td></tr><tr><th>9</th><td>3</td><td>10.9</td><td>1</td></tr><tr><th>10</th><td>3</td><td>11.0</td><td>1</td></tr><tr><th>11</th><td>4</td><td>9.0</td><td>2</td></tr><tr><th>12</th><td>4</td><td>9.05</td><td>1</td></tr><tr><th>13</th><td>4</td><td>9.1</td><td>2</td></tr><tr><th>14</th><td>4</td><td>9.2</td><td>3</td></tr><tr><th>15</th><td>4</td><td>9.3</td><td>2</td></tr><tr><th>16</th><td>4</td><td>9.4</td><td>2</td></tr><tr><th>17</th><td>4</td><td>9.6</td><td>6</td></tr><tr><th>18</th><td>4</td><td>9.7</td><td>2</td></tr><tr><th>19</th><td>4</td><td>9.8</td><td>3</td></tr><tr><th>20</th><td>4</td><td>9.9</td><td>1</td></tr><tr><th>21</th><td>4</td><td>10.0</td><td>4</td></tr><tr><th>22</th><td>4</td><td>10.1</td><td>1</td></tr><tr><th>23</th><td>4</td><td>10.3</td><td>1</td></tr><tr><th>24</th><td>4</td><td>10.4</td><td>3</td></tr><tr><th>25</th><td>4</td><td>10.5</td><td>1</td></tr><tr><th>26</th><td>4</td><td>10.9</td><td>3</td></tr><tr><th>27</th><td>4</td><td>11.0</td><td>4</td></tr><tr><th>28</th><td>4</td><td>11.1</td><td>1</td></tr><tr><th>29</th><td>4</td><td>11.2</td><td>3</td></tr><tr><th>30</th><td>4</td><td>11.3</td><td>1</td></tr><tr><th>&vellip;</th><td>&vellip;</td><td>&vellip;</td><td>&vellip;</td></tr></tbody></table>"
      ],
      "text/latex": [
       "\\begin{tabular}{r|ccc}\n",
       "\t& quality & alcohol & liczba\\\\\n",
       "\t\\hline\n",
       "\t& Int64 & Float64 & Int64\\\\\n",
       "\t\\hline\n",
       "\t1 & 3 & 8.4 & 1 \\\\\n",
       "\t2 & 3 & 9.0 & 1 \\\\\n",
       "\t3 & 3 & 9.7 & 1 \\\\\n",
       "\t4 & 3 & 9.8 & 1 \\\\\n",
       "\t5 & 3 & 9.9 & 1 \\\\\n",
       "\t6 & 3 & 9.95 & 1 \\\\\n",
       "\t7 & 3 & 10.2 & 1 \\\\\n",
       "\t8 & 3 & 10.7 & 1 \\\\\n",
       "\t9 & 3 & 10.9 & 1 \\\\\n",
       "\t10 & 3 & 11.0 & 1 \\\\\n",
       "\t11 & 4 & 9.0 & 2 \\\\\n",
       "\t12 & 4 & 9.05 & 1 \\\\\n",
       "\t13 & 4 & 9.1 & 2 \\\\\n",
       "\t14 & 4 & 9.2 & 3 \\\\\n",
       "\t15 & 4 & 9.3 & 2 \\\\\n",
       "\t16 & 4 & 9.4 & 2 \\\\\n",
       "\t17 & 4 & 9.6 & 6 \\\\\n",
       "\t18 & 4 & 9.7 & 2 \\\\\n",
       "\t19 & 4 & 9.8 & 3 \\\\\n",
       "\t20 & 4 & 9.9 & 1 \\\\\n",
       "\t21 & 4 & 10.0 & 4 \\\\\n",
       "\t22 & 4 & 10.1 & 1 \\\\\n",
       "\t23 & 4 & 10.3 & 1 \\\\\n",
       "\t24 & 4 & 10.4 & 3 \\\\\n",
       "\t25 & 4 & 10.5 & 1 \\\\\n",
       "\t26 & 4 & 10.9 & 3 \\\\\n",
       "\t27 & 4 & 11.0 & 4 \\\\\n",
       "\t28 & 4 & 11.1 & 1 \\\\\n",
       "\t29 & 4 & 11.2 & 3 \\\\\n",
       "\t30 & 4 & 11.3 & 1 \\\\\n",
       "\t$\\dots$ & $\\dots$ & $\\dots$ & $\\dots$ \\\\\n",
       "\\end{tabular}\n"
      ],
      "text/plain": [
       "\u001b[1m190×3 DataFrame\u001b[0m\n",
       "\u001b[1m Row \u001b[0m│\u001b[1m quality \u001b[0m\u001b[1m alcohol \u001b[0m\u001b[1m liczba \u001b[0m\n",
       "\u001b[1m     \u001b[0m│\u001b[90m Int64   \u001b[0m\u001b[90m Float64 \u001b[0m\u001b[90m Int64  \u001b[0m\n",
       "─────┼──────────────────────────\n",
       "   1 │       3     8.4        1\n",
       "   2 │       3     9.0        1\n",
       "   3 │       3     9.7        1\n",
       "   4 │       3     9.8        1\n",
       "   5 │       3     9.9        1\n",
       "   6 │       3     9.95       1\n",
       "   7 │       3    10.2        1\n",
       "   8 │       3    10.7        1\n",
       "   9 │       3    10.9        1\n",
       "  10 │       3    11.0        1\n",
       "  11 │       4     9.0        2\n",
       "  ⋮  │    ⋮        ⋮       ⋮\n",
       " 181 │       8    11.7        2\n",
       " 182 │       8    11.8        1\n",
       " 183 │       8    12.5        1\n",
       " 184 │       8    12.6        1\n",
       " 185 │       8    12.7        1\n",
       " 186 │       8    12.8        1\n",
       " 187 │       8    12.9        1\n",
       " 188 │       8    13.1        1\n",
       " 189 │       8    13.4        1\n",
       " 190 │       8    14.0        2\n",
       "\u001b[36m                169 rows omitted\u001b[0m"
      ]
     },
     "execution_count": 28,
     "metadata": {},
     "output_type": "execute_result"
    }
   ],
   "source": [
    "# zliczenie liczby win o danej jakości i zawartości alkoholu, posortowane\n",
    "wine_grouped2=sort(combine(groupby(mydata, [:quality,:alcohol]), nrow=> :liczba), [:quality,:alcohol])"
   ]
  },
  {
   "cell_type": "code",
   "execution_count": 29,
   "metadata": {},
   "outputs": [
    {
     "data": {
      "text/plain": [
       "\"dataframe1.csv\""
      ]
     },
     "execution_count": 29,
     "metadata": {},
     "output_type": "execute_result"
    }
   ],
   "source": [
    "# zapis do pliku\n",
    "CSV.write(\"dataframe1.csv\", wine_grouped2)"
   ]
  },
  {
   "cell_type": "markdown",
   "metadata": {},
   "source": [
    "\n",
    "### Graficzna reprezentacja DataFrames\n",
    "\n",
    "\n"
   ]
  },
  {
   "cell_type": "code",
   "execution_count": 30,
   "metadata": {},
   "outputs": [
    {
     "data": {
      "text/html": [
       "<table class=\"data-frame\"><thead><tr><th></th><th>a</th><th>b</th><th>c</th><th>d</th><th>e</th></tr><tr><th></th><th>Int64</th><th>Int64</th><th>Float64</th><th>Float64</th><th>Int64</th></tr></thead><tbody><p>10 rows × 5 columns</p><tr><th>1</th><td>1</td><td>2</td><td>0.0</td><td>0.134835</td><td>1</td></tr><tr><th>2</th><td>2</td><td>4</td><td>0.693147</td><td>0.967836</td><td>0</td></tr><tr><th>3</th><td>3</td><td>6</td><td>1.09861</td><td>0.101441</td><td>1</td></tr><tr><th>4</th><td>4</td><td>8</td><td>1.38629</td><td>0.396273</td><td>0</td></tr><tr><th>5</th><td>5</td><td>10</td><td>1.60944</td><td>0.969678</td><td>1</td></tr><tr><th>6</th><td>6</td><td>12</td><td>1.79176</td><td>0.36961</td><td>0</td></tr><tr><th>7</th><td>7</td><td>14</td><td>1.94591</td><td>0.498787</td><td>1</td></tr><tr><th>8</th><td>8</td><td>16</td><td>2.07944</td><td>0.603347</td><td>0</td></tr><tr><th>9</th><td>9</td><td>18</td><td>2.19722</td><td>0.493277</td><td>1</td></tr><tr><th>10</th><td>10</td><td>20</td><td>2.30259</td><td>0.760243</td><td>0</td></tr></tbody></table>"
      ],
      "text/latex": [
       "\\begin{tabular}{r|ccccc}\n",
       "\t& a & b & c & d & e\\\\\n",
       "\t\\hline\n",
       "\t& Int64 & Int64 & Float64 & Float64 & Int64\\\\\n",
       "\t\\hline\n",
       "\t1 & 1 & 2 & 0.0 & 0.134835 & 1 \\\\\n",
       "\t2 & 2 & 4 & 0.693147 & 0.967836 & 0 \\\\\n",
       "\t3 & 3 & 6 & 1.09861 & 0.101441 & 1 \\\\\n",
       "\t4 & 4 & 8 & 1.38629 & 0.396273 & 0 \\\\\n",
       "\t5 & 5 & 10 & 1.60944 & 0.969678 & 1 \\\\\n",
       "\t6 & 6 & 12 & 1.79176 & 0.36961 & 0 \\\\\n",
       "\t7 & 7 & 14 & 1.94591 & 0.498787 & 1 \\\\\n",
       "\t8 & 8 & 16 & 2.07944 & 0.603347 & 0 \\\\\n",
       "\t9 & 9 & 18 & 2.19722 & 0.493277 & 1 \\\\\n",
       "\t10 & 10 & 20 & 2.30259 & 0.760243 & 0 \\\\\n",
       "\\end{tabular}\n"
      ],
      "text/plain": [
       "\u001b[1m10×5 DataFrame\u001b[0m\n",
       "\u001b[1m Row \u001b[0m│\u001b[1m a     \u001b[0m\u001b[1m b     \u001b[0m\u001b[1m c        \u001b[0m\u001b[1m d        \u001b[0m\u001b[1m e     \u001b[0m\n",
       "\u001b[1m     \u001b[0m│\u001b[90m Int64 \u001b[0m\u001b[90m Int64 \u001b[0m\u001b[90m Float64  \u001b[0m\u001b[90m Float64  \u001b[0m\u001b[90m Int64 \u001b[0m\n",
       "─────┼─────────────────────────────────────────\n",
       "   1 │     1      2  0.0       0.134835      1\n",
       "   2 │     2      4  0.693147  0.967836      0\n",
       "   3 │     3      6  1.09861   0.101441      1\n",
       "   4 │     4      8  1.38629   0.396273      0\n",
       "   5 │     5     10  1.60944   0.969678      1\n",
       "   6 │     6     12  1.79176   0.36961       0\n",
       "   7 │     7     14  1.94591   0.498787      1\n",
       "   8 │     8     16  2.07944   0.603347      0\n",
       "   9 │     9     18  2.19722   0.493277      1\n",
       "  10 │    10     20  2.30259   0.760243      0"
      ]
     },
     "execution_count": 30,
     "metadata": {},
     "output_type": "execute_result"
    }
   ],
   "source": [
    "using DataFrames\n",
    "df = DataFrame(a = 1:10, b = map(x->2x,(1:10)), c = map(x->log(x),(1:10)), d=rand(10), e=map(x->x%2,(1:10)))"
   ]
  },
  {
   "cell_type": "code",
   "execution_count": 36,
   "metadata": {},
   "outputs": [
    {
     "data": {
      "image/svg+xml": [
       "<?xml version=\"1.0\" encoding=\"utf-8\"?>\n",
       "<svg xmlns=\"http://www.w3.org/2000/svg\" xmlns:xlink=\"http://www.w3.org/1999/xlink\" width=\"600\" height=\"400\" viewBox=\"0 0 2400 1600\">\n",
       "<defs>\n",
       "  <clipPath id=\"clip210\">\n",
       "    <rect x=\"0\" y=\"0\" width=\"2400\" height=\"1600\"/>\n",
       "  </clipPath>\n",
       "</defs>\n",
       "<path clip-path=\"url(#clip210)\" d=\"\n",
       "M0 1600 L2400 1600 L2400 0 L0 0  Z\n",
       "  \" fill=\"#ffffff\" fill-rule=\"evenodd\" fill-opacity=\"1\"/>\n",
       "<defs>\n",
       "  <clipPath id=\"clip211\">\n",
       "    <rect x=\"480\" y=\"0\" width=\"1681\" height=\"1600\"/>\n",
       "  </clipPath>\n",
       "</defs>\n",
       "<path clip-path=\"url(#clip210)\" d=\"\n",
       "M135.95 1486.45 L2352.76 1486.45 L2352.76 47.2441 L135.95 47.2441  Z\n",
       "  \" fill=\"#ffffff\" fill-rule=\"evenodd\" fill-opacity=\"1\"/>\n",
       "<defs>\n",
       "  <clipPath id=\"clip212\">\n",
       "    <rect x=\"135\" y=\"47\" width=\"2218\" height=\"1440\"/>\n",
       "  </clipPath>\n",
       "</defs>\n",
       "<polyline clip-path=\"url(#clip212)\" style=\"stroke:#000000; stroke-width:2; stroke-opacity:0.1; fill:none\" points=\"\n",
       "  431.06,1486.45 431.06,47.2441 \n",
       "  \"/>\n",
       "<polyline clip-path=\"url(#clip212)\" style=\"stroke:#000000; stroke-width:2; stroke-opacity:0.1; fill:none\" points=\"\n",
       "  895.799,1486.45 895.799,47.2441 \n",
       "  \"/>\n",
       "<polyline clip-path=\"url(#clip212)\" style=\"stroke:#000000; stroke-width:2; stroke-opacity:0.1; fill:none\" points=\"\n",
       "  1360.54,1486.45 1360.54,47.2441 \n",
       "  \"/>\n",
       "<polyline clip-path=\"url(#clip212)\" style=\"stroke:#000000; stroke-width:2; stroke-opacity:0.1; fill:none\" points=\"\n",
       "  1825.28,1486.45 1825.28,47.2441 \n",
       "  \"/>\n",
       "<polyline clip-path=\"url(#clip212)\" style=\"stroke:#000000; stroke-width:2; stroke-opacity:0.1; fill:none\" points=\"\n",
       "  2290.02,1486.45 2290.02,47.2441 \n",
       "  \"/>\n",
       "<polyline clip-path=\"url(#clip210)\" style=\"stroke:#000000; stroke-width:4; stroke-opacity:1; fill:none\" points=\"\n",
       "  135.95,1486.45 2352.76,1486.45 \n",
       "  \"/>\n",
       "<polyline clip-path=\"url(#clip210)\" style=\"stroke:#000000; stroke-width:4; stroke-opacity:1; fill:none\" points=\"\n",
       "  431.06,1486.45 431.06,1469.18 \n",
       "  \"/>\n",
       "<polyline clip-path=\"url(#clip210)\" style=\"stroke:#000000; stroke-width:4; stroke-opacity:1; fill:none\" points=\"\n",
       "  895.799,1486.45 895.799,1469.18 \n",
       "  \"/>\n",
       "<polyline clip-path=\"url(#clip210)\" style=\"stroke:#000000; stroke-width:4; stroke-opacity:1; fill:none\" points=\"\n",
       "  1360.54,1486.45 1360.54,1469.18 \n",
       "  \"/>\n",
       "<polyline clip-path=\"url(#clip210)\" style=\"stroke:#000000; stroke-width:4; stroke-opacity:1; fill:none\" points=\"\n",
       "  1825.28,1486.45 1825.28,1469.18 \n",
       "  \"/>\n",
       "<polyline clip-path=\"url(#clip210)\" style=\"stroke:#000000; stroke-width:4; stroke-opacity:1; fill:none\" points=\"\n",
       "  2290.02,1486.45 2290.02,1469.18 \n",
       "  \"/>\n",
       "<path clip-path=\"url(#clip210)\" d=\"M 0 0 M425.712 1543.18 L442.032 1543.18 L442.032 1547.12 L420.087 1547.12 L420.087 1543.18 Q422.749 1540.43 427.333 1535.8 Q431.939 1531.15 433.12 1529.81 Q435.365 1527.28 436.245 1525.55 Q437.147 1523.79 437.147 1522.1 Q437.147 1519.34 435.203 1517.61 Q433.282 1515.87 430.18 1515.87 Q427.981 1515.87 425.527 1516.63 Q423.097 1517.4 420.319 1518.95 L420.319 1514.23 Q423.143 1513.09 425.597 1512.51 Q428.05 1511.93 430.087 1511.93 Q435.458 1511.93 438.652 1514.62 Q441.847 1517.31 441.847 1521.8 Q441.847 1523.93 441.036 1525.85 Q440.249 1527.74 438.143 1530.34 Q437.564 1531.01 434.462 1534.23 Q431.36 1537.42 425.712 1543.18 Z\" fill=\"#000000\" fill-rule=\"evenodd\" fill-opacity=\"1\" /><path clip-path=\"url(#clip210)\" d=\"M 0 0 M898.808 1516.63 L887.002 1535.08 L898.808 1535.08 L898.808 1516.63 M897.581 1512.56 L903.461 1512.56 L903.461 1535.08 L908.391 1535.08 L908.391 1538.97 L903.461 1538.97 L903.461 1547.12 L898.808 1547.12 L898.808 1538.97 L883.206 1538.97 L883.206 1534.46 L897.581 1512.56 Z\" fill=\"#000000\" fill-rule=\"evenodd\" fill-opacity=\"1\" /><path clip-path=\"url(#clip210)\" d=\"M 0 0 M1360.94 1527.98 Q1357.79 1527.98 1355.94 1530.13 Q1354.11 1532.28 1354.11 1536.03 Q1354.11 1539.76 1355.94 1541.93 Q1357.79 1544.09 1360.94 1544.09 Q1364.09 1544.09 1365.92 1541.93 Q1367.77 1539.76 1367.77 1536.03 Q1367.77 1532.28 1365.92 1530.13 Q1364.09 1527.98 1360.94 1527.98 M1370.23 1513.32 L1370.23 1517.58 Q1368.47 1516.75 1366.66 1516.31 Q1364.88 1515.87 1363.12 1515.87 Q1358.49 1515.87 1356.04 1519 Q1353.61 1522.12 1353.26 1528.44 Q1354.62 1526.43 1356.68 1525.36 Q1358.74 1524.27 1361.22 1524.27 Q1366.43 1524.27 1369.44 1527.44 Q1372.47 1530.59 1372.47 1536.03 Q1372.47 1541.36 1369.32 1544.57 Q1366.17 1547.79 1360.94 1547.79 Q1354.95 1547.79 1351.78 1543.21 Q1348.61 1538.6 1348.61 1529.87 Q1348.61 1521.68 1352.49 1516.82 Q1356.38 1511.93 1362.93 1511.93 Q1364.69 1511.93 1366.48 1512.28 Q1368.28 1512.63 1370.23 1513.32 Z\" fill=\"#000000\" fill-rule=\"evenodd\" fill-opacity=\"1\" /><path clip-path=\"url(#clip210)\" d=\"M 0 0 M1825.28 1530.71 Q1821.94 1530.71 1820.02 1532.49 Q1818.12 1534.27 1818.12 1537.4 Q1818.12 1540.52 1820.02 1542.31 Q1821.94 1544.09 1825.28 1544.09 Q1828.61 1544.09 1830.53 1542.31 Q1832.45 1540.5 1832.45 1537.4 Q1832.45 1534.27 1830.53 1532.49 Q1828.63 1530.71 1825.28 1530.71 M1820.6 1528.72 Q1817.59 1527.98 1815.9 1525.92 Q1814.24 1523.86 1814.24 1520.89 Q1814.24 1516.75 1817.18 1514.34 Q1820.14 1511.93 1825.28 1511.93 Q1830.44 1511.93 1833.38 1514.34 Q1836.32 1516.75 1836.32 1520.89 Q1836.32 1523.86 1834.63 1525.92 Q1832.96 1527.98 1829.98 1528.72 Q1833.36 1529.5 1835.23 1531.8 Q1837.13 1534.09 1837.13 1537.4 Q1837.13 1542.42 1834.05 1545.11 Q1830.99 1547.79 1825.28 1547.79 Q1819.56 1547.79 1816.48 1545.11 Q1813.43 1542.42 1813.43 1537.4 Q1813.43 1534.09 1815.32 1531.8 Q1817.22 1529.5 1820.6 1528.72 M1818.89 1521.33 Q1818.89 1524.02 1820.55 1525.52 Q1822.24 1527.03 1825.28 1527.03 Q1828.29 1527.03 1829.98 1525.52 Q1831.69 1524.02 1831.69 1521.33 Q1831.69 1518.65 1829.98 1517.14 Q1828.29 1515.64 1825.28 1515.64 Q1822.24 1515.64 1820.55 1517.14 Q1818.89 1518.65 1818.89 1521.33 Z\" fill=\"#000000\" fill-rule=\"evenodd\" fill-opacity=\"1\" /><path clip-path=\"url(#clip210)\" d=\"M 0 0 M2266.89 1543.18 L2274.53 1543.18 L2274.53 1516.82 L2266.22 1518.49 L2266.22 1514.23 L2274.48 1512.56 L2279.16 1512.56 L2279.16 1543.18 L2286.8 1543.18 L2286.8 1547.12 L2266.89 1547.12 L2266.89 1543.18 Z\" fill=\"#000000\" fill-rule=\"evenodd\" fill-opacity=\"1\" /><path clip-path=\"url(#clip210)\" d=\"M 0 0 M2301.87 1515.64 Q2298.26 1515.64 2296.43 1519.2 Q2294.62 1522.75 2294.62 1529.87 Q2294.62 1536.98 2296.43 1540.55 Q2298.26 1544.09 2301.87 1544.09 Q2305.5 1544.09 2307.31 1540.55 Q2309.14 1536.98 2309.14 1529.87 Q2309.14 1522.75 2307.31 1519.2 Q2305.5 1515.64 2301.87 1515.64 M2301.87 1511.93 Q2307.68 1511.93 2310.73 1516.54 Q2313.81 1521.12 2313.81 1529.87 Q2313.81 1538.6 2310.73 1543.21 Q2307.68 1547.79 2301.87 1547.79 Q2296.06 1547.79 2292.98 1543.21 Q2289.92 1538.6 2289.92 1529.87 Q2289.92 1521.12 2292.98 1516.54 Q2296.06 1511.93 2301.87 1511.93 Z\" fill=\"#000000\" fill-rule=\"evenodd\" fill-opacity=\"1\" /><polyline clip-path=\"url(#clip212)\" style=\"stroke:#000000; stroke-width:2; stroke-opacity:0.1; fill:none\" points=\"\n",
       "  135.95,1427.99 2352.76,1427.99 \n",
       "  \"/>\n",
       "<polyline clip-path=\"url(#clip212)\" style=\"stroke:#000000; stroke-width:2; stroke-opacity:0.1; fill:none\" points=\"\n",
       "  135.95,1105.25 2352.76,1105.25 \n",
       "  \"/>\n",
       "<polyline clip-path=\"url(#clip212)\" style=\"stroke:#000000; stroke-width:2; stroke-opacity:0.1; fill:none\" points=\"\n",
       "  135.95,782.516 2352.76,782.516 \n",
       "  \"/>\n",
       "<polyline clip-path=\"url(#clip212)\" style=\"stroke:#000000; stroke-width:2; stroke-opacity:0.1; fill:none\" points=\"\n",
       "  135.95,459.782 2352.76,459.782 \n",
       "  \"/>\n",
       "<polyline clip-path=\"url(#clip212)\" style=\"stroke:#000000; stroke-width:2; stroke-opacity:0.1; fill:none\" points=\"\n",
       "  135.95,137.048 2352.76,137.048 \n",
       "  \"/>\n",
       "<polyline clip-path=\"url(#clip210)\" style=\"stroke:#000000; stroke-width:4; stroke-opacity:1; fill:none\" points=\"\n",
       "  135.95,1486.45 135.95,47.2441 \n",
       "  \"/>\n",
       "<polyline clip-path=\"url(#clip210)\" style=\"stroke:#000000; stroke-width:4; stroke-opacity:1; fill:none\" points=\"\n",
       "  135.95,1427.99 162.552,1427.99 \n",
       "  \"/>\n",
       "<polyline clip-path=\"url(#clip210)\" style=\"stroke:#000000; stroke-width:4; stroke-opacity:1; fill:none\" points=\"\n",
       "  135.95,1105.25 162.552,1105.25 \n",
       "  \"/>\n",
       "<polyline clip-path=\"url(#clip210)\" style=\"stroke:#000000; stroke-width:4; stroke-opacity:1; fill:none\" points=\"\n",
       "  135.95,782.516 162.552,782.516 \n",
       "  \"/>\n",
       "<polyline clip-path=\"url(#clip210)\" style=\"stroke:#000000; stroke-width:4; stroke-opacity:1; fill:none\" points=\"\n",
       "  135.95,459.782 162.552,459.782 \n",
       "  \"/>\n",
       "<polyline clip-path=\"url(#clip210)\" style=\"stroke:#000000; stroke-width:4; stroke-opacity:1; fill:none\" points=\"\n",
       "  135.95,137.048 162.552,137.048 \n",
       "  \"/>\n",
       "<path clip-path=\"url(#clip210)\" d=\"M 0 0 M88.0058 1413.78 Q84.3947 1413.78 82.566 1417.35 Q80.7605 1420.89 80.7605 1428.02 Q80.7605 1435.13 82.566 1438.69 Q84.3947 1442.23 88.0058 1442.23 Q91.6401 1442.23 93.4456 1438.69 Q95.2743 1435.13 95.2743 1428.02 Q95.2743 1420.89 93.4456 1417.35 Q91.6401 1413.78 88.0058 1413.78 M88.0058 1410.08 Q93.816 1410.08 96.8715 1414.69 Q99.9502 1419.27 99.9502 1428.02 Q99.9502 1436.75 96.8715 1441.35 Q93.816 1445.94 88.0058 1445.94 Q82.1957 1445.94 79.117 1441.35 Q76.0614 1436.75 76.0614 1428.02 Q76.0614 1419.27 79.117 1414.69 Q82.1957 1410.08 88.0058 1410.08 Z\" fill=\"#000000\" fill-rule=\"evenodd\" fill-opacity=\"1\" /><path clip-path=\"url(#clip210)\" d=\"M 0 0 M79.0475 1087.97 L97.4039 1087.97 L97.4039 1091.91 L83.3299 1091.91 L83.3299 1100.38 Q84.3484 1100.03 85.3669 1099.87 Q86.3855 1099.68 87.404 1099.68 Q93.191 1099.68 96.5706 1102.86 Q99.9502 1106.03 99.9502 1111.44 Q99.9502 1117.02 96.478 1120.12 Q93.0058 1123.2 86.6864 1123.2 Q84.5105 1123.2 82.242 1122.83 Q79.9966 1122.46 77.5892 1121.72 L77.5892 1117.02 Q79.6725 1118.16 81.8947 1118.71 Q84.1169 1119.27 86.5938 1119.27 Q90.5984 1119.27 92.9363 1117.16 Q95.2743 1115.05 95.2743 1111.44 Q95.2743 1107.83 92.9363 1105.73 Q90.5984 1103.62 86.5938 1103.62 Q84.7188 1103.62 82.8438 1104.04 Q80.992 1104.45 79.0475 1105.33 L79.0475 1087.97 Z\" fill=\"#000000\" fill-rule=\"evenodd\" fill-opacity=\"1\" /><path clip-path=\"url(#clip210)\" d=\"M 0 0 M53.0292 795.861 L60.668 795.861 L60.668 769.496 L52.3579 771.162 L52.3579 766.903 L60.6217 765.236 L65.2976 765.236 L65.2976 795.861 L72.9365 795.861 L72.9365 799.796 L53.0292 799.796 L53.0292 795.861 Z\" fill=\"#000000\" fill-rule=\"evenodd\" fill-opacity=\"1\" /><path clip-path=\"url(#clip210)\" d=\"M 0 0 M88.0058 768.315 Q84.3947 768.315 82.566 771.88 Q80.7605 775.422 80.7605 782.551 Q80.7605 789.658 82.566 793.222 Q84.3947 796.764 88.0058 796.764 Q91.6401 796.764 93.4456 793.222 Q95.2743 789.658 95.2743 782.551 Q95.2743 775.422 93.4456 771.88 Q91.6401 768.315 88.0058 768.315 M88.0058 764.612 Q93.816 764.612 96.8715 769.218 Q99.9502 773.801 99.9502 782.551 Q99.9502 791.278 96.8715 795.884 Q93.816 800.468 88.0058 800.468 Q82.1957 800.468 79.117 795.884 Q76.0614 791.278 76.0614 782.551 Q76.0614 773.801 79.117 769.218 Q82.1957 764.612 88.0058 764.612 Z\" fill=\"#000000\" fill-rule=\"evenodd\" fill-opacity=\"1\" /><path clip-path=\"url(#clip210)\" d=\"M 0 0 M54.0245 473.127 L61.6634 473.127 L61.6634 446.761 L53.3532 448.428 L53.3532 444.169 L61.6171 442.502 L66.293 442.502 L66.293 473.127 L73.9318 473.127 L73.9318 477.062 L54.0245 477.062 L54.0245 473.127 Z\" fill=\"#000000\" fill-rule=\"evenodd\" fill-opacity=\"1\" /><path clip-path=\"url(#clip210)\" d=\"M 0 0 M79.0475 442.502 L97.4039 442.502 L97.4039 446.437 L83.3299 446.437 L83.3299 454.909 Q84.3484 454.562 85.3669 454.4 Q86.3855 454.215 87.404 454.215 Q93.191 454.215 96.5706 457.386 Q99.9502 460.558 99.9502 465.974 Q99.9502 471.553 96.478 474.655 Q93.0058 477.733 86.6864 477.733 Q84.5105 477.733 82.242 477.363 Q79.9966 476.993 77.5892 476.252 L77.5892 471.553 Q79.6725 472.687 81.8947 473.243 Q84.1169 473.798 86.5938 473.798 Q90.5984 473.798 92.9363 471.692 Q95.2743 469.585 95.2743 465.974 Q95.2743 462.363 92.9363 460.257 Q90.5984 458.15 86.5938 458.15 Q84.7188 458.15 82.8438 458.567 Q80.992 458.983 79.0475 459.863 L79.0475 442.502 Z\" fill=\"#000000\" fill-rule=\"evenodd\" fill-opacity=\"1\" /><path clip-path=\"url(#clip210)\" d=\"M 0 0 M56.6171 150.392 L72.9365 150.392 L72.9365 154.328 L50.9921 154.328 L50.9921 150.392 Q53.6541 147.638 58.2375 143.008 Q62.8439 138.355 64.0245 137.013 Q66.2698 134.49 67.1494 132.754 Q68.0522 130.994 68.0522 129.305 Q68.0522 126.55 66.1078 124.814 Q64.1865 123.078 61.0847 123.078 Q58.8856 123.078 56.4319 123.842 Q54.0014 124.606 51.2236 126.156 L51.2236 121.434 Q54.0477 120.3 56.5014 119.721 Q58.955 119.143 60.9921 119.143 Q66.3624 119.143 69.5568 121.828 Q72.7513 124.513 72.7513 129.004 Q72.7513 131.133 71.9411 133.055 Q71.1541 134.953 69.0476 137.545 Q68.4689 138.217 65.367 141.434 Q62.2652 144.629 56.6171 150.392 Z\" fill=\"#000000\" fill-rule=\"evenodd\" fill-opacity=\"1\" /><path clip-path=\"url(#clip210)\" d=\"M 0 0 M88.0058 122.846 Q84.3947 122.846 82.566 126.411 Q80.7605 129.953 80.7605 137.082 Q80.7605 144.189 82.566 147.754 Q84.3947 151.295 88.0058 151.295 Q91.6401 151.295 93.4456 147.754 Q95.2743 144.189 95.2743 137.082 Q95.2743 129.953 93.4456 126.411 Q91.6401 122.846 88.0058 122.846 M88.0058 119.143 Q93.816 119.143 96.8715 123.749 Q99.9502 128.332 99.9502 137.082 Q99.9502 145.809 96.8715 150.416 Q93.816 154.999 88.0058 154.999 Q82.1957 154.999 79.117 150.416 Q76.0614 145.809 76.0614 137.082 Q76.0614 128.332 79.117 123.749 Q82.1957 119.143 88.0058 119.143 Z\" fill=\"#000000\" fill-rule=\"evenodd\" fill-opacity=\"1\" /><polyline clip-path=\"url(#clip212)\" style=\"stroke:#000000; stroke-width:4; stroke-opacity:1; fill:none\" points=\"\n",
       "  198.69,1307.59 198.69,1290.19 \n",
       "  \"/>\n",
       "<polyline clip-path=\"url(#clip212)\" style=\"stroke:#000000; stroke-width:4; stroke-opacity:1; fill:none\" points=\"\n",
       "  431.06,1232.27 431.06,1107.33 \n",
       "  \"/>\n",
       "<polyline clip-path=\"url(#clip212)\" style=\"stroke:#000000; stroke-width:4; stroke-opacity:1; fill:none\" points=\"\n",
       "  663.429,1047.25 663.429,1034.16 \n",
       "  \"/>\n",
       "<polyline clip-path=\"url(#clip212)\" style=\"stroke:#000000; stroke-width:4; stroke-opacity:1; fill:none\" points=\"\n",
       "  895.799,937.188 895.799,886.032 \n",
       "  \"/>\n",
       "<polyline clip-path=\"url(#clip212)\" style=\"stroke:#000000; stroke-width:4; stroke-opacity:1; fill:none\" points=\"\n",
       "  1128.17,845.106 1128.17,719.927 \n",
       "  \"/>\n",
       "<polyline clip-path=\"url(#clip212)\" style=\"stroke:#000000; stroke-width:4; stroke-opacity:1; fill:none\" points=\"\n",
       "  1360.54,677.28 1360.54,629.566 \n",
       "  \"/>\n",
       "<polyline clip-path=\"url(#clip212)\" style=\"stroke:#000000; stroke-width:4; stroke-opacity:1; fill:none\" points=\"\n",
       "  1592.91,556.524 1592.91,492.134 \n",
       "  \"/>\n",
       "<polyline clip-path=\"url(#clip212)\" style=\"stroke:#000000; stroke-width:4; stroke-opacity:1; fill:none\" points=\"\n",
       "  1825.28,434.179 1825.28,356.291 \n",
       "  \"/>\n",
       "<polyline clip-path=\"url(#clip212)\" style=\"stroke:#000000; stroke-width:4; stroke-opacity:1; fill:none\" points=\"\n",
       "  2057.65,297.981 2057.65,234.302 \n",
       "  \"/>\n",
       "<polyline clip-path=\"url(#clip212)\" style=\"stroke:#000000; stroke-width:4; stroke-opacity:1; fill:none\" points=\"\n",
       "  2290.02,186.119 2290.02,87.9763 \n",
       "  \"/>\n",
       "<line clip-path=\"url(#clip212)\" x1=\"214.69\" y1=\"1307.59\" x2=\"182.69\" y2=\"1307.59\" style=\"stroke:#000000; stroke-width:3.2; stroke-opacity:1\"/>\n",
       "<line clip-path=\"url(#clip212)\" x1=\"214.69\" y1=\"1290.19\" x2=\"182.69\" y2=\"1290.19\" style=\"stroke:#000000; stroke-width:3.2; stroke-opacity:1\"/>\n",
       "<line clip-path=\"url(#clip212)\" x1=\"447.06\" y1=\"1232.27\" x2=\"415.06\" y2=\"1232.27\" style=\"stroke:#000000; stroke-width:3.2; stroke-opacity:1\"/>\n",
       "<line clip-path=\"url(#clip212)\" x1=\"447.06\" y1=\"1107.33\" x2=\"415.06\" y2=\"1107.33\" style=\"stroke:#000000; stroke-width:3.2; stroke-opacity:1\"/>\n",
       "<line clip-path=\"url(#clip212)\" x1=\"679.429\" y1=\"1047.25\" x2=\"647.429\" y2=\"1047.25\" style=\"stroke:#000000; stroke-width:3.2; stroke-opacity:1\"/>\n",
       "<line clip-path=\"url(#clip212)\" x1=\"679.429\" y1=\"1034.16\" x2=\"647.429\" y2=\"1034.16\" style=\"stroke:#000000; stroke-width:3.2; stroke-opacity:1\"/>\n",
       "<line clip-path=\"url(#clip212)\" x1=\"911.799\" y1=\"937.188\" x2=\"879.799\" y2=\"937.188\" style=\"stroke:#000000; stroke-width:3.2; stroke-opacity:1\"/>\n",
       "<line clip-path=\"url(#clip212)\" x1=\"911.799\" y1=\"886.032\" x2=\"879.799\" y2=\"886.032\" style=\"stroke:#000000; stroke-width:3.2; stroke-opacity:1\"/>\n",
       "<line clip-path=\"url(#clip212)\" x1=\"1144.17\" y1=\"845.106\" x2=\"1112.17\" y2=\"845.106\" style=\"stroke:#000000; stroke-width:3.2; stroke-opacity:1\"/>\n",
       "<line clip-path=\"url(#clip212)\" x1=\"1144.17\" y1=\"719.927\" x2=\"1112.17\" y2=\"719.927\" style=\"stroke:#000000; stroke-width:3.2; stroke-opacity:1\"/>\n",
       "<line clip-path=\"url(#clip212)\" x1=\"1376.54\" y1=\"677.28\" x2=\"1344.54\" y2=\"677.28\" style=\"stroke:#000000; stroke-width:3.2; stroke-opacity:1\"/>\n",
       "<line clip-path=\"url(#clip212)\" x1=\"1376.54\" y1=\"629.566\" x2=\"1344.54\" y2=\"629.566\" style=\"stroke:#000000; stroke-width:3.2; stroke-opacity:1\"/>\n",
       "<line clip-path=\"url(#clip212)\" x1=\"1608.91\" y1=\"556.524\" x2=\"1576.91\" y2=\"556.524\" style=\"stroke:#000000; stroke-width:3.2; stroke-opacity:1\"/>\n",
       "<line clip-path=\"url(#clip212)\" x1=\"1608.91\" y1=\"492.134\" x2=\"1576.91\" y2=\"492.134\" style=\"stroke:#000000; stroke-width:3.2; stroke-opacity:1\"/>\n",
       "<line clip-path=\"url(#clip212)\" x1=\"1841.28\" y1=\"434.179\" x2=\"1809.28\" y2=\"434.179\" style=\"stroke:#000000; stroke-width:3.2; stroke-opacity:1\"/>\n",
       "<line clip-path=\"url(#clip212)\" x1=\"1841.28\" y1=\"356.291\" x2=\"1809.28\" y2=\"356.291\" style=\"stroke:#000000; stroke-width:3.2; stroke-opacity:1\"/>\n",
       "<line clip-path=\"url(#clip212)\" x1=\"2073.65\" y1=\"297.981\" x2=\"2041.65\" y2=\"297.981\" style=\"stroke:#000000; stroke-width:3.2; stroke-opacity:1\"/>\n",
       "<line clip-path=\"url(#clip212)\" x1=\"2073.65\" y1=\"234.302\" x2=\"2041.65\" y2=\"234.302\" style=\"stroke:#000000; stroke-width:3.2; stroke-opacity:1\"/>\n",
       "<line clip-path=\"url(#clip212)\" x1=\"2306.02\" y1=\"186.119\" x2=\"2274.02\" y2=\"186.119\" style=\"stroke:#000000; stroke-width:3.2; stroke-opacity:1\"/>\n",
       "<line clip-path=\"url(#clip212)\" x1=\"2306.02\" y1=\"87.9763\" x2=\"2274.02\" y2=\"87.9763\" style=\"stroke:#000000; stroke-width:3.2; stroke-opacity:1\"/>\n",
       "<circle clip-path=\"url(#clip212)\" cx=\"198.69\" cy=\"1298.89\" r=\"14\" fill=\"#ff0000\" fill-rule=\"evenodd\" fill-opacity=\"1\" stroke=\"#000000\" stroke-opacity=\"1\" stroke-width=\"3.2\"/>\n",
       "<circle clip-path=\"url(#clip212)\" cx=\"431.06\" cy=\"1169.8\" r=\"14\" fill=\"#ff0000\" fill-rule=\"evenodd\" fill-opacity=\"1\" stroke=\"#000000\" stroke-opacity=\"1\" stroke-width=\"3.2\"/>\n",
       "<circle clip-path=\"url(#clip212)\" cx=\"663.429\" cy=\"1040.7\" r=\"14\" fill=\"#ff0000\" fill-rule=\"evenodd\" fill-opacity=\"1\" stroke=\"#000000\" stroke-opacity=\"1\" stroke-width=\"3.2\"/>\n",
       "<circle clip-path=\"url(#clip212)\" cx=\"895.799\" cy=\"911.61\" r=\"14\" fill=\"#ff0000\" fill-rule=\"evenodd\" fill-opacity=\"1\" stroke=\"#000000\" stroke-opacity=\"1\" stroke-width=\"3.2\"/>\n",
       "<circle clip-path=\"url(#clip212)\" cx=\"1128.17\" cy=\"782.516\" r=\"14\" fill=\"#ff0000\" fill-rule=\"evenodd\" fill-opacity=\"1\" stroke=\"#000000\" stroke-opacity=\"1\" stroke-width=\"3.2\"/>\n",
       "<circle clip-path=\"url(#clip212)\" cx=\"1360.54\" cy=\"653.423\" r=\"14\" fill=\"#ff0000\" fill-rule=\"evenodd\" fill-opacity=\"1\" stroke=\"#000000\" stroke-opacity=\"1\" stroke-width=\"3.2\"/>\n",
       "<circle clip-path=\"url(#clip212)\" cx=\"1592.91\" cy=\"524.329\" r=\"14\" fill=\"#ff0000\" fill-rule=\"evenodd\" fill-opacity=\"1\" stroke=\"#000000\" stroke-opacity=\"1\" stroke-width=\"3.2\"/>\n",
       "<circle clip-path=\"url(#clip212)\" cx=\"1825.28\" cy=\"395.235\" r=\"14\" fill=\"#ff0000\" fill-rule=\"evenodd\" fill-opacity=\"1\" stroke=\"#000000\" stroke-opacity=\"1\" stroke-width=\"3.2\"/>\n",
       "<circle clip-path=\"url(#clip212)\" cx=\"2057.65\" cy=\"266.141\" r=\"14\" fill=\"#ff0000\" fill-rule=\"evenodd\" fill-opacity=\"1\" stroke=\"#000000\" stroke-opacity=\"1\" stroke-width=\"3.2\"/>\n",
       "<circle clip-path=\"url(#clip212)\" cx=\"2290.02\" cy=\"137.048\" r=\"14\" fill=\"#ff0000\" fill-rule=\"evenodd\" fill-opacity=\"1\" stroke=\"#000000\" stroke-opacity=\"1\" stroke-width=\"3.2\"/>\n",
       "<polyline clip-path=\"url(#clip212)\" style=\"stroke:#000000; stroke-width:4; stroke-opacity:1; fill:none\" points=\"\n",
       "  198.69,1436.69 198.69,1419.28 \n",
       "  \"/>\n",
       "<polyline clip-path=\"url(#clip212)\" style=\"stroke:#000000; stroke-width:4; stroke-opacity:1; fill:none\" points=\"\n",
       "  431.06,1445.72 431.06,1320.77 \n",
       "  \"/>\n",
       "<polyline clip-path=\"url(#clip212)\" style=\"stroke:#000000; stroke-width:4; stroke-opacity:1; fill:none\" points=\"\n",
       "  663.429,1363.62 663.429,1350.53 \n",
       "  \"/>\n",
       "<polyline clip-path=\"url(#clip212)\" style=\"stroke:#000000; stroke-width:4; stroke-opacity:1; fill:none\" points=\"\n",
       "  895.799,1364.08 895.799,1312.93 \n",
       "  \"/>\n",
       "<polyline clip-path=\"url(#clip212)\" style=\"stroke:#000000; stroke-width:4; stroke-opacity:1; fill:none\" points=\"\n",
       "  1128.17,1386.69 1128.17,1261.51 \n",
       "  \"/>\n",
       "<polyline clip-path=\"url(#clip212)\" style=\"stroke:#000000; stroke-width:4; stroke-opacity:1; fill:none\" points=\"\n",
       "  1360.54,1336.19 1360.54,1288.48 \n",
       "  \"/>\n",
       "<polyline clip-path=\"url(#clip212)\" style=\"stroke:#000000; stroke-width:4; stroke-opacity:1; fill:none\" points=\"\n",
       "  1592.91,1334.58 1592.91,1270.19 \n",
       "  \"/>\n",
       "<polyline clip-path=\"url(#clip212)\" style=\"stroke:#000000; stroke-width:4; stroke-opacity:1; fill:none\" points=\"\n",
       "  1825.28,1332.71 1825.28,1254.82 \n",
       "  \"/>\n",
       "<polyline clip-path=\"url(#clip212)\" style=\"stroke:#000000; stroke-width:4; stroke-opacity:1; fill:none\" points=\"\n",
       "  2057.65,1318 2057.65,1254.32 \n",
       "  \"/>\n",
       "<polyline clip-path=\"url(#clip212)\" style=\"stroke:#000000; stroke-width:4; stroke-opacity:1; fill:none\" points=\"\n",
       "  2290.02,1328.43 2290.02,1230.29 \n",
       "  \"/>\n",
       "<line clip-path=\"url(#clip212)\" x1=\"214.69\" y1=\"1436.69\" x2=\"182.69\" y2=\"1436.69\" style=\"stroke:#000000; stroke-width:3.2; stroke-opacity:1\"/>\n",
       "<line clip-path=\"url(#clip212)\" x1=\"214.69\" y1=\"1419.28\" x2=\"182.69\" y2=\"1419.28\" style=\"stroke:#000000; stroke-width:3.2; stroke-opacity:1\"/>\n",
       "<line clip-path=\"url(#clip212)\" x1=\"447.06\" y1=\"1445.72\" x2=\"415.06\" y2=\"1445.72\" style=\"stroke:#000000; stroke-width:3.2; stroke-opacity:1\"/>\n",
       "<line clip-path=\"url(#clip212)\" x1=\"447.06\" y1=\"1320.77\" x2=\"415.06\" y2=\"1320.77\" style=\"stroke:#000000; stroke-width:3.2; stroke-opacity:1\"/>\n",
       "<line clip-path=\"url(#clip212)\" x1=\"679.429\" y1=\"1363.62\" x2=\"647.429\" y2=\"1363.62\" style=\"stroke:#000000; stroke-width:3.2; stroke-opacity:1\"/>\n",
       "<line clip-path=\"url(#clip212)\" x1=\"679.429\" y1=\"1350.53\" x2=\"647.429\" y2=\"1350.53\" style=\"stroke:#000000; stroke-width:3.2; stroke-opacity:1\"/>\n",
       "<line clip-path=\"url(#clip212)\" x1=\"911.799\" y1=\"1364.08\" x2=\"879.799\" y2=\"1364.08\" style=\"stroke:#000000; stroke-width:3.2; stroke-opacity:1\"/>\n",
       "<line clip-path=\"url(#clip212)\" x1=\"911.799\" y1=\"1312.93\" x2=\"879.799\" y2=\"1312.93\" style=\"stroke:#000000; stroke-width:3.2; stroke-opacity:1\"/>\n",
       "<line clip-path=\"url(#clip212)\" x1=\"1144.17\" y1=\"1386.69\" x2=\"1112.17\" y2=\"1386.69\" style=\"stroke:#000000; stroke-width:3.2; stroke-opacity:1\"/>\n",
       "<line clip-path=\"url(#clip212)\" x1=\"1144.17\" y1=\"1261.51\" x2=\"1112.17\" y2=\"1261.51\" style=\"stroke:#000000; stroke-width:3.2; stroke-opacity:1\"/>\n",
       "<line clip-path=\"url(#clip212)\" x1=\"1376.54\" y1=\"1336.19\" x2=\"1344.54\" y2=\"1336.19\" style=\"stroke:#000000; stroke-width:3.2; stroke-opacity:1\"/>\n",
       "<line clip-path=\"url(#clip212)\" x1=\"1376.54\" y1=\"1288.48\" x2=\"1344.54\" y2=\"1288.48\" style=\"stroke:#000000; stroke-width:3.2; stroke-opacity:1\"/>\n",
       "<line clip-path=\"url(#clip212)\" x1=\"1608.91\" y1=\"1334.58\" x2=\"1576.91\" y2=\"1334.58\" style=\"stroke:#000000; stroke-width:3.2; stroke-opacity:1\"/>\n",
       "<line clip-path=\"url(#clip212)\" x1=\"1608.91\" y1=\"1270.19\" x2=\"1576.91\" y2=\"1270.19\" style=\"stroke:#000000; stroke-width:3.2; stroke-opacity:1\"/>\n",
       "<line clip-path=\"url(#clip212)\" x1=\"1841.28\" y1=\"1332.71\" x2=\"1809.28\" y2=\"1332.71\" style=\"stroke:#000000; stroke-width:3.2; stroke-opacity:1\"/>\n",
       "<line clip-path=\"url(#clip212)\" x1=\"1841.28\" y1=\"1254.82\" x2=\"1809.28\" y2=\"1254.82\" style=\"stroke:#000000; stroke-width:3.2; stroke-opacity:1\"/>\n",
       "<line clip-path=\"url(#clip212)\" x1=\"2073.65\" y1=\"1318\" x2=\"2041.65\" y2=\"1318\" style=\"stroke:#000000; stroke-width:3.2; stroke-opacity:1\"/>\n",
       "<line clip-path=\"url(#clip212)\" x1=\"2073.65\" y1=\"1254.32\" x2=\"2041.65\" y2=\"1254.32\" style=\"stroke:#000000; stroke-width:3.2; stroke-opacity:1\"/>\n",
       "<line clip-path=\"url(#clip212)\" x1=\"2306.02\" y1=\"1328.43\" x2=\"2274.02\" y2=\"1328.43\" style=\"stroke:#000000; stroke-width:3.2; stroke-opacity:1\"/>\n",
       "<line clip-path=\"url(#clip212)\" x1=\"2306.02\" y1=\"1230.29\" x2=\"2274.02\" y2=\"1230.29\" style=\"stroke:#000000; stroke-width:3.2; stroke-opacity:1\"/>\n",
       "<circle clip-path=\"url(#clip212)\" cx=\"198.69\" cy=\"1427.99\" r=\"14\" fill=\"#0000ff\" fill-rule=\"evenodd\" fill-opacity=\"1\" stroke=\"#000000\" stroke-opacity=\"1\" stroke-width=\"3.2\"/>\n",
       "<circle clip-path=\"url(#clip212)\" cx=\"431.06\" cy=\"1383.24\" r=\"14\" fill=\"#0000ff\" fill-rule=\"evenodd\" fill-opacity=\"1\" stroke=\"#000000\" stroke-opacity=\"1\" stroke-width=\"3.2\"/>\n",
       "<circle clip-path=\"url(#clip212)\" cx=\"663.429\" cy=\"1357.07\" r=\"14\" fill=\"#0000ff\" fill-rule=\"evenodd\" fill-opacity=\"1\" stroke=\"#000000\" stroke-opacity=\"1\" stroke-width=\"3.2\"/>\n",
       "<circle clip-path=\"url(#clip212)\" cx=\"895.799\" cy=\"1338.5\" r=\"14\" fill=\"#0000ff\" fill-rule=\"evenodd\" fill-opacity=\"1\" stroke=\"#000000\" stroke-opacity=\"1\" stroke-width=\"3.2\"/>\n",
       "<circle clip-path=\"url(#clip212)\" cx=\"1128.17\" cy=\"1324.1\" r=\"14\" fill=\"#0000ff\" fill-rule=\"evenodd\" fill-opacity=\"1\" stroke=\"#000000\" stroke-opacity=\"1\" stroke-width=\"3.2\"/>\n",
       "<circle clip-path=\"url(#clip212)\" cx=\"1360.54\" cy=\"1312.33\" r=\"14\" fill=\"#0000ff\" fill-rule=\"evenodd\" fill-opacity=\"1\" stroke=\"#000000\" stroke-opacity=\"1\" stroke-width=\"3.2\"/>\n",
       "<circle clip-path=\"url(#clip212)\" cx=\"1592.91\" cy=\"1302.38\" r=\"14\" fill=\"#0000ff\" fill-rule=\"evenodd\" fill-opacity=\"1\" stroke=\"#000000\" stroke-opacity=\"1\" stroke-width=\"3.2\"/>\n",
       "<circle clip-path=\"url(#clip212)\" cx=\"1825.28\" cy=\"1293.76\" r=\"14\" fill=\"#0000ff\" fill-rule=\"evenodd\" fill-opacity=\"1\" stroke=\"#000000\" stroke-opacity=\"1\" stroke-width=\"3.2\"/>\n",
       "<circle clip-path=\"url(#clip212)\" cx=\"2057.65\" cy=\"1286.16\" r=\"14\" fill=\"#0000ff\" fill-rule=\"evenodd\" fill-opacity=\"1\" stroke=\"#000000\" stroke-opacity=\"1\" stroke-width=\"3.2\"/>\n",
       "<circle clip-path=\"url(#clip212)\" cx=\"2290.02\" cy=\"1279.36\" r=\"14\" fill=\"#0000ff\" fill-rule=\"evenodd\" fill-opacity=\"1\" stroke=\"#000000\" stroke-opacity=\"1\" stroke-width=\"3.2\"/>\n",
       "<path clip-path=\"url(#clip210)\" d=\"\n",
       "M1981.53 276.658 L2278.86 276.658 L2278.86 95.2176 L1981.53 95.2176  Z\n",
       "  \" fill=\"#ffffff\" fill-rule=\"evenodd\" fill-opacity=\"1\"/>\n",
       "<polyline clip-path=\"url(#clip210)\" style=\"stroke:#000000; stroke-width:4; stroke-opacity:1; fill:none\" points=\"\n",
       "  1981.53,276.658 2278.86,276.658 2278.86,95.2176 1981.53,95.2176 1981.53,276.658 \n",
       "  \"/>\n",
       "<circle clip-path=\"url(#clip210)\" cx=\"2080.06\" cy=\"155.698\" r=\"23\" fill=\"#ff0000\" fill-rule=\"evenodd\" fill-opacity=\"1\" stroke=\"#000000\" stroke-opacity=\"1\" stroke-width=\"5.12\"/>\n",
       "<path clip-path=\"url(#clip210)\" d=\"M 0 0 M2192.42 175.385 Q2190.62 180.015 2188.91 181.427 Q2187.19 182.839 2184.32 182.839 L2180.92 182.839 L2180.92 179.274 L2183.42 179.274 Q2185.18 179.274 2186.15 178.44 Q2187.12 177.607 2188.3 174.505 L2189.07 172.561 L2178.58 147.052 L2183.1 147.052 L2191.2 167.329 L2199.3 147.052 L2203.81 147.052 L2192.42 175.385 Z\" fill=\"#000000\" fill-rule=\"evenodd\" fill-opacity=\"1\" /><path clip-path=\"url(#clip210)\" d=\"M 0 0 M2209.69 169.042 L2217.33 169.042 L2217.33 142.677 L2209.02 144.343 L2209.02 140.084 L2217.29 138.418 L2221.96 138.418 L2221.96 169.042 L2229.6 169.042 L2229.6 172.978 L2209.69 172.978 L2209.69 169.042 Z\" fill=\"#000000\" fill-rule=\"evenodd\" fill-opacity=\"1\" /><circle clip-path=\"url(#clip210)\" cx=\"2080.06\" cy=\"216.178\" r=\"23\" fill=\"#0000ff\" fill-rule=\"evenodd\" fill-opacity=\"1\" stroke=\"#000000\" stroke-opacity=\"1\" stroke-width=\"5.12\"/>\n",
       "<path clip-path=\"url(#clip210)\" d=\"M 0 0 M2192.42 235.865 Q2190.62 240.495 2188.91 241.907 Q2187.19 243.319 2184.32 243.319 L2180.92 243.319 L2180.92 239.754 L2183.42 239.754 Q2185.18 239.754 2186.15 238.92 Q2187.12 238.087 2188.3 234.985 L2189.07 233.041 L2178.58 207.532 L2183.1 207.532 L2191.2 227.809 L2199.3 207.532 L2203.81 207.532 L2192.42 235.865 Z\" fill=\"#000000\" fill-rule=\"evenodd\" fill-opacity=\"1\" /><path clip-path=\"url(#clip210)\" d=\"M 0 0 M2212.91 229.522 L2229.23 229.522 L2229.23 233.458 L2207.29 233.458 L2207.29 229.522 Q2209.95 226.768 2214.53 222.138 Q2219.14 217.485 2220.32 216.143 Q2222.56 213.62 2223.44 211.884 Q2224.35 210.124 2224.35 208.435 Q2224.35 205.68 2222.4 203.944 Q2220.48 202.208 2217.38 202.208 Q2215.18 202.208 2212.73 202.972 Q2210.29 203.735 2207.52 205.286 L2207.52 200.564 Q2210.34 199.43 2212.79 198.851 Q2215.25 198.273 2217.29 198.273 Q2222.66 198.273 2225.85 200.958 Q2229.04 203.643 2229.04 208.134 Q2229.04 210.263 2228.23 212.185 Q2227.45 214.083 2225.34 216.675 Q2224.76 217.347 2221.66 220.564 Q2218.56 223.759 2212.91 229.522 Z\" fill=\"#000000\" fill-rule=\"evenodd\" fill-opacity=\"1\" /></svg>\n"
      ]
     },
     "execution_count": 36,
     "metadata": {},
     "output_type": "execute_result"
    }
   ],
   "source": [
    "# Mozna odwolywac sie bezposrednio do kolumn w poniższy sposób (gdyz sa typu jednowymiarowych tablic \n",
    "# Array{T,1})\n",
    "\n",
    "using Plots\n",
    "scatter(df.a, [df.b, df.c], colour = [:red :blue], yerr=df.d)\n"
   ]
  },
  {
   "cell_type": "code",
   "execution_count": 32,
   "metadata": {},
   "outputs": [
    {
     "data": {
      "image/svg+xml": [
       "<?xml version=\"1.0\" encoding=\"utf-8\"?>\n",
       "<svg xmlns=\"http://www.w3.org/2000/svg\" xmlns:xlink=\"http://www.w3.org/1999/xlink\" width=\"600\" height=\"400\" viewBox=\"0 0 2400 1600\">\n",
       "<defs>\n",
       "  <clipPath id=\"clip090\">\n",
       "    <rect x=\"0\" y=\"0\" width=\"2400\" height=\"1600\"/>\n",
       "  </clipPath>\n",
       "</defs>\n",
       "<path clip-path=\"url(#clip090)\" d=\"\n",
       "M0 1600 L2400 1600 L2400 0 L0 0  Z\n",
       "  \" fill=\"#ffffff\" fill-rule=\"evenodd\" fill-opacity=\"1\"/>\n",
       "<defs>\n",
       "  <clipPath id=\"clip091\">\n",
       "    <rect x=\"480\" y=\"0\" width=\"1681\" height=\"1600\"/>\n",
       "  </clipPath>\n",
       "</defs>\n",
       "<path clip-path=\"url(#clip090)\" d=\"\n",
       "M135.95 1486.45 L1146.81 1486.45 L1146.81 47.2441 L135.95 47.2441  Z\n",
       "  \" fill=\"#ffffff\" fill-rule=\"evenodd\" fill-opacity=\"1\"/>\n",
       "<defs>\n",
       "  <clipPath id=\"clip092\">\n",
       "    <rect x=\"135\" y=\"47\" width=\"1012\" height=\"1440\"/>\n",
       "  </clipPath>\n",
       "</defs>\n",
       "<polyline clip-path=\"url(#clip092)\" style=\"stroke:#000000; stroke-width:2; stroke-opacity:0.1; fill:none\" points=\"\n",
       "  270.519,1486.45 270.519,47.2441 \n",
       "  \"/>\n",
       "<polyline clip-path=\"url(#clip092)\" style=\"stroke:#000000; stroke-width:2; stroke-opacity:0.1; fill:none\" points=\"\n",
       "  482.439,1486.45 482.439,47.2441 \n",
       "  \"/>\n",
       "<polyline clip-path=\"url(#clip092)\" style=\"stroke:#000000; stroke-width:2; stroke-opacity:0.1; fill:none\" points=\"\n",
       "  694.358,1486.45 694.358,47.2441 \n",
       "  \"/>\n",
       "<polyline clip-path=\"url(#clip092)\" style=\"stroke:#000000; stroke-width:2; stroke-opacity:0.1; fill:none\" points=\"\n",
       "  906.278,1486.45 906.278,47.2441 \n",
       "  \"/>\n",
       "<polyline clip-path=\"url(#clip092)\" style=\"stroke:#000000; stroke-width:2; stroke-opacity:0.1; fill:none\" points=\"\n",
       "  1118.2,1486.45 1118.2,47.2441 \n",
       "  \"/>\n",
       "<polyline clip-path=\"url(#clip090)\" style=\"stroke:#000000; stroke-width:4; stroke-opacity:1; fill:none\" points=\"\n",
       "  135.95,1486.45 1146.81,1486.45 \n",
       "  \"/>\n",
       "<polyline clip-path=\"url(#clip090)\" style=\"stroke:#000000; stroke-width:4; stroke-opacity:1; fill:none\" points=\"\n",
       "  270.519,1486.45 270.519,1469.18 \n",
       "  \"/>\n",
       "<polyline clip-path=\"url(#clip090)\" style=\"stroke:#000000; stroke-width:4; stroke-opacity:1; fill:none\" points=\"\n",
       "  482.439,1486.45 482.439,1469.18 \n",
       "  \"/>\n",
       "<polyline clip-path=\"url(#clip090)\" style=\"stroke:#000000; stroke-width:4; stroke-opacity:1; fill:none\" points=\"\n",
       "  694.358,1486.45 694.358,1469.18 \n",
       "  \"/>\n",
       "<polyline clip-path=\"url(#clip090)\" style=\"stroke:#000000; stroke-width:4; stroke-opacity:1; fill:none\" points=\"\n",
       "  906.278,1486.45 906.278,1469.18 \n",
       "  \"/>\n",
       "<polyline clip-path=\"url(#clip090)\" style=\"stroke:#000000; stroke-width:4; stroke-opacity:1; fill:none\" points=\"\n",
       "  1118.2,1486.45 1118.2,1469.18 \n",
       "  \"/>\n",
       "<path clip-path=\"url(#clip090)\" d=\"M 0 0 M265.172 1543.18 L281.491 1543.18 L281.491 1547.12 L259.547 1547.12 L259.547 1543.18 Q262.209 1540.43 266.792 1535.8 Q271.399 1531.15 272.579 1529.81 Q274.825 1527.28 275.704 1525.55 Q276.607 1523.79 276.607 1522.1 Q276.607 1519.34 274.663 1517.61 Q272.741 1515.87 269.64 1515.87 Q267.44 1515.87 264.987 1516.63 Q262.556 1517.4 259.778 1518.95 L259.778 1514.23 Q262.603 1513.09 265.056 1512.51 Q267.51 1511.93 269.547 1511.93 Q274.917 1511.93 278.112 1514.62 Q281.306 1517.31 281.306 1521.8 Q281.306 1523.93 280.496 1525.85 Q279.709 1527.74 277.602 1530.34 Q277.024 1531.01 273.922 1534.23 Q270.82 1537.42 265.172 1543.18 Z\" fill=\"#000000\" fill-rule=\"evenodd\" fill-opacity=\"1\" /><path clip-path=\"url(#clip090)\" d=\"M 0 0 M485.448 1516.63 L473.643 1535.08 L485.448 1535.08 L485.448 1516.63 M484.221 1512.56 L490.101 1512.56 L490.101 1535.08 L495.031 1535.08 L495.031 1538.97 L490.101 1538.97 L490.101 1547.12 L485.448 1547.12 L485.448 1538.97 L469.846 1538.97 L469.846 1534.46 L484.221 1512.56 Z\" fill=\"#000000\" fill-rule=\"evenodd\" fill-opacity=\"1\" /><path clip-path=\"url(#clip090)\" d=\"M 0 0 M694.764 1527.98 Q691.615 1527.98 689.764 1530.13 Q687.935 1532.28 687.935 1536.03 Q687.935 1539.76 689.764 1541.93 Q691.615 1544.09 694.764 1544.09 Q697.912 1544.09 699.74 1541.93 Q701.592 1539.76 701.592 1536.03 Q701.592 1532.28 699.74 1530.13 Q697.912 1527.98 694.764 1527.98 M704.046 1513.32 L704.046 1517.58 Q702.287 1516.75 700.481 1516.31 Q698.699 1515.87 696.939 1515.87 Q692.31 1515.87 689.856 1519 Q687.426 1522.12 687.078 1528.44 Q688.444 1526.43 690.504 1525.36 Q692.564 1524.27 695.041 1524.27 Q700.25 1524.27 703.259 1527.44 Q706.291 1530.59 706.291 1536.03 Q706.291 1541.36 703.143 1544.57 Q699.995 1547.79 694.764 1547.79 Q688.768 1547.79 685.597 1543.21 Q682.426 1538.6 682.426 1529.87 Q682.426 1521.68 686.315 1516.82 Q690.203 1511.93 696.754 1511.93 Q698.514 1511.93 700.296 1512.28 Q702.101 1512.63 704.046 1513.32 Z\" fill=\"#000000\" fill-rule=\"evenodd\" fill-opacity=\"1\" /><path clip-path=\"url(#clip090)\" d=\"M 0 0 M906.278 1530.71 Q902.945 1530.71 901.023 1532.49 Q899.125 1534.27 899.125 1537.4 Q899.125 1540.52 901.023 1542.31 Q902.945 1544.09 906.278 1544.09 Q909.611 1544.09 911.533 1542.31 Q913.454 1540.5 913.454 1537.4 Q913.454 1534.27 911.533 1532.49 Q909.635 1530.71 906.278 1530.71 M901.602 1528.72 Q898.593 1527.98 896.903 1525.92 Q895.236 1523.86 895.236 1520.89 Q895.236 1516.75 898.176 1514.34 Q901.139 1511.93 906.278 1511.93 Q911.44 1511.93 914.38 1514.34 Q917.32 1516.75 917.32 1520.89 Q917.32 1523.86 915.63 1525.92 Q913.963 1527.98 910.977 1528.72 Q914.357 1529.5 916.232 1531.8 Q918.13 1534.09 918.13 1537.4 Q918.13 1542.42 915.051 1545.11 Q911.996 1547.79 906.278 1547.79 Q900.561 1547.79 897.482 1545.11 Q894.426 1542.42 894.426 1537.4 Q894.426 1534.09 896.324 1531.8 Q898.223 1529.5 901.602 1528.72 M899.889 1521.33 Q899.889 1524.02 901.556 1525.52 Q903.246 1527.03 906.278 1527.03 Q909.287 1527.03 910.977 1525.52 Q912.69 1524.02 912.69 1521.33 Q912.69 1518.65 910.977 1517.14 Q909.287 1515.64 906.278 1515.64 Q903.246 1515.64 901.556 1517.14 Q899.889 1518.65 899.889 1521.33 Z\" fill=\"#000000\" fill-rule=\"evenodd\" fill-opacity=\"1\" /><path clip-path=\"url(#clip090)\" d=\"M 0 0 M1095.07 1543.18 L1102.71 1543.18 L1102.71 1516.82 L1094.4 1518.49 L1094.4 1514.23 L1102.67 1512.56 L1107.34 1512.56 L1107.34 1543.18 L1114.98 1543.18 L1114.98 1547.12 L1095.07 1547.12 L1095.07 1543.18 Z\" fill=\"#000000\" fill-rule=\"evenodd\" fill-opacity=\"1\" /><path clip-path=\"url(#clip090)\" d=\"M 0 0 M1130.05 1515.64 Q1126.44 1515.64 1124.61 1519.2 Q1122.8 1522.75 1122.8 1529.87 Q1122.8 1536.98 1124.61 1540.55 Q1126.44 1544.09 1130.05 1544.09 Q1133.68 1544.09 1135.49 1540.55 Q1137.32 1536.98 1137.32 1529.87 Q1137.32 1522.75 1135.49 1519.2 Q1133.68 1515.64 1130.05 1515.64 M1130.05 1511.93 Q1135.86 1511.93 1138.92 1516.54 Q1141.99 1521.12 1141.99 1529.87 Q1141.99 1538.6 1138.92 1543.21 Q1135.86 1547.79 1130.05 1547.79 Q1124.24 1547.79 1121.16 1543.21 Q1118.11 1538.6 1118.11 1529.87 Q1118.11 1521.12 1121.16 1516.54 Q1124.24 1511.93 1130.05 1511.93 Z\" fill=\"#000000\" fill-rule=\"evenodd\" fill-opacity=\"1\" /><polyline clip-path=\"url(#clip092)\" style=\"stroke:#000000; stroke-width:2; stroke-opacity:0.1; fill:none\" points=\"\n",
       "  135.95,1219.43 1146.81,1219.43 \n",
       "  \"/>\n",
       "<polyline clip-path=\"url(#clip092)\" style=\"stroke:#000000; stroke-width:2; stroke-opacity:0.1; fill:none\" points=\"\n",
       "  135.95,842.276 1146.81,842.276 \n",
       "  \"/>\n",
       "<polyline clip-path=\"url(#clip092)\" style=\"stroke:#000000; stroke-width:2; stroke-opacity:0.1; fill:none\" points=\"\n",
       "  135.95,465.126 1146.81,465.126 \n",
       "  \"/>\n",
       "<polyline clip-path=\"url(#clip092)\" style=\"stroke:#000000; stroke-width:2; stroke-opacity:0.1; fill:none\" points=\"\n",
       "  135.95,87.9763 1146.81,87.9763 \n",
       "  \"/>\n",
       "<polyline clip-path=\"url(#clip090)\" style=\"stroke:#000000; stroke-width:4; stroke-opacity:1; fill:none\" points=\"\n",
       "  135.95,1486.45 135.95,47.2441 \n",
       "  \"/>\n",
       "<polyline clip-path=\"url(#clip090)\" style=\"stroke:#000000; stroke-width:4; stroke-opacity:1; fill:none\" points=\"\n",
       "  135.95,1219.43 148.08,1219.43 \n",
       "  \"/>\n",
       "<polyline clip-path=\"url(#clip090)\" style=\"stroke:#000000; stroke-width:4; stroke-opacity:1; fill:none\" points=\"\n",
       "  135.95,842.276 148.08,842.276 \n",
       "  \"/>\n",
       "<polyline clip-path=\"url(#clip090)\" style=\"stroke:#000000; stroke-width:4; stroke-opacity:1; fill:none\" points=\"\n",
       "  135.95,465.126 148.08,465.126 \n",
       "  \"/>\n",
       "<polyline clip-path=\"url(#clip090)\" style=\"stroke:#000000; stroke-width:4; stroke-opacity:1; fill:none\" points=\"\n",
       "  135.95,87.9763 148.08,87.9763 \n",
       "  \"/>\n",
       "<path clip-path=\"url(#clip090)\" d=\"M 0 0 M79.0475 1202.15 L97.4039 1202.15 L97.4039 1206.08 L83.3299 1206.08 L83.3299 1214.55 Q84.3484 1214.21 85.3669 1214.04 Q86.3855 1213.86 87.404 1213.86 Q93.191 1213.86 96.5706 1217.03 Q99.9502 1220.2 99.9502 1225.62 Q99.9502 1231.2 96.478 1234.3 Q93.0058 1237.38 86.6864 1237.38 Q84.5105 1237.38 82.242 1237.01 Q79.9966 1236.64 77.5892 1235.9 L77.5892 1231.2 Q79.6725 1232.33 81.8947 1232.89 Q84.1169 1233.44 86.5938 1233.44 Q90.5984 1233.44 92.9363 1231.34 Q95.2743 1229.23 95.2743 1225.62 Q95.2743 1222.01 92.9363 1219.9 Q90.5984 1217.79 86.5938 1217.79 Q84.7188 1217.79 82.8438 1218.21 Q80.992 1218.63 79.0475 1219.51 L79.0475 1202.15 Z\" fill=\"#000000\" fill-rule=\"evenodd\" fill-opacity=\"1\" /><path clip-path=\"url(#clip090)\" d=\"M 0 0 M53.0292 855.621 L60.668 855.621 L60.668 829.255 L52.3579 830.922 L52.3579 826.663 L60.6217 824.996 L65.2976 824.996 L65.2976 855.621 L72.9365 855.621 L72.9365 859.556 L53.0292 859.556 L53.0292 855.621 Z\" fill=\"#000000\" fill-rule=\"evenodd\" fill-opacity=\"1\" /><path clip-path=\"url(#clip090)\" d=\"M 0 0 M88.0058 828.075 Q84.3947 828.075 82.566 831.639 Q80.7605 835.181 80.7605 842.311 Q80.7605 849.417 82.566 852.982 Q84.3947 856.524 88.0058 856.524 Q91.6401 856.524 93.4456 852.982 Q95.2743 849.417 95.2743 842.311 Q95.2743 835.181 93.4456 831.639 Q91.6401 828.075 88.0058 828.075 M88.0058 824.371 Q93.816 824.371 96.8715 828.977 Q99.9502 833.561 99.9502 842.311 Q99.9502 851.037 96.8715 855.644 Q93.816 860.227 88.0058 860.227 Q82.1957 860.227 79.117 855.644 Q76.0614 851.037 76.0614 842.311 Q76.0614 833.561 79.117 828.977 Q82.1957 824.371 88.0058 824.371 Z\" fill=\"#000000\" fill-rule=\"evenodd\" fill-opacity=\"1\" /><path clip-path=\"url(#clip090)\" d=\"M 0 0 M54.0245 478.471 L61.6634 478.471 L61.6634 452.105 L53.3532 453.772 L53.3532 449.513 L61.6171 447.846 L66.293 447.846 L66.293 478.471 L73.9318 478.471 L73.9318 482.406 L54.0245 482.406 L54.0245 478.471 Z\" fill=\"#000000\" fill-rule=\"evenodd\" fill-opacity=\"1\" /><path clip-path=\"url(#clip090)\" d=\"M 0 0 M79.0475 447.846 L97.4039 447.846 L97.4039 451.781 L83.3299 451.781 L83.3299 460.253 Q84.3484 459.906 85.3669 459.744 Q86.3855 459.559 87.404 459.559 Q93.191 459.559 96.5706 462.73 Q99.9502 465.902 99.9502 471.318 Q99.9502 476.897 96.478 479.999 Q93.0058 483.077 86.6864 483.077 Q84.5105 483.077 82.242 482.707 Q79.9966 482.337 77.5892 481.596 L77.5892 476.897 Q79.6725 478.031 81.8947 478.587 Q84.1169 479.142 86.5938 479.142 Q90.5984 479.142 92.9363 477.036 Q95.2743 474.929 95.2743 471.318 Q95.2743 467.707 92.9363 465.601 Q90.5984 463.494 86.5938 463.494 Q84.7188 463.494 82.8438 463.911 Q80.992 464.328 79.0475 465.207 L79.0475 447.846 Z\" fill=\"#000000\" fill-rule=\"evenodd\" fill-opacity=\"1\" /><path clip-path=\"url(#clip090)\" d=\"M 0 0 M56.6171 101.321 L72.9365 101.321 L72.9365 105.256 L50.9921 105.256 L50.9921 101.321 Q53.6541 98.5665 58.2375 93.9369 Q62.8439 89.2841 64.0245 87.9416 Q66.2698 85.4184 67.1494 83.6823 Q68.0522 81.9231 68.0522 80.2333 Q68.0522 77.4786 66.1078 75.7425 Q64.1865 74.0064 61.0847 74.0064 Q58.8856 74.0064 56.4319 74.7703 Q54.0014 75.5342 51.2236 77.0851 L51.2236 72.3629 Q54.0477 71.2287 56.5014 70.65 Q58.955 70.0713 60.9921 70.0713 Q66.3624 70.0713 69.5568 72.7565 Q72.7513 75.4416 72.7513 79.9323 Q72.7513 82.062 71.9411 83.9832 Q71.1541 85.8814 69.0476 88.474 Q68.4689 89.1453 65.367 92.3628 Q62.2652 95.5573 56.6171 101.321 Z\" fill=\"#000000\" fill-rule=\"evenodd\" fill-opacity=\"1\" /><path clip-path=\"url(#clip090)\" d=\"M 0 0 M88.0058 73.775 Q84.3947 73.775 82.566 77.3398 Q80.7605 80.8814 80.7605 88.011 Q80.7605 95.1174 82.566 98.6822 Q84.3947 102.224 88.0058 102.224 Q91.6401 102.224 93.4456 98.6822 Q95.2743 95.1174 95.2743 88.011 Q95.2743 80.8814 93.4456 77.3398 Q91.6401 73.775 88.0058 73.775 M88.0058 70.0713 Q93.816 70.0713 96.8715 74.6777 Q99.9502 79.261 99.9502 88.011 Q99.9502 96.7378 96.8715 101.344 Q93.816 105.928 88.0058 105.928 Q82.1957 105.928 79.117 101.344 Q76.0614 96.7378 76.0614 88.011 Q76.0614 79.261 79.117 74.6777 Q82.1957 70.0713 88.0058 70.0713 Z\" fill=\"#000000\" fill-rule=\"evenodd\" fill-opacity=\"1\" /><circle clip-path=\"url(#clip092)\" cx=\"164.559\" cy=\"1445.72\" r=\"14\" fill=\"#ff0000\" fill-rule=\"evenodd\" fill-opacity=\"1\" stroke=\"#000000\" stroke-opacity=\"1\" stroke-width=\"3.2\"/>\n",
       "<circle clip-path=\"url(#clip092)\" cx=\"270.519\" cy=\"1294.86\" r=\"14\" fill=\"#ff0000\" fill-rule=\"evenodd\" fill-opacity=\"1\" stroke=\"#000000\" stroke-opacity=\"1\" stroke-width=\"3.2\"/>\n",
       "<circle clip-path=\"url(#clip092)\" cx=\"376.479\" cy=\"1144\" r=\"14\" fill=\"#ff0000\" fill-rule=\"evenodd\" fill-opacity=\"1\" stroke=\"#000000\" stroke-opacity=\"1\" stroke-width=\"3.2\"/>\n",
       "<circle clip-path=\"url(#clip092)\" cx=\"482.439\" cy=\"993.136\" r=\"14\" fill=\"#ff0000\" fill-rule=\"evenodd\" fill-opacity=\"1\" stroke=\"#000000\" stroke-opacity=\"1\" stroke-width=\"3.2\"/>\n",
       "<circle clip-path=\"url(#clip092)\" cx=\"588.399\" cy=\"842.276\" r=\"14\" fill=\"#ff0000\" fill-rule=\"evenodd\" fill-opacity=\"1\" stroke=\"#000000\" stroke-opacity=\"1\" stroke-width=\"3.2\"/>\n",
       "<circle clip-path=\"url(#clip092)\" cx=\"694.358\" cy=\"691.416\" r=\"14\" fill=\"#ff0000\" fill-rule=\"evenodd\" fill-opacity=\"1\" stroke=\"#000000\" stroke-opacity=\"1\" stroke-width=\"3.2\"/>\n",
       "<circle clip-path=\"url(#clip092)\" cx=\"800.318\" cy=\"540.556\" r=\"14\" fill=\"#ff0000\" fill-rule=\"evenodd\" fill-opacity=\"1\" stroke=\"#000000\" stroke-opacity=\"1\" stroke-width=\"3.2\"/>\n",
       "<circle clip-path=\"url(#clip092)\" cx=\"906.278\" cy=\"389.696\" r=\"14\" fill=\"#ff0000\" fill-rule=\"evenodd\" fill-opacity=\"1\" stroke=\"#000000\" stroke-opacity=\"1\" stroke-width=\"3.2\"/>\n",
       "<circle clip-path=\"url(#clip092)\" cx=\"1012.24\" cy=\"238.836\" r=\"14\" fill=\"#ff0000\" fill-rule=\"evenodd\" fill-opacity=\"1\" stroke=\"#000000\" stroke-opacity=\"1\" stroke-width=\"3.2\"/>\n",
       "<circle clip-path=\"url(#clip092)\" cx=\"1118.2\" cy=\"87.9763\" r=\"14\" fill=\"#ff0000\" fill-rule=\"evenodd\" fill-opacity=\"1\" stroke=\"#000000\" stroke-opacity=\"1\" stroke-width=\"3.2\"/>\n",
       "<path clip-path=\"url(#clip090)\" d=\"\n",
       "M949.776 216.178 L1113.11 216.178 L1113.11 95.2176 L949.776 95.2176  Z\n",
       "  \" fill=\"#ffffff\" fill-rule=\"evenodd\" fill-opacity=\"1\"/>\n",
       "<polyline clip-path=\"url(#clip090)\" style=\"stroke:#000000; stroke-width:4; stroke-opacity:1; fill:none\" points=\"\n",
       "  949.776,216.178 1113.11,216.178 1113.11,95.2176 949.776,95.2176 949.776,216.178 \n",
       "  \"/>\n",
       "<circle clip-path=\"url(#clip090)\" cx=\"994.703\" cy=\"155.698\" r=\"23\" fill=\"#ff0000\" fill-rule=\"evenodd\" fill-opacity=\"1\" stroke=\"#000000\" stroke-opacity=\"1\" stroke-width=\"5.12\"/>\n",
       "<path clip-path=\"url(#clip090)\" d=\"M 0 0 M1053.47 175.385 Q1051.67 180.015 1049.95 181.427 Q1048.24 182.839 1045.37 182.839 L1041.97 182.839 L1041.97 179.274 L1044.47 179.274 Q1046.23 179.274 1047.2 178.44 Q1048.17 177.607 1049.35 174.505 L1050.12 172.561 L1039.63 147.052 L1044.14 147.052 L1052.25 167.329 L1060.35 147.052 L1064.86 147.052 L1053.47 175.385 Z\" fill=\"#000000\" fill-rule=\"evenodd\" fill-opacity=\"1\" /><path clip-path=\"url(#clip090)\" d=\"M 0 0 M1070.74 169.042 L1078.38 169.042 L1078.38 142.677 L1070.07 144.343 L1070.07 140.084 L1078.33 138.418 L1083.01 138.418 L1083.01 169.042 L1090.65 169.042 L1090.65 172.978 L1070.74 172.978 L1070.74 169.042 Z\" fill=\"#000000\" fill-rule=\"evenodd\" fill-opacity=\"1\" /><path clip-path=\"url(#clip090)\" d=\"\n",
       "M1341.9 1486.45 L2352.76 1486.45 L2352.76 47.2441 L1341.9 47.2441  Z\n",
       "  \" fill=\"#ffffff\" fill-rule=\"evenodd\" fill-opacity=\"1\"/>\n",
       "<defs>\n",
       "  <clipPath id=\"clip093\">\n",
       "    <rect x=\"1341\" y=\"47\" width=\"1012\" height=\"1440\"/>\n",
       "  </clipPath>\n",
       "</defs>\n",
       "<polyline clip-path=\"url(#clip093)\" style=\"stroke:#000000; stroke-width:2; stroke-opacity:0.1; fill:none\" points=\"\n",
       "  1476.47,1486.45 1476.47,47.2441 \n",
       "  \"/>\n",
       "<polyline clip-path=\"url(#clip093)\" style=\"stroke:#000000; stroke-width:2; stroke-opacity:0.1; fill:none\" points=\"\n",
       "  1688.39,1486.45 1688.39,47.2441 \n",
       "  \"/>\n",
       "<polyline clip-path=\"url(#clip093)\" style=\"stroke:#000000; stroke-width:2; stroke-opacity:0.1; fill:none\" points=\"\n",
       "  1900.31,1486.45 1900.31,47.2441 \n",
       "  \"/>\n",
       "<polyline clip-path=\"url(#clip093)\" style=\"stroke:#000000; stroke-width:2; stroke-opacity:0.1; fill:none\" points=\"\n",
       "  2112.23,1486.45 2112.23,47.2441 \n",
       "  \"/>\n",
       "<polyline clip-path=\"url(#clip093)\" style=\"stroke:#000000; stroke-width:2; stroke-opacity:0.1; fill:none\" points=\"\n",
       "  2324.15,1486.45 2324.15,47.2441 \n",
       "  \"/>\n",
       "<polyline clip-path=\"url(#clip090)\" style=\"stroke:#000000; stroke-width:4; stroke-opacity:1; fill:none\" points=\"\n",
       "  1341.9,1486.45 2352.76,1486.45 \n",
       "  \"/>\n",
       "<polyline clip-path=\"url(#clip090)\" style=\"stroke:#000000; stroke-width:4; stroke-opacity:1; fill:none\" points=\"\n",
       "  1476.47,1486.45 1476.47,1469.18 \n",
       "  \"/>\n",
       "<polyline clip-path=\"url(#clip090)\" style=\"stroke:#000000; stroke-width:4; stroke-opacity:1; fill:none\" points=\"\n",
       "  1688.39,1486.45 1688.39,1469.18 \n",
       "  \"/>\n",
       "<polyline clip-path=\"url(#clip090)\" style=\"stroke:#000000; stroke-width:4; stroke-opacity:1; fill:none\" points=\"\n",
       "  1900.31,1486.45 1900.31,1469.18 \n",
       "  \"/>\n",
       "<polyline clip-path=\"url(#clip090)\" style=\"stroke:#000000; stroke-width:4; stroke-opacity:1; fill:none\" points=\"\n",
       "  2112.23,1486.45 2112.23,1469.18 \n",
       "  \"/>\n",
       "<polyline clip-path=\"url(#clip090)\" style=\"stroke:#000000; stroke-width:4; stroke-opacity:1; fill:none\" points=\"\n",
       "  2324.15,1486.45 2324.15,1469.18 \n",
       "  \"/>\n",
       "<path clip-path=\"url(#clip090)\" d=\"M 0 0 M1471.12 1543.18 L1487.44 1543.18 L1487.44 1547.12 L1465.5 1547.12 L1465.5 1543.18 Q1468.16 1540.43 1472.74 1535.8 Q1477.35 1531.15 1478.53 1529.81 Q1480.77 1527.28 1481.65 1525.55 Q1482.56 1523.79 1482.56 1522.1 Q1482.56 1519.34 1480.61 1517.61 Q1478.69 1515.87 1475.59 1515.87 Q1473.39 1515.87 1470.94 1516.63 Q1468.51 1517.4 1465.73 1518.95 L1465.73 1514.23 Q1468.55 1513.09 1471.01 1512.51 Q1473.46 1511.93 1475.5 1511.93 Q1480.87 1511.93 1484.06 1514.62 Q1487.26 1517.31 1487.26 1521.8 Q1487.26 1523.93 1486.45 1525.85 Q1485.66 1527.74 1483.55 1530.34 Q1482.97 1531.01 1479.87 1534.23 Q1476.77 1537.42 1471.12 1543.18 Z\" fill=\"#000000\" fill-rule=\"evenodd\" fill-opacity=\"1\" /><path clip-path=\"url(#clip090)\" d=\"M 0 0 M1691.4 1516.63 L1679.59 1535.08 L1691.4 1535.08 L1691.4 1516.63 M1690.17 1512.56 L1696.05 1512.56 L1696.05 1535.08 L1700.98 1535.08 L1700.98 1538.97 L1696.05 1538.97 L1696.05 1547.12 L1691.4 1547.12 L1691.4 1538.97 L1675.8 1538.97 L1675.8 1534.46 L1690.17 1512.56 Z\" fill=\"#000000\" fill-rule=\"evenodd\" fill-opacity=\"1\" /><path clip-path=\"url(#clip090)\" d=\"M 0 0 M1900.71 1527.98 Q1897.56 1527.98 1895.71 1530.13 Q1893.88 1532.28 1893.88 1536.03 Q1893.88 1539.76 1895.71 1541.93 Q1897.56 1544.09 1900.71 1544.09 Q1903.86 1544.09 1905.69 1541.93 Q1907.54 1539.76 1907.54 1536.03 Q1907.54 1532.28 1905.69 1530.13 Q1903.86 1527.98 1900.71 1527.98 M1909.99 1513.32 L1909.99 1517.58 Q1908.24 1516.75 1906.43 1516.31 Q1904.65 1515.87 1902.89 1515.87 Q1898.26 1515.87 1895.81 1519 Q1893.37 1522.12 1893.03 1528.44 Q1894.39 1526.43 1896.45 1525.36 Q1898.51 1524.27 1900.99 1524.27 Q1906.2 1524.27 1909.21 1527.44 Q1912.24 1530.59 1912.24 1536.03 Q1912.24 1541.36 1909.09 1544.57 Q1905.94 1547.79 1900.71 1547.79 Q1894.72 1547.79 1891.55 1543.21 Q1888.37 1538.6 1888.37 1529.87 Q1888.37 1521.68 1892.26 1516.82 Q1896.15 1511.93 1902.7 1511.93 Q1904.46 1511.93 1906.24 1512.28 Q1908.05 1512.63 1909.99 1513.32 Z\" fill=\"#000000\" fill-rule=\"evenodd\" fill-opacity=\"1\" /><path clip-path=\"url(#clip090)\" d=\"M 0 0 M2112.23 1530.71 Q2108.89 1530.71 2106.97 1532.49 Q2105.07 1534.27 2105.07 1537.4 Q2105.07 1540.52 2106.97 1542.31 Q2108.89 1544.09 2112.23 1544.09 Q2115.56 1544.09 2117.48 1542.31 Q2119.4 1540.5 2119.4 1537.4 Q2119.4 1534.27 2117.48 1532.49 Q2115.58 1530.71 2112.23 1530.71 M2107.55 1528.72 Q2104.54 1527.98 2102.85 1525.92 Q2101.19 1523.86 2101.19 1520.89 Q2101.19 1516.75 2104.13 1514.34 Q2107.09 1511.93 2112.23 1511.93 Q2117.39 1511.93 2120.33 1514.34 Q2123.27 1516.75 2123.27 1520.89 Q2123.27 1523.86 2121.58 1525.92 Q2119.91 1527.98 2116.93 1528.72 Q2120.31 1529.5 2122.18 1531.8 Q2124.08 1534.09 2124.08 1537.4 Q2124.08 1542.42 2121 1545.11 Q2117.94 1547.79 2112.23 1547.79 Q2106.51 1547.79 2103.43 1545.11 Q2100.38 1542.42 2100.38 1537.4 Q2100.38 1534.09 2102.27 1531.8 Q2104.17 1529.5 2107.55 1528.72 M2105.84 1521.33 Q2105.84 1524.02 2107.5 1525.52 Q2109.19 1527.03 2112.23 1527.03 Q2115.24 1527.03 2116.93 1525.52 Q2118.64 1524.02 2118.64 1521.33 Q2118.64 1518.65 2116.93 1517.14 Q2115.24 1515.64 2112.23 1515.64 Q2109.19 1515.64 2107.5 1517.14 Q2105.84 1518.65 2105.84 1521.33 Z\" fill=\"#000000\" fill-rule=\"evenodd\" fill-opacity=\"1\" /><path clip-path=\"url(#clip090)\" d=\"M 0 0 M2301.02 1543.18 L2308.66 1543.18 L2308.66 1516.82 L2300.35 1518.49 L2300.35 1514.23 L2308.61 1512.56 L2313.29 1512.56 L2313.29 1543.18 L2320.93 1543.18 L2320.93 1547.12 L2301.02 1547.12 L2301.02 1543.18 Z\" fill=\"#000000\" fill-rule=\"evenodd\" fill-opacity=\"1\" /><path clip-path=\"url(#clip090)\" d=\"M 0 0 M2336 1515.64 Q2332.39 1515.64 2330.56 1519.2 Q2328.75 1522.75 2328.75 1529.87 Q2328.75 1536.98 2330.56 1540.55 Q2332.39 1544.09 2336 1544.09 Q2339.63 1544.09 2341.44 1540.55 Q2343.27 1536.98 2343.27 1529.87 Q2343.27 1522.75 2341.44 1519.2 Q2339.63 1515.64 2336 1515.64 M2336 1511.93 Q2341.81 1511.93 2344.86 1516.54 Q2347.94 1521.12 2347.94 1529.87 Q2347.94 1538.6 2344.86 1543.21 Q2341.81 1547.79 2336 1547.79 Q2330.19 1547.79 2327.11 1543.21 Q2324.05 1538.6 2324.05 1529.87 Q2324.05 1521.12 2327.11 1516.54 Q2330.19 1511.93 2336 1511.93 Z\" fill=\"#000000\" fill-rule=\"evenodd\" fill-opacity=\"1\" /><polyline clip-path=\"url(#clip093)\" style=\"stroke:#000000; stroke-width:2; stroke-opacity:0.1; fill:none\" points=\"\n",
       "  1341.9,1445.72 2352.76,1445.72 \n",
       "  \"/>\n",
       "<polyline clip-path=\"url(#clip093)\" style=\"stroke:#000000; stroke-width:2; stroke-opacity:0.1; fill:none\" points=\"\n",
       "  1341.9,1150.89 2352.76,1150.89 \n",
       "  \"/>\n",
       "<polyline clip-path=\"url(#clip093)\" style=\"stroke:#000000; stroke-width:2; stroke-opacity:0.1; fill:none\" points=\"\n",
       "  1341.9,856.057 2352.76,856.057 \n",
       "  \"/>\n",
       "<polyline clip-path=\"url(#clip093)\" style=\"stroke:#000000; stroke-width:2; stroke-opacity:0.1; fill:none\" points=\"\n",
       "  1341.9,561.228 2352.76,561.228 \n",
       "  \"/>\n",
       "<polyline clip-path=\"url(#clip093)\" style=\"stroke:#000000; stroke-width:2; stroke-opacity:0.1; fill:none\" points=\"\n",
       "  1341.9,266.398 2352.76,266.398 \n",
       "  \"/>\n",
       "<polyline clip-path=\"url(#clip090)\" style=\"stroke:#000000; stroke-width:4; stroke-opacity:1; fill:none\" points=\"\n",
       "  1341.9,1486.45 1341.9,47.2441 \n",
       "  \"/>\n",
       "<polyline clip-path=\"url(#clip090)\" style=\"stroke:#000000; stroke-width:4; stroke-opacity:1; fill:none\" points=\"\n",
       "  1341.9,1445.72 1354.03,1445.72 \n",
       "  \"/>\n",
       "<polyline clip-path=\"url(#clip090)\" style=\"stroke:#000000; stroke-width:4; stroke-opacity:1; fill:none\" points=\"\n",
       "  1341.9,1150.89 1354.03,1150.89 \n",
       "  \"/>\n",
       "<polyline clip-path=\"url(#clip090)\" style=\"stroke:#000000; stroke-width:4; stroke-opacity:1; fill:none\" points=\"\n",
       "  1341.9,856.057 1354.03,856.057 \n",
       "  \"/>\n",
       "<polyline clip-path=\"url(#clip090)\" style=\"stroke:#000000; stroke-width:4; stroke-opacity:1; fill:none\" points=\"\n",
       "  1341.9,561.228 1354.03,561.228 \n",
       "  \"/>\n",
       "<polyline clip-path=\"url(#clip090)\" style=\"stroke:#000000; stroke-width:4; stroke-opacity:1; fill:none\" points=\"\n",
       "  1341.9,266.398 1354.03,266.398 \n",
       "  \"/>\n",
       "<path clip-path=\"url(#clip090)\" d=\"M 0 0 M1256.99 1431.51 Q1253.38 1431.51 1251.55 1435.08 Q1249.74 1438.62 1249.74 1445.75 Q1249.74 1452.86 1251.55 1456.42 Q1253.38 1459.96 1256.99 1459.96 Q1260.62 1459.96 1262.43 1456.42 Q1264.26 1452.86 1264.26 1445.75 Q1264.26 1438.62 1262.43 1435.08 Q1260.62 1431.51 1256.99 1431.51 M1256.99 1427.81 Q1262.8 1427.81 1265.85 1432.42 Q1268.93 1437 1268.93 1445.75 Q1268.93 1454.48 1265.85 1459.08 Q1262.8 1463.67 1256.99 1463.67 Q1251.18 1463.67 1248.1 1459.08 Q1245.04 1454.48 1245.04 1445.75 Q1245.04 1437 1248.1 1432.42 Q1251.18 1427.81 1256.99 1427.81 Z\" fill=\"#000000\" fill-rule=\"evenodd\" fill-opacity=\"1\" /><path clip-path=\"url(#clip090)\" d=\"M 0 0 M1274 1457.12 L1278.89 1457.12 L1278.89 1463 L1274 1463 L1274 1457.12 Z\" fill=\"#000000\" fill-rule=\"evenodd\" fill-opacity=\"1\" /><path clip-path=\"url(#clip090)\" d=\"M 0 0 M1293.95 1431.51 Q1290.34 1431.51 1288.52 1435.08 Q1286.71 1438.62 1286.71 1445.75 Q1286.71 1452.86 1288.52 1456.42 Q1290.34 1459.96 1293.95 1459.96 Q1297.59 1459.96 1299.39 1456.42 Q1301.22 1452.86 1301.22 1445.75 Q1301.22 1438.62 1299.39 1435.08 Q1297.59 1431.51 1293.95 1431.51 M1293.95 1427.81 Q1299.77 1427.81 1302.82 1432.42 Q1305.9 1437 1305.9 1445.75 Q1305.9 1454.48 1302.82 1459.08 Q1299.77 1463.67 1293.95 1463.67 Q1288.14 1463.67 1285.07 1459.08 Q1282.01 1454.48 1282.01 1445.75 Q1282.01 1437 1285.07 1432.42 Q1288.14 1427.81 1293.95 1427.81 Z\" fill=\"#000000\" fill-rule=\"evenodd\" fill-opacity=\"1\" /><path clip-path=\"url(#clip090)\" d=\"M 0 0 M1257.98 1136.69 Q1254.37 1136.69 1252.54 1140.25 Q1250.74 1143.79 1250.74 1150.92 Q1250.74 1158.03 1252.54 1161.59 Q1254.37 1165.13 1257.98 1165.13 Q1261.62 1165.13 1263.42 1161.59 Q1265.25 1158.03 1265.25 1150.92 Q1265.25 1143.79 1263.42 1140.25 Q1261.62 1136.69 1257.98 1136.69 M1257.98 1132.98 Q1263.79 1132.98 1266.85 1137.59 Q1269.93 1142.17 1269.93 1150.92 Q1269.93 1159.65 1266.85 1164.25 Q1263.79 1168.84 1257.98 1168.84 Q1252.17 1168.84 1249.09 1164.25 Q1246.04 1159.65 1246.04 1150.92 Q1246.04 1142.17 1249.09 1137.59 Q1252.17 1132.98 1257.98 1132.98 Z\" fill=\"#000000\" fill-rule=\"evenodd\" fill-opacity=\"1\" /><path clip-path=\"url(#clip090)\" d=\"M 0 0 M1275 1162.29 L1279.88 1162.29 L1279.88 1168.17 L1275 1168.17 L1275 1162.29 Z\" fill=\"#000000\" fill-rule=\"evenodd\" fill-opacity=\"1\" /><path clip-path=\"url(#clip090)\" d=\"M 0 0 M1285 1133.61 L1303.35 1133.61 L1303.35 1137.54 L1289.28 1137.54 L1289.28 1146.01 Q1290.3 1145.67 1291.32 1145.5 Q1292.33 1145.32 1293.35 1145.32 Q1299.14 1145.32 1302.52 1148.49 Q1305.9 1151.66 1305.9 1157.08 Q1305.9 1162.66 1302.43 1165.76 Q1298.95 1168.84 1292.64 1168.84 Q1290.46 1168.84 1288.19 1168.47 Q1285.95 1168.1 1283.54 1167.36 L1283.54 1162.66 Q1285.62 1163.79 1287.84 1164.35 Q1290.07 1164.9 1292.54 1164.9 Q1296.55 1164.9 1298.89 1162.8 Q1301.22 1160.69 1301.22 1157.08 Q1301.22 1153.47 1298.89 1151.36 Q1296.55 1149.25 1292.54 1149.25 Q1290.67 1149.25 1288.79 1149.67 Q1286.94 1150.09 1285 1150.97 L1285 1133.61 Z\" fill=\"#000000\" fill-rule=\"evenodd\" fill-opacity=\"1\" /><path clip-path=\"url(#clip090)\" d=\"M 0 0 M1249.02 869.402 L1256.66 869.402 L1256.66 843.036 L1248.35 844.703 L1248.35 840.444 L1256.62 838.777 L1261.29 838.777 L1261.29 869.402 L1268.93 869.402 L1268.93 873.337 L1249.02 873.337 L1249.02 869.402 Z\" fill=\"#000000\" fill-rule=\"evenodd\" fill-opacity=\"1\" /><path clip-path=\"url(#clip090)\" d=\"M 0 0 M1274 867.457 L1278.89 867.457 L1278.89 873.337 L1274 873.337 L1274 867.457 Z\" fill=\"#000000\" fill-rule=\"evenodd\" fill-opacity=\"1\" /><path clip-path=\"url(#clip090)\" d=\"M 0 0 M1293.95 841.856 Q1290.34 841.856 1288.52 845.42 Q1286.71 848.962 1286.71 856.092 Q1286.71 863.198 1288.52 866.763 Q1290.34 870.305 1293.95 870.305 Q1297.59 870.305 1299.39 866.763 Q1301.22 863.198 1301.22 856.092 Q1301.22 848.962 1299.39 845.42 Q1297.59 841.856 1293.95 841.856 M1293.95 838.152 Q1299.77 838.152 1302.82 842.758 Q1305.9 847.342 1305.9 856.092 Q1305.9 864.818 1302.82 869.425 Q1299.77 874.008 1293.95 874.008 Q1288.14 874.008 1285.07 869.425 Q1282.01 864.818 1282.01 856.092 Q1282.01 847.342 1285.07 842.758 Q1288.14 838.152 1293.95 838.152 Z\" fill=\"#000000\" fill-rule=\"evenodd\" fill-opacity=\"1\" /><path clip-path=\"url(#clip090)\" d=\"M 0 0 M1250.02 574.572 L1257.66 574.572 L1257.66 548.207 L1249.35 549.873 L1249.35 545.614 L1257.61 543.948 L1262.29 543.948 L1262.29 574.572 L1269.93 574.572 L1269.93 578.508 L1250.02 578.508 L1250.02 574.572 Z\" fill=\"#000000\" fill-rule=\"evenodd\" fill-opacity=\"1\" /><path clip-path=\"url(#clip090)\" d=\"M 0 0 M1275 572.628 L1279.88 572.628 L1279.88 578.508 L1275 578.508 L1275 572.628 Z\" fill=\"#000000\" fill-rule=\"evenodd\" fill-opacity=\"1\" /><path clip-path=\"url(#clip090)\" d=\"M 0 0 M1285 543.948 L1303.35 543.948 L1303.35 547.883 L1289.28 547.883 L1289.28 556.355 Q1290.3 556.008 1291.32 555.846 Q1292.33 555.66 1293.35 555.66 Q1299.14 555.66 1302.52 558.832 Q1305.9 562.003 1305.9 567.42 Q1305.9 572.998 1302.43 576.1 Q1298.95 579.179 1292.64 579.179 Q1290.46 579.179 1288.19 578.809 Q1285.95 578.438 1283.54 577.697 L1283.54 572.998 Q1285.62 574.133 1287.84 574.688 Q1290.07 575.244 1292.54 575.244 Q1296.55 575.244 1298.89 573.137 Q1301.22 571.031 1301.22 567.42 Q1301.22 563.809 1298.89 561.702 Q1296.55 559.596 1292.54 559.596 Q1290.67 559.596 1288.79 560.012 Q1286.94 560.429 1285 561.309 L1285 543.948 Z\" fill=\"#000000\" fill-rule=\"evenodd\" fill-opacity=\"1\" /><path clip-path=\"url(#clip090)\" d=\"M 0 0 M1252.61 279.743 L1268.93 279.743 L1268.93 283.678 L1246.99 283.678 L1246.99 279.743 Q1249.65 276.988 1254.23 272.359 Q1258.84 267.706 1260.02 266.363 Q1262.27 263.84 1263.14 262.104 Q1264.05 260.345 1264.05 258.655 Q1264.05 255.901 1262.1 254.164 Q1260.18 252.428 1257.08 252.428 Q1254.88 252.428 1252.43 253.192 Q1250 253.956 1247.22 255.507 L1247.22 250.785 Q1250.04 249.651 1252.5 249.072 Q1254.95 248.493 1256.99 248.493 Q1262.36 248.493 1265.55 251.178 Q1268.75 253.864 1268.75 258.354 Q1268.75 260.484 1267.94 262.405 Q1267.15 264.303 1265.04 266.896 Q1264.46 267.567 1261.36 270.785 Q1258.26 273.979 1252.61 279.743 Z\" fill=\"#000000\" fill-rule=\"evenodd\" fill-opacity=\"1\" /><path clip-path=\"url(#clip090)\" d=\"M 0 0 M1274 277.799 L1278.89 277.799 L1278.89 283.678 L1274 283.678 L1274 277.799 Z\" fill=\"#000000\" fill-rule=\"evenodd\" fill-opacity=\"1\" /><path clip-path=\"url(#clip090)\" d=\"M 0 0 M1293.95 252.197 Q1290.34 252.197 1288.52 255.762 Q1286.71 259.303 1286.71 266.433 Q1286.71 273.539 1288.52 277.104 Q1290.34 280.646 1293.95 280.646 Q1297.59 280.646 1299.39 277.104 Q1301.22 273.539 1301.22 266.433 Q1301.22 259.303 1299.39 255.762 Q1297.59 252.197 1293.95 252.197 M1293.95 248.493 Q1299.77 248.493 1302.82 253.1 Q1305.9 257.683 1305.9 266.433 Q1305.9 275.16 1302.82 279.766 Q1299.77 284.35 1293.95 284.35 Q1288.14 284.35 1285.07 279.766 Q1282.01 275.16 1282.01 266.433 Q1282.01 257.683 1285.07 253.1 Q1288.14 248.493 1293.95 248.493 Z\" fill=\"#000000\" fill-rule=\"evenodd\" fill-opacity=\"1\" /><circle clip-path=\"url(#clip093)\" cx=\"1370.51\" cy=\"1445.72\" r=\"14\" fill=\"#0000ff\" fill-rule=\"evenodd\" fill-opacity=\"1\" stroke=\"#000000\" stroke-opacity=\"1\" stroke-width=\"3.2\"/>\n",
       "<circle clip-path=\"url(#clip093)\" cx=\"1476.47\" cy=\"1037\" r=\"14\" fill=\"#0000ff\" fill-rule=\"evenodd\" fill-opacity=\"1\" stroke=\"#000000\" stroke-opacity=\"1\" stroke-width=\"3.2\"/>\n",
       "<circle clip-path=\"url(#clip093)\" cx=\"1582.43\" cy=\"797.909\" r=\"14\" fill=\"#0000ff\" fill-rule=\"evenodd\" fill-opacity=\"1\" stroke=\"#000000\" stroke-opacity=\"1\" stroke-width=\"3.2\"/>\n",
       "<circle clip-path=\"url(#clip093)\" cx=\"1688.39\" cy=\"628.275\" r=\"14\" fill=\"#0000ff\" fill-rule=\"evenodd\" fill-opacity=\"1\" stroke=\"#000000\" stroke-opacity=\"1\" stroke-width=\"3.2\"/>\n",
       "<circle clip-path=\"url(#clip093)\" cx=\"1794.35\" cy=\"496.697\" r=\"14\" fill=\"#0000ff\" fill-rule=\"evenodd\" fill-opacity=\"1\" stroke=\"#000000\" stroke-opacity=\"1\" stroke-width=\"3.2\"/>\n",
       "<circle clip-path=\"url(#clip093)\" cx=\"1900.31\" cy=\"389.189\" r=\"14\" fill=\"#0000ff\" fill-rule=\"evenodd\" fill-opacity=\"1\" stroke=\"#000000\" stroke-opacity=\"1\" stroke-width=\"3.2\"/>\n",
       "<circle clip-path=\"url(#clip093)\" cx=\"2006.27\" cy=\"298.293\" r=\"14\" fill=\"#0000ff\" fill-rule=\"evenodd\" fill-opacity=\"1\" stroke=\"#000000\" stroke-opacity=\"1\" stroke-width=\"3.2\"/>\n",
       "<circle clip-path=\"url(#clip093)\" cx=\"2112.23\" cy=\"219.555\" r=\"14\" fill=\"#0000ff\" fill-rule=\"evenodd\" fill-opacity=\"1\" stroke=\"#000000\" stroke-opacity=\"1\" stroke-width=\"3.2\"/>\n",
       "<circle clip-path=\"url(#clip093)\" cx=\"2218.19\" cy=\"150.103\" r=\"14\" fill=\"#0000ff\" fill-rule=\"evenodd\" fill-opacity=\"1\" stroke=\"#000000\" stroke-opacity=\"1\" stroke-width=\"3.2\"/>\n",
       "<circle clip-path=\"url(#clip093)\" cx=\"2324.15\" cy=\"87.9763\" r=\"14\" fill=\"#0000ff\" fill-rule=\"evenodd\" fill-opacity=\"1\" stroke=\"#000000\" stroke-opacity=\"1\" stroke-width=\"3.2\"/>\n",
       "<path clip-path=\"url(#clip090)\" d=\"\n",
       "M2156.1 216.178 L2319.06 216.178 L2319.06 95.2176 L2156.1 95.2176  Z\n",
       "  \" fill=\"#ffffff\" fill-rule=\"evenodd\" fill-opacity=\"1\"/>\n",
       "<polyline clip-path=\"url(#clip090)\" style=\"stroke:#000000; stroke-width:4; stroke-opacity:1; fill:none\" points=\"\n",
       "  2156.1,216.178 2319.06,216.178 2319.06,95.2176 2156.1,95.2176 2156.1,216.178 \n",
       "  \"/>\n",
       "<circle clip-path=\"url(#clip090)\" cx=\"2201.02\" cy=\"155.698\" r=\"23\" fill=\"#0000ff\" fill-rule=\"evenodd\" fill-opacity=\"1\" stroke=\"#000000\" stroke-opacity=\"1\" stroke-width=\"5.12\"/>\n",
       "<path clip-path=\"url(#clip090)\" d=\"M 0 0 M2259.79 175.385 Q2257.99 180.015 2256.27 181.427 Q2254.56 182.839 2251.69 182.839 L2248.29 182.839 L2248.29 179.274 L2250.79 179.274 Q2252.55 179.274 2253.52 178.44 Q2254.49 177.607 2255.67 174.505 L2256.44 172.561 L2245.95 147.052 L2250.46 147.052 L2258.56 167.329 L2266.67 147.052 L2271.18 147.052 L2259.79 175.385 Z\" fill=\"#000000\" fill-rule=\"evenodd\" fill-opacity=\"1\" /><path clip-path=\"url(#clip090)\" d=\"M 0 0 M2280.28 169.042 L2296.6 169.042 L2296.6 172.978 L2274.65 172.978 L2274.65 169.042 Q2277.31 166.288 2281.9 161.658 Q2286.5 157.005 2287.69 155.663 Q2289.93 153.14 2290.81 151.404 Q2291.71 149.644 2291.71 147.955 Q2291.71 145.2 2289.77 143.464 Q2287.85 141.728 2284.75 141.728 Q2282.55 141.728 2280.09 142.492 Q2277.66 143.255 2274.88 144.806 L2274.88 140.084 Q2277.71 138.95 2280.16 138.371 Q2282.62 137.793 2284.65 137.793 Q2290.02 137.793 2293.22 140.478 Q2296.41 143.163 2296.41 147.654 Q2296.41 149.783 2295.6 151.705 Q2294.81 153.603 2292.71 156.195 Q2292.13 156.867 2289.03 160.084 Q2285.93 163.279 2280.28 169.042 Z\" fill=\"#000000\" fill-rule=\"evenodd\" fill-opacity=\"1\" /></svg>\n"
      ]
     },
     "execution_count": 32,
     "metadata": {},
     "output_type": "execute_result"
    }
   ],
   "source": [
    "# użycie opcji layout\n",
    "scatter(df.a, [df.b, df.c],  colour = [:red :blue ], layout=2)"
   ]
  },
  {
   "cell_type": "code",
   "execution_count": 33,
   "metadata": {},
   "outputs": [
    {
     "data": {
      "image/svg+xml": [
       "<?xml version=\"1.0\" encoding=\"utf-8\"?>\n",
       "<svg xmlns=\"http://www.w3.org/2000/svg\" xmlns:xlink=\"http://www.w3.org/1999/xlink\" width=\"600\" height=\"400\" viewBox=\"0 0 2400 1600\">\n",
       "<defs>\n",
       "  <clipPath id=\"clip130\">\n",
       "    <rect x=\"0\" y=\"0\" width=\"2400\" height=\"1600\"/>\n",
       "  </clipPath>\n",
       "</defs>\n",
       "<path clip-path=\"url(#clip130)\" d=\"\n",
       "M0 1600 L2400 1600 L2400 0 L0 0  Z\n",
       "  \" fill=\"#ffffff\" fill-rule=\"evenodd\" fill-opacity=\"1\"/>\n",
       "<defs>\n",
       "  <clipPath id=\"clip131\">\n",
       "    <rect x=\"480\" y=\"0\" width=\"1681\" height=\"1600\"/>\n",
       "  </clipPath>\n",
       "</defs>\n",
       "<path clip-path=\"url(#clip130)\" d=\"\n",
       "M135.95 1486.45 L1146.81 1486.45 L1146.81 47.2441 L135.95 47.2441  Z\n",
       "  \" fill=\"#ffffff\" fill-rule=\"evenodd\" fill-opacity=\"1\"/>\n",
       "<defs>\n",
       "  <clipPath id=\"clip132\">\n",
       "    <rect x=\"135\" y=\"47\" width=\"1012\" height=\"1440\"/>\n",
       "  </clipPath>\n",
       "</defs>\n",
       "<polyline clip-path=\"url(#clip132)\" style=\"stroke:#000000; stroke-width:2; stroke-opacity:0.1; fill:none\" points=\"\n",
       "  270.519,1486.45 270.519,47.2441 \n",
       "  \"/>\n",
       "<polyline clip-path=\"url(#clip132)\" style=\"stroke:#000000; stroke-width:2; stroke-opacity:0.1; fill:none\" points=\"\n",
       "  482.439,1486.45 482.439,47.2441 \n",
       "  \"/>\n",
       "<polyline clip-path=\"url(#clip132)\" style=\"stroke:#000000; stroke-width:2; stroke-opacity:0.1; fill:none\" points=\"\n",
       "  694.358,1486.45 694.358,47.2441 \n",
       "  \"/>\n",
       "<polyline clip-path=\"url(#clip132)\" style=\"stroke:#000000; stroke-width:2; stroke-opacity:0.1; fill:none\" points=\"\n",
       "  906.278,1486.45 906.278,47.2441 \n",
       "  \"/>\n",
       "<polyline clip-path=\"url(#clip132)\" style=\"stroke:#000000; stroke-width:2; stroke-opacity:0.1; fill:none\" points=\"\n",
       "  1118.2,1486.45 1118.2,47.2441 \n",
       "  \"/>\n",
       "<polyline clip-path=\"url(#clip130)\" style=\"stroke:#000000; stroke-width:4; stroke-opacity:1; fill:none\" points=\"\n",
       "  135.95,1486.45 1146.81,1486.45 \n",
       "  \"/>\n",
       "<polyline clip-path=\"url(#clip130)\" style=\"stroke:#000000; stroke-width:4; stroke-opacity:1; fill:none\" points=\"\n",
       "  270.519,1486.45 270.519,1469.18 \n",
       "  \"/>\n",
       "<polyline clip-path=\"url(#clip130)\" style=\"stroke:#000000; stroke-width:4; stroke-opacity:1; fill:none\" points=\"\n",
       "  482.439,1486.45 482.439,1469.18 \n",
       "  \"/>\n",
       "<polyline clip-path=\"url(#clip130)\" style=\"stroke:#000000; stroke-width:4; stroke-opacity:1; fill:none\" points=\"\n",
       "  694.358,1486.45 694.358,1469.18 \n",
       "  \"/>\n",
       "<polyline clip-path=\"url(#clip130)\" style=\"stroke:#000000; stroke-width:4; stroke-opacity:1; fill:none\" points=\"\n",
       "  906.278,1486.45 906.278,1469.18 \n",
       "  \"/>\n",
       "<polyline clip-path=\"url(#clip130)\" style=\"stroke:#000000; stroke-width:4; stroke-opacity:1; fill:none\" points=\"\n",
       "  1118.2,1486.45 1118.2,1469.18 \n",
       "  \"/>\n",
       "<path clip-path=\"url(#clip130)\" d=\"M 0 0 M265.172 1543.18 L281.491 1543.18 L281.491 1547.12 L259.547 1547.12 L259.547 1543.18 Q262.209 1540.43 266.792 1535.8 Q271.399 1531.15 272.579 1529.81 Q274.825 1527.28 275.704 1525.55 Q276.607 1523.79 276.607 1522.1 Q276.607 1519.34 274.663 1517.61 Q272.741 1515.87 269.64 1515.87 Q267.44 1515.87 264.987 1516.63 Q262.556 1517.4 259.778 1518.95 L259.778 1514.23 Q262.603 1513.09 265.056 1512.51 Q267.51 1511.93 269.547 1511.93 Q274.917 1511.93 278.112 1514.62 Q281.306 1517.31 281.306 1521.8 Q281.306 1523.93 280.496 1525.85 Q279.709 1527.74 277.602 1530.34 Q277.024 1531.01 273.922 1534.23 Q270.82 1537.42 265.172 1543.18 Z\" fill=\"#000000\" fill-rule=\"evenodd\" fill-opacity=\"1\" /><path clip-path=\"url(#clip130)\" d=\"M 0 0 M485.448 1516.63 L473.643 1535.08 L485.448 1535.08 L485.448 1516.63 M484.221 1512.56 L490.101 1512.56 L490.101 1535.08 L495.031 1535.08 L495.031 1538.97 L490.101 1538.97 L490.101 1547.12 L485.448 1547.12 L485.448 1538.97 L469.846 1538.97 L469.846 1534.46 L484.221 1512.56 Z\" fill=\"#000000\" fill-rule=\"evenodd\" fill-opacity=\"1\" /><path clip-path=\"url(#clip130)\" d=\"M 0 0 M694.764 1527.98 Q691.615 1527.98 689.764 1530.13 Q687.935 1532.28 687.935 1536.03 Q687.935 1539.76 689.764 1541.93 Q691.615 1544.09 694.764 1544.09 Q697.912 1544.09 699.74 1541.93 Q701.592 1539.76 701.592 1536.03 Q701.592 1532.28 699.74 1530.13 Q697.912 1527.98 694.764 1527.98 M704.046 1513.32 L704.046 1517.58 Q702.287 1516.75 700.481 1516.31 Q698.699 1515.87 696.939 1515.87 Q692.31 1515.87 689.856 1519 Q687.426 1522.12 687.078 1528.44 Q688.444 1526.43 690.504 1525.36 Q692.564 1524.27 695.041 1524.27 Q700.25 1524.27 703.259 1527.44 Q706.291 1530.59 706.291 1536.03 Q706.291 1541.36 703.143 1544.57 Q699.995 1547.79 694.764 1547.79 Q688.768 1547.79 685.597 1543.21 Q682.426 1538.6 682.426 1529.87 Q682.426 1521.68 686.315 1516.82 Q690.203 1511.93 696.754 1511.93 Q698.514 1511.93 700.296 1512.28 Q702.101 1512.63 704.046 1513.32 Z\" fill=\"#000000\" fill-rule=\"evenodd\" fill-opacity=\"1\" /><path clip-path=\"url(#clip130)\" d=\"M 0 0 M906.278 1530.71 Q902.945 1530.71 901.023 1532.49 Q899.125 1534.27 899.125 1537.4 Q899.125 1540.52 901.023 1542.31 Q902.945 1544.09 906.278 1544.09 Q909.611 1544.09 911.533 1542.31 Q913.454 1540.5 913.454 1537.4 Q913.454 1534.27 911.533 1532.49 Q909.635 1530.71 906.278 1530.71 M901.602 1528.72 Q898.593 1527.98 896.903 1525.92 Q895.236 1523.86 895.236 1520.89 Q895.236 1516.75 898.176 1514.34 Q901.139 1511.93 906.278 1511.93 Q911.44 1511.93 914.38 1514.34 Q917.32 1516.75 917.32 1520.89 Q917.32 1523.86 915.63 1525.92 Q913.963 1527.98 910.977 1528.72 Q914.357 1529.5 916.232 1531.8 Q918.13 1534.09 918.13 1537.4 Q918.13 1542.42 915.051 1545.11 Q911.996 1547.79 906.278 1547.79 Q900.561 1547.79 897.482 1545.11 Q894.426 1542.42 894.426 1537.4 Q894.426 1534.09 896.324 1531.8 Q898.223 1529.5 901.602 1528.72 M899.889 1521.33 Q899.889 1524.02 901.556 1525.52 Q903.246 1527.03 906.278 1527.03 Q909.287 1527.03 910.977 1525.52 Q912.69 1524.02 912.69 1521.33 Q912.69 1518.65 910.977 1517.14 Q909.287 1515.64 906.278 1515.64 Q903.246 1515.64 901.556 1517.14 Q899.889 1518.65 899.889 1521.33 Z\" fill=\"#000000\" fill-rule=\"evenodd\" fill-opacity=\"1\" /><path clip-path=\"url(#clip130)\" d=\"M 0 0 M1095.07 1543.18 L1102.71 1543.18 L1102.71 1516.82 L1094.4 1518.49 L1094.4 1514.23 L1102.67 1512.56 L1107.34 1512.56 L1107.34 1543.18 L1114.98 1543.18 L1114.98 1547.12 L1095.07 1547.12 L1095.07 1543.18 Z\" fill=\"#000000\" fill-rule=\"evenodd\" fill-opacity=\"1\" /><path clip-path=\"url(#clip130)\" d=\"M 0 0 M1130.05 1515.64 Q1126.44 1515.64 1124.61 1519.2 Q1122.8 1522.75 1122.8 1529.87 Q1122.8 1536.98 1124.61 1540.55 Q1126.44 1544.09 1130.05 1544.09 Q1133.68 1544.09 1135.49 1540.55 Q1137.32 1536.98 1137.32 1529.87 Q1137.32 1522.75 1135.49 1519.2 Q1133.68 1515.64 1130.05 1515.64 M1130.05 1511.93 Q1135.86 1511.93 1138.92 1516.54 Q1141.99 1521.12 1141.99 1529.87 Q1141.99 1538.6 1138.92 1543.21 Q1135.86 1547.79 1130.05 1547.79 Q1124.24 1547.79 1121.16 1543.21 Q1118.11 1538.6 1118.11 1529.87 Q1118.11 1521.12 1121.16 1516.54 Q1124.24 1511.93 1130.05 1511.93 Z\" fill=\"#000000\" fill-rule=\"evenodd\" fill-opacity=\"1\" /><polyline clip-path=\"url(#clip132)\" style=\"stroke:#000000; stroke-width:2; stroke-opacity:0.1; fill:none\" points=\"\n",
       "  135.95,1219.43 1146.81,1219.43 \n",
       "  \"/>\n",
       "<polyline clip-path=\"url(#clip132)\" style=\"stroke:#000000; stroke-width:2; stroke-opacity:0.1; fill:none\" points=\"\n",
       "  135.95,842.276 1146.81,842.276 \n",
       "  \"/>\n",
       "<polyline clip-path=\"url(#clip132)\" style=\"stroke:#000000; stroke-width:2; stroke-opacity:0.1; fill:none\" points=\"\n",
       "  135.95,465.126 1146.81,465.126 \n",
       "  \"/>\n",
       "<polyline clip-path=\"url(#clip132)\" style=\"stroke:#000000; stroke-width:2; stroke-opacity:0.1; fill:none\" points=\"\n",
       "  135.95,87.9763 1146.81,87.9763 \n",
       "  \"/>\n",
       "<polyline clip-path=\"url(#clip130)\" style=\"stroke:#000000; stroke-width:4; stroke-opacity:1; fill:none\" points=\"\n",
       "  135.95,1486.45 135.95,47.2441 \n",
       "  \"/>\n",
       "<polyline clip-path=\"url(#clip130)\" style=\"stroke:#000000; stroke-width:4; stroke-opacity:1; fill:none\" points=\"\n",
       "  135.95,1219.43 148.08,1219.43 \n",
       "  \"/>\n",
       "<polyline clip-path=\"url(#clip130)\" style=\"stroke:#000000; stroke-width:4; stroke-opacity:1; fill:none\" points=\"\n",
       "  135.95,842.276 148.08,842.276 \n",
       "  \"/>\n",
       "<polyline clip-path=\"url(#clip130)\" style=\"stroke:#000000; stroke-width:4; stroke-opacity:1; fill:none\" points=\"\n",
       "  135.95,465.126 148.08,465.126 \n",
       "  \"/>\n",
       "<polyline clip-path=\"url(#clip130)\" style=\"stroke:#000000; stroke-width:4; stroke-opacity:1; fill:none\" points=\"\n",
       "  135.95,87.9763 148.08,87.9763 \n",
       "  \"/>\n",
       "<path clip-path=\"url(#clip130)\" d=\"M 0 0 M79.0475 1202.15 L97.4039 1202.15 L97.4039 1206.08 L83.3299 1206.08 L83.3299 1214.55 Q84.3484 1214.21 85.3669 1214.04 Q86.3855 1213.86 87.404 1213.86 Q93.191 1213.86 96.5706 1217.03 Q99.9502 1220.2 99.9502 1225.62 Q99.9502 1231.2 96.478 1234.3 Q93.0058 1237.38 86.6864 1237.38 Q84.5105 1237.38 82.242 1237.01 Q79.9966 1236.64 77.5892 1235.9 L77.5892 1231.2 Q79.6725 1232.33 81.8947 1232.89 Q84.1169 1233.44 86.5938 1233.44 Q90.5984 1233.44 92.9363 1231.34 Q95.2743 1229.23 95.2743 1225.62 Q95.2743 1222.01 92.9363 1219.9 Q90.5984 1217.79 86.5938 1217.79 Q84.7188 1217.79 82.8438 1218.21 Q80.992 1218.63 79.0475 1219.51 L79.0475 1202.15 Z\" fill=\"#000000\" fill-rule=\"evenodd\" fill-opacity=\"1\" /><path clip-path=\"url(#clip130)\" d=\"M 0 0 M53.0292 855.621 L60.668 855.621 L60.668 829.255 L52.3579 830.922 L52.3579 826.663 L60.6217 824.996 L65.2976 824.996 L65.2976 855.621 L72.9365 855.621 L72.9365 859.556 L53.0292 859.556 L53.0292 855.621 Z\" fill=\"#000000\" fill-rule=\"evenodd\" fill-opacity=\"1\" /><path clip-path=\"url(#clip130)\" d=\"M 0 0 M88.0058 828.075 Q84.3947 828.075 82.566 831.639 Q80.7605 835.181 80.7605 842.311 Q80.7605 849.417 82.566 852.982 Q84.3947 856.524 88.0058 856.524 Q91.6401 856.524 93.4456 852.982 Q95.2743 849.417 95.2743 842.311 Q95.2743 835.181 93.4456 831.639 Q91.6401 828.075 88.0058 828.075 M88.0058 824.371 Q93.816 824.371 96.8715 828.977 Q99.9502 833.561 99.9502 842.311 Q99.9502 851.037 96.8715 855.644 Q93.816 860.227 88.0058 860.227 Q82.1957 860.227 79.117 855.644 Q76.0614 851.037 76.0614 842.311 Q76.0614 833.561 79.117 828.977 Q82.1957 824.371 88.0058 824.371 Z\" fill=\"#000000\" fill-rule=\"evenodd\" fill-opacity=\"1\" /><path clip-path=\"url(#clip130)\" d=\"M 0 0 M54.0245 478.471 L61.6634 478.471 L61.6634 452.105 L53.3532 453.772 L53.3532 449.513 L61.6171 447.846 L66.293 447.846 L66.293 478.471 L73.9318 478.471 L73.9318 482.406 L54.0245 482.406 L54.0245 478.471 Z\" fill=\"#000000\" fill-rule=\"evenodd\" fill-opacity=\"1\" /><path clip-path=\"url(#clip130)\" d=\"M 0 0 M79.0475 447.846 L97.4039 447.846 L97.4039 451.781 L83.3299 451.781 L83.3299 460.253 Q84.3484 459.906 85.3669 459.744 Q86.3855 459.559 87.404 459.559 Q93.191 459.559 96.5706 462.73 Q99.9502 465.902 99.9502 471.318 Q99.9502 476.897 96.478 479.999 Q93.0058 483.077 86.6864 483.077 Q84.5105 483.077 82.242 482.707 Q79.9966 482.337 77.5892 481.596 L77.5892 476.897 Q79.6725 478.031 81.8947 478.587 Q84.1169 479.142 86.5938 479.142 Q90.5984 479.142 92.9363 477.036 Q95.2743 474.929 95.2743 471.318 Q95.2743 467.707 92.9363 465.601 Q90.5984 463.494 86.5938 463.494 Q84.7188 463.494 82.8438 463.911 Q80.992 464.328 79.0475 465.207 L79.0475 447.846 Z\" fill=\"#000000\" fill-rule=\"evenodd\" fill-opacity=\"1\" /><path clip-path=\"url(#clip130)\" d=\"M 0 0 M56.6171 101.321 L72.9365 101.321 L72.9365 105.256 L50.9921 105.256 L50.9921 101.321 Q53.6541 98.5665 58.2375 93.9369 Q62.8439 89.2841 64.0245 87.9416 Q66.2698 85.4184 67.1494 83.6823 Q68.0522 81.9231 68.0522 80.2333 Q68.0522 77.4786 66.1078 75.7425 Q64.1865 74.0064 61.0847 74.0064 Q58.8856 74.0064 56.4319 74.7703 Q54.0014 75.5342 51.2236 77.0851 L51.2236 72.3629 Q54.0477 71.2287 56.5014 70.65 Q58.955 70.0713 60.9921 70.0713 Q66.3624 70.0713 69.5568 72.7565 Q72.7513 75.4416 72.7513 79.9323 Q72.7513 82.062 71.9411 83.9832 Q71.1541 85.8814 69.0476 88.474 Q68.4689 89.1453 65.367 92.3628 Q62.2652 95.5573 56.6171 101.321 Z\" fill=\"#000000\" fill-rule=\"evenodd\" fill-opacity=\"1\" /><path clip-path=\"url(#clip130)\" d=\"M 0 0 M88.0058 73.775 Q84.3947 73.775 82.566 77.3398 Q80.7605 80.8814 80.7605 88.011 Q80.7605 95.1174 82.566 98.6822 Q84.3947 102.224 88.0058 102.224 Q91.6401 102.224 93.4456 98.6822 Q95.2743 95.1174 95.2743 88.011 Q95.2743 80.8814 93.4456 77.3398 Q91.6401 73.775 88.0058 73.775 M88.0058 70.0713 Q93.816 70.0713 96.8715 74.6777 Q99.9502 79.261 99.9502 88.011 Q99.9502 96.7378 96.8715 101.344 Q93.816 105.928 88.0058 105.928 Q82.1957 105.928 79.117 101.344 Q76.0614 96.7378 76.0614 88.011 Q76.0614 79.261 79.117 74.6777 Q82.1957 70.0713 88.0058 70.0713 Z\" fill=\"#000000\" fill-rule=\"evenodd\" fill-opacity=\"1\" /><circle clip-path=\"url(#clip132)\" cx=\"270.519\" cy=\"1294.86\" r=\"14\" fill=\"#ff0000\" fill-rule=\"evenodd\" fill-opacity=\"1\" stroke=\"#000000\" stroke-opacity=\"1\" stroke-width=\"3.2\"/>\n",
       "<circle clip-path=\"url(#clip132)\" cx=\"482.439\" cy=\"993.136\" r=\"14\" fill=\"#ff0000\" fill-rule=\"evenodd\" fill-opacity=\"1\" stroke=\"#000000\" stroke-opacity=\"1\" stroke-width=\"3.2\"/>\n",
       "<circle clip-path=\"url(#clip132)\" cx=\"694.358\" cy=\"691.416\" r=\"14\" fill=\"#ff0000\" fill-rule=\"evenodd\" fill-opacity=\"1\" stroke=\"#000000\" stroke-opacity=\"1\" stroke-width=\"3.2\"/>\n",
       "<circle clip-path=\"url(#clip132)\" cx=\"906.278\" cy=\"389.696\" r=\"14\" fill=\"#ff0000\" fill-rule=\"evenodd\" fill-opacity=\"1\" stroke=\"#000000\" stroke-opacity=\"1\" stroke-width=\"3.2\"/>\n",
       "<circle clip-path=\"url(#clip132)\" cx=\"1118.2\" cy=\"87.9763\" r=\"14\" fill=\"#ff0000\" fill-rule=\"evenodd\" fill-opacity=\"1\" stroke=\"#000000\" stroke-opacity=\"1\" stroke-width=\"3.2\"/>\n",
       "<circle clip-path=\"url(#clip132)\" cx=\"164.559\" cy=\"1445.72\" r=\"14\" fill=\"#008000\" fill-rule=\"evenodd\" fill-opacity=\"1\" stroke=\"#000000\" stroke-opacity=\"1\" stroke-width=\"3.2\"/>\n",
       "<circle clip-path=\"url(#clip132)\" cx=\"376.479\" cy=\"1144\" r=\"14\" fill=\"#008000\" fill-rule=\"evenodd\" fill-opacity=\"1\" stroke=\"#000000\" stroke-opacity=\"1\" stroke-width=\"3.2\"/>\n",
       "<circle clip-path=\"url(#clip132)\" cx=\"588.399\" cy=\"842.276\" r=\"14\" fill=\"#008000\" fill-rule=\"evenodd\" fill-opacity=\"1\" stroke=\"#000000\" stroke-opacity=\"1\" stroke-width=\"3.2\"/>\n",
       "<circle clip-path=\"url(#clip132)\" cx=\"800.318\" cy=\"540.556\" r=\"14\" fill=\"#008000\" fill-rule=\"evenodd\" fill-opacity=\"1\" stroke=\"#000000\" stroke-opacity=\"1\" stroke-width=\"3.2\"/>\n",
       "<circle clip-path=\"url(#clip132)\" cx=\"1012.24\" cy=\"238.836\" r=\"14\" fill=\"#008000\" fill-rule=\"evenodd\" fill-opacity=\"1\" stroke=\"#000000\" stroke-opacity=\"1\" stroke-width=\"3.2\"/>\n",
       "<path clip-path=\"url(#clip130)\" d=\"\n",
       "M976.905 276.658 L1113.11 276.658 L1113.11 95.2176 L976.905 95.2176  Z\n",
       "  \" fill=\"#ffffff\" fill-rule=\"evenodd\" fill-opacity=\"1\"/>\n",
       "<polyline clip-path=\"url(#clip130)\" style=\"stroke:#000000; stroke-width:4; stroke-opacity:1; fill:none\" points=\"\n",
       "  976.905,276.658 1113.11,276.658 1113.11,95.2176 976.905,95.2176 976.905,276.658 \n",
       "  \"/>\n",
       "<circle clip-path=\"url(#clip130)\" cx=\"1021.83\" cy=\"155.698\" r=\"23\" fill=\"#ff0000\" fill-rule=\"evenodd\" fill-opacity=\"1\" stroke=\"#000000\" stroke-opacity=\"1\" stroke-width=\"5.12\"/>\n",
       "<path clip-path=\"url(#clip130)\" d=\"M 0 0 M1078.7 141.496 Q1075.09 141.496 1073.26 145.061 Q1071.46 148.603 1071.46 155.732 Q1071.46 162.839 1073.26 166.404 Q1075.09 169.945 1078.7 169.945 Q1082.34 169.945 1084.14 166.404 Q1085.97 162.839 1085.97 155.732 Q1085.97 148.603 1084.14 145.061 Q1082.34 141.496 1078.7 141.496 M1078.7 137.793 Q1084.51 137.793 1087.57 142.399 Q1090.65 146.982 1090.65 155.732 Q1090.65 164.459 1087.57 169.066 Q1084.51 173.649 1078.7 173.649 Q1072.89 173.649 1069.81 169.066 Q1066.76 164.459 1066.76 155.732 Q1066.76 146.982 1069.81 142.399 Q1072.89 137.793 1078.7 137.793 Z\" fill=\"#000000\" fill-rule=\"evenodd\" fill-opacity=\"1\" /><circle clip-path=\"url(#clip130)\" cx=\"1021.83\" cy=\"216.178\" r=\"23\" fill=\"#008000\" fill-rule=\"evenodd\" fill-opacity=\"1\" stroke=\"#000000\" stroke-opacity=\"1\" stroke-width=\"5.12\"/>\n",
       "<path clip-path=\"url(#clip130)\" d=\"M 0 0 M1067.43 229.522 L1075.07 229.522 L1075.07 203.157 L1066.76 204.823 L1066.76 200.564 L1075.02 198.898 L1079.7 198.898 L1079.7 229.522 L1087.34 229.522 L1087.34 233.458 L1067.43 233.458 L1067.43 229.522 Z\" fill=\"#000000\" fill-rule=\"evenodd\" fill-opacity=\"1\" /><path clip-path=\"url(#clip130)\" d=\"\n",
       "M1341.9 1486.45 L2352.76 1486.45 L2352.76 47.2441 L1341.9 47.2441  Z\n",
       "  \" fill=\"#ffffff\" fill-rule=\"evenodd\" fill-opacity=\"1\"/>\n",
       "<defs>\n",
       "  <clipPath id=\"clip133\">\n",
       "    <rect x=\"1341\" y=\"47\" width=\"1012\" height=\"1440\"/>\n",
       "  </clipPath>\n",
       "</defs>\n",
       "<polyline clip-path=\"url(#clip133)\" style=\"stroke:#000000; stroke-width:2; stroke-opacity:0.1; fill:none\" points=\"\n",
       "  1476.47,1486.45 1476.47,47.2441 \n",
       "  \"/>\n",
       "<polyline clip-path=\"url(#clip133)\" style=\"stroke:#000000; stroke-width:2; stroke-opacity:0.1; fill:none\" points=\"\n",
       "  1688.39,1486.45 1688.39,47.2441 \n",
       "  \"/>\n",
       "<polyline clip-path=\"url(#clip133)\" style=\"stroke:#000000; stroke-width:2; stroke-opacity:0.1; fill:none\" points=\"\n",
       "  1900.31,1486.45 1900.31,47.2441 \n",
       "  \"/>\n",
       "<polyline clip-path=\"url(#clip133)\" style=\"stroke:#000000; stroke-width:2; stroke-opacity:0.1; fill:none\" points=\"\n",
       "  2112.23,1486.45 2112.23,47.2441 \n",
       "  \"/>\n",
       "<polyline clip-path=\"url(#clip133)\" style=\"stroke:#000000; stroke-width:2; stroke-opacity:0.1; fill:none\" points=\"\n",
       "  2324.15,1486.45 2324.15,47.2441 \n",
       "  \"/>\n",
       "<polyline clip-path=\"url(#clip130)\" style=\"stroke:#000000; stroke-width:4; stroke-opacity:1; fill:none\" points=\"\n",
       "  1341.9,1486.45 2352.76,1486.45 \n",
       "  \"/>\n",
       "<polyline clip-path=\"url(#clip130)\" style=\"stroke:#000000; stroke-width:4; stroke-opacity:1; fill:none\" points=\"\n",
       "  1476.47,1486.45 1476.47,1469.18 \n",
       "  \"/>\n",
       "<polyline clip-path=\"url(#clip130)\" style=\"stroke:#000000; stroke-width:4; stroke-opacity:1; fill:none\" points=\"\n",
       "  1688.39,1486.45 1688.39,1469.18 \n",
       "  \"/>\n",
       "<polyline clip-path=\"url(#clip130)\" style=\"stroke:#000000; stroke-width:4; stroke-opacity:1; fill:none\" points=\"\n",
       "  1900.31,1486.45 1900.31,1469.18 \n",
       "  \"/>\n",
       "<polyline clip-path=\"url(#clip130)\" style=\"stroke:#000000; stroke-width:4; stroke-opacity:1; fill:none\" points=\"\n",
       "  2112.23,1486.45 2112.23,1469.18 \n",
       "  \"/>\n",
       "<polyline clip-path=\"url(#clip130)\" style=\"stroke:#000000; stroke-width:4; stroke-opacity:1; fill:none\" points=\"\n",
       "  2324.15,1486.45 2324.15,1469.18 \n",
       "  \"/>\n",
       "<path clip-path=\"url(#clip130)\" d=\"M 0 0 M1471.12 1543.18 L1487.44 1543.18 L1487.44 1547.12 L1465.5 1547.12 L1465.5 1543.18 Q1468.16 1540.43 1472.74 1535.8 Q1477.35 1531.15 1478.53 1529.81 Q1480.77 1527.28 1481.65 1525.55 Q1482.56 1523.79 1482.56 1522.1 Q1482.56 1519.34 1480.61 1517.61 Q1478.69 1515.87 1475.59 1515.87 Q1473.39 1515.87 1470.94 1516.63 Q1468.51 1517.4 1465.73 1518.95 L1465.73 1514.23 Q1468.55 1513.09 1471.01 1512.51 Q1473.46 1511.93 1475.5 1511.93 Q1480.87 1511.93 1484.06 1514.62 Q1487.26 1517.31 1487.26 1521.8 Q1487.26 1523.93 1486.45 1525.85 Q1485.66 1527.74 1483.55 1530.34 Q1482.97 1531.01 1479.87 1534.23 Q1476.77 1537.42 1471.12 1543.18 Z\" fill=\"#000000\" fill-rule=\"evenodd\" fill-opacity=\"1\" /><path clip-path=\"url(#clip130)\" d=\"M 0 0 M1691.4 1516.63 L1679.59 1535.08 L1691.4 1535.08 L1691.4 1516.63 M1690.17 1512.56 L1696.05 1512.56 L1696.05 1535.08 L1700.98 1535.08 L1700.98 1538.97 L1696.05 1538.97 L1696.05 1547.12 L1691.4 1547.12 L1691.4 1538.97 L1675.8 1538.97 L1675.8 1534.46 L1690.17 1512.56 Z\" fill=\"#000000\" fill-rule=\"evenodd\" fill-opacity=\"1\" /><path clip-path=\"url(#clip130)\" d=\"M 0 0 M1900.71 1527.98 Q1897.56 1527.98 1895.71 1530.13 Q1893.88 1532.28 1893.88 1536.03 Q1893.88 1539.76 1895.71 1541.93 Q1897.56 1544.09 1900.71 1544.09 Q1903.86 1544.09 1905.69 1541.93 Q1907.54 1539.76 1907.54 1536.03 Q1907.54 1532.28 1905.69 1530.13 Q1903.86 1527.98 1900.71 1527.98 M1909.99 1513.32 L1909.99 1517.58 Q1908.24 1516.75 1906.43 1516.31 Q1904.65 1515.87 1902.89 1515.87 Q1898.26 1515.87 1895.81 1519 Q1893.37 1522.12 1893.03 1528.44 Q1894.39 1526.43 1896.45 1525.36 Q1898.51 1524.27 1900.99 1524.27 Q1906.2 1524.27 1909.21 1527.44 Q1912.24 1530.59 1912.24 1536.03 Q1912.24 1541.36 1909.09 1544.57 Q1905.94 1547.79 1900.71 1547.79 Q1894.72 1547.79 1891.55 1543.21 Q1888.37 1538.6 1888.37 1529.87 Q1888.37 1521.68 1892.26 1516.82 Q1896.15 1511.93 1902.7 1511.93 Q1904.46 1511.93 1906.24 1512.28 Q1908.05 1512.63 1909.99 1513.32 Z\" fill=\"#000000\" fill-rule=\"evenodd\" fill-opacity=\"1\" /><path clip-path=\"url(#clip130)\" d=\"M 0 0 M2112.23 1530.71 Q2108.89 1530.71 2106.97 1532.49 Q2105.07 1534.27 2105.07 1537.4 Q2105.07 1540.52 2106.97 1542.31 Q2108.89 1544.09 2112.23 1544.09 Q2115.56 1544.09 2117.48 1542.31 Q2119.4 1540.5 2119.4 1537.4 Q2119.4 1534.27 2117.48 1532.49 Q2115.58 1530.71 2112.23 1530.71 M2107.55 1528.72 Q2104.54 1527.98 2102.85 1525.92 Q2101.19 1523.86 2101.19 1520.89 Q2101.19 1516.75 2104.13 1514.34 Q2107.09 1511.93 2112.23 1511.93 Q2117.39 1511.93 2120.33 1514.34 Q2123.27 1516.75 2123.27 1520.89 Q2123.27 1523.86 2121.58 1525.92 Q2119.91 1527.98 2116.93 1528.72 Q2120.31 1529.5 2122.18 1531.8 Q2124.08 1534.09 2124.08 1537.4 Q2124.08 1542.42 2121 1545.11 Q2117.94 1547.79 2112.23 1547.79 Q2106.51 1547.79 2103.43 1545.11 Q2100.38 1542.42 2100.38 1537.4 Q2100.38 1534.09 2102.27 1531.8 Q2104.17 1529.5 2107.55 1528.72 M2105.84 1521.33 Q2105.84 1524.02 2107.5 1525.52 Q2109.19 1527.03 2112.23 1527.03 Q2115.24 1527.03 2116.93 1525.52 Q2118.64 1524.02 2118.64 1521.33 Q2118.64 1518.65 2116.93 1517.14 Q2115.24 1515.64 2112.23 1515.64 Q2109.19 1515.64 2107.5 1517.14 Q2105.84 1518.65 2105.84 1521.33 Z\" fill=\"#000000\" fill-rule=\"evenodd\" fill-opacity=\"1\" /><path clip-path=\"url(#clip130)\" d=\"M 0 0 M2301.02 1543.18 L2308.66 1543.18 L2308.66 1516.82 L2300.35 1518.49 L2300.35 1514.23 L2308.61 1512.56 L2313.29 1512.56 L2313.29 1543.18 L2320.93 1543.18 L2320.93 1547.12 L2301.02 1547.12 L2301.02 1543.18 Z\" fill=\"#000000\" fill-rule=\"evenodd\" fill-opacity=\"1\" /><path clip-path=\"url(#clip130)\" d=\"M 0 0 M2336 1515.64 Q2332.39 1515.64 2330.56 1519.2 Q2328.75 1522.75 2328.75 1529.87 Q2328.75 1536.98 2330.56 1540.55 Q2332.39 1544.09 2336 1544.09 Q2339.63 1544.09 2341.44 1540.55 Q2343.27 1536.98 2343.27 1529.87 Q2343.27 1522.75 2341.44 1519.2 Q2339.63 1515.64 2336 1515.64 M2336 1511.93 Q2341.81 1511.93 2344.86 1516.54 Q2347.94 1521.12 2347.94 1529.87 Q2347.94 1538.6 2344.86 1543.21 Q2341.81 1547.79 2336 1547.79 Q2330.19 1547.79 2327.11 1543.21 Q2324.05 1538.6 2324.05 1529.87 Q2324.05 1521.12 2327.11 1516.54 Q2330.19 1511.93 2336 1511.93 Z\" fill=\"#000000\" fill-rule=\"evenodd\" fill-opacity=\"1\" /><polyline clip-path=\"url(#clip133)\" style=\"stroke:#000000; stroke-width:2; stroke-opacity:0.1; fill:none\" points=\"\n",
       "  1341.9,1445.72 2352.76,1445.72 \n",
       "  \"/>\n",
       "<polyline clip-path=\"url(#clip133)\" style=\"stroke:#000000; stroke-width:2; stroke-opacity:0.1; fill:none\" points=\"\n",
       "  1341.9,1150.89 2352.76,1150.89 \n",
       "  \"/>\n",
       "<polyline clip-path=\"url(#clip133)\" style=\"stroke:#000000; stroke-width:2; stroke-opacity:0.1; fill:none\" points=\"\n",
       "  1341.9,856.057 2352.76,856.057 \n",
       "  \"/>\n",
       "<polyline clip-path=\"url(#clip133)\" style=\"stroke:#000000; stroke-width:2; stroke-opacity:0.1; fill:none\" points=\"\n",
       "  1341.9,561.228 2352.76,561.228 \n",
       "  \"/>\n",
       "<polyline clip-path=\"url(#clip133)\" style=\"stroke:#000000; stroke-width:2; stroke-opacity:0.1; fill:none\" points=\"\n",
       "  1341.9,266.398 2352.76,266.398 \n",
       "  \"/>\n",
       "<polyline clip-path=\"url(#clip130)\" style=\"stroke:#000000; stroke-width:4; stroke-opacity:1; fill:none\" points=\"\n",
       "  1341.9,1486.45 1341.9,47.2441 \n",
       "  \"/>\n",
       "<polyline clip-path=\"url(#clip130)\" style=\"stroke:#000000; stroke-width:4; stroke-opacity:1; fill:none\" points=\"\n",
       "  1341.9,1445.72 1354.03,1445.72 \n",
       "  \"/>\n",
       "<polyline clip-path=\"url(#clip130)\" style=\"stroke:#000000; stroke-width:4; stroke-opacity:1; fill:none\" points=\"\n",
       "  1341.9,1150.89 1354.03,1150.89 \n",
       "  \"/>\n",
       "<polyline clip-path=\"url(#clip130)\" style=\"stroke:#000000; stroke-width:4; stroke-opacity:1; fill:none\" points=\"\n",
       "  1341.9,856.057 1354.03,856.057 \n",
       "  \"/>\n",
       "<polyline clip-path=\"url(#clip130)\" style=\"stroke:#000000; stroke-width:4; stroke-opacity:1; fill:none\" points=\"\n",
       "  1341.9,561.228 1354.03,561.228 \n",
       "  \"/>\n",
       "<polyline clip-path=\"url(#clip130)\" style=\"stroke:#000000; stroke-width:4; stroke-opacity:1; fill:none\" points=\"\n",
       "  1341.9,266.398 1354.03,266.398 \n",
       "  \"/>\n",
       "<path clip-path=\"url(#clip130)\" d=\"M 0 0 M1256.99 1431.51 Q1253.38 1431.51 1251.55 1435.08 Q1249.74 1438.62 1249.74 1445.75 Q1249.74 1452.86 1251.55 1456.42 Q1253.38 1459.96 1256.99 1459.96 Q1260.62 1459.96 1262.43 1456.42 Q1264.26 1452.86 1264.26 1445.75 Q1264.26 1438.62 1262.43 1435.08 Q1260.62 1431.51 1256.99 1431.51 M1256.99 1427.81 Q1262.8 1427.81 1265.85 1432.42 Q1268.93 1437 1268.93 1445.75 Q1268.93 1454.48 1265.85 1459.08 Q1262.8 1463.67 1256.99 1463.67 Q1251.18 1463.67 1248.1 1459.08 Q1245.04 1454.48 1245.04 1445.75 Q1245.04 1437 1248.1 1432.42 Q1251.18 1427.81 1256.99 1427.81 Z\" fill=\"#000000\" fill-rule=\"evenodd\" fill-opacity=\"1\" /><path clip-path=\"url(#clip130)\" d=\"M 0 0 M1274 1457.12 L1278.89 1457.12 L1278.89 1463 L1274 1463 L1274 1457.12 Z\" fill=\"#000000\" fill-rule=\"evenodd\" fill-opacity=\"1\" /><path clip-path=\"url(#clip130)\" d=\"M 0 0 M1293.95 1431.51 Q1290.34 1431.51 1288.52 1435.08 Q1286.71 1438.62 1286.71 1445.75 Q1286.71 1452.86 1288.52 1456.42 Q1290.34 1459.96 1293.95 1459.96 Q1297.59 1459.96 1299.39 1456.42 Q1301.22 1452.86 1301.22 1445.75 Q1301.22 1438.62 1299.39 1435.08 Q1297.59 1431.51 1293.95 1431.51 M1293.95 1427.81 Q1299.77 1427.81 1302.82 1432.42 Q1305.9 1437 1305.9 1445.75 Q1305.9 1454.48 1302.82 1459.08 Q1299.77 1463.67 1293.95 1463.67 Q1288.14 1463.67 1285.07 1459.08 Q1282.01 1454.48 1282.01 1445.75 Q1282.01 1437 1285.07 1432.42 Q1288.14 1427.81 1293.95 1427.81 Z\" fill=\"#000000\" fill-rule=\"evenodd\" fill-opacity=\"1\" /><path clip-path=\"url(#clip130)\" d=\"M 0 0 M1257.98 1136.69 Q1254.37 1136.69 1252.54 1140.25 Q1250.74 1143.79 1250.74 1150.92 Q1250.74 1158.03 1252.54 1161.59 Q1254.37 1165.13 1257.98 1165.13 Q1261.62 1165.13 1263.42 1161.59 Q1265.25 1158.03 1265.25 1150.92 Q1265.25 1143.79 1263.42 1140.25 Q1261.62 1136.69 1257.98 1136.69 M1257.98 1132.98 Q1263.79 1132.98 1266.85 1137.59 Q1269.93 1142.17 1269.93 1150.92 Q1269.93 1159.65 1266.85 1164.25 Q1263.79 1168.84 1257.98 1168.84 Q1252.17 1168.84 1249.09 1164.25 Q1246.04 1159.65 1246.04 1150.92 Q1246.04 1142.17 1249.09 1137.59 Q1252.17 1132.98 1257.98 1132.98 Z\" fill=\"#000000\" fill-rule=\"evenodd\" fill-opacity=\"1\" /><path clip-path=\"url(#clip130)\" d=\"M 0 0 M1275 1162.29 L1279.88 1162.29 L1279.88 1168.17 L1275 1168.17 L1275 1162.29 Z\" fill=\"#000000\" fill-rule=\"evenodd\" fill-opacity=\"1\" /><path clip-path=\"url(#clip130)\" d=\"M 0 0 M1285 1133.61 L1303.35 1133.61 L1303.35 1137.54 L1289.28 1137.54 L1289.28 1146.01 Q1290.3 1145.67 1291.32 1145.5 Q1292.33 1145.32 1293.35 1145.32 Q1299.14 1145.32 1302.52 1148.49 Q1305.9 1151.66 1305.9 1157.08 Q1305.9 1162.66 1302.43 1165.76 Q1298.95 1168.84 1292.64 1168.84 Q1290.46 1168.84 1288.19 1168.47 Q1285.95 1168.1 1283.54 1167.36 L1283.54 1162.66 Q1285.62 1163.79 1287.84 1164.35 Q1290.07 1164.9 1292.54 1164.9 Q1296.55 1164.9 1298.89 1162.8 Q1301.22 1160.69 1301.22 1157.08 Q1301.22 1153.47 1298.89 1151.36 Q1296.55 1149.25 1292.54 1149.25 Q1290.67 1149.25 1288.79 1149.67 Q1286.94 1150.09 1285 1150.97 L1285 1133.61 Z\" fill=\"#000000\" fill-rule=\"evenodd\" fill-opacity=\"1\" /><path clip-path=\"url(#clip130)\" d=\"M 0 0 M1249.02 869.402 L1256.66 869.402 L1256.66 843.036 L1248.35 844.703 L1248.35 840.444 L1256.62 838.777 L1261.29 838.777 L1261.29 869.402 L1268.93 869.402 L1268.93 873.337 L1249.02 873.337 L1249.02 869.402 Z\" fill=\"#000000\" fill-rule=\"evenodd\" fill-opacity=\"1\" /><path clip-path=\"url(#clip130)\" d=\"M 0 0 M1274 867.457 L1278.89 867.457 L1278.89 873.337 L1274 873.337 L1274 867.457 Z\" fill=\"#000000\" fill-rule=\"evenodd\" fill-opacity=\"1\" /><path clip-path=\"url(#clip130)\" d=\"M 0 0 M1293.95 841.856 Q1290.34 841.856 1288.52 845.42 Q1286.71 848.962 1286.71 856.092 Q1286.71 863.198 1288.52 866.763 Q1290.34 870.305 1293.95 870.305 Q1297.59 870.305 1299.39 866.763 Q1301.22 863.198 1301.22 856.092 Q1301.22 848.962 1299.39 845.42 Q1297.59 841.856 1293.95 841.856 M1293.95 838.152 Q1299.77 838.152 1302.82 842.758 Q1305.9 847.342 1305.9 856.092 Q1305.9 864.818 1302.82 869.425 Q1299.77 874.008 1293.95 874.008 Q1288.14 874.008 1285.07 869.425 Q1282.01 864.818 1282.01 856.092 Q1282.01 847.342 1285.07 842.758 Q1288.14 838.152 1293.95 838.152 Z\" fill=\"#000000\" fill-rule=\"evenodd\" fill-opacity=\"1\" /><path clip-path=\"url(#clip130)\" d=\"M 0 0 M1250.02 574.572 L1257.66 574.572 L1257.66 548.207 L1249.35 549.873 L1249.35 545.614 L1257.61 543.948 L1262.29 543.948 L1262.29 574.572 L1269.93 574.572 L1269.93 578.508 L1250.02 578.508 L1250.02 574.572 Z\" fill=\"#000000\" fill-rule=\"evenodd\" fill-opacity=\"1\" /><path clip-path=\"url(#clip130)\" d=\"M 0 0 M1275 572.628 L1279.88 572.628 L1279.88 578.508 L1275 578.508 L1275 572.628 Z\" fill=\"#000000\" fill-rule=\"evenodd\" fill-opacity=\"1\" /><path clip-path=\"url(#clip130)\" d=\"M 0 0 M1285 543.948 L1303.35 543.948 L1303.35 547.883 L1289.28 547.883 L1289.28 556.355 Q1290.3 556.008 1291.32 555.846 Q1292.33 555.66 1293.35 555.66 Q1299.14 555.66 1302.52 558.832 Q1305.9 562.003 1305.9 567.42 Q1305.9 572.998 1302.43 576.1 Q1298.95 579.179 1292.64 579.179 Q1290.46 579.179 1288.19 578.809 Q1285.95 578.438 1283.54 577.697 L1283.54 572.998 Q1285.62 574.133 1287.84 574.688 Q1290.07 575.244 1292.54 575.244 Q1296.55 575.244 1298.89 573.137 Q1301.22 571.031 1301.22 567.42 Q1301.22 563.809 1298.89 561.702 Q1296.55 559.596 1292.54 559.596 Q1290.67 559.596 1288.79 560.012 Q1286.94 560.429 1285 561.309 L1285 543.948 Z\" fill=\"#000000\" fill-rule=\"evenodd\" fill-opacity=\"1\" /><path clip-path=\"url(#clip130)\" d=\"M 0 0 M1252.61 279.743 L1268.93 279.743 L1268.93 283.678 L1246.99 283.678 L1246.99 279.743 Q1249.65 276.988 1254.23 272.359 Q1258.84 267.706 1260.02 266.363 Q1262.27 263.84 1263.14 262.104 Q1264.05 260.345 1264.05 258.655 Q1264.05 255.901 1262.1 254.164 Q1260.18 252.428 1257.08 252.428 Q1254.88 252.428 1252.43 253.192 Q1250 253.956 1247.22 255.507 L1247.22 250.785 Q1250.04 249.651 1252.5 249.072 Q1254.95 248.493 1256.99 248.493 Q1262.36 248.493 1265.55 251.178 Q1268.75 253.864 1268.75 258.354 Q1268.75 260.484 1267.94 262.405 Q1267.15 264.303 1265.04 266.896 Q1264.46 267.567 1261.36 270.785 Q1258.26 273.979 1252.61 279.743 Z\" fill=\"#000000\" fill-rule=\"evenodd\" fill-opacity=\"1\" /><path clip-path=\"url(#clip130)\" d=\"M 0 0 M1274 277.799 L1278.89 277.799 L1278.89 283.678 L1274 283.678 L1274 277.799 Z\" fill=\"#000000\" fill-rule=\"evenodd\" fill-opacity=\"1\" /><path clip-path=\"url(#clip130)\" d=\"M 0 0 M1293.95 252.197 Q1290.34 252.197 1288.52 255.762 Q1286.71 259.303 1286.71 266.433 Q1286.71 273.539 1288.52 277.104 Q1290.34 280.646 1293.95 280.646 Q1297.59 280.646 1299.39 277.104 Q1301.22 273.539 1301.22 266.433 Q1301.22 259.303 1299.39 255.762 Q1297.59 252.197 1293.95 252.197 M1293.95 248.493 Q1299.77 248.493 1302.82 253.1 Q1305.9 257.683 1305.9 266.433 Q1305.9 275.16 1302.82 279.766 Q1299.77 284.35 1293.95 284.35 Q1288.14 284.35 1285.07 279.766 Q1282.01 275.16 1282.01 266.433 Q1282.01 257.683 1285.07 253.1 Q1288.14 248.493 1293.95 248.493 Z\" fill=\"#000000\" fill-rule=\"evenodd\" fill-opacity=\"1\" /><circle clip-path=\"url(#clip133)\" cx=\"1476.47\" cy=\"1037\" r=\"14\" fill=\"#0000ff\" fill-rule=\"evenodd\" fill-opacity=\"1\" stroke=\"#000000\" stroke-opacity=\"1\" stroke-width=\"3.2\"/>\n",
       "<circle clip-path=\"url(#clip133)\" cx=\"1688.39\" cy=\"628.275\" r=\"14\" fill=\"#0000ff\" fill-rule=\"evenodd\" fill-opacity=\"1\" stroke=\"#000000\" stroke-opacity=\"1\" stroke-width=\"3.2\"/>\n",
       "<circle clip-path=\"url(#clip133)\" cx=\"1900.31\" cy=\"389.189\" r=\"14\" fill=\"#0000ff\" fill-rule=\"evenodd\" fill-opacity=\"1\" stroke=\"#000000\" stroke-opacity=\"1\" stroke-width=\"3.2\"/>\n",
       "<circle clip-path=\"url(#clip133)\" cx=\"2112.23\" cy=\"219.555\" r=\"14\" fill=\"#0000ff\" fill-rule=\"evenodd\" fill-opacity=\"1\" stroke=\"#000000\" stroke-opacity=\"1\" stroke-width=\"3.2\"/>\n",
       "<circle clip-path=\"url(#clip133)\" cx=\"2324.15\" cy=\"87.9763\" r=\"14\" fill=\"#0000ff\" fill-rule=\"evenodd\" fill-opacity=\"1\" stroke=\"#000000\" stroke-opacity=\"1\" stroke-width=\"3.2\"/>\n",
       "<circle clip-path=\"url(#clip133)\" cx=\"1370.51\" cy=\"1445.72\" r=\"14\" fill=\"#000000\" fill-rule=\"evenodd\" fill-opacity=\"1\" stroke=\"none\"/>\n",
       "<circle clip-path=\"url(#clip133)\" cx=\"1582.43\" cy=\"797.909\" r=\"14\" fill=\"#000000\" fill-rule=\"evenodd\" fill-opacity=\"1\" stroke=\"none\"/>\n",
       "<circle clip-path=\"url(#clip133)\" cx=\"1794.35\" cy=\"496.697\" r=\"14\" fill=\"#000000\" fill-rule=\"evenodd\" fill-opacity=\"1\" stroke=\"none\"/>\n",
       "<circle clip-path=\"url(#clip133)\" cx=\"2006.27\" cy=\"298.293\" r=\"14\" fill=\"#000000\" fill-rule=\"evenodd\" fill-opacity=\"1\" stroke=\"none\"/>\n",
       "<circle clip-path=\"url(#clip133)\" cx=\"2218.19\" cy=\"150.103\" r=\"14\" fill=\"#000000\" fill-rule=\"evenodd\" fill-opacity=\"1\" stroke=\"none\"/>\n",
       "<path clip-path=\"url(#clip130)\" d=\"\n",
       "M2182.85 276.658 L2319.06 276.658 L2319.06 95.2176 L2182.85 95.2176  Z\n",
       "  \" fill=\"#ffffff\" fill-rule=\"evenodd\" fill-opacity=\"1\"/>\n",
       "<polyline clip-path=\"url(#clip130)\" style=\"stroke:#000000; stroke-width:4; stroke-opacity:1; fill:none\" points=\"\n",
       "  2182.85,276.658 2319.06,276.658 2319.06,95.2176 2182.85,95.2176 2182.85,276.658 \n",
       "  \"/>\n",
       "<circle clip-path=\"url(#clip130)\" cx=\"2227.78\" cy=\"155.698\" r=\"23\" fill=\"#0000ff\" fill-rule=\"evenodd\" fill-opacity=\"1\" stroke=\"#000000\" stroke-opacity=\"1\" stroke-width=\"5.12\"/>\n",
       "<path clip-path=\"url(#clip130)\" d=\"M 0 0 M2284.65 141.496 Q2281.04 141.496 2279.21 145.061 Q2277.41 148.603 2277.41 155.732 Q2277.41 162.839 2279.21 166.404 Q2281.04 169.945 2284.65 169.945 Q2288.29 169.945 2290.09 166.404 Q2291.92 162.839 2291.92 155.732 Q2291.92 148.603 2290.09 145.061 Q2288.29 141.496 2284.65 141.496 M2284.65 137.793 Q2290.46 137.793 2293.52 142.399 Q2296.6 146.982 2296.6 155.732 Q2296.6 164.459 2293.52 169.066 Q2290.46 173.649 2284.65 173.649 Q2278.84 173.649 2275.76 169.066 Q2272.71 164.459 2272.71 155.732 Q2272.71 146.982 2275.76 142.399 Q2278.84 137.793 2284.65 137.793 Z\" fill=\"#000000\" fill-rule=\"evenodd\" fill-opacity=\"1\" /><circle clip-path=\"url(#clip130)\" cx=\"2227.78\" cy=\"216.178\" r=\"23\" fill=\"#000000\" fill-rule=\"evenodd\" fill-opacity=\"1\" stroke=\"none\"/>\n",
       "<path clip-path=\"url(#clip130)\" d=\"M 0 0 M2273.38 229.522 L2281.02 229.522 L2281.02 203.157 L2272.71 204.823 L2272.71 200.564 L2280.97 198.898 L2285.65 198.898 L2285.65 229.522 L2293.29 229.522 L2293.29 233.458 L2273.38 233.458 L2273.38 229.522 Z\" fill=\"#000000\" fill-rule=\"evenodd\" fill-opacity=\"1\" /></svg>\n"
      ]
     },
     "execution_count": 33,
     "metadata": {},
     "output_type": "execute_result"
    }
   ],
   "source": [
    "# użycie opcji layout i grup\n",
    "scatter(df.a, [df.b, df.c], group=df.e,  colour = [:red :blue :green :black], layout=2)"
   ]
  },
  {
   "cell_type": "markdown",
   "metadata": {},
   "source": [
    "### Zadanie \n",
    "- Napisać program w języku Julia do obliczania iloczynu skalarnego wektorów (<a href=\"https://docs.julialang.org/en/v1/stdlib/LinearAlgebra/#LinearAlgebra.dot\">LinearAlgebra.dot</a>) i mnożenia macierzy kwadratowej przez wektor z użyciem \n",
    "<a href=\"https://docs.julialang.org/en/v1/stdlib/LinearAlgebra/#Elementary-operations-1\">operatora *</a>.\n",
    "- Uruchomić i zmierzyć czasy działania obydwu funkcji - każdej dla różnych rozmiarów wektorów.  Dokonać 10 pomiarów dla każdego rozmiaru wektora.\n",
    "- Czasy działania powinny  być zapisywane do <b>jednego</b> pliku CSV. Należy zaplanować odpowiednią strukturę kolumn takiego pliku.\n",
    "- Wczytać dane z w/w pliku do <b>jednego</b> DataFrame w języku Julia. \n",
    "- Korzystająć z mechanizmów DataFrame w języku Julia obliczyć średnią i odchylenie standardowe, w taki sposób, aby narysować wykresy średnich czasów obliczenia operacji w zależności od rozmiaru wektora. Dodać słupki błędów do obydwu wykresów uzyskanych z obliczenia odchylenia standardowego. \n",
    "- Proszę poukładac wykresy  w tabelkę za pomocą  opcji layouts: https://docs.juliaplots.org/latest/layouts/#Simple-Layouts-1.\n",
    "- Należy zadbać o staranne podpisanie osi i wykresów."
   ]
  },
  {
   "cell_type": "code",
   "execution_count": null,
   "metadata": {},
   "outputs": [],
   "source": []
  }
 ],
 "metadata": {
  "kernelspec": {
   "display_name": "Julia 1.5.3",
   "language": "julia",
   "name": "julia-1.5"
  },
  "language_info": {
   "file_extension": ".jl",
   "mimetype": "application/julia",
   "name": "julia",
   "version": "1.5.3"
  }
 },
 "nbformat": 4,
 "nbformat_minor": 2
}
