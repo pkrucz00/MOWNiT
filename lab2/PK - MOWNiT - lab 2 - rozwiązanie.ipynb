{
 "cells": [
  {
   "cell_type": "markdown",
   "metadata": {},
   "source": [
    "\n",
    "# Laboratorium 2 - rozwiązanie\n",
    "## Analiza danych - DataFrames\n",
    "**Paweł Kruczkiewicz**"
   ]
  },
  {
   "cell_type": "markdown",
   "metadata": {},
   "source": [
    "### Zadanie \n",
    "- Napisać program w języku Julia do obliczania iloczynu skalarnego wektorów (<a href=\"https://docs.julialang.org/en/v1/stdlib/LinearAlgebra/#LinearAlgebra.dot\">LinearAlgebra.dot</a>) i mnożenia macierzy kwadratowej przez wektor z użyciem \n",
    "<a href=\"https://docs.julialang.org/en/v1/stdlib/LinearAlgebra/#Elementary-operations-1\">operatora *</a>.\n",
    "- Uruchomić i zmierzyć czasy działania obydwu funkcji - każdej dla różnych rozmiarów wektorów.  Dokonać 10 pomiarów dla każdego rozmiaru wektora.\n",
    "- Czasy działania powinny  być zapisywane do <b>jednego</b> pliku CSV. Należy zaplanować odpowiednią strukturę kolumn takiego pliku.\n",
    "- Wczytać dane z w/w pliku do <b>jednego</b> DataFrame w języku Julia. \n",
    "- Korzystająć z mechanizmów DataFrame w języku Julia obliczyć średnią i odchylenie standardowe, w taki sposób, aby narysować wykresy średnich czasów obliczenia operacji w zależności od rozmiaru wektora. Dodać słupki błędów do obydwu wykresów uzyskanych z obliczenia odchylenia standardowego. \n",
    "- Proszę poukładac wykresy  w tabelkę za pomocą  opcji layouts: https://docs.juliaplots.org/latest/layouts/#Simple-Layouts-1.\n",
    "- Należy zadbać o staranne podpisanie osi i wykresów."
   ]
  },
  {
   "cell_type": "markdown",
   "metadata": {},
   "source": [
    "## Rozwiązanie\n",
    "### Deklaracje funkcji\n",
    "\n",
    "Przyjmują wymiary macierzy, zwracają informacje na temat czasu wykonania odpowiednich funkcji"
   ]
  },
  {
   "cell_type": "code",
   "execution_count": 1,
   "metadata": {},
   "outputs": [
    {
     "data": {
      "text/plain": [
       "squareMatrixMultiplicationTest (generic function with 1 method)"
      ]
     },
     "execution_count": 1,
     "metadata": {},
     "output_type": "execute_result"
    }
   ],
   "source": [
    "using Plots\n",
    "using DataFrames\n",
    "using Statistics\n",
    "using CSV\n",
    "\n",
    "using LinearAlgebra\n",
    "scalarProductTest(n::Int64) = (A = rand(Float64, n); B = rand(Float64, n); @timed LinearAlgebra.dot(A, B))\n",
    "squareMatrixMultiplicationTest(n::Int64) = (A = rand(Float64, n, n); B = rand(Float64, n); @timed A*B)\n",
    "#timed zwraca [<wynik>, <czas>, ...]"
   ]
  },
  {
   "cell_type": "markdown",
   "metadata": {},
   "source": [
    "### Stworzenie dataframe'u"
   ]
  },
  {
   "cell_type": "code",
   "execution_count": null,
   "metadata": {
    "scrolled": false
   },
   "outputs": [],
   "source": [
    "#n_s = map(x->10^x,(2:7))\n",
    "n_s = 1000:1000:10000\n",
    "\n",
    "size_of_vectors = Int[]\n",
    "time_measure = Float32[]\n",
    "measure_type = Int[]\n",
    "for n = n_s\n",
    "    for i = 1:10\n",
    "        if n < 10^5\n",
    "            push!(size_of_vectors, n)\n",
    "            push!(time_measure, squareMatrixMultiplicationTest(n)[2])\n",
    "            push!(measure_type, 1)\n",
    "        end\n",
    "        tmp_n = n*1000\n",
    "        push!(size_of_vectors, tmp_n)\n",
    "        push!(time_measure, scalarProductTest(tmp_n)[2])\n",
    "        push!(measure_type, 0)\n",
    "\n",
    "    end\n",
    "end\n",
    "\n",
    "measurements_df = DataFrame(Rozmiar = size_of_vectors,\n",
    "    Czas = time_measure,\n",
    "    Typ = measure_type)\n",
    "show(measurements_df)"
   ]
  },
  {
   "cell_type": "markdown",
   "metadata": {},
   "source": [
    "### Zapis do pliku csv"
   ]
  },
  {
   "cell_type": "code",
   "execution_count": 3,
   "metadata": {},
   "outputs": [
    {
     "data": {
      "text/plain": [
       "\"time_measurements.csv\""
      ]
     },
     "execution_count": 3,
     "metadata": {},
     "output_type": "execute_result"
    }
   ],
   "source": [
    "CSV.write(\"time_measurements.csv\", measurements_df)"
   ]
  },
  {
   "cell_type": "markdown",
   "metadata": {},
   "source": [
    "### Wczytanie z powrotem"
   ]
  },
  {
   "cell_type": "code",
   "execution_count": null,
   "metadata": {},
   "outputs": [],
   "source": [
    "input=\"time_measurements.csv\"\n",
    "mydata=CSV.read(input, delim=\",\",DataFrame)"
   ]
  },
  {
   "cell_type": "markdown",
   "metadata": {},
   "source": [
    "### Zabawa z danymi"
   ]
  },
  {
   "cell_type": "code",
   "execution_count": null,
   "metadata": {},
   "outputs": [],
   "source": [
    "combined_df = combine(groupby(mydata, [:Typ, :Rozmiar]), :Czas => mean, :Czas => std)"
   ]
  },
  {
   "cell_type": "code",
   "execution_count": 6,
   "metadata": {},
   "outputs": [
    {
     "data": {
      "text/html": [
       "<table class=\"data-frame\"><thead><tr><th></th><th>Typ</th><th>Rozmiar</th><th>Czas_mean</th><th>Czas_std</th></tr><tr><th></th><th>Int64</th><th>Int64</th><th>Float64</th><th>Float64</th></tr></thead><tbody><p>10 rows × 4 columns</p><tr><th>1</th><td>1</td><td>1000</td><td>0.00075507</td><td>0.000130624</td></tr><tr><th>2</th><td>1</td><td>2000</td><td>0.0026651</td><td>0.000229227</td></tr><tr><th>3</th><td>1</td><td>3000</td><td>0.005806</td><td>0.000561734</td></tr><tr><th>4</th><td>1</td><td>4000</td><td>0.00897754</td><td>0.000752277</td></tr><tr><th>5</th><td>1</td><td>5000</td><td>0.0146968</td><td>0.000394366</td></tr><tr><th>6</th><td>1</td><td>6000</td><td>0.0213052</td><td>0.000551326</td></tr><tr><th>7</th><td>1</td><td>7000</td><td>0.0289553</td><td>0.000997842</td></tr><tr><th>8</th><td>1</td><td>8000</td><td>0.0347673</td><td>0.000904235</td></tr><tr><th>9</th><td>1</td><td>9000</td><td>0.0472141</td><td>0.00199947</td></tr><tr><th>10</th><td>1</td><td>10000</td><td>0.0577237</td><td>0.00152945</td></tr></tbody></table>"
      ],
      "text/latex": [
       "\\begin{tabular}{r|cccc}\n",
       "\t& Typ & Rozmiar & Czas\\_mean & Czas\\_std\\\\\n",
       "\t\\hline\n",
       "\t& Int64 & Int64 & Float64 & Float64\\\\\n",
       "\t\\hline\n",
       "\t1 & 1 & 1000 & 0.00075507 & 0.000130624 \\\\\n",
       "\t2 & 1 & 2000 & 0.0026651 & 0.000229227 \\\\\n",
       "\t3 & 1 & 3000 & 0.005806 & 0.000561734 \\\\\n",
       "\t4 & 1 & 4000 & 0.00897754 & 0.000752277 \\\\\n",
       "\t5 & 1 & 5000 & 0.0146968 & 0.000394366 \\\\\n",
       "\t6 & 1 & 6000 & 0.0213052 & 0.000551326 \\\\\n",
       "\t7 & 1 & 7000 & 0.0289553 & 0.000997842 \\\\\n",
       "\t8 & 1 & 8000 & 0.0347673 & 0.000904235 \\\\\n",
       "\t9 & 1 & 9000 & 0.0472141 & 0.00199947 \\\\\n",
       "\t10 & 1 & 10000 & 0.0577237 & 0.00152945 \\\\\n",
       "\\end{tabular}\n"
      ],
      "text/plain": [
       "\u001b[1m10×4 DataFrame\u001b[0m\n",
       "\u001b[1m Row \u001b[0m│\u001b[1m Typ   \u001b[0m\u001b[1m Rozmiar \u001b[0m\u001b[1m Czas_mean  \u001b[0m\u001b[1m Czas_std    \u001b[0m\n",
       "\u001b[1m     \u001b[0m│\u001b[90m Int64 \u001b[0m\u001b[90m Int64   \u001b[0m\u001b[90m Float64    \u001b[0m\u001b[90m Float64     \u001b[0m\n",
       "─────┼─────────────────────────────────────────\n",
       "   1 │     1     1000  0.00075507  0.000130624\n",
       "   2 │     1     2000  0.0026651   0.000229227\n",
       "   3 │     1     3000  0.005806    0.000561734\n",
       "   4 │     1     4000  0.00897754  0.000752277\n",
       "   5 │     1     5000  0.0146968   0.000394366\n",
       "   6 │     1     6000  0.0213052   0.000551326\n",
       "   7 │     1     7000  0.0289553   0.000997842\n",
       "   8 │     1     8000  0.0347673   0.000904235\n",
       "   9 │     1     9000  0.0472141   0.00199947\n",
       "  10 │     1    10000  0.0577237   0.00152945"
      ]
     },
     "execution_count": 6,
     "metadata": {},
     "output_type": "execute_result"
    }
   ],
   "source": [
    "skalar_df = filter(row -> row[:Typ] == 0, combined_df)\n",
    "multiply_df = filter(row -> row[:Typ] == 1, combined_df)"
   ]
  },
  {
   "cell_type": "markdown",
   "metadata": {},
   "source": [
    "### Rysowanie"
   ]
  },
  {
   "cell_type": "code",
   "execution_count": 1,
   "metadata": {},
   "outputs": [
    {
     "ename": "LoadError",
     "evalue": "\u001b[91mUndefVarError: skalar_df not defined\u001b[39m",
     "output_type": "error",
     "traceback": [
      "\u001b[91mUndefVarError: skalar_df not defined\u001b[39m",
      "",
      "Stacktrace:",
      " [1] top-level scope at In[1]:1",
      " [2] include_string(::Function, ::Module, ::String, ::String) at .\\loading.jl:1091"
     ]
    }
   ],
   "source": [
    "skalar = scatter(skalar_df.Rozmiar,\n",
    "    skalar_df.Czas_mean,\n",
    "    colour = :red,\n",
    "    yerr=skalar_df.Czas_std,\n",
    "    title= \"Iloczyn Skalarny\")\n",
    "mnozenie = scatter(multiply_df.Rozmiar,\n",
    "    multiply_df.Czas_mean,\n",
    "    colour = :blue,\n",
    "    yerr=skalar_df.Czas_std,\n",
    "    title= \"Mnożenie macierzy\")\n",
    "tablica = [skalar, mnozenie]\n",
    "plot(tablica, layout=2, ylabel = \"Czas [s]\", xlabel= \"Wielkość elementów\")"
   ]
  },
  {
   "cell_type": "code",
   "execution_count": null,
   "metadata": {},
   "outputs": [],
   "source": []
  }
 ],
 "metadata": {
  "kernelspec": {
   "display_name": "Julia 1.5.3",
   "language": "julia",
   "name": "julia-1.5"
  },
  "language_info": {
   "file_extension": ".jl",
   "mimetype": "application/julia",
   "name": "julia",
   "version": "1.5.3"
  }
 },
 "nbformat": 4,
 "nbformat_minor": 2
}
