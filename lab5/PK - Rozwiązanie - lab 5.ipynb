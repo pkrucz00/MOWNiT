{
 "cells": [
  {
   "cell_type": "markdown",
   "metadata": {},
   "source": [
    "# Laboratorium 5 - rozwiązanie\n",
    "## Język R\n",
    "**Paweł Kruczkiewicz**\n",
    "\n",
    "Za pomocą języka R przeanalizować dowolne dane z poprzednich laboratoriów. Elementy obowiązkowe:\n",
    "\n",
    "1. W jednej tabeli języka R należy umieścić wyniki dwóch różnych eksperymentów (t.j. czas działania dwóch różnych funkcji) dla różnych parametrów (t.j. rozmiarów wektora(macierzy)). Tabela powinna zawierać dane z 10-krotnego uruchomienia tego samego eksperymentu dla tych samych parametrów (dla każdego takiego zestawu)  **(1p.)**\n",
    "2. Należy przedstawić wykresy średnich czasów obliczenia wybranych funkcji w zależności od rozmiaru wektora (macierzy) **(1p.)**\n",
    "3. Wykresy powinny zawierać informację o odchyleniu standardowym dla uzyskanych wyników. Słupki błędów można narysować korzystając z funkcji geom_errorbar pakietu ggplot2 **(1p.)**\n",
    "4. Użyć aproksymacji wielomianowej dostępnej w języku R do znalezienia odpowiednich wielomianów, które najlepiej pasują do wyników każdego z algorytmów. Dodać wykresy uzyskanych wielomianow do wykresu. **(1p.)**\n",
    "5. Dopasować **krzywą wykładniczą** do liczby zakażonych koronawirusem w Polsce. Przykładowe źródło danych w [GoogleDoc](https://docs.google.com/spreadsheets/d/1ZIdpVF5AfbkFvGxey92RQLjRVWF8_oWN5-hSbFDL8g0/htmlview#) lub https://ourworldindata.org/explorers/coronavirus-data-explorer. Jak zmieniają się krzywe w zależności od wybranego okresu czasu. Porównać na wykresach co najmniej 2 dopasowania **(2p.)**"
   ]
  },
  {
   "cell_type": "code",
   "execution_count": 41,
   "metadata": {},
   "outputs": [
    {
     "name": "stderr",
     "output_type": "stream",
     "text": [
      "also installing the dependency 'jsonlite'\n",
      "\n"
     ]
    },
    {
     "name": "stdout",
     "output_type": "stream",
     "text": [
      "package 'jsonlite' successfully unpacked and MD5 sums checked\n"
     ]
    },
    {
     "name": "stderr",
     "output_type": "stream",
     "text": [
      "Warning message:\n",
      "\"cannot remove prior installation of package 'jsonlite'\"Warning message in file.copy(savedcopy, lib, recursive = TRUE):\n",
      "\"problem z kopiowaniem C:\\Users\\pawel\\anaconda3\\envs\\hahaha\\Lib\\R\\library\\00LOCK\\jsonlite\\libs\\x64\\jsonlite.dll do C:\\Users\\pawel\\anaconda3\\envs\\hahaha\\Lib\\R\\library\\jsonlite\\libs\\x64\\jsonlite.dll: Permission denied\"Warning message:\n",
      "\"restored 'jsonlite'\""
     ]
    },
    {
     "name": "stdout",
     "output_type": "stream",
     "text": [
      "package 'tidyverse' successfully unpacked and MD5 sums checked\n",
      "\n",
      "The downloaded binary packages are in\n",
      "\tC:\\Users\\pawel\\AppData\\Local\\Temp\\Rtmpu8nCZb\\downloaded_packages\n"
     ]
    }
   ],
   "source": [
    "install.packages(\"tidyverse\")"
   ]
  },
  {
   "cell_type": "code",
   "execution_count": 79,
   "metadata": {},
   "outputs": [
    {
     "name": "stderr",
     "output_type": "stream",
     "text": [
      "Warning message:\n",
      "\"package 'lubridate' was built under R version 3.6.3\"\n",
      "Attaching package: 'lubridate'\n",
      "\n",
      "The following objects are masked from 'package:base':\n",
      "\n",
      "    date, intersect, setdiff, union\n",
      "\n"
     ]
    }
   ],
   "source": [
    "library(\"ggplot2\")\n",
    "library(\"dplyr\")\n",
    "library(\"readr\")\n",
    "library(lubridate)"
   ]
  },
  {
   "cell_type": "markdown",
   "metadata": {},
   "source": [
    "## Zad 1\n",
    "**Wczytanie danych**\n",
    "\n",
    "Dane przedstawianją czasy działania algorytmu obliczania wektora skalarnego oraz mnożenia macierzy przez wektor."
   ]
  },
  {
   "cell_type": "code",
   "execution_count": 3,
   "metadata": {},
   "outputs": [
    {
     "data": {
      "text/html": [
       "<table>\n",
       "<thead><tr><th scope=col>Rozmiar</th><th scope=col>Czas</th><th scope=col>Typ</th></tr></thead>\n",
       "<tbody>\n",
       "\t<tr><td>   1000    </td><td>0.000681700</td><td>1          </td></tr>\n",
       "\t<tr><td>1000000    </td><td>0.001094700</td><td>0          </td></tr>\n",
       "\t<tr><td>   1000    </td><td>0.000795300</td><td>1          </td></tr>\n",
       "\t<tr><td>1000000    </td><td>0.001085000</td><td>0          </td></tr>\n",
       "\t<tr><td>   1000    </td><td>0.000962300</td><td>1          </td></tr>\n",
       "\t<tr><td>1000000    </td><td>0.001134500</td><td>0          </td></tr>\n",
       "\t<tr><td>   1000    </td><td>0.000604700</td><td>1          </td></tr>\n",
       "\t<tr><td>1000000    </td><td>0.001361700</td><td>0          </td></tr>\n",
       "\t<tr><td>   1000    </td><td>0.000679901</td><td>1          </td></tr>\n",
       "\t<tr><td>1000000    </td><td>0.001065200</td><td>0          </td></tr>\n",
       "\t<tr><td>   1000    </td><td>0.000696500</td><td>1          </td></tr>\n",
       "\t<tr><td>1000000    </td><td>0.001080000</td><td>0          </td></tr>\n",
       "\t<tr><td>   1000    </td><td>0.000718900</td><td>1          </td></tr>\n",
       "\t<tr><td>1000000    </td><td>0.001091100</td><td>0          </td></tr>\n",
       "\t<tr><td>   1000    </td><td>0.000772101</td><td>1          </td></tr>\n",
       "\t<tr><td>1000000    </td><td>0.001258899</td><td>0          </td></tr>\n",
       "\t<tr><td>   1000    </td><td>0.000995700</td><td>1          </td></tr>\n",
       "\t<tr><td>1000000    </td><td>0.001055599</td><td>0          </td></tr>\n",
       "\t<tr><td>   1000    </td><td>0.000643599</td><td>1          </td></tr>\n",
       "\t<tr><td>1000000    </td><td>0.001024000</td><td>0          </td></tr>\n",
       "\t<tr><td>   2000    </td><td>0.002393599</td><td>1          </td></tr>\n",
       "\t<tr><td>2000000    </td><td>0.001998099</td><td>0          </td></tr>\n",
       "\t<tr><td>   2000    </td><td>0.002550100</td><td>1          </td></tr>\n",
       "\t<tr><td>2000000    </td><td>0.001939299</td><td>0          </td></tr>\n",
       "\t<tr><td>   2000    </td><td>0.002763600</td><td>1          </td></tr>\n",
       "\t<tr><td>2000000    </td><td>0.002356101</td><td>0          </td></tr>\n",
       "\t<tr><td>   2000    </td><td>0.002507100</td><td>1          </td></tr>\n",
       "\t<tr><td>2000000    </td><td>0.001952100</td><td>0          </td></tr>\n",
       "\t<tr><td>   2000    </td><td>0.002493101</td><td>1          </td></tr>\n",
       "\t<tr><td>2000000    </td><td>0.002011400</td><td>0          </td></tr>\n",
       "\t<tr><td>...</td><td>...</td><td>...</td></tr>\n",
       "\t<tr><td>    9000   </td><td>0.047602300</td><td>1          </td></tr>\n",
       "\t<tr><td> 9000000   </td><td>0.008441500</td><td>0          </td></tr>\n",
       "\t<tr><td>    9000   </td><td>0.047375300</td><td>1          </td></tr>\n",
       "\t<tr><td> 9000000   </td><td>0.008877500</td><td>0          </td></tr>\n",
       "\t<tr><td>    9000   </td><td>0.045446800</td><td>1          </td></tr>\n",
       "\t<tr><td> 9000000   </td><td>0.008316799</td><td>0          </td></tr>\n",
       "\t<tr><td>    9000   </td><td>0.046768400</td><td>1          </td></tr>\n",
       "\t<tr><td> 9000000   </td><td>0.008836801</td><td>0          </td></tr>\n",
       "\t<tr><td>    9000   </td><td>0.047149800</td><td>1          </td></tr>\n",
       "\t<tr><td> 9000000   </td><td>0.008945800</td><td>0          </td></tr>\n",
       "\t<tr><td>   10000   </td><td>0.057333300</td><td>1          </td></tr>\n",
       "\t<tr><td>10000000   </td><td>0.010209700</td><td>0          </td></tr>\n",
       "\t<tr><td>   10000   </td><td>0.054862500</td><td>1          </td></tr>\n",
       "\t<tr><td>10000000   </td><td>0.009760999</td><td>0          </td></tr>\n",
       "\t<tr><td>   10000   </td><td>0.056814900</td><td>1          </td></tr>\n",
       "\t<tr><td>10000000   </td><td>0.010029401</td><td>0          </td></tr>\n",
       "\t<tr><td>   10000   </td><td>0.058478500</td><td>1          </td></tr>\n",
       "\t<tr><td>10000000   </td><td>0.011166300</td><td>0          </td></tr>\n",
       "\t<tr><td>   10000   </td><td>0.057764500</td><td>1          </td></tr>\n",
       "\t<tr><td>10000000   </td><td>0.009752399</td><td>0          </td></tr>\n",
       "\t<tr><td>   10000   </td><td>0.059850800</td><td>1          </td></tr>\n",
       "\t<tr><td>10000000   </td><td>0.010176201</td><td>0          </td></tr>\n",
       "\t<tr><td>   10000   </td><td>0.057912600</td><td>1          </td></tr>\n",
       "\t<tr><td>10000000   </td><td>0.010093800</td><td>0          </td></tr>\n",
       "\t<tr><td>   10000   </td><td>0.058464400</td><td>1          </td></tr>\n",
       "\t<tr><td>10000000   </td><td>0.009791501</td><td>0          </td></tr>\n",
       "\t<tr><td>   10000   </td><td>0.056122700</td><td>1          </td></tr>\n",
       "\t<tr><td>10000000   </td><td>0.012128301</td><td>0          </td></tr>\n",
       "\t<tr><td>   10000   </td><td>0.059632800</td><td>1          </td></tr>\n",
       "\t<tr><td>10000000   </td><td>0.009670200</td><td>0          </td></tr>\n",
       "</tbody>\n",
       "</table>\n"
      ],
      "text/latex": [
       "\\begin{tabular}{r|lll}\n",
       " Rozmiar & Czas & Typ\\\\\n",
       "\\hline\n",
       "\t    1000     & 0.000681700 & 1          \\\\\n",
       "\t 1000000     & 0.001094700 & 0          \\\\\n",
       "\t    1000     & 0.000795300 & 1          \\\\\n",
       "\t 1000000     & 0.001085000 & 0          \\\\\n",
       "\t    1000     & 0.000962300 & 1          \\\\\n",
       "\t 1000000     & 0.001134500 & 0          \\\\\n",
       "\t    1000     & 0.000604700 & 1          \\\\\n",
       "\t 1000000     & 0.001361700 & 0          \\\\\n",
       "\t    1000     & 0.000679901 & 1          \\\\\n",
       "\t 1000000     & 0.001065200 & 0          \\\\\n",
       "\t    1000     & 0.000696500 & 1          \\\\\n",
       "\t 1000000     & 0.001080000 & 0          \\\\\n",
       "\t    1000     & 0.000718900 & 1          \\\\\n",
       "\t 1000000     & 0.001091100 & 0          \\\\\n",
       "\t    1000     & 0.000772101 & 1          \\\\\n",
       "\t 1000000     & 0.001258899 & 0          \\\\\n",
       "\t    1000     & 0.000995700 & 1          \\\\\n",
       "\t 1000000     & 0.001055599 & 0          \\\\\n",
       "\t    1000     & 0.000643599 & 1          \\\\\n",
       "\t 1000000     & 0.001024000 & 0          \\\\\n",
       "\t    2000     & 0.002393599 & 1          \\\\\n",
       "\t 2000000     & 0.001998099 & 0          \\\\\n",
       "\t    2000     & 0.002550100 & 1          \\\\\n",
       "\t 2000000     & 0.001939299 & 0          \\\\\n",
       "\t    2000     & 0.002763600 & 1          \\\\\n",
       "\t 2000000     & 0.002356101 & 0          \\\\\n",
       "\t    2000     & 0.002507100 & 1          \\\\\n",
       "\t 2000000     & 0.001952100 & 0          \\\\\n",
       "\t    2000     & 0.002493101 & 1          \\\\\n",
       "\t 2000000     & 0.002011400 & 0          \\\\\n",
       "\t ... & ... & ...\\\\\n",
       "\t     9000    & 0.047602300 & 1          \\\\\n",
       "\t  9000000    & 0.008441500 & 0          \\\\\n",
       "\t     9000    & 0.047375300 & 1          \\\\\n",
       "\t  9000000    & 0.008877500 & 0          \\\\\n",
       "\t     9000    & 0.045446800 & 1          \\\\\n",
       "\t  9000000    & 0.008316799 & 0          \\\\\n",
       "\t     9000    & 0.046768400 & 1          \\\\\n",
       "\t  9000000    & 0.008836801 & 0          \\\\\n",
       "\t     9000    & 0.047149800 & 1          \\\\\n",
       "\t  9000000    & 0.008945800 & 0          \\\\\n",
       "\t    10000    & 0.057333300 & 1          \\\\\n",
       "\t 10000000    & 0.010209700 & 0          \\\\\n",
       "\t    10000    & 0.054862500 & 1          \\\\\n",
       "\t 10000000    & 0.009760999 & 0          \\\\\n",
       "\t    10000    & 0.056814900 & 1          \\\\\n",
       "\t 10000000    & 0.010029401 & 0          \\\\\n",
       "\t    10000    & 0.058478500 & 1          \\\\\n",
       "\t 10000000    & 0.011166300 & 0          \\\\\n",
       "\t    10000    & 0.057764500 & 1          \\\\\n",
       "\t 10000000    & 0.009752399 & 0          \\\\\n",
       "\t    10000    & 0.059850800 & 1          \\\\\n",
       "\t 10000000    & 0.010176201 & 0          \\\\\n",
       "\t    10000    & 0.057912600 & 1          \\\\\n",
       "\t 10000000    & 0.010093800 & 0          \\\\\n",
       "\t    10000    & 0.058464400 & 1          \\\\\n",
       "\t 10000000    & 0.009791501 & 0          \\\\\n",
       "\t    10000    & 0.056122700 & 1          \\\\\n",
       "\t 10000000    & 0.012128301 & 0          \\\\\n",
       "\t    10000    & 0.059632800 & 1          \\\\\n",
       "\t 10000000    & 0.009670200 & 0          \\\\\n",
       "\\end{tabular}\n"
      ],
      "text/markdown": [
       "\n",
       "| Rozmiar | Czas | Typ |\n",
       "|---|---|---|\n",
       "|    1000     | 0.000681700 | 1           |\n",
       "| 1000000     | 0.001094700 | 0           |\n",
       "|    1000     | 0.000795300 | 1           |\n",
       "| 1000000     | 0.001085000 | 0           |\n",
       "|    1000     | 0.000962300 | 1           |\n",
       "| 1000000     | 0.001134500 | 0           |\n",
       "|    1000     | 0.000604700 | 1           |\n",
       "| 1000000     | 0.001361700 | 0           |\n",
       "|    1000     | 0.000679901 | 1           |\n",
       "| 1000000     | 0.001065200 | 0           |\n",
       "|    1000     | 0.000696500 | 1           |\n",
       "| 1000000     | 0.001080000 | 0           |\n",
       "|    1000     | 0.000718900 | 1           |\n",
       "| 1000000     | 0.001091100 | 0           |\n",
       "|    1000     | 0.000772101 | 1           |\n",
       "| 1000000     | 0.001258899 | 0           |\n",
       "|    1000     | 0.000995700 | 1           |\n",
       "| 1000000     | 0.001055599 | 0           |\n",
       "|    1000     | 0.000643599 | 1           |\n",
       "| 1000000     | 0.001024000 | 0           |\n",
       "|    2000     | 0.002393599 | 1           |\n",
       "| 2000000     | 0.001998099 | 0           |\n",
       "|    2000     | 0.002550100 | 1           |\n",
       "| 2000000     | 0.001939299 | 0           |\n",
       "|    2000     | 0.002763600 | 1           |\n",
       "| 2000000     | 0.002356101 | 0           |\n",
       "|    2000     | 0.002507100 | 1           |\n",
       "| 2000000     | 0.001952100 | 0           |\n",
       "|    2000     | 0.002493101 | 1           |\n",
       "| 2000000     | 0.002011400 | 0           |\n",
       "| ... | ... | ... |\n",
       "|     9000    | 0.047602300 | 1           |\n",
       "|  9000000    | 0.008441500 | 0           |\n",
       "|     9000    | 0.047375300 | 1           |\n",
       "|  9000000    | 0.008877500 | 0           |\n",
       "|     9000    | 0.045446800 | 1           |\n",
       "|  9000000    | 0.008316799 | 0           |\n",
       "|     9000    | 0.046768400 | 1           |\n",
       "|  9000000    | 0.008836801 | 0           |\n",
       "|     9000    | 0.047149800 | 1           |\n",
       "|  9000000    | 0.008945800 | 0           |\n",
       "|    10000    | 0.057333300 | 1           |\n",
       "| 10000000    | 0.010209700 | 0           |\n",
       "|    10000    | 0.054862500 | 1           |\n",
       "| 10000000    | 0.009760999 | 0           |\n",
       "|    10000    | 0.056814900 | 1           |\n",
       "| 10000000    | 0.010029401 | 0           |\n",
       "|    10000    | 0.058478500 | 1           |\n",
       "| 10000000    | 0.011166300 | 0           |\n",
       "|    10000    | 0.057764500 | 1           |\n",
       "| 10000000    | 0.009752399 | 0           |\n",
       "|    10000    | 0.059850800 | 1           |\n",
       "| 10000000    | 0.010176201 | 0           |\n",
       "|    10000    | 0.057912600 | 1           |\n",
       "| 10000000    | 0.010093800 | 0           |\n",
       "|    10000    | 0.058464400 | 1           |\n",
       "| 10000000    | 0.009791501 | 0           |\n",
       "|    10000    | 0.056122700 | 1           |\n",
       "| 10000000    | 0.012128301 | 0           |\n",
       "|    10000    | 0.059632800 | 1           |\n",
       "| 10000000    | 0.009670200 | 0           |\n",
       "\n"
      ],
      "text/plain": [
       "    Rozmiar  Czas        Typ\n",
       "1      1000  0.000681700 1  \n",
       "2   1000000  0.001094700 0  \n",
       "3      1000  0.000795300 1  \n",
       "4   1000000  0.001085000 0  \n",
       "5      1000  0.000962300 1  \n",
       "6   1000000  0.001134500 0  \n",
       "7      1000  0.000604700 1  \n",
       "8   1000000  0.001361700 0  \n",
       "9      1000  0.000679901 1  \n",
       "10  1000000  0.001065200 0  \n",
       "11     1000  0.000696500 1  \n",
       "12  1000000  0.001080000 0  \n",
       "13     1000  0.000718900 1  \n",
       "14  1000000  0.001091100 0  \n",
       "15     1000  0.000772101 1  \n",
       "16  1000000  0.001258899 0  \n",
       "17     1000  0.000995700 1  \n",
       "18  1000000  0.001055599 0  \n",
       "19     1000  0.000643599 1  \n",
       "20  1000000  0.001024000 0  \n",
       "21     2000  0.002393599 1  \n",
       "22  2000000  0.001998099 0  \n",
       "23     2000  0.002550100 1  \n",
       "24  2000000  0.001939299 0  \n",
       "25     2000  0.002763600 1  \n",
       "26  2000000  0.002356101 0  \n",
       "27     2000  0.002507100 1  \n",
       "28  2000000  0.001952100 0  \n",
       "29     2000  0.002493101 1  \n",
       "30  2000000  0.002011400 0  \n",
       "... ...      ...         ...\n",
       "171     9000 0.047602300 1  \n",
       "172  9000000 0.008441500 0  \n",
       "173     9000 0.047375300 1  \n",
       "174  9000000 0.008877500 0  \n",
       "175     9000 0.045446800 1  \n",
       "176  9000000 0.008316799 0  \n",
       "177     9000 0.046768400 1  \n",
       "178  9000000 0.008836801 0  \n",
       "179     9000 0.047149800 1  \n",
       "180  9000000 0.008945800 0  \n",
       "181    10000 0.057333300 1  \n",
       "182 10000000 0.010209700 0  \n",
       "183    10000 0.054862500 1  \n",
       "184 10000000 0.009760999 0  \n",
       "185    10000 0.056814900 1  \n",
       "186 10000000 0.010029401 0  \n",
       "187    10000 0.058478500 1  \n",
       "188 10000000 0.011166300 0  \n",
       "189    10000 0.057764500 1  \n",
       "190 10000000 0.009752399 0  \n",
       "191    10000 0.059850800 1  \n",
       "192 10000000 0.010176201 0  \n",
       "193    10000 0.057912600 1  \n",
       "194 10000000 0.010093800 0  \n",
       "195    10000 0.058464400 1  \n",
       "196 10000000 0.009791501 0  \n",
       "197    10000 0.056122700 1  \n",
       "198 10000000 0.012128301 0  \n",
       "199    10000 0.059632800 1  \n",
       "200 10000000 0.009670200 0  "
      ]
     },
     "metadata": {},
     "output_type": "display_data"
    }
   ],
   "source": [
    "measurements = read.csv(\"time_measurements.csv\")\n",
    "measurements"
   ]
  },
  {
   "cell_type": "markdown",
   "metadata": {},
   "source": [
    "## Zad 2 i 3\n",
    "**grupowanie danych**"
   ]
  },
  {
   "cell_type": "code",
   "execution_count": 4,
   "metadata": {},
   "outputs": [
    {
     "name": "stderr",
     "output_type": "stream",
     "text": [
      "`summarise()` has grouped output by 'Typ'. You can override using the `.groups` argument.\n"
     ]
    }
   ],
   "source": [
    "grouped = measurements %>%    \n",
    "    group_by(Typ, Rozmiar) %>%\n",
    "    summarize(\n",
    "        avg_time = mean(Czas),\n",
    "        std_error = sd(Czas)\n",
    "    ) %>% ungroup()\n",
    "first_function_meas = grouped %>% filter(Typ == 0)\n",
    "second_function_meas = grouped %>% filter(Typ == 1)"
   ]
  },
  {
   "cell_type": "markdown",
   "metadata": {},
   "source": [
    "**rysowanie wykresów**"
   ]
  },
  {
   "cell_type": "code",
   "execution_count": 5,
   "metadata": {},
   "outputs": [
    {
     "data": {
      "image/png": "[encoded data removed]",
      "text/plain": [
       "plot without title"
      ]
     },
     "metadata": {},
     "output_type": "display_data"
    }
   ],
   "source": [
    "first_plot = first_function_meas %>%\n",
    "    ggplot(aes(x = Rozmiar, y= avg_time)) + geom_point() + \n",
    "        geom_errorbar(aes(ymin = avg_time-std_error, ymax = avg_time+std_error, width=.25)) +\n",
    "    ggtitle(\"Czas wyliczania iloczynu skalarnego w Julii\")  + ylab(\"Czas mnożenia [s]\")\n",
    "\n",
    "first_plot"
   ]
  },
  {
   "cell_type": "code",
   "execution_count": 7,
   "metadata": {},
   "outputs": [
    {
     "data": {
      "image/png": "[encoded data removed]",
      "text/plain": [
       "plot without title"
      ]
     },
     "metadata": {},
     "output_type": "display_data"
    }
   ],
   "source": [
    "second_plot = second_function_meas %>%\n",
    "    ggplot(aes(x = Rozmiar, y= avg_time)) + geom_point() + \n",
    "        geom_errorbar(aes(ymin = avg_time-std_error, ymax = avg_time+std_error, width=.25)) +\n",
    "    ggtitle(\"Czas mnożenia macierzy przez wektor w Julii\") + ylab(\"Czas mnożenia [s]\")\n",
    "second_plot"
   ]
  },
  {
   "cell_type": "markdown",
   "metadata": {},
   "source": [
    "## Zad 4\n",
    "**pierwszy wykres**"
   ]
  },
  {
   "cell_type": "code",
   "execution_count": 37,
   "metadata": {},
   "outputs": [],
   "source": [
    "fit <- lm(avg_time ~ poly(Rozmiar, 1, raw=TRUE), data=first_function_meas)  # Wyliczanie iloczynu jest liniowe"
   ]
  },
  {
   "cell_type": "code",
   "execution_count": 35,
   "metadata": {},
   "outputs": [],
   "source": [
    "newdata = data.frame(Rozmiar \n",
    "                     = seq(100000, 10000000, length.out=250))"
   ]
  },
  {
   "cell_type": "code",
   "execution_count": 36,
   "metadata": {},
   "outputs": [
    {
     "data": {
      "image/png": "[encoded data removed]",
      "text/plain": [
       "plot without title"
      ]
     },
     "metadata": {},
     "output_type": "display_data"
    }
   ],
   "source": [
    "newdata$y = predict(fit, newdata)\n",
    "first_plot + geom_line(data=newdata, aes(Rozmiar, y))"
   ]
  },
  {
   "cell_type": "markdown",
   "metadata": {},
   "source": [
    "**Drugi wykres**\n"
   ]
  },
  {
   "cell_type": "code",
   "execution_count": 39,
   "metadata": {},
   "outputs": [],
   "source": [
    "fit2 <- lm(avg_time ~ poly(Rozmiar, 2, raw=TRUE), data=second_function_meas)\n",
    "newdata = data.frame(Rozmiar = seq(1000, 10000, length.out=250))"
   ]
  },
  {
   "cell_type": "code",
   "execution_count": 40,
   "metadata": {},
   "outputs": [
    {
     "data": {
      "image/png": "[encoded data removed]",
      "text/plain": [
       "plot without title"
      ]
     },
     "metadata": {},
     "output_type": "display_data"
    }
   ],
   "source": [
    "newdata$y = predict(fit2, newdata)\n",
    "second_plot + geom_line(data=newdata, aes(Rozmiar, y))"
   ]
  },
  {
   "cell_type": "markdown",
   "metadata": {},
   "source": [
    "## Zad 5"
   ]
  },
  {
   "cell_type": "code",
   "execution_count": 155,
   "metadata": {},
   "outputs": [
    {
     "data": {
      "image/png": "[encoded data removed]",
      "text/plain": [
       "plot without title"
      ]
     },
     "metadata": {},
     "output_type": "display_data"
    }
   ],
   "source": [
    "covid_poland = read.csv(\"zakazeniaCovid.csv\")\n",
    "segregated_data = covid_poland %>%\n",
    "    mutate(Date = dmy(Data), No_infections= as.numeric(as.character(Liczba_zakazen)))%>%\n",
    "    select(Date, No_infections)\n",
    "\n",
    "segregated_data %>%\n",
    "ggplot(aes(x = Date, y= No_infections)) + geom_point() + ggtitle(\"Liczba zakażonych w Polsce od początku pandemii\") +\n",
    "xlab(\"Data\") + ylab(\"Liczba zakażeń\")\n",
    "\n"
   ]
  },
  {
   "cell_type": "markdown",
   "metadata": {},
   "source": [
    "**Pierwszy okres**\n",
    "\n",
    "14 dni w okolicach początku pandemii w Polsce"
   ]
  },
  {
   "cell_type": "code",
   "execution_count": 136,
   "metadata": {},
   "outputs": [
    {
     "data": {
      "text/html": [
       "<table>\n",
       "<thead><tr><th scope=col>Date</th><th scope=col>No_infections</th><th scope=col>Days_since_start</th></tr></thead>\n",
       "<tbody>\n",
       "\t<tr><td>2020-03-24</td><td> 901      </td><td> 0        </td></tr>\n",
       "\t<tr><td>2020-03-25</td><td>1051      </td><td> 1        </td></tr>\n",
       "\t<tr><td>2020-03-26</td><td>1221      </td><td> 2        </td></tr>\n",
       "\t<tr><td>2020-03-27</td><td>1389      </td><td> 3        </td></tr>\n",
       "\t<tr><td>2020-03-28</td><td>1638      </td><td> 4        </td></tr>\n",
       "\t<tr><td>2020-03-29</td><td>1862      </td><td> 5        </td></tr>\n",
       "\t<tr><td>2020-03-30</td><td>2055      </td><td> 6        </td></tr>\n",
       "\t<tr><td>2020-03-31</td><td>2311      </td><td> 7        </td></tr>\n",
       "\t<tr><td>2020-04-01</td><td>2554      </td><td> 8        </td></tr>\n",
       "\t<tr><td>2020-04-02</td><td>2946      </td><td> 9        </td></tr>\n",
       "\t<tr><td>2020-04-03</td><td>3383      </td><td>10        </td></tr>\n",
       "\t<tr><td>2020-04-04</td><td>3627      </td><td>11        </td></tr>\n",
       "\t<tr><td>2020-04-05</td><td>4102      </td><td>12        </td></tr>\n",
       "\t<tr><td>2020-04-06</td><td>4413      </td><td>13        </td></tr>\n",
       "</tbody>\n",
       "</table>\n"
      ],
      "text/latex": [
       "\\begin{tabular}{r|lll}\n",
       " Date & No\\_infections & Days\\_since\\_start\\\\\n",
       "\\hline\n",
       "\t 2020-03-24 &  901       &  0        \\\\\n",
       "\t 2020-03-25 & 1051       &  1        \\\\\n",
       "\t 2020-03-26 & 1221       &  2        \\\\\n",
       "\t 2020-03-27 & 1389       &  3        \\\\\n",
       "\t 2020-03-28 & 1638       &  4        \\\\\n",
       "\t 2020-03-29 & 1862       &  5        \\\\\n",
       "\t 2020-03-30 & 2055       &  6        \\\\\n",
       "\t 2020-03-31 & 2311       &  7        \\\\\n",
       "\t 2020-04-01 & 2554       &  8        \\\\\n",
       "\t 2020-04-02 & 2946       &  9        \\\\\n",
       "\t 2020-04-03 & 3383       & 10        \\\\\n",
       "\t 2020-04-04 & 3627       & 11        \\\\\n",
       "\t 2020-04-05 & 4102       & 12        \\\\\n",
       "\t 2020-04-06 & 4413       & 13        \\\\\n",
       "\\end{tabular}\n"
      ],
      "text/markdown": [
       "\n",
       "| Date | No_infections | Days_since_start |\n",
       "|---|---|---|\n",
       "| 2020-03-24 |  901       |  0         |\n",
       "| 2020-03-25 | 1051       |  1         |\n",
       "| 2020-03-26 | 1221       |  2         |\n",
       "| 2020-03-27 | 1389       |  3         |\n",
       "| 2020-03-28 | 1638       |  4         |\n",
       "| 2020-03-29 | 1862       |  5         |\n",
       "| 2020-03-30 | 2055       |  6         |\n",
       "| 2020-03-31 | 2311       |  7         |\n",
       "| 2020-04-01 | 2554       |  8         |\n",
       "| 2020-04-02 | 2946       |  9         |\n",
       "| 2020-04-03 | 3383       | 10         |\n",
       "| 2020-04-04 | 3627       | 11         |\n",
       "| 2020-04-05 | 4102       | 12         |\n",
       "| 2020-04-06 | 4413       | 13         |\n",
       "\n"
      ],
      "text/plain": [
       "   Date       No_infections Days_since_start\n",
       "1  2020-03-24  901           0              \n",
       "2  2020-03-25 1051           1              \n",
       "3  2020-03-26 1221           2              \n",
       "4  2020-03-27 1389           3              \n",
       "5  2020-03-28 1638           4              \n",
       "6  2020-03-29 1862           5              \n",
       "7  2020-03-30 2055           6              \n",
       "8  2020-03-31 2311           7              \n",
       "9  2020-04-01 2554           8              \n",
       "10 2020-04-02 2946           9              \n",
       "11 2020-04-03 3383          10              \n",
       "12 2020-04-04 3627          11              \n",
       "13 2020-04-05 4102          12              \n",
       "14 2020-04-06 4413          13              "
      ]
     },
     "metadata": {},
     "output_type": "display_data"
    }
   ],
   "source": [
    "n_1 = 14\n",
    "\n",
    "start_1 = dmy(\"24-03-2020\")\n",
    "stop_1 = start_1 + days(n_1)\n",
    "\n",
    "filtered_data_1 = segregated_data %>%\n",
    "    filter(start_1 <= Date & Date < stop_1) %>%\n",
    "    mutate(Days_since_start=as.integer(difftime(Date, start_1, units=\"days\")))\n",
    "\n",
    "filtered_data_1"
   ]
  },
  {
   "cell_type": "code",
   "execution_count": 152,
   "metadata": {},
   "outputs": [
    {
     "data": {
      "image/png": "[encoded data removed]",
      "text/plain": [
       "plot without title"
      ]
     },
     "metadata": {},
     "output_type": "display_data"
    }
   ],
   "source": [
    "exponentional_fit = lm(log(No_infections)~ Days_since_start, data=filtered_data_1)\n",
    "df_points_1 = data.frame(Days_since_start = seq(0, n_1-1, length.out=250))\n",
    "\n",
    "df_points_1$yfs_1 <- exp(predict(exponentional_fit, df_points_1))\n",
    "\n",
    "filtered_data_1 %>%\n",
    "    ggplot(aes(x = Days_since_start, y= No_infections)) + geom_point() +\n",
    "    geom_line(data=df_points_1, aes(Days_since_start, yfs_1)) +\n",
    "    ggtitle(sprintf(\"Predykcja zakażeń - okres od %s do %s\", start_1, stop_1)) +\n",
    "    xlab(sprintf(\"Dni od %s\", start_1)) + ylab(\"Liczba zakażeń\")"
   ]
  },
  {
   "cell_type": "markdown",
   "metadata": {},
   "source": [
    "**Second period**\n",
    "\n",
    "October of 2020 with a big peek in number of infections"
   ]
  },
  {
   "cell_type": "code",
   "execution_count": 153,
   "metadata": {},
   "outputs": [
    {
     "data": {
      "text/html": [
       "<table>\n",
       "<thead><tr><th scope=col>Date</th><th scope=col>No_infections</th><th scope=col>Days_since_start</th></tr></thead>\n",
       "<tbody>\n",
       "\t<tr><td>2020-10-01</td><td> 93481    </td><td> 0        </td></tr>\n",
       "\t<tr><td>2020-10-02</td><td> 95773    </td><td> 1        </td></tr>\n",
       "\t<tr><td>2020-10-03</td><td> 98140    </td><td> 2        </td></tr>\n",
       "\t<tr><td>2020-10-04</td><td>100074    </td><td> 3        </td></tr>\n",
       "\t<tr><td>2020-10-05</td><td>102080    </td><td> 4        </td></tr>\n",
       "\t<tr><td>2020-10-06</td><td>104316    </td><td> 5        </td></tr>\n",
       "\t<tr><td>2020-10-07</td><td>107319    </td><td> 6        </td></tr>\n",
       "\t<tr><td>2020-10-08</td><td>111599    </td><td> 7        </td></tr>\n",
       "\t<tr><td>2020-10-09</td><td>116338    </td><td> 8        </td></tr>\n",
       "\t<tr><td>2020-10-10</td><td>121638    </td><td> 9        </td></tr>\n",
       "\t<tr><td>2020-10-11</td><td>125816    </td><td>10        </td></tr>\n",
       "\t<tr><td>2020-10-12</td><td>130210    </td><td>11        </td></tr>\n",
       "\t<tr><td>2020-10-13</td><td>135278    </td><td>12        </td></tr>\n",
       "\t<tr><td>2020-10-14</td><td>141804    </td><td>13        </td></tr>\n",
       "\t<tr><td>2020-10-15</td><td>149903    </td><td>14        </td></tr>\n",
       "\t<tr><td>2020-10-16</td><td>157608    </td><td>15        </td></tr>\n",
       "\t<tr><td>2020-10-17</td><td>167230    </td><td>16        </td></tr>\n",
       "\t<tr><td>2020-10-18</td><td>175766    </td><td>17        </td></tr>\n",
       "\t<tr><td>2020-10-19</td><td>183248    </td><td>18        </td></tr>\n",
       "\t<tr><td>2020-10-20</td><td>192539    </td><td>19        </td></tr>\n",
       "\t<tr><td>2020-10-21</td><td>202579    </td><td>20        </td></tr>\n",
       "\t<tr><td>2020-10-22</td><td>214686    </td><td>21        </td></tr>\n",
       "\t<tr><td>2020-10-23</td><td>228318    </td><td>22        </td></tr>\n",
       "\t<tr><td>2020-10-24</td><td>241946    </td><td>23        </td></tr>\n",
       "\t<tr><td>2020-10-25</td><td>253688    </td><td>24        </td></tr>\n",
       "\t<tr><td>2020-10-26</td><td>263929    </td><td>25        </td></tr>\n",
       "\t<tr><td>2020-10-27</td><td>280229    </td><td>26        </td></tr>\n",
       "\t<tr><td>2020-10-28</td><td>299049    </td><td>27        </td></tr>\n",
       "\t<tr><td>2020-10-29</td><td>319205    </td><td>28        </td></tr>\n",
       "\t<tr><td>2020-10-30</td><td>340834    </td><td>29        </td></tr>\n",
       "</tbody>\n",
       "</table>\n"
      ],
      "text/latex": [
       "\\begin{tabular}{r|lll}\n",
       " Date & No\\_infections & Days\\_since\\_start\\\\\n",
       "\\hline\n",
       "\t 2020-10-01 &  93481     &  0        \\\\\n",
       "\t 2020-10-02 &  95773     &  1        \\\\\n",
       "\t 2020-10-03 &  98140     &  2        \\\\\n",
       "\t 2020-10-04 & 100074     &  3        \\\\\n",
       "\t 2020-10-05 & 102080     &  4        \\\\\n",
       "\t 2020-10-06 & 104316     &  5        \\\\\n",
       "\t 2020-10-07 & 107319     &  6        \\\\\n",
       "\t 2020-10-08 & 111599     &  7        \\\\\n",
       "\t 2020-10-09 & 116338     &  8        \\\\\n",
       "\t 2020-10-10 & 121638     &  9        \\\\\n",
       "\t 2020-10-11 & 125816     & 10        \\\\\n",
       "\t 2020-10-12 & 130210     & 11        \\\\\n",
       "\t 2020-10-13 & 135278     & 12        \\\\\n",
       "\t 2020-10-14 & 141804     & 13        \\\\\n",
       "\t 2020-10-15 & 149903     & 14        \\\\\n",
       "\t 2020-10-16 & 157608     & 15        \\\\\n",
       "\t 2020-10-17 & 167230     & 16        \\\\\n",
       "\t 2020-10-18 & 175766     & 17        \\\\\n",
       "\t 2020-10-19 & 183248     & 18        \\\\\n",
       "\t 2020-10-20 & 192539     & 19        \\\\\n",
       "\t 2020-10-21 & 202579     & 20        \\\\\n",
       "\t 2020-10-22 & 214686     & 21        \\\\\n",
       "\t 2020-10-23 & 228318     & 22        \\\\\n",
       "\t 2020-10-24 & 241946     & 23        \\\\\n",
       "\t 2020-10-25 & 253688     & 24        \\\\\n",
       "\t 2020-10-26 & 263929     & 25        \\\\\n",
       "\t 2020-10-27 & 280229     & 26        \\\\\n",
       "\t 2020-10-28 & 299049     & 27        \\\\\n",
       "\t 2020-10-29 & 319205     & 28        \\\\\n",
       "\t 2020-10-30 & 340834     & 29        \\\\\n",
       "\\end{tabular}\n"
      ],
      "text/markdown": [
       "\n",
       "| Date | No_infections | Days_since_start |\n",
       "|---|---|---|\n",
       "| 2020-10-01 |  93481     |  0         |\n",
       "| 2020-10-02 |  95773     |  1         |\n",
       "| 2020-10-03 |  98140     |  2         |\n",
       "| 2020-10-04 | 100074     |  3         |\n",
       "| 2020-10-05 | 102080     |  4         |\n",
       "| 2020-10-06 | 104316     |  5         |\n",
       "| 2020-10-07 | 107319     |  6         |\n",
       "| 2020-10-08 | 111599     |  7         |\n",
       "| 2020-10-09 | 116338     |  8         |\n",
       "| 2020-10-10 | 121638     |  9         |\n",
       "| 2020-10-11 | 125816     | 10         |\n",
       "| 2020-10-12 | 130210     | 11         |\n",
       "| 2020-10-13 | 135278     | 12         |\n",
       "| 2020-10-14 | 141804     | 13         |\n",
       "| 2020-10-15 | 149903     | 14         |\n",
       "| 2020-10-16 | 157608     | 15         |\n",
       "| 2020-10-17 | 167230     | 16         |\n",
       "| 2020-10-18 | 175766     | 17         |\n",
       "| 2020-10-19 | 183248     | 18         |\n",
       "| 2020-10-20 | 192539     | 19         |\n",
       "| 2020-10-21 | 202579     | 20         |\n",
       "| 2020-10-22 | 214686     | 21         |\n",
       "| 2020-10-23 | 228318     | 22         |\n",
       "| 2020-10-24 | 241946     | 23         |\n",
       "| 2020-10-25 | 253688     | 24         |\n",
       "| 2020-10-26 | 263929     | 25         |\n",
       "| 2020-10-27 | 280229     | 26         |\n",
       "| 2020-10-28 | 299049     | 27         |\n",
       "| 2020-10-29 | 319205     | 28         |\n",
       "| 2020-10-30 | 340834     | 29         |\n",
       "\n"
      ],
      "text/plain": [
       "   Date       No_infections Days_since_start\n",
       "1  2020-10-01  93481         0              \n",
       "2  2020-10-02  95773         1              \n",
       "3  2020-10-03  98140         2              \n",
       "4  2020-10-04 100074         3              \n",
       "5  2020-10-05 102080         4              \n",
       "6  2020-10-06 104316         5              \n",
       "7  2020-10-07 107319         6              \n",
       "8  2020-10-08 111599         7              \n",
       "9  2020-10-09 116338         8              \n",
       "10 2020-10-10 121638         9              \n",
       "11 2020-10-11 125816        10              \n",
       "12 2020-10-12 130210        11              \n",
       "13 2020-10-13 135278        12              \n",
       "14 2020-10-14 141804        13              \n",
       "15 2020-10-15 149903        14              \n",
       "16 2020-10-16 157608        15              \n",
       "17 2020-10-17 167230        16              \n",
       "18 2020-10-18 175766        17              \n",
       "19 2020-10-19 183248        18              \n",
       "20 2020-10-20 192539        19              \n",
       "21 2020-10-21 202579        20              \n",
       "22 2020-10-22 214686        21              \n",
       "23 2020-10-23 228318        22              \n",
       "24 2020-10-24 241946        23              \n",
       "25 2020-10-25 253688        24              \n",
       "26 2020-10-26 263929        25              \n",
       "27 2020-10-27 280229        26              \n",
       "28 2020-10-28 299049        27              \n",
       "29 2020-10-29 319205        28              \n",
       "30 2020-10-30 340834        29              "
      ]
     },
     "metadata": {},
     "output_type": "display_data"
    }
   ],
   "source": [
    "n_2 = 30\n",
    "\n",
    "start_2 = dmy(\"01-10-2020\")\n",
    "stop_2 = start_2 + days(n_2)\n",
    "\n",
    "filtered_data_2 = segregated_data %>%\n",
    "    filter(start_2 <= Date & Date < stop_2) %>%\n",
    "    mutate(Days_since_start=as.integer(difftime(Date, start_2, units=\"days\")))\n",
    "\n",
    "filtered_data_2"
   ]
  },
  {
   "cell_type": "code",
   "execution_count": 154,
   "metadata": {},
   "outputs": [
    {
     "data": {
      "image/png": "[encoded data removed]",
      "text/plain": [
       "plot without title"
      ]
     },
     "metadata": {},
     "output_type": "display_data"
    }
   ],
   "source": [
    "exponentional_fit_2 = lm(log(No_infections)~ Days_since_start, data=filtered_data_2)\n",
    "df_points_2 = data.frame(Days_since_start = seq(0, n_2-1, length.out=250))\n",
    "\n",
    "df_points_2$yfs_2 <- exp(predict(exponentional_fit_2, df_points_2))\n",
    "\n",
    "filtered_data_2 %>%\n",
    "    ggplot(aes(x = Days_since_start, y= No_infections)) + geom_point() +\n",
    "    geom_line(data=df_points_2, aes(Days_since_start, yfs_2)) + \n",
    "    ggtitle(sprintf(\"Predykcja zakażeń - okres od %s do %s\", start_2, stop_2)) +\n",
    "    xlab(sprintf(\"Dni od %s\", start_2)) + ylab(\"Liczba zakażeń\")"
   ]
  },
  {
   "cell_type": "code",
   "execution_count": null,
   "metadata": {},
   "outputs": [],
   "source": []
  }
 ],
 "metadata": {
  "kernelspec": {
   "display_name": "R",
   "language": "R",
   "name": "ir"
  },
  "language_info": {
   "codemirror_mode": "r",
   "file_extension": ".r",
   "mimetype": "text/x-r-source",
   "name": "R",
   "pygments_lexer": "r",
   "version": "3.6.1"
  }
 },
 "nbformat": 4,
 "nbformat_minor": 4
}
