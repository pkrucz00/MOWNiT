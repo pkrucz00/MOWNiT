{
 "cells": [
  {
   "cell_type": "markdown",
   "metadata": {},
   "source": [
    "# Laboratorium 5 - rozwiązanie\n",
    "## Język R\n",
    "**Paweł Kruczkiewicz**\n",
    "\n",
    "Za pomocą języka R przeanalizować dowolne dane z poprzednich laboratoriów. Elementy obowiązkowe:\n",
    "\n",
    "1. W jednej tabeli języka R należy umieścić wyniki dwóch różnych eksperymentów (t.j. czas działania dwóch różnych funkcji) dla różnych parametrów (t.j. rozmiarów wektora(macierzy)). Tabela powinna zawierać dane z 10-krotnego uruchomienia tego samego eksperymentu dla tych samych parametrów (dla każdego takiego zestawu)  **(1p.)**\n",
    "2. Należy przedstawić wykresy średnich czasów obliczenia wybranych funkcji w zależności od rozmiaru wektora (macierzy) **(1p.)**\n",
    "3. Wykresy powinny zawierać informację o odchyleniu standardowym dla uzyskanych wyników. Słupki błędów można narysować korzystając z funkcji geom_errorbar pakietu ggplot2 **(1p.)**\n",
    "4. Użyć aproksymacji wielomianowej dostępnej w języku R do znalezienia odpowiednich wielomianów, które najlepiej pasują do wyników każdego z algorytmów. Dodać wykresy uzyskanych wielomianow do wykresu. **(1p.)**\n",
    "5. Dopasować **krzywą wykładniczą** do liczby zakażonych koronawirusem w Polsce. Przykładowe źródło danych w [GoogleDoc](https://docs.google.com/spreadsheets/d/1ZIdpVF5AfbkFvGxey92RQLjRVWF8_oWN5-hSbFDL8g0/htmlview#) lub https://ourworldindata.org/explorers/coronavirus-data-explorer. Jak zmieniają się krzywe w zależności od wybranego okresu czasu. Porównać na wykresach co najmniej 2 dopasowania **(2p.)**"
   ]
  },
  {
   "cell_type": "code",
   "execution_count": 41,
   "metadata": {},
   "outputs": [
    {
     "name": "stderr",
     "output_type": "stream",
     "text": [
      "also installing the dependency 'jsonlite'\n",
      "\n"
     ]
    },
    {
     "name": "stdout",
     "output_type": "stream",
     "text": [
      "package 'jsonlite' successfully unpacked and MD5 sums checked\n"
     ]
    },
    {
     "name": "stderr",
     "output_type": "stream",
     "text": [
      "Warning message:\n",
      "\"cannot remove prior installation of package 'jsonlite'\"Warning message in file.copy(savedcopy, lib, recursive = TRUE):\n",
      "\"problem z kopiowaniem C:\\Users\\pawel\\anaconda3\\envs\\hahaha\\Lib\\R\\library\\00LOCK\\jsonlite\\libs\\x64\\jsonlite.dll do C:\\Users\\pawel\\anaconda3\\envs\\hahaha\\Lib\\R\\library\\jsonlite\\libs\\x64\\jsonlite.dll: Permission denied\"Warning message:\n",
      "\"restored 'jsonlite'\""
     ]
    },
    {
     "name": "stdout",
     "output_type": "stream",
     "text": [
      "package 'tidyverse' successfully unpacked and MD5 sums checked\n",
      "\n",
      "The downloaded binary packages are in\n",
      "\tC:\\Users\\pawel\\AppData\\Local\\Temp\\Rtmpu8nCZb\\downloaded_packages\n"
     ]
    }
   ],
   "source": [
    "install.packages(\"tidyverse\")"
   ]
  },
  {
   "cell_type": "code",
   "execution_count": 79,
   "metadata": {},
   "outputs": [
    {
     "name": "stderr",
     "output_type": "stream",
     "text": [
      "Warning message:\n",
      "\"package 'lubridate' was built under R version 3.6.3\"\n",
      "Attaching package: 'lubridate'\n",
      "\n",
      "The following objects are masked from 'package:base':\n",
      "\n",
      "    date, intersect, setdiff, union\n",
      "\n"
     ]
    }
   ],
   "source": [
    "library(\"ggplot2\")\n",
    "library(\"dplyr\")\n",
    "library(\"readr\")\n",
    "library(lubridate)"
   ]
  },
  {
   "cell_type": "markdown",
   "metadata": {},
   "source": [
    "## Zad 1\n",
    "**Wczytanie danych**\n",
    "\n",
    "Dane przedstawianją czasy działania algorytmu obliczania wektora skalarnego oraz mnożenia macierzy przez wektor."
   ]
  },
  {
   "cell_type": "code",
   "execution_count": 3,
   "metadata": {},
   "outputs": [
    {
     "data": {
      "text/html": [
       "<table>\n",
       "<thead><tr><th scope=col>Rozmiar</th><th scope=col>Czas</th><th scope=col>Typ</th></tr></thead>\n",
       "<tbody>\n",
       "\t<tr><td>   1000    </td><td>0.000681700</td><td>1          </td></tr>\n",
       "\t<tr><td>1000000    </td><td>0.001094700</td><td>0          </td></tr>\n",
       "\t<tr><td>   1000    </td><td>0.000795300</td><td>1          </td></tr>\n",
       "\t<tr><td>1000000    </td><td>0.001085000</td><td>0          </td></tr>\n",
       "\t<tr><td>   1000    </td><td>0.000962300</td><td>1          </td></tr>\n",
       "\t<tr><td>1000000    </td><td>0.001134500</td><td>0          </td></tr>\n",
       "\t<tr><td>   1000    </td><td>0.000604700</td><td>1          </td></tr>\n",
       "\t<tr><td>1000000    </td><td>0.001361700</td><td>0          </td></tr>\n",
       "\t<tr><td>   1000    </td><td>0.000679901</td><td>1          </td></tr>\n",
       "\t<tr><td>1000000    </td><td>0.001065200</td><td>0          </td></tr>\n",
       "\t<tr><td>   1000    </td><td>0.000696500</td><td>1          </td></tr>\n",
       "\t<tr><td>1000000    </td><td>0.001080000</td><td>0          </td></tr>\n",
       "\t<tr><td>   1000    </td><td>0.000718900</td><td>1          </td></tr>\n",
       "\t<tr><td>1000000    </td><td>0.001091100</td><td>0          </td></tr>\n",
       "\t<tr><td>   1000    </td><td>0.000772101</td><td>1          </td></tr>\n",
       "\t<tr><td>1000000    </td><td>0.001258899</td><td>0          </td></tr>\n",
       "\t<tr><td>   1000    </td><td>0.000995700</td><td>1          </td></tr>\n",
       "\t<tr><td>1000000    </td><td>0.001055599</td><td>0          </td></tr>\n",
       "\t<tr><td>   1000    </td><td>0.000643599</td><td>1          </td></tr>\n",
       "\t<tr><td>1000000    </td><td>0.001024000</td><td>0          </td></tr>\n",
       "\t<tr><td>   2000    </td><td>0.002393599</td><td>1          </td></tr>\n",
       "\t<tr><td>2000000    </td><td>0.001998099</td><td>0          </td></tr>\n",
       "\t<tr><td>   2000    </td><td>0.002550100</td><td>1          </td></tr>\n",
       "\t<tr><td>2000000    </td><td>0.001939299</td><td>0          </td></tr>\n",
       "\t<tr><td>   2000    </td><td>0.002763600</td><td>1          </td></tr>\n",
       "\t<tr><td>2000000    </td><td>0.002356101</td><td>0          </td></tr>\n",
       "\t<tr><td>   2000    </td><td>0.002507100</td><td>1          </td></tr>\n",
       "\t<tr><td>2000000    </td><td>0.001952100</td><td>0          </td></tr>\n",
       "\t<tr><td>   2000    </td><td>0.002493101</td><td>1          </td></tr>\n",
       "\t<tr><td>2000000    </td><td>0.002011400</td><td>0          </td></tr>\n",
       "\t<tr><td>...</td><td>...</td><td>...</td></tr>\n",
       "\t<tr><td>    9000   </td><td>0.047602300</td><td>1          </td></tr>\n",
       "\t<tr><td> 9000000   </td><td>0.008441500</td><td>0          </td></tr>\n",
       "\t<tr><td>    9000   </td><td>0.047375300</td><td>1          </td></tr>\n",
       "\t<tr><td> 9000000   </td><td>0.008877500</td><td>0          </td></tr>\n",
       "\t<tr><td>    9000   </td><td>0.045446800</td><td>1          </td></tr>\n",
       "\t<tr><td> 9000000   </td><td>0.008316799</td><td>0          </td></tr>\n",
       "\t<tr><td>    9000   </td><td>0.046768400</td><td>1          </td></tr>\n",
       "\t<tr><td> 9000000   </td><td>0.008836801</td><td>0          </td></tr>\n",
       "\t<tr><td>    9000   </td><td>0.047149800</td><td>1          </td></tr>\n",
       "\t<tr><td> 9000000   </td><td>0.008945800</td><td>0          </td></tr>\n",
       "\t<tr><td>   10000   </td><td>0.057333300</td><td>1          </td></tr>\n",
       "\t<tr><td>10000000   </td><td>0.010209700</td><td>0          </td></tr>\n",
       "\t<tr><td>   10000   </td><td>0.054862500</td><td>1          </td></tr>\n",
       "\t<tr><td>10000000   </td><td>0.009760999</td><td>0          </td></tr>\n",
       "\t<tr><td>   10000   </td><td>0.056814900</td><td>1          </td></tr>\n",
       "\t<tr><td>10000000   </td><td>0.010029401</td><td>0          </td></tr>\n",
       "\t<tr><td>   10000   </td><td>0.058478500</td><td>1          </td></tr>\n",
       "\t<tr><td>10000000   </td><td>0.011166300</td><td>0          </td></tr>\n",
       "\t<tr><td>   10000   </td><td>0.057764500</td><td>1          </td></tr>\n",
       "\t<tr><td>10000000   </td><td>0.009752399</td><td>0          </td></tr>\n",
       "\t<tr><td>   10000   </td><td>0.059850800</td><td>1          </td></tr>\n",
       "\t<tr><td>10000000   </td><td>0.010176201</td><td>0          </td></tr>\n",
       "\t<tr><td>   10000   </td><td>0.057912600</td><td>1          </td></tr>\n",
       "\t<tr><td>10000000   </td><td>0.010093800</td><td>0          </td></tr>\n",
       "\t<tr><td>   10000   </td><td>0.058464400</td><td>1          </td></tr>\n",
       "\t<tr><td>10000000   </td><td>0.009791501</td><td>0          </td></tr>\n",
       "\t<tr><td>   10000   </td><td>0.056122700</td><td>1          </td></tr>\n",
       "\t<tr><td>10000000   </td><td>0.012128301</td><td>0          </td></tr>\n",
       "\t<tr><td>   10000   </td><td>0.059632800</td><td>1          </td></tr>\n",
       "\t<tr><td>10000000   </td><td>0.009670200</td><td>0          </td></tr>\n",
       "</tbody>\n",
       "</table>\n"
      ],
      "text/latex": [
       "\\begin{tabular}{r|lll}\n",
       " Rozmiar & Czas & Typ\\\\\n",
       "\\hline\n",
       "\t    1000     & 0.000681700 & 1          \\\\\n",
       "\t 1000000     & 0.001094700 & 0          \\\\\n",
       "\t    1000     & 0.000795300 & 1          \\\\\n",
       "\t 1000000     & 0.001085000 & 0          \\\\\n",
       "\t    1000     & 0.000962300 & 1          \\\\\n",
       "\t 1000000     & 0.001134500 & 0          \\\\\n",
       "\t    1000     & 0.000604700 & 1          \\\\\n",
       "\t 1000000     & 0.001361700 & 0          \\\\\n",
       "\t    1000     & 0.000679901 & 1          \\\\\n",
       "\t 1000000     & 0.001065200 & 0          \\\\\n",
       "\t    1000     & 0.000696500 & 1          \\\\\n",
       "\t 1000000     & 0.001080000 & 0          \\\\\n",
       "\t    1000     & 0.000718900 & 1          \\\\\n",
       "\t 1000000     & 0.001091100 & 0          \\\\\n",
       "\t    1000     & 0.000772101 & 1          \\\\\n",
       "\t 1000000     & 0.001258899 & 0          \\\\\n",
       "\t    1000     & 0.000995700 & 1          \\\\\n",
       "\t 1000000     & 0.001055599 & 0          \\\\\n",
       "\t    1000     & 0.000643599 & 1          \\\\\n",
       "\t 1000000     & 0.001024000 & 0          \\\\\n",
       "\t    2000     & 0.002393599 & 1          \\\\\n",
       "\t 2000000     & 0.001998099 & 0          \\\\\n",
       "\t    2000     & 0.002550100 & 1          \\\\\n",
       "\t 2000000     & 0.001939299 & 0          \\\\\n",
       "\t    2000     & 0.002763600 & 1          \\\\\n",
       "\t 2000000     & 0.002356101 & 0          \\\\\n",
       "\t    2000     & 0.002507100 & 1          \\\\\n",
       "\t 2000000     & 0.001952100 & 0          \\\\\n",
       "\t    2000     & 0.002493101 & 1          \\\\\n",
       "\t 2000000     & 0.002011400 & 0          \\\\\n",
       "\t ... & ... & ...\\\\\n",
       "\t     9000    & 0.047602300 & 1          \\\\\n",
       "\t  9000000    & 0.008441500 & 0          \\\\\n",
       "\t     9000    & 0.047375300 & 1          \\\\\n",
       "\t  9000000    & 0.008877500 & 0          \\\\\n",
       "\t     9000    & 0.045446800 & 1          \\\\\n",
       "\t  9000000    & 0.008316799 & 0          \\\\\n",
       "\t     9000    & 0.046768400 & 1          \\\\\n",
       "\t  9000000    & 0.008836801 & 0          \\\\\n",
       "\t     9000    & 0.047149800 & 1          \\\\\n",
       "\t  9000000    & 0.008945800 & 0          \\\\\n",
       "\t    10000    & 0.057333300 & 1          \\\\\n",
       "\t 10000000    & 0.010209700 & 0          \\\\\n",
       "\t    10000    & 0.054862500 & 1          \\\\\n",
       "\t 10000000    & 0.009760999 & 0          \\\\\n",
       "\t    10000    & 0.056814900 & 1          \\\\\n",
       "\t 10000000    & 0.010029401 & 0          \\\\\n",
       "\t    10000    & 0.058478500 & 1          \\\\\n",
       "\t 10000000    & 0.011166300 & 0          \\\\\n",
       "\t    10000    & 0.057764500 & 1          \\\\\n",
       "\t 10000000    & 0.009752399 & 0          \\\\\n",
       "\t    10000    & 0.059850800 & 1          \\\\\n",
       "\t 10000000    & 0.010176201 & 0          \\\\\n",
       "\t    10000    & 0.057912600 & 1          \\\\\n",
       "\t 10000000    & 0.010093800 & 0          \\\\\n",
       "\t    10000    & 0.058464400 & 1          \\\\\n",
       "\t 10000000    & 0.009791501 & 0          \\\\\n",
       "\t    10000    & 0.056122700 & 1          \\\\\n",
       "\t 10000000    & 0.012128301 & 0          \\\\\n",
       "\t    10000    & 0.059632800 & 1          \\\\\n",
       "\t 10000000    & 0.009670200 & 0          \\\\\n",
       "\\end{tabular}\n"
      ],
      "text/markdown": [
       "\n",
       "| Rozmiar | Czas | Typ |\n",
       "|---|---|---|\n",
       "|    1000     | 0.000681700 | 1           |\n",
       "| 1000000     | 0.001094700 | 0           |\n",
       "|    1000     | 0.000795300 | 1           |\n",
       "| 1000000     | 0.001085000 | 0           |\n",
       "|    1000     | 0.000962300 | 1           |\n",
       "| 1000000     | 0.001134500 | 0           |\n",
       "|    1000     | 0.000604700 | 1           |\n",
       "| 1000000     | 0.001361700 | 0           |\n",
       "|    1000     | 0.000679901 | 1           |\n",
       "| 1000000     | 0.001065200 | 0           |\n",
       "|    1000     | 0.000696500 | 1           |\n",
       "| 1000000     | 0.001080000 | 0           |\n",
       "|    1000     | 0.000718900 | 1           |\n",
       "| 1000000     | 0.001091100 | 0           |\n",
       "|    1000     | 0.000772101 | 1           |\n",
       "| 1000000     | 0.001258899 | 0           |\n",
       "|    1000     | 0.000995700 | 1           |\n",
       "| 1000000     | 0.001055599 | 0           |\n",
       "|    1000     | 0.000643599 | 1           |\n",
       "| 1000000     | 0.001024000 | 0           |\n",
       "|    2000     | 0.002393599 | 1           |\n",
       "| 2000000     | 0.001998099 | 0           |\n",
       "|    2000     | 0.002550100 | 1           |\n",
       "| 2000000     | 0.001939299 | 0           |\n",
       "|    2000     | 0.002763600 | 1           |\n",
       "| 2000000     | 0.002356101 | 0           |\n",
       "|    2000     | 0.002507100 | 1           |\n",
       "| 2000000     | 0.001952100 | 0           |\n",
       "|    2000     | 0.002493101 | 1           |\n",
       "| 2000000     | 0.002011400 | 0           |\n",
       "| ... | ... | ... |\n",
       "|     9000    | 0.047602300 | 1           |\n",
       "|  9000000    | 0.008441500 | 0           |\n",
       "|     9000    | 0.047375300 | 1           |\n",
       "|  9000000    | 0.008877500 | 0           |\n",
       "|     9000    | 0.045446800 | 1           |\n",
       "|  9000000    | 0.008316799 | 0           |\n",
       "|     9000    | 0.046768400 | 1           |\n",
       "|  9000000    | 0.008836801 | 0           |\n",
       "|     9000    | 0.047149800 | 1           |\n",
       "|  9000000    | 0.008945800 | 0           |\n",
       "|    10000    | 0.057333300 | 1           |\n",
       "| 10000000    | 0.010209700 | 0           |\n",
       "|    10000    | 0.054862500 | 1           |\n",
       "| 10000000    | 0.009760999 | 0           |\n",
       "|    10000    | 0.056814900 | 1           |\n",
       "| 10000000    | 0.010029401 | 0           |\n",
       "|    10000    | 0.058478500 | 1           |\n",
       "| 10000000    | 0.011166300 | 0           |\n",
       "|    10000    | 0.057764500 | 1           |\n",
       "| 10000000    | 0.009752399 | 0           |\n",
       "|    10000    | 0.059850800 | 1           |\n",
       "| 10000000    | 0.010176201 | 0           |\n",
       "|    10000    | 0.057912600 | 1           |\n",
       "| 10000000    | 0.010093800 | 0           |\n",
       "|    10000    | 0.058464400 | 1           |\n",
       "| 10000000    | 0.009791501 | 0           |\n",
       "|    10000    | 0.056122700 | 1           |\n",
       "| 10000000    | 0.012128301 | 0           |\n",
       "|    10000    | 0.059632800 | 1           |\n",
       "| 10000000    | 0.009670200 | 0           |\n",
       "\n"
      ],
      "text/plain": [
       "    Rozmiar  Czas        Typ\n",
       "1      1000  0.000681700 1  \n",
       "2   1000000  0.001094700 0  \n",
       "3      1000  0.000795300 1  \n",
       "4   1000000  0.001085000 0  \n",
       "5      1000  0.000962300 1  \n",
       "6   1000000  0.001134500 0  \n",
       "7      1000  0.000604700 1  \n",
       "8   1000000  0.001361700 0  \n",
       "9      1000  0.000679901 1  \n",
       "10  1000000  0.001065200 0  \n",
       "11     1000  0.000696500 1  \n",
       "12  1000000  0.001080000 0  \n",
       "13     1000  0.000718900 1  \n",
       "14  1000000  0.001091100 0  \n",
       "15     1000  0.000772101 1  \n",
       "16  1000000  0.001258899 0  \n",
       "17     1000  0.000995700 1  \n",
       "18  1000000  0.001055599 0  \n",
       "19     1000  0.000643599 1  \n",
       "20  1000000  0.001024000 0  \n",
       "21     2000  0.002393599 1  \n",
       "22  2000000  0.001998099 0  \n",
       "23     2000  0.002550100 1  \n",
       "24  2000000  0.001939299 0  \n",
       "25     2000  0.002763600 1  \n",
       "26  2000000  0.002356101 0  \n",
       "27     2000  0.002507100 1  \n",
       "28  2000000  0.001952100 0  \n",
       "29     2000  0.002493101 1  \n",
       "30  2000000  0.002011400 0  \n",
       "... ...      ...         ...\n",
       "171     9000 0.047602300 1  \n",
       "172  9000000 0.008441500 0  \n",
       "173     9000 0.047375300 1  \n",
       "174  9000000 0.008877500 0  \n",
       "175     9000 0.045446800 1  \n",
       "176  9000000 0.008316799 0  \n",
       "177     9000 0.046768400 1  \n",
       "178  9000000 0.008836801 0  \n",
       "179     9000 0.047149800 1  \n",
       "180  9000000 0.008945800 0  \n",
       "181    10000 0.057333300 1  \n",
       "182 10000000 0.010209700 0  \n",
       "183    10000 0.054862500 1  \n",
       "184 10000000 0.009760999 0  \n",
       "185    10000 0.056814900 1  \n",
       "186 10000000 0.010029401 0  \n",
       "187    10000 0.058478500 1  \n",
       "188 10000000 0.011166300 0  \n",
       "189    10000 0.057764500 1  \n",
       "190 10000000 0.009752399 0  \n",
       "191    10000 0.059850800 1  \n",
       "192 10000000 0.010176201 0  \n",
       "193    10000 0.057912600 1  \n",
       "194 10000000 0.010093800 0  \n",
       "195    10000 0.058464400 1  \n",
       "196 10000000 0.009791501 0  \n",
       "197    10000 0.056122700 1  \n",
       "198 10000000 0.012128301 0  \n",
       "199    10000 0.059632800 1  \n",
       "200 10000000 0.009670200 0  "
      ]
     },
     "metadata": {},
     "output_type": "display_data"
    }
   ],
   "source": [
    "measurements = read.csv(\"time_measurements.csv\")\n",
    "measurements"
   ]
  },
  {
   "cell_type": "markdown",
   "metadata": {},
   "source": [
    "## Zad 2 i 3\n",
    "**grupowanie danych**"
   ]
  },
  {
   "cell_type": "code",
   "execution_count": 4,
   "metadata": {},
   "outputs": [
    {
     "name": "stderr",
     "output_type": "stream",
     "text": [
      "`summarise()` has grouped output by 'Typ'. You can override using the `.groups` argument.\n"
     ]
    }
   ],
   "source": [
    "grouped = measurements %>%    \n",
    "    group_by(Typ, Rozmiar) %>%\n",
    "    summarize(\n",
    "        avg_time = mean(Czas),\n",
    "        std_error = sd(Czas)\n",
    "    ) %>% ungroup()\n",
    "first_function_meas = grouped %>% filter(Typ == 0)\n",
    "second_function_meas = grouped %>% filter(Typ == 1)"
   ]
  },
  {
   "cell_type": "markdown",
   "metadata": {},
   "source": [
    "**rysowanie wykresów**"
   ]
  },
  {
   "cell_type": "code",
   "execution_count": 5,
   "metadata": {},
   "outputs": [
    {
     "data": {
      "image/png": "[encoded data removed]",
      "text/plain": [
       "plot without title"
      ]
     },
     "metadata": {},
     "output_type": "display_data"
    }
   ],
   "source": [
    "first_plot = first_function_meas %>%\n",
    "    ggplot(aes(x = Rozmiar, y= avg_time)) + geom_point() + \n",
    "        geom_errorbar(aes(ymin = avg_time-std_error, ymax = avg_time+std_error, width=.25)) +\n",
    "    ggtitle(\"Czas wyliczania iloczynu skalarnego w Julii\")  + ylab(\"Czas mnożenia [s]\")\n",
    "\n",
    "first_plot"
   ]
  },
  {
   "cell_type": "code",
   "execution_count": 7,
   "metadata": {},
   "outputs": [
    {
     "data": {
      "image/png": "[encoded data removed]",
      "text/plain": [
       "plot without title"
      ]
     },
     "metadata": {},
     "output_type": "display_data"
    }
   ],
   "source": [
    "second_plot = second_function_meas %>%\n",
    "    ggplot(aes(x = Rozmiar, y= avg_time)) + geom_point() + \n",
    "        geom_errorbar(aes(ymin = avg_time-std_error, ymax = avg_time+std_error, width=.25)) +\n",
    "    ggtitle(\"Czas mnożenia macierzy przez wektor w Julii\") + ylab(\"Czas mnożenia [s]\")\n",
    "second_plot"
   ]
  },
  {
   "cell_type": "markdown",
   "metadata": {},
   "source": [
    "## Zad 4\n",
    "**pierwszy wykres**"
   ]
  },
  {
   "cell_type": "code",
   "execution_count": 37,
   "metadata": {},
   "outputs": [],
   "source": [
    "fit <- lm(avg_time ~ poly(Rozmiar, 1, raw=TRUE), data=first_function_meas)  # Wyliczanie iloczynu jest liniowe"
   ]
  },
  {
   "cell_type": "code",
   "execution_count": 35,
   "metadata": {},
   "outputs": [],
   "source": [
    "newdata = data.frame(Rozmiar \n",
    "                     = seq(100000, 10000000, length.out=250))"
   ]
  },
  {
   "cell_type": "code",
   "execution_count": 36,
   "metadata": {},
   "outputs": [
    {
     "data": {
      "image/png": "[encoded data removed]",
      "text/plain": [
       "plot without title"
      ]
     },
     "metadata": {},
     "output_type": "display_data"
    }
   ],
   "source": [
    "newdata$y = predict(fit, newdata)\n",
    "first_plot + geom_line(data=newdata, aes(Rozmiar, y))"
   ]
  },
  {
   "cell_type": "markdown",
   "metadata": {},
   "source": [
    "**Drugi wykres**\n"
   ]
  },
  {
   "cell_type": "code",
   "execution_count": 39,
   "metadata": {},
   "outputs": [],
   "source": [
    "fit2 <- lm(avg_time ~ poly(Rozmiar, 2, raw=TRUE), data=second_function_meas)\n",
    "newdata = data.frame(Rozmiar = seq(1000, 10000, length.out=250))"
   ]
  },
  {
   "cell_type": "code",
   "execution_count": 40,
   "metadata": {},
   "outputs": [
    {
     "data": {
      "image/png": "[encoded data removed]",
      "text/plain": [
       "plot without title"
      ]
     },
     "metadata": {},
     "output_type": "display_data"
    }
   ],
   "source": [
    "newdata$y = predict(fit2, newdata)\n",
    "second_plot + geom_line(data=newdata, aes(Rozmiar, y))"
   ]
  },
  {
   "cell_type": "markdown",
   "metadata": {},
   "source": [
    "## Zad 5"
   ]
  },
  {
   "cell_type": "code",
   "execution_count": 98,
   "metadata": {},
   "outputs": [
    {
     "data": {
      "image/png": "[encoded data removed]",
      "text/plain": [
       "plot without title"
      ]
     },
     "metadata": {},
     "output_type": "display_data"
    }
   ],
   "source": [
    "covid_poland = read.csv(\"zakazeniaCovid.csv\")\n",
    "segregated_data = covid_poland %>%\n",
    "    mutate(Date = dmy(Data), No_infections= as.numeric(as.character(Liczba_zakazen)))%>%\n",
    "    select(Date, No_infections)\n",
    "\n",
    "segregated_data %>%\n",
    "ggplot(aes(x = Date, y= No_infections)) + geom_point()\n",
    "\n"
   ]
  },
  {
   "cell_type": "code",
   "execution_count": 91,
   "metadata": {},
   "outputs": [
    {
     "data": {
      "text/html": [
       "<table>\n",
       "<thead><tr><th scope=col>Date</th><th scope=col>No_infections</th><th scope=col>Days_since_first_case</th></tr></thead>\n",
       "<tbody>\n",
       "\t<tr><td>2020-04-11</td><td> 6356     </td><td>38 days   </td></tr>\n",
       "\t<tr><td>2020-04-12</td><td> 6674     </td><td>39 days   </td></tr>\n",
       "\t<tr><td>2020-04-13</td><td> 6934     </td><td>40 days   </td></tr>\n",
       "\t<tr><td>2020-04-14</td><td> 7202     </td><td>41 days   </td></tr>\n",
       "\t<tr><td>2020-04-15</td><td> 7582     </td><td>42 days   </td></tr>\n",
       "\t<tr><td>2020-04-16</td><td> 7918     </td><td>43 days   </td></tr>\n",
       "\t<tr><td>2020-04-17</td><td> 8379     </td><td>44 days   </td></tr>\n",
       "\t<tr><td>2020-04-18</td><td> 8742     </td><td>45 days   </td></tr>\n",
       "\t<tr><td>2020-04-19</td><td> 9287     </td><td>46 days   </td></tr>\n",
       "\t<tr><td>2020-04-20</td><td> 9530     </td><td>47 days   </td></tr>\n",
       "\t<tr><td>2020-04-21</td><td> 9793     </td><td>48 days   </td></tr>\n",
       "\t<tr><td>2020-04-22</td><td>10106     </td><td>49 days   </td></tr>\n",
       "\t<tr><td>2020-04-23</td><td>10448     </td><td>50 days   </td></tr>\n",
       "\t<tr><td>2020-04-24</td><td>10829     </td><td>51 days   </td></tr>\n",
       "\t<tr><td>2020-04-25</td><td>11210     </td><td>52 days   </td></tr>\n",
       "\t<tr><td>2020-04-26</td><td>11554     </td><td>53 days   </td></tr>\n",
       "\t<tr><td>2020-04-27</td><td>11839     </td><td>54 days   </td></tr>\n",
       "\t<tr><td>2020-04-28</td><td>12155     </td><td>55 days   </td></tr>\n",
       "\t<tr><td>2020-04-29</td><td>12577     </td><td>56 days   </td></tr>\n",
       "\t<tr><td>2020-04-30</td><td>12877     </td><td>57 days   </td></tr>\n",
       "\t<tr><td>2020-05-01</td><td>13105     </td><td>58 days   </td></tr>\n",
       "\t<tr><td>2020-05-02</td><td>13375     </td><td>59 days   </td></tr>\n",
       "\t<tr><td>2020-05-03</td><td>13693     </td><td>60 days   </td></tr>\n",
       "\t<tr><td>2020-05-04</td><td>14006     </td><td>61 days   </td></tr>\n",
       "\t<tr><td>2020-05-05</td><td>14414     </td><td>62 days   </td></tr>\n",
       "\t<tr><td>2020-05-06</td><td>14723     </td><td>63 days   </td></tr>\n",
       "\t<tr><td>2020-05-07</td><td>15026     </td><td>64 days   </td></tr>\n",
       "\t<tr><td>2020-05-08</td><td>15363     </td><td>65 days   </td></tr>\n",
       "\t<tr><td>2020-05-09</td><td>15651     </td><td>66 days   </td></tr>\n",
       "</tbody>\n",
       "</table>\n"
      ],
      "text/latex": [
       "\\begin{tabular}{r|lll}\n",
       " Date & No\\_infections & Days\\_since\\_first\\_case\\\\\n",
       "\\hline\n",
       "\t 2020-04-11 &  6356      & 38 days   \\\\\n",
       "\t 2020-04-12 &  6674      & 39 days   \\\\\n",
       "\t 2020-04-13 &  6934      & 40 days   \\\\\n",
       "\t 2020-04-14 &  7202      & 41 days   \\\\\n",
       "\t 2020-04-15 &  7582      & 42 days   \\\\\n",
       "\t 2020-04-16 &  7918      & 43 days   \\\\\n",
       "\t 2020-04-17 &  8379      & 44 days   \\\\\n",
       "\t 2020-04-18 &  8742      & 45 days   \\\\\n",
       "\t 2020-04-19 &  9287      & 46 days   \\\\\n",
       "\t 2020-04-20 &  9530      & 47 days   \\\\\n",
       "\t 2020-04-21 &  9793      & 48 days   \\\\\n",
       "\t 2020-04-22 & 10106      & 49 days   \\\\\n",
       "\t 2020-04-23 & 10448      & 50 days   \\\\\n",
       "\t 2020-04-24 & 10829      & 51 days   \\\\\n",
       "\t 2020-04-25 & 11210      & 52 days   \\\\\n",
       "\t 2020-04-26 & 11554      & 53 days   \\\\\n",
       "\t 2020-04-27 & 11839      & 54 days   \\\\\n",
       "\t 2020-04-28 & 12155      & 55 days   \\\\\n",
       "\t 2020-04-29 & 12577      & 56 days   \\\\\n",
       "\t 2020-04-30 & 12877      & 57 days   \\\\\n",
       "\t 2020-05-01 & 13105      & 58 days   \\\\\n",
       "\t 2020-05-02 & 13375      & 59 days   \\\\\n",
       "\t 2020-05-03 & 13693      & 60 days   \\\\\n",
       "\t 2020-05-04 & 14006      & 61 days   \\\\\n",
       "\t 2020-05-05 & 14414      & 62 days   \\\\\n",
       "\t 2020-05-06 & 14723      & 63 days   \\\\\n",
       "\t 2020-05-07 & 15026      & 64 days   \\\\\n",
       "\t 2020-05-08 & 15363      & 65 days   \\\\\n",
       "\t 2020-05-09 & 15651      & 66 days   \\\\\n",
       "\\end{tabular}\n"
      ],
      "text/markdown": [
       "\n",
       "| Date | No_infections | Days_since_first_case |\n",
       "|---|---|---|\n",
       "| 2020-04-11 |  6356      | 38 days    |\n",
       "| 2020-04-12 |  6674      | 39 days    |\n",
       "| 2020-04-13 |  6934      | 40 days    |\n",
       "| 2020-04-14 |  7202      | 41 days    |\n",
       "| 2020-04-15 |  7582      | 42 days    |\n",
       "| 2020-04-16 |  7918      | 43 days    |\n",
       "| 2020-04-17 |  8379      | 44 days    |\n",
       "| 2020-04-18 |  8742      | 45 days    |\n",
       "| 2020-04-19 |  9287      | 46 days    |\n",
       "| 2020-04-20 |  9530      | 47 days    |\n",
       "| 2020-04-21 |  9793      | 48 days    |\n",
       "| 2020-04-22 | 10106      | 49 days    |\n",
       "| 2020-04-23 | 10448      | 50 days    |\n",
       "| 2020-04-24 | 10829      | 51 days    |\n",
       "| 2020-04-25 | 11210      | 52 days    |\n",
       "| 2020-04-26 | 11554      | 53 days    |\n",
       "| 2020-04-27 | 11839      | 54 days    |\n",
       "| 2020-04-28 | 12155      | 55 days    |\n",
       "| 2020-04-29 | 12577      | 56 days    |\n",
       "| 2020-04-30 | 12877      | 57 days    |\n",
       "| 2020-05-01 | 13105      | 58 days    |\n",
       "| 2020-05-02 | 13375      | 59 days    |\n",
       "| 2020-05-03 | 13693      | 60 days    |\n",
       "| 2020-05-04 | 14006      | 61 days    |\n",
       "| 2020-05-05 | 14414      | 62 days    |\n",
       "| 2020-05-06 | 14723      | 63 days    |\n",
       "| 2020-05-07 | 15026      | 64 days    |\n",
       "| 2020-05-08 | 15363      | 65 days    |\n",
       "| 2020-05-09 | 15651      | 66 days    |\n",
       "\n"
      ],
      "text/plain": [
       "   Date       No_infections Days_since_first_case\n",
       "1  2020-04-11  6356         38 days              \n",
       "2  2020-04-12  6674         39 days              \n",
       "3  2020-04-13  6934         40 days              \n",
       "4  2020-04-14  7202         41 days              \n",
       "5  2020-04-15  7582         42 days              \n",
       "6  2020-04-16  7918         43 days              \n",
       "7  2020-04-17  8379         44 days              \n",
       "8  2020-04-18  8742         45 days              \n",
       "9  2020-04-19  9287         46 days              \n",
       "10 2020-04-20  9530         47 days              \n",
       "11 2020-04-21  9793         48 days              \n",
       "12 2020-04-22 10106         49 days              \n",
       "13 2020-04-23 10448         50 days              \n",
       "14 2020-04-24 10829         51 days              \n",
       "15 2020-04-25 11210         52 days              \n",
       "16 2020-04-26 11554         53 days              \n",
       "17 2020-04-27 11839         54 days              \n",
       "18 2020-04-28 12155         55 days              \n",
       "19 2020-04-29 12577         56 days              \n",
       "20 2020-04-30 12877         57 days              \n",
       "21 2020-05-01 13105         58 days              \n",
       "22 2020-05-02 13375         59 days              \n",
       "23 2020-05-03 13693         60 days              \n",
       "24 2020-05-04 14006         61 days              \n",
       "25 2020-05-05 14414         62 days              \n",
       "26 2020-05-06 14723         63 days              \n",
       "27 2020-05-07 15026         64 days              \n",
       "28 2020-05-08 15363         65 days              \n",
       "29 2020-05-09 15651         66 days              "
      ]
     },
     "metadata": {},
     "output_type": "display_data"
    }
   ],
   "source": [
    "segregated_covid %>% filter(Date > dmy(\"10.04.2020\") & Date < dmy(\"10.05.2020\"))"
   ]
  },
  {
   "cell_type": "markdown",
   "metadata": {},
   "source": [
    "**First period**"
   ]
  },
  {
   "cell_type": "code",
   "execution_count": 100,
   "metadata": {},
   "outputs": [
    {
     "ename": "ERROR",
     "evalue": "Error in filter(., start_1 <= Date & Date <= stop_1): nie znaleziono obiektu 'segregated_data'\n",
     "output_type": "error",
     "traceback": [
      "Error in filter(., start_1 <= Date & Date <= stop_1): nie znaleziono obiektu 'segregated_data'\nTraceback:\n",
      "1. segregated_data %>% filter(start_1 <= Date & Date <= stop_1)",
      "2. filter(., start_1 <= Date & Date <= stop_1)"
     ]
    }
   ],
   "source": [
    "start_1 = dmy(\"04-04-2020\")\n",
    "stop_1 = start_1 + days(30)\n",
    "\n",
    "filtered_data_1 = segregated_data %>% filter(start_1 <= Date & Date <= stop_1)\n",
    "# exponentional_fit = lm(log(No_infections)~ Days_since_first_case, data=segregated_covid)"
   ]
  },
  {
   "cell_type": "code",
   "execution_count": 97,
   "metadata": {},
   "outputs": [
    {
     "ename": "ERROR",
     "evalue": "Error in parse(text = x, srcfile = src): <text>:2:0: nieoczekiwany koniec wejścia\n1: first_period = data.frame(Rozmiar = seq(dmt(0, , length.out=250))\n   ^\n",
     "output_type": "error",
     "traceback": [
      "Error in parse(text = x, srcfile = src): <text>:2:0: nieoczekiwany koniec wejścia\n1: first_period = data.frame(Rozmiar = seq(dmt(0, , length.out=250))\n   ^\nTraceback:\n"
     ]
    }
   ],
   "source": [
    "# first_period = data.frame(Rozmiar = seq(dmt(0, , length.out=250))\n",
    "\n",
    "# mutate(Days_since_first_case = Date - dmy(\"04.03.2020\")) %>%   -- na zaś"
   ]
  },
  {
   "cell_type": "code",
   "execution_count": null,
   "metadata": {},
   "outputs": [],
   "source": []
  }
 ],
 "metadata": {
  "kernelspec": {
   "display_name": "R",
   "language": "R",
   "name": "ir"
  },
  "language_info": {
   "codemirror_mode": "r",
   "file_extension": ".r",
   "mimetype": "text/x-r-source",
   "name": "R",
   "pygments_lexer": "r",
   "version": "3.6.1"
  }
 },
 "nbformat": 4,
 "nbformat_minor": 4
}
